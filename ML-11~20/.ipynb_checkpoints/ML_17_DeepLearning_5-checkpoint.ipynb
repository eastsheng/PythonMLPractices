{
 "cells": [
  {
   "cell_type": "markdown",
   "id": "1a2b144d-0b9a-4f11-9e42-dc324f1d4761",
   "metadata": {},
   "source": [
    "### softmax回归的从零开始实现\n",
    "- 与线性回归相似：获取并读取数据、定义模型和损失函数并使用优化算法训练模型。"
   ]
  },
  {
   "cell_type": "code",
   "execution_count": 1,
   "id": "0c178f5a-176b-4423-a49e-0fbd2e758702",
   "metadata": {},
   "outputs": [
    {
     "name": "stdout",
     "output_type": "stream",
     "text": [
      "2.12.0\n",
      "Python 3.11.3\n"
     ]
    }
   ],
   "source": [
    "import tensorflow as tf\n",
    "import numpy as np\n",
    "print(tf.__version__)\n",
    "!python --version"
   ]
  },
  {
   "cell_type": "markdown",
   "id": "345f69aa-00d1-4567-99fe-692974ee95ef",
   "metadata": {},
   "source": [
    "#### 1. 读取Fashion-MNIST数据\n",
    "- 批量大小为256"
   ]
  },
  {
   "cell_type": "code",
   "execution_count": 4,
   "id": "2c0f7dcc-8d3f-4afd-aa9d-91a0348eb739",
   "metadata": {},
   "outputs": [],
   "source": [
    "from tensorflow.keras.datasets import fashion_mnist\n",
    "batch_size=256\n",
    "(x_train, y_train), (x_test, y_test) = fashion_mnist.load_data()"
   ]
  },
  {
   "cell_type": "code",
   "execution_count": 7,
   "id": "557a769e-8519-4721-9b6e-21db30f099aa",
   "metadata": {},
   "outputs": [
    {
     "data": {
      "text/plain": [
       "(TensorShape([60000, 28, 28]), TensorShape([10000, 28, 28]))"
      ]
     },
     "execution_count": 7,
     "metadata": {},
     "output_type": "execute_result"
    }
   ],
   "source": [
    "# 转换数据为float型\n",
    "x_train = tf.cast(x_train, tf.float32) / 255\n",
    "x_test = tf.cast(x_test,tf.float32) / 255\n",
    "x_train.shape,x_test.shape"
   ]
  },
  {
   "cell_type": "code",
   "execution_count": 9,
   "id": "8c1bc891-f152-4727-9acf-df62982e9e6e",
   "metadata": {},
   "outputs": [
    {
     "data": {
      "text/plain": [
       "(<_TensorSliceDataset element_spec=(TensorSpec(shape=(28, 28), dtype=tf.float32, name=None), TensorSpec(shape=(), dtype=tf.uint8, name=None))>,\n",
       " <_TensorSliceDataset element_spec=(TensorSpec(shape=(28, 28), dtype=tf.float32, name=None), TensorSpec(shape=(), dtype=tf.uint8, name=None))>)"
      ]
     },
     "execution_count": 9,
     "metadata": {},
     "output_type": "execute_result"
    }
   ],
   "source": [
    "# 组合训练数据和测试数据的特征和标签\n",
    "train_datasets = tf.data.Dataset.from_tensor_slices((x_train, y_train))\n",
    "test_datasets = tf.data.Dataset.from_tensor_slices((x_test, y_test))\n",
    "train_datasets,test_datasets"
   ]
  },
  {
   "cell_type": "code",
   "execution_count": 11,
   "id": "b318ffec-936e-473f-8538-28aab1d13cae",
   "metadata": {},
   "outputs": [
    {
     "data": {
      "text/plain": [
       "(<_BatchDataset element_spec=(TensorSpec(shape=(None, 28, 28), dtype=tf.float32, name=None), TensorSpec(shape=(None,), dtype=tf.uint8, name=None))>,\n",
       " <_BatchDataset element_spec=(TensorSpec(shape=(None, 28, 28), dtype=tf.float32, name=None), TensorSpec(shape=(None,), dtype=tf.uint8, name=None))>)"
      ]
     },
     "execution_count": 11,
     "metadata": {},
     "output_type": "execute_result"
    }
   ],
   "source": [
    "# 分成批量大小为batch_size的小数据集\n",
    "train_iter = train_datasets.batch(batch_size)\n",
    "test_iter  = test_datasets.batch(batch_size)\n",
    "train_iter, test_iter,"
   ]
  },
  {
   "cell_type": "markdown",
   "id": "0a875507-ffbe-4fe2-8e2b-c308532c1e2d",
   "metadata": {},
   "source": [
    "#### 2. 初始化模型参数"
   ]
  },
  {
   "cell_type": "code",
   "execution_count": 14,
   "id": "28d22ec7-a41a-4025-97f2-6d7c716e5334",
   "metadata": {},
   "outputs": [
    {
     "data": {
      "text/plain": [
       "(<tf.Variable 'Variable:0' shape=(784, 10) dtype=float32, numpy=\n",
       " array([[ 0.01926889,  0.0105793 ,  0.00691843, ..., -0.01488463,\n",
       "         -0.00934998,  0.0105534 ],\n",
       "        [-0.00448101, -0.00710626,  0.00775218, ..., -0.00255723,\n",
       "         -0.0152305 ,  0.01401424],\n",
       "        [-0.00708091,  0.00250718, -0.02452384, ..., -0.01097837,\n",
       "          0.00613088, -0.00894472],\n",
       "        ...,\n",
       "        [ 0.00639834,  0.00626499,  0.01177727, ...,  0.00452099,\n",
       "          0.00704527, -0.00660797],\n",
       "        [-0.01054606,  0.01813947, -0.01551463, ..., -0.00518684,\n",
       "          0.01109585,  0.02313858],\n",
       "        [ 0.00452068,  0.00683683,  0.00331142, ..., -0.01457562,\n",
       "          0.00588073,  0.0152278 ]], dtype=float32)>,\n",
       " <tf.Variable 'Variable:0' shape=(10,) dtype=float32, numpy=array([0., 0., 0., 0., 0., 0., 0., 0., 0., 0.], dtype=float32)>)"
      ]
     },
     "execution_count": 14,
     "metadata": {},
     "output_type": "execute_result"
    }
   ],
   "source": [
    "# 输入特征数，28x28像素\n",
    "num_inputs = 784\n",
    "# 输出标签数，10种类型图像\n",
    "num_outputs = 10\n",
    "# 平均值为0标准差为0.01的权重矩阵\n",
    "W = tf.Variable(tf.random.normal(shape=(num_inputs, num_outputs), mean=0, stddev=0.01, dtype=tf.float32))\n",
    "# 偏差为0\n",
    "b = tf.Variable(tf.zeros(num_outputs, dtype=tf.float32))\n",
    "W,b"
   ]
  },
  {
   "cell_type": "markdown",
   "id": "d0276460-273e-43c9-ad89-34d32a621081",
   "metadata": {},
   "source": [
    "#### 3. softmax 运算"
   ]
  },
  {
   "cell_type": "code",
   "execution_count": 17,
   "id": "198902f6-5204-46ac-8775-bd7d83b9e7e2",
   "metadata": {},
   "outputs": [],
   "source": [
    "# 矩阵logits的行数是样本数，列数是输出个数\n",
    "# 先通过exp函数对每个元素做指数运算，再对exp矩阵同行元素求和，\n",
    "# 最后令矩阵每行各元素与该行元素之和相除\n",
    "# 最终得到的矩阵每行元素和为1且非负，每行都是合法的概率分布\n",
    "# 输出矩阵的任意一行元素代表了一个样本在各个输出类别上的预测概率。\n",
    "def softmax(logits, axis=-1):\n",
    "    return tf.exp(logits)/tf.reduce_sum(tf.exp(logits), axis, keepdims=True)"
   ]
  },
  {
   "cell_type": "code",
   "execution_count": 18,
   "id": "734caf68-fd8a-47ef-9bf9-5470a1c8873b",
   "metadata": {},
   "outputs": [
    {
     "data": {
      "text/plain": [
       "(<tf.Tensor: shape=(2, 5), dtype=float32, numpy=\n",
       " array([[0.78082156, 0.03157695, 0.10296083, 0.04600812, 0.03863249],\n",
       "        [0.04658343, 0.1175051 , 0.49709028, 0.12629648, 0.21252473]],\n",
       "       dtype=float32)>,\n",
       " <tf.Tensor: shape=(2,), dtype=float32, numpy=array([0.99999994, 0.99999994], dtype=float32)>)"
      ]
     },
     "execution_count": 18,
     "metadata": {},
     "output_type": "execute_result"
    }
   ],
   "source": [
    "X = tf.random.normal(shape=(2, 5))\n",
    "X_prob = softmax(X)\n",
    "X_prob, tf.reduce_sum(X_prob, axis=1)"
   ]
  },
  {
   "cell_type": "markdown",
   "id": "fe73c3fa-0bee-4a4a-a5b0-576c06b5d316",
   "metadata": {},
   "source": [
    "#### 4. 模型定义\n",
    "- 定义softmax回归模型；"
   ]
  },
  {
   "cell_type": "code",
   "execution_count": 24,
   "id": "4e420314-1eff-4ef3-b7f8-0ce9e7ccbdd7",
   "metadata": {},
   "outputs": [],
   "source": [
    "def net(X):\n",
    "    logits = tf.matmul(tf.reshape(X, shape=(-1, W.shape[0])), W) + b\n",
    "    return softmax(logits)"
   ]
  },
  {
   "cell_type": "markdown",
   "id": "5067a1df-2347-455e-880d-39b6cdc184f9",
   "metadata": {},
   "source": [
    "#### 5. 损失函数\n",
    "- 交叉熵损失函数"
   ]
  },
  {
   "cell_type": "code",
   "execution_count": 28,
   "id": "3afc4e4c-ed55-4510-b517-9dd486dd7091",
   "metadata": {},
   "outputs": [
    {
     "data": {
      "text/plain": [
       "<tf.Tensor: shape=(2,), dtype=float64, numpy=array([0.1, 0.5])>"
      ]
     },
     "execution_count": 28,
     "metadata": {},
     "output_type": "execute_result"
    }
   ],
   "source": [
    "y_hat = np.array([[0.1, 0.3, 0.6], [0.3, 0.2, 0.5]])\n",
    "y = np.array([0, 2], dtype='int32')\n",
    "tf.boolean_mask(y_hat, tf.one_hot(y, depth=3))"
   ]
  },
  {
   "cell_type": "code",
   "execution_count": 29,
   "id": "4d04db90-971a-4033-8699-e166e36279cf",
   "metadata": {},
   "outputs": [],
   "source": [
    "def cross_entropy(y_hat, y):\n",
    "    y = tf.cast(tf.reshape(y, shape=[-1, 1]),dtype=tf.int32)\n",
    "    y = tf.one_hot(y, depth=y_hat.shape[-1])\n",
    "    y = tf.cast(tf.reshape(y, shape=[-1, y_hat.shape[-1]]),dtype=tf.int32)\n",
    "    return -tf.math.log(tf.boolean_mask(y_hat, y)+1e-8)"
   ]
  },
  {
   "cell_type": "markdown",
   "id": "457bba09-fdca-4239-8198-a47ac3592cf8",
   "metadata": {},
   "source": [
    "#### 6. 计算分类准确率"
   ]
  },
  {
   "cell_type": "code",
   "execution_count": 30,
   "id": "f9fc98af-7e29-4386-b497-c3e6cc0a83a3",
   "metadata": {},
   "outputs": [],
   "source": [
    "def accuracy(y_hat, y):\n",
    "    return np.mean((tf.argmax(y_hat, axis=1) == y))"
   ]
  },
  {
   "cell_type": "code",
   "execution_count": 31,
   "id": "8d3927d4-fe6e-4244-bc0f-328198b5dbd9",
   "metadata": {},
   "outputs": [
    {
     "data": {
      "text/plain": [
       "0.5"
      ]
     },
     "execution_count": 31,
     "metadata": {},
     "output_type": "execute_result"
    }
   ],
   "source": [
    "accuracy(y_hat, y)"
   ]
  },
  {
   "cell_type": "code",
   "execution_count": 33,
   "id": "3c1cecfb-c6e2-416b-9322-09eea5468f2c",
   "metadata": {},
   "outputs": [],
   "source": [
    "# 描述,对于tensorflow2中，比较的双方必须类型都是int型，所以要将输出和标签都转为int型\n",
    "def evaluate_accuracy(data_iter, net):\n",
    "    acc_sum, n = 0.0, 0\n",
    "    for _, (X, y) in enumerate(data_iter):\n",
    "        y = tf.cast(y,dtype=tf.int64)\n",
    "        acc_sum += np.sum(tf.cast(tf.argmax(net(X), axis=1), dtype=tf.int64) == y)\n",
    "        n += y.shape[0]\n",
    "    return acc_sum / n"
   ]
  },
  {
   "cell_type": "code",
   "execution_count": 34,
   "id": "3e46330e-878f-499f-851c-ad584ccfa008",
   "metadata": {},
   "outputs": [
    {
     "data": {
      "text/plain": [
       "0.098"
      ]
     },
     "execution_count": 34,
     "metadata": {},
     "output_type": "execute_result"
    }
   ],
   "source": [
    "evaluate_accuracy(test_iter, net)"
   ]
  },
  {
   "cell_type": "markdown",
   "id": "949b79a7-22b9-4055-82ad-cbe048ae9d69",
   "metadata": {},
   "source": [
    "#### 7. 训练模型"
   ]
  },
  {
   "cell_type": "code",
   "execution_count": 35,
   "id": "81b23f50-49b7-4773-b2eb-1779fa1a8d85",
   "metadata": {},
   "outputs": [
    {
     "name": "stdout",
     "output_type": "stream",
     "text": [
      "epoch 1, loss 2.3021, train acc 0.109, test acc 0.173\n",
      "epoch 2, loss 2.3012, train acc 0.127, test acc 0.185\n",
      "epoch 3, loss 2.3002, train acc 0.154, test acc 0.196\n",
      "epoch 4, loss 2.2992, train acc 0.184, test acc 0.249\n",
      "epoch 5, loss 2.2983, train acc 0.213, test acc 0.269\n"
     ]
    }
   ],
   "source": [
    "num_epochs, lr = 5, 0.1\n",
    "# 本函数已保存在d2lzh包中方便以后使用\n",
    "def train_ch3(net, train_iter, test_iter, loss, num_epochs, batch_size, params=None, lr=None, trainer=None):\n",
    "    for epoch in range(num_epochs):\n",
    "        train_l_sum, train_acc_sum, n = 0.0, 0.0, 0\n",
    "        for X, y in train_iter:\n",
    "            with tf.GradientTape() as tape:\n",
    "                y_hat = net(X)\n",
    "                l = tf.reduce_sum(loss(y_hat, y))\n",
    "            grads = tape.gradient(l, params)\n",
    "            if trainer is None:\n",
    "                # 如果没有传入优化器，则使用原先编写的小批量随机梯度下降\n",
    "                for i, param in enumerate(params):\n",
    "                    param.assign_sub(lr * grads[i] / batch_size)\n",
    "            else:\n",
    "                # tf.keras.optimizers.SGD 直接使用是随机梯度下降 theta(t+1) = theta(t) - learning_rate * gradient\n",
    "                # 这里使用批量梯度下降，需要对梯度除以 batch_size, 对应原书代码的 trainer.step(batch_size)\n",
    "                trainer.apply_gradients(zip([grad / batch_size for grad in grads], params))  \n",
    "\n",
    "            y = tf.cast(y, dtype=tf.float32)\n",
    "            train_l_sum += l.numpy()\n",
    "            train_acc_sum += tf.reduce_sum(tf.cast(tf.argmax(y_hat, axis=1) == tf.cast(y, dtype=tf.int64), dtype=tf.int64)).numpy()\n",
    "            n += y.shape[0]\n",
    "        test_acc = evaluate_accuracy(test_iter, net)\n",
    "        print('epoch %d, loss %.4f, train acc %.3f, test acc %.3f'% (epoch + 1, train_l_sum / n, train_acc_sum / n, test_acc))\n",
    "\n",
    "trainer = tf.keras.optimizers.SGD(lr)\n",
    "train_ch3(net, train_iter, test_iter, cross_entropy, num_epochs, batch_size, [W, b], lr)\n"
   ]
  },
  {
   "cell_type": "markdown",
   "id": "9f2e0068-793e-49bb-9bc3-6a0643613aa0",
   "metadata": {},
   "source": [
    "#### 8. 预测"
   ]
  },
  {
   "cell_type": "code",
   "execution_count": 40,
   "id": "7ab1a213-e910-40cd-92c7-03715980d738",
   "metadata": {},
   "outputs": [
    {
     "data": {
      "image/png": "[encoded data removed]",
      "text/plain": [
       "<Figure size 1200x1200 with 9 Axes>"
      ]
     },
     "metadata": {},
     "output_type": "display_data"
    }
   ],
   "source": [
    "import matplotlib.pyplot as plt\n",
    "X, y = iter(test_iter).next()\n",
    "\n",
    "def get_fashion_mnist_labels(labels):\n",
    "    text_labels = ['t-shirt', 'trouser', 'pullover', 'dress', 'coat', 'sandal', 'shirt', 'sneaker', 'bag', 'ankle boot']\n",
    "    return [text_labels[int(i)] for i in labels]\n",
    "\n",
    "def show_fashion_mnist(images, labels):\n",
    "    # 这⾥的_表示我们忽略（不使⽤）的变量\n",
    "    _, figs = plt.subplots(1, len(images), figsize=(12, 12)) # 这里注意subplot 和subplots 的区别\n",
    "    for f, img, lbl in zip(figs, images, labels):\n",
    "        f.imshow(tf.reshape(img, shape=(28, 28)).numpy())\n",
    "        f.set_title(lbl)\n",
    "        f.axes.get_xaxis().set_visible(False)\n",
    "        f.axes.get_yaxis().set_visible(False)\n",
    "    plt.show()\n",
    "\n",
    "true_labels = get_fashion_mnist_labels(y.numpy())\n",
    "pred_labels = get_fashion_mnist_labels(tf.argmax(net(X), axis=1).numpy())\n",
    "titles = [true + '\\n' + pred for true, pred in zip(true_labels, pred_labels)]\n",
    "\n",
    "show_fashion_mnist(X[0:9], titles[0:9])\n"
   ]
  }
 ],
 "metadata": {
  "kernelspec": {
   "display_name": "Python 3 (ipykernel)",
   "language": "python",
   "name": "python3"
  },
  "language_info": {
   "codemirror_mode": {
    "name": "ipython",
    "version": 3
   },
   "file_extension": ".py",
   "mimetype": "text/x-python",
   "name": "python",
   "nbconvert_exporter": "python",
   "pygments_lexer": "ipython3",
   "version": "3.11.3"
  }
 },
 "nbformat": 4,
 "nbformat_minor": 5
}
