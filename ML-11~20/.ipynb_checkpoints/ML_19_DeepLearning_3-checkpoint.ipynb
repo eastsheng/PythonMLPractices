{
 "cells": [
  {
   "cell_type": "code",
   "execution_count": 1,
   "id": "fabba261-65b4-4d45-83d6-7c751d869fac",
   "metadata": {},
   "outputs": [],
   "source": [
    "# 倒置丢弃法简洁实现\n",
    "import tensorflow as tf\n",
    "import numpy as np"
   ]
  },
  {
   "cell_type": "code",
   "execution_count": 4,
   "id": "307fc9c3-8159-49ed-b074-0eddfda30e38",
   "metadata": {},
   "outputs": [],
   "source": [
    "from tensorflow import keras\n",
    "from tensorflow.keras.layers import Dropout, Flatten, Dense\n",
    "model = keras.Sequential([\n",
    "    keras.layers.Flatten(input_shape=(28, 28)),\n",
    "    keras.layers.Dense(256,activation='relu'),\n",
    "    Dropout(0.2),\n",
    "    keras.layers.Dense(256,activation='relu'),\n",
    "    Dropout(0.5),\n",
    "    keras.layers.Dense(10,activation=tf.nn.softmax)\n",
    "])"
   ]
  },
  {
   "cell_type": "code",
   "execution_count": 8,
   "id": "0c55b889-472c-4278-9cb0-22a530e083ab",
   "metadata": {},
   "outputs": [
    {
     "name": "stdout",
     "output_type": "stream",
     "text": [
      "Epoch 1/5\n",
      "235/235 [==============================] - 3s 8ms/step - loss: 0.3295 - accuracy: 0.8797 - val_loss: 0.3521 - val_accuracy: 0.8728\n",
      "Epoch 2/5\n",
      "235/235 [==============================] - 2s 7ms/step - loss: 0.3195 - accuracy: 0.8827 - val_loss: 0.3483 - val_accuracy: 0.8763\n",
      "Epoch 3/5\n",
      "235/235 [==============================] - 2s 7ms/step - loss: 0.3046 - accuracy: 0.8881 - val_loss: 0.3419 - val_accuracy: 0.8752\n",
      "Epoch 4/5\n",
      "235/235 [==============================] - 2s 7ms/step - loss: 0.2971 - accuracy: 0.8914 - val_loss: 0.3350 - val_accuracy: 0.8787\n",
      "Epoch 5/5\n",
      "235/235 [==============================] - 2s 7ms/step - loss: 0.2954 - accuracy: 0.8904 - val_loss: 0.3214 - val_accuracy: 0.8820\n"
     ]
    },
    {
     "data": {
      "text/plain": [
       "<keras.callbacks.History at 0x179dbc06210>"
      ]
     },
     "execution_count": 8,
     "metadata": {},
     "output_type": "execute_result"
    }
   ],
   "source": [
    "# 训练并测试模型\n",
    "from tensorflow.keras.datasets import fashion_mnist\n",
    "(x_train, y_train), (x_test, y_test) = fashion_mnist.load_data()\n",
    "x_train = tf.cast(x_train, tf.float32) / 255 #在进行矩阵相乘时需要float型，故强制类型转换为float型\n",
    "x_test = tf.cast(x_test,tf.float32) / 255 #在进行矩阵相乘时需要float型，故强制类型转换为float型\n",
    "\n",
    "model.compile(optimizer=tf.keras.optimizers.Adam(),\n",
    "              loss = 'sparse_categorical_crossentropy',\n",
    "              metrics=['accuracy'])\n",
    "model.fit(x_train,y_train,epochs=5,batch_size=256,validation_data=(x_test, y_test),\n",
    "                    validation_freq=1)\n"
   ]
  }
 ],
 "metadata": {
  "kernelspec": {
   "display_name": "Python 3 (ipykernel)",
   "language": "python",
   "name": "python3"
  },
  "language_info": {
   "codemirror_mode": {
    "name": "ipython",
    "version": 3
   },
   "file_extension": ".py",
   "mimetype": "text/x-python",
   "name": "python",
   "nbconvert_exporter": "python",
   "pygments_lexer": "ipython3",
   "version": "3.11.3"
  }
 },
 "nbformat": 4,
 "nbformat_minor": 5
}
