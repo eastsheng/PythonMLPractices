{
 "cells": [
  {
   "cell_type": "code",
   "execution_count": 1,
   "id": "f3b5b426-2873-42ed-8f78-ba4b28139e8f",
   "metadata": {},
   "outputs": [
    {
     "name": "stdout",
     "output_type": "stream",
     "text": [
      "1-s2.0-S0167732222024916-mmc1.docx\n",
      "amino_acids_hydrate_data.csv\n",
      "amino_acids_hydrate_data_update1.csv\n",
      "bioactivity_preprocessed_data.csv\n",
      "inhibitor_amino_acids_data.csv\n",
      "inhibitor_data.csv\n",
      "ML-11-Inhibitors-data.ipynb\n",
      "ML-12-Inhibitors-data-analysis.ipynb\n",
      "ML-13-Inhibitors-amino-acids-1.ipynb\n",
      "ML-14-Inhibitors-amino_acids-2.ipynb\n",
      "ML-14-Inhibitors-amino_acids-3.ipynb\n"
     ]
    }
   ],
   "source": [
    "# load data from supplementary information of paper \n",
    "# (Journal of Molecular Liquids 370 (2023) 120952)\n",
    "!ls"
   ]
  },
  {
   "cell_type": "code",
   "execution_count": 2,
   "id": "93483b27-2bde-4b67-9b3f-b76843ce507b",
   "metadata": {},
   "outputs": [],
   "source": [
    "from docx import Document\n",
    "SI = \"1-s2.0-S0167732222024916-mmc1.docx\"\n",
    "doc = Document(SI)\n",
    "tables = doc.tables"
   ]
  },
  {
   "cell_type": "code",
   "execution_count": 3,
   "id": "e7f500ca-ecb4-49b8-a1ab-f953e3fccbb6",
   "metadata": {},
   "outputs": [],
   "source": [
    "table = tables[0]"
   ]
  },
  {
   "cell_type": "code",
   "execution_count": null,
   "id": "ae0c62d4-2b6b-481e-867f-f941a0a81480",
   "metadata": {
    "editable": true,
    "slideshow": {
     "slide_type": ""
    },
    "tags": []
   },
   "outputs": [],
   "source": [
    "# save table to cvs\n",
    "data = open(\"amino_acids_hydrate_data.csv\",\"w\")\n",
    "for i in range(len(table.rows)):\n",
    "    for j in range(len(table.rows[0].cells)):\n",
    "        if j==len(table.rows[0].cells)-1:\n",
    "            data.write(str(table.cell(i,j).text))\n",
    "        else:\n",
    "            data.write(str(table.cell(i,j).text)+\",\")\n",
    "    data.write(\"\\n\")\n",
    "data.close()"
   ]
  },
  {
   "cell_type": "code",
   "execution_count": null,
   "id": "02de4266-55ba-4cd0-af69-ad2630944c21",
   "metadata": {},
   "outputs": [],
   "source": [
    "import pandas as pd\n",
    "# read amino_acids_hydrate_data.csv\n",
    "df = pd.read_csv(\"amino_acids_hydrate_data.csv\")\n",
    "df"
   ]
  },
  {
   "cell_type": "code",
   "execution_count": null,
   "id": "5e52ec45-5aa8-4637-ac51-e0917e1e75e7",
   "metadata": {},
   "outputs": [],
   "source": [
    "df.columns"
   ]
  },
  {
   "cell_type": "code",
   "execution_count": null,
   "id": "486482e9-46f4-4738-9df1-64dc61cb61dd",
   "metadata": {},
   "outputs": [],
   "source": [
    "df.info()"
   ]
  },
  {
   "cell_type": "code",
   "execution_count": null,
   "id": "9e0d8ee1-c7fb-4549-be6a-509a535c0b05",
   "metadata": {},
   "outputs": [],
   "source": [
    "df_states = df.describe()\n",
    "df_states.transpose()"
   ]
  },
  {
   "cell_type": "code",
   "execution_count": null,
   "id": "84f56a81-8d1e-4b22-9a57-e1931b07c762",
   "metadata": {},
   "outputs": [],
   "source": [
    "df"
   ]
  },
  {
   "cell_type": "code",
   "execution_count": null,
   "id": "1aab083f-f35d-4876-9c66-be4c3c6adfe3",
   "metadata": {},
   "outputs": [],
   "source": [
    "df.index = df[\"Amino Acid\"]\n",
    "df.drop(\"Amino Acid\",axis=1,inplace=True)\n",
    "df.drop(\"No. \",axis=1,inplace=True)\n",
    "df"
   ]
  },
  {
   "cell_type": "code",
   "execution_count": null,
   "id": "9a95544c-15f2-4aff-bf63-5956ecf76b1e",
   "metadata": {},
   "outputs": [],
   "source": [
    "import seaborn as sns\n",
    "sns.pairplot(df)"
   ]
  },
  {
   "cell_type": "code",
   "execution_count": null,
   "id": "5445d220-4eaa-4159-bc83-5d0703ab034e",
   "metadata": {},
   "outputs": [],
   "source": [
    "# 划分数据集\n",
    "df.columns"
   ]
  },
  {
   "cell_type": "code",
   "execution_count": null,
   "id": "5eaff290-b5d9-4c01-948b-2a4bbcaf13a5",
   "metadata": {},
   "outputs": [],
   "source": [
    "x = df[['MW', 'pI', 'hI', 'conc ', 'C1%', 'C2%', 'C3%', 'P']]"
   ]
  },
  {
   "cell_type": "code",
   "execution_count": null,
   "id": "f5aadbf7-aabc-435d-a675-54fcf71d1fa6",
   "metadata": {},
   "outputs": [],
   "source": [
    "y = df[['T']]"
   ]
  },
  {
   "cell_type": "code",
   "execution_count": null,
   "id": "bf88b227-507e-4103-bb01-d02f1011377b",
   "metadata": {},
   "outputs": [],
   "source": [
    "from sklearn.model_selection import train_test_split\n",
    "x_train, x_test, y_train, y_test = train_test_split(x,y, test_size=0.3, random_state=22)"
   ]
  },
  {
   "cell_type": "code",
   "execution_count": null,
   "id": "acc6475b-9419-46e5-ade3-bae26dd06924",
   "metadata": {},
   "outputs": [],
   "source": [
    "# 标准化\n",
    "from sklearn.preprocessing import StandardScaler\n",
    "transfer = StandardScaler()\n",
    "x_train = transfer.fit_transform(x_train)\n",
    "x_test = transfer.fit_transform(x_test)"
   ]
  },
  {
   "cell_type": "code",
   "execution_count": null,
   "id": "84d235fc-54b1-4b88-bff3-275bc0439238",
   "metadata": {},
   "outputs": [],
   "source": [
    "x_train"
   ]
  },
  {
   "cell_type": "code",
   "execution_count": null,
   "id": "9ceaf588-07d7-41ae-b6a7-1482892a7565",
   "metadata": {},
   "outputs": [],
   "source": [
    "x_test"
   ]
  },
  {
   "cell_type": "code",
   "execution_count": null,
   "id": "dc798f6f-88d5-49cd-acff-b7b633dfcfa0",
   "metadata": {},
   "outputs": [],
   "source": [
    "# # 线性回归\n",
    "from sklearn.linear_model import LinearRegression\n",
    "estimator = LinearRegression()\n",
    "\n",
    "# from sklearn.linear_model import SGDRegressor\n",
    "# estimator = SGDRegressor(max_iter=1000)\n",
    "from sklearn.linear_model import Ridge, ElasticNet, Lasso\n",
    "from sklearn import metrics\n",
    "import numpy as np\n",
    "# estimator = Ridge(alpha=1) # 岭回归\n",
    "\n",
    "# from sklearn.svm import LinearSVC #, SVC, SVR\n",
    "# estimator = LinearSVC()\n",
    "estimator.fit(x_train,y_train)\n",
    "y_predict = estimator.predict(x_test)\n",
    "\n",
    "score = estimator.score(x_test, y_test)\n",
    "RS = metrics.r2_score(y_test,y_predict)\n",
    "MSE = metrics.mean_squared_error(y_test, y_predict)\n",
    "RMSE = np.sqrt(metrics.mean_squared_error(y_test, y_predict))\n",
    "print(\"准确率为：\\n\", score)\n",
    "print(\"R^2：\\n\", RS)\n",
    "print(\"MSE：\\n\", MSE)\n",
    "print(\"RMSE：\\n\", RMSE)\n",
    "\n",
    "a = estimator.coef_\n",
    "b = estimator.intercept_"
   ]
  },
  {
   "cell_type": "code",
   "execution_count": null,
   "id": "de24dba6-a7c7-4f23-be42-36443b897505",
   "metadata": {},
   "outputs": [],
   "source": [
    "print(\"回归系数：\",a)\n",
    "print(\"截距：\",b)"
   ]
  },
  {
   "cell_type": "code",
   "execution_count": null,
   "id": "9c4f03c7-1e97-4b4f-840a-746734a459a0",
   "metadata": {},
   "outputs": [],
   "source": [
    "import matplotlib.pyplot as plt\n",
    "plt.subplots(figsize=(6,5))\n",
    "plt.scatter(y_test,y_predict,color=\"b\")\n",
    "plt.plot([y_test.min(), y_test.max()], [y_test.min(), y_test.max()], 'r--')\n",
    "plt.xlabel(\"True Temperature (K)\")\n",
    "plt.ylabel(\"Predict Temperature (K)\")"
   ]
  }
 ],
 "metadata": {
  "kernelspec": {
   "display_name": "Python 3 (ipykernel)",
   "language": "python",
   "name": "python3"
  },
  "language_info": {
   "codemirror_mode": {
    "name": "ipython",
    "version": 3
   },
   "file_extension": ".py",
   "mimetype": "text/x-python",
   "name": "python",
   "nbconvert_exporter": "python",
   "pygments_lexer": "ipython3",
   "version": "3.11.3"
  }
 },
 "nbformat": 4,
 "nbformat_minor": 5
}
