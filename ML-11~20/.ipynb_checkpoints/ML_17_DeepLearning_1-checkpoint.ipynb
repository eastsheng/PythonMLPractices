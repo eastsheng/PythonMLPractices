{
 "cells": [
  {
   "cell_type": "code",
   "execution_count": 1,
   "id": "0f390394-5c6d-47d0-8b89-0c825b3c6cf0",
   "metadata": {},
   "outputs": [
    {
     "name": "stdout",
     "output_type": "stream",
     "text": [
      "1-s2.0-S0167732222024916-mmc1.docx\n",
      "amino_acids_hydrate_data.csv\n",
      "amino_acids_hydrate_data_update1.csv\n",
      "bioactivity_preprocessed_data.csv\n",
      "house_tiny.csv\n",
      "inhibitor_amino_acids_data.csv\n",
      "inhibitor_data.csv\n"
     ]
    }
   ],
   "source": [
    "# tensorflow 基础\n",
    "!ls ../data"
   ]
  },
  {
   "cell_type": "code",
   "execution_count": 2,
   "id": "d54501d5-75de-4403-9cb4-df08c153f626",
   "metadata": {},
   "outputs": [
    {
     "name": "stdout",
     "output_type": "stream",
     "text": [
      "Python 3.11.3\n"
     ]
    }
   ],
   "source": [
    "!python --version"
   ]
  },
  {
   "cell_type": "code",
   "execution_count": 3,
   "id": "8448ce2d-8505-40f2-837a-156562d4a51b",
   "metadata": {},
   "outputs": [
    {
     "name": "stdout",
     "output_type": "stream",
     "text": [
      "2.12.0\n"
     ]
    }
   ],
   "source": [
    "import tensorflow as tf\n",
    "print(tf.__version__)"
   ]
  },
  {
   "cell_type": "code",
   "execution_count": 4,
   "id": "356aeb9e-f91d-43d8-b31b-3e5cee76620c",
   "metadata": {},
   "outputs": [
    {
     "name": "stdout",
     "output_type": "stream",
     "text": [
      "tf.Tensor([0 1 2 3 4 5 6 7 8 9], shape=(10,), dtype=int32)\n"
     ]
    }
   ],
   "source": [
    "# 创建tensor\n",
    "x = range(10)\n",
    "x = tf.constant(x)\n",
    "print(x)"
   ]
  },
  {
   "cell_type": "code",
   "execution_count": 5,
   "id": "376c8716-0335-431a-88f3-a0906d6a4ff2",
   "metadata": {},
   "outputs": [
    {
     "name": "stdout",
     "output_type": "stream",
     "text": [
      "(10,)\n"
     ]
    }
   ],
   "source": [
    "print(x.shape)"
   ]
  },
  {
   "cell_type": "code",
   "execution_count": 6,
   "id": "d6bc3a64-180e-4842-9ceb-a965a251a83b",
   "metadata": {},
   "outputs": [
    {
     "data": {
      "text/plain": [
       "10"
      ]
     },
     "execution_count": 6,
     "metadata": {},
     "output_type": "execute_result"
    }
   ],
   "source": [
    "len(x)"
   ]
  },
  {
   "cell_type": "code",
   "execution_count": 9,
   "id": "1ecd757c-82ca-43f4-b403-1ee4b2afcff7",
   "metadata": {},
   "outputs": [
    {
     "data": {
      "text/plain": [
       "(<tf.Tensor: shape=(2, 5), dtype=int32, numpy=\n",
       " array([[0, 1, 2, 3, 4],\n",
       "        [5, 6, 7, 8, 9]])>,\n",
       " <tf.Tensor: shape=(2, 5), dtype=int32, numpy=\n",
       " array([[0, 1, 2, 3, 4],\n",
       "        [5, 6, 7, 8, 9]])>)"
      ]
     },
     "execution_count": 9,
     "metadata": {},
     "output_type": "execute_result"
    }
   ],
   "source": [
    "# 创建二维tensor\n",
    "y = tf.reshape(x,(2,5))\n",
    "z = tf.reshape(x,(2,-1))\n",
    "y,z"
   ]
  },
  {
   "cell_type": "code",
   "execution_count": 11,
   "id": "8f821b91-8e17-4e31-bd5b-df8e21f92961",
   "metadata": {},
   "outputs": [
    {
     "data": {
      "text/plain": [
       "<tf.Tensor: shape=(2, 3, 4), dtype=float32, numpy=\n",
       "array([[[0., 0., 0., 0.],\n",
       "        [0., 0., 0., 0.],\n",
       "        [0., 0., 0., 0.]],\n",
       "\n",
       "       [[0., 0., 0., 0.],\n",
       "        [0., 0., 0., 0.],\n",
       "        [0., 0., 0., 0.]]], dtype=float32)>"
      ]
     },
     "execution_count": 11,
     "metadata": {},
     "output_type": "execute_result"
    }
   ],
   "source": [
    "# 创建三维tensor\n",
    "tf.zeros((2,3,4))"
   ]
  },
  {
   "cell_type": "code",
   "execution_count": 12,
   "id": "3fd5fb4b-0aba-41fe-98a9-89c6f501d97b",
   "metadata": {},
   "outputs": [
    {
     "data": {
      "text/plain": [
       "<tf.Tensor: shape=(2, 3, 4), dtype=float32, numpy=\n",
       "array([[[1., 1., 1., 1.],\n",
       "        [1., 1., 1., 1.],\n",
       "        [1., 1., 1., 1.]],\n",
       "\n",
       "       [[1., 1., 1., 1.],\n",
       "        [1., 1., 1., 1.],\n",
       "        [1., 1., 1., 1.]]], dtype=float32)>"
      ]
     },
     "execution_count": 12,
     "metadata": {},
     "output_type": "execute_result"
    }
   ],
   "source": [
    "tf.ones((2,3,4))"
   ]
  },
  {
   "cell_type": "code",
   "execution_count": 15,
   "id": "0d71988e-55b2-461b-b6a4-c36b4c31378b",
   "metadata": {},
   "outputs": [
    {
     "data": {
      "text/plain": [
       "<tf.Tensor: shape=(4, 4), dtype=int32, numpy=\n",
       "array([[1, 1, 1, 1],\n",
       "       [2, 2, 2, 2],\n",
       "       [3, 3, 3, 3],\n",
       "       [4, 4, 4, 4]])>"
      ]
     },
     "execution_count": 15,
     "metadata": {},
     "output_type": "execute_result"
    }
   ],
   "source": [
    "# 将list转为tensor\n",
    "tf.constant([[1,1,1,1],[2,2,2,2],[3,3,3,3],[4,4,4,4]])"
   ]
  },
  {
   "cell_type": "code",
   "execution_count": 16,
   "id": "31b4f7d8-90a5-4da9-9dec-3c1c85e52eaf",
   "metadata": {},
   "outputs": [
    {
     "data": {
      "text/plain": [
       "<tf.Tensor: shape=(3, 4), dtype=float32, numpy=\n",
       "array([[5.7102156, 5.044648 , 4.1533384, 2.9156482],\n",
       "       [7.2151885, 4.9477086, 3.8719401, 4.707954 ],\n",
       "       [6.0803394, 3.6958656, 5.8104205, 2.0866761]], dtype=float32)>"
      ]
     },
     "execution_count": 16,
     "metadata": {},
     "output_type": "execute_result"
    }
   ],
   "source": [
    "# 随机数tensor\n",
    "# normal 符合正态分布，均值为5，标准差为1\n",
    "tf.random.normal(shape=[3,4],mean=5,stddev=1)"
   ]
  },
  {
   "cell_type": "code",
   "execution_count": 30,
   "id": "acf8d92d-45e6-4a6c-9bc9-73eb3d160825",
   "metadata": {},
   "outputs": [
    {
     "data": {
      "text/plain": [
       "<tf.Tensor: shape=(2, 5), dtype=int32, numpy=\n",
       "array([[ 0,  5, 10, 15, 20],\n",
       "       [25, 30, 35, 40, 45]])>"
      ]
     },
     "execution_count": 30,
     "metadata": {},
     "output_type": "execute_result"
    }
   ],
   "source": [
    "# tensor基本运算\n",
    "h = y + z + z*3\n",
    "h"
   ]
  },
  {
   "cell_type": "code",
   "execution_count": 31,
   "id": "91adb597-8d3e-44c7-bffd-eda6801821aa",
   "metadata": {},
   "outputs": [
    {
     "data": {
      "text/plain": [
       "<tf.Tensor: shape=(2, 5), dtype=float64, numpy=\n",
       "array([[nan, 0.2, 0.2, 0.2, 0.2],\n",
       "       [0.2, 0.2, 0.2, 0.2, 0.2]])>"
      ]
     },
     "execution_count": 31,
     "metadata": {},
     "output_type": "execute_result"
    }
   ],
   "source": [
    "z/h"
   ]
  },
  {
   "cell_type": "code",
   "execution_count": 33,
   "id": "3e02c6f0-2211-4803-bf9b-7c0fdf8756a9",
   "metadata": {},
   "outputs": [
    {
     "data": {
      "text/plain": [
       "(<tf.Tensor: shape=(2, 5), dtype=int32, numpy=\n",
       " array([[0, 1, 2, 3, 4],\n",
       "        [5, 6, 7, 8, 9]])>,\n",
       " <tf.Tensor: shape=(2, 5), dtype=float32, numpy=\n",
       " array([[0., 1., 2., 3., 4.],\n",
       "        [5., 6., 7., 8., 9.]], dtype=float32)>)"
      ]
     },
     "execution_count": 33,
     "metadata": {},
     "output_type": "execute_result"
    }
   ],
   "source": [
    "# 指数运算\n",
    "r = tf.cast(y,tf.float32)\n",
    "y,r"
   ]
  },
  {
   "cell_type": "code",
   "execution_count": 38,
   "id": "9a758dee-4ed0-43ae-b373-3b82b84b0d60",
   "metadata": {},
   "outputs": [
    {
     "data": {
      "text/plain": [
       "<tf.Tensor: shape=(2, 5), dtype=float32, numpy=\n",
       "array([[1.0000000e+00, 2.7182817e+00, 7.3890562e+00, 2.0085537e+01,\n",
       "        5.4598148e+01],\n",
       "       [1.4841316e+02, 4.0342877e+02, 1.0966332e+03, 2.9809580e+03,\n",
       "        8.1030840e+03]], dtype=float32)>"
      ]
     },
     "execution_count": 38,
     "metadata": {},
     "output_type": "execute_result"
    }
   ],
   "source": [
    "# exp()里好像不能用整数\n",
    "tf.exp(r) "
   ]
  },
  {
   "cell_type": "code",
   "execution_count": 42,
   "id": "28a574e1-8220-4ea2-a4eb-7c569aec09d6",
   "metadata": {},
   "outputs": [
    {
     "data": {
      "text/plain": [
       "<tf.Tensor: shape=(2, 2), dtype=int32, numpy=\n",
       "array([[ 30,  80],\n",
       "       [ 80, 255]])>"
      ]
     },
     "execution_count": 42,
     "metadata": {},
     "output_type": "execute_result"
    }
   ],
   "source": [
    "# 矩阵乘法,y与转置地z相乘\n",
    "tf.matmul(y,tf.transpose(z))"
   ]
  },
  {
   "cell_type": "code",
   "execution_count": 43,
   "id": "d9e2b978-c29e-4253-8a93-d591fd34be3e",
   "metadata": {},
   "outputs": [
    {
     "data": {
      "text/plain": [
       "<tf.Tensor: shape=(4, 5), dtype=int32, numpy=\n",
       "array([[0, 1, 2, 3, 4],\n",
       "       [5, 6, 7, 8, 9],\n",
       "       [0, 1, 2, 3, 4],\n",
       "       [5, 6, 7, 8, 9]])>"
      ]
     },
     "execution_count": 43,
     "metadata": {},
     "output_type": "execute_result"
    }
   ],
   "source": [
    "# 矩阵拼接\n",
    "tf.concat([y,z],axis=0)"
   ]
  },
  {
   "cell_type": "code",
   "execution_count": 44,
   "id": "3b0a8a8a-41be-487d-8d23-0b01873dd3b6",
   "metadata": {},
   "outputs": [
    {
     "data": {
      "text/plain": [
       "<tf.Tensor: shape=(2, 10), dtype=int32, numpy=\n",
       "array([[0, 1, 2, 3, 4, 0, 1, 2, 3, 4],\n",
       "       [5, 6, 7, 8, 9, 5, 6, 7, 8, 9]])>"
      ]
     },
     "execution_count": 44,
     "metadata": {},
     "output_type": "execute_result"
    }
   ],
   "source": [
    "tf.concat([y,z],axis=1)"
   ]
  },
  {
   "cell_type": "code",
   "execution_count": 48,
   "id": "189e79c0-46f7-4f55-83bf-f98a9dfbad43",
   "metadata": {},
   "outputs": [
    {
     "data": {
      "text/plain": [
       "<tf.Tensor: shape=(2, 5), dtype=bool, numpy=\n",
       "array([[ True,  True,  True,  True,  True],\n",
       "       [ True,  True,  True,  True,  True]])>"
      ]
     },
     "execution_count": 48,
     "metadata": {},
     "output_type": "execute_result"
    }
   ],
   "source": [
    "# 判断两个tensor的各个元素是否相等\n",
    "tf.equal(y,z)"
   ]
  },
  {
   "cell_type": "code",
   "execution_count": 49,
   "id": "b33451b6-91c7-4d75-870c-637ee7148174",
   "metadata": {},
   "outputs": [
    {
     "data": {
      "text/plain": [
       "<tf.Tensor: shape=(), dtype=int32, numpy=45>"
      ]
     },
     "execution_count": 49,
     "metadata": {},
     "output_type": "execute_result"
    }
   ],
   "source": [
    "# 求和\n",
    "tf.reduce_sum(y)"
   ]
  },
  {
   "cell_type": "code",
   "execution_count": 54,
   "id": "6c027ee9-8a6d-4862-8ce9-2ddd5518b83b",
   "metadata": {},
   "outputs": [
    {
     "data": {
      "text/plain": [
       "<tf.Tensor: shape=(2, 5), dtype=float64, numpy=\n",
       "array([[0., 1., 2., 3., 4.],\n",
       "       [5., 6., 7., 8., 9.]])>"
      ]
     },
     "execution_count": 54,
     "metadata": {},
     "output_type": "execute_result"
    }
   ],
   "source": [
    "y = tf.cast(y,tf.float64)\n",
    "y"
   ]
  },
  {
   "cell_type": "code",
   "execution_count": 56,
   "id": "1a768c25-53c5-444c-874a-48d89368fb8e",
   "metadata": {},
   "outputs": [
    {
     "data": {
      "text/plain": [
       "<tf.Tensor: shape=(), dtype=float64, numpy=16.881943016134134>"
      ]
     },
     "execution_count": 56,
     "metadata": {},
     "output_type": "execute_result"
    }
   ],
   "source": [
    "# L1_norm范数\n",
    "tf.norm(y)"
   ]
  },
  {
   "cell_type": "code",
   "execution_count": 61,
   "id": "2392b815-a98f-4897-acb6-0d5462cd598a",
   "metadata": {},
   "outputs": [
    {
     "data": {
      "text/plain": [
       "(<tf.Tensor: shape=(3, 1), dtype=int32, numpy=\n",
       " array([[0],\n",
       "        [1],\n",
       "        [2]])>,\n",
       " <tf.Tensor: shape=(1, 2), dtype=int32, numpy=array([[0, 1]])>)"
      ]
     },
     "execution_count": 61,
     "metadata": {},
     "output_type": "execute_result"
    }
   ],
   "source": [
    "# 广播机制：当两个维度不同的tensor做运算会触发该机制\n",
    "a = tf.reshape(tf.constant(range(3)),(3,1)) # 三行一列\n",
    "b = tf.reshape(tf.constant(range(2)),(1,2)) # 一行两列\n",
    "a,b"
   ]
  },
  {
   "cell_type": "code",
   "execution_count": 67,
   "id": "2b74d45d-44c5-44a4-837b-7d5f61bf7212",
   "metadata": {},
   "outputs": [
    {
     "data": {
      "text/plain": [
       "<tf.Tensor: shape=(3, 2), dtype=int32, numpy=\n",
       "array([[0, 1],\n",
       "       [1, 2],\n",
       "       [2, 3]])>"
      ]
     },
     "execution_count": 67,
     "metadata": {},
     "output_type": "execute_result"
    }
   ],
   "source": [
    "# 那么a中第一列的3个元素被广播（复制）到了第二列，\n",
    "# 而b中第一行的2个元素被广播（复制）到了第二行和第三行。\n",
    "# 如此，就可以对2个3行2列的矩阵按元素相加。\n",
    "c = a+b \n",
    "c"
   ]
  },
  {
   "cell_type": "code",
   "execution_count": 68,
   "id": "3e146f60-1b2c-4867-83f7-946e2e31a867",
   "metadata": {},
   "outputs": [
    {
     "data": {
      "text/plain": [
       "<tf.Tensor: shape=(2, 2), dtype=int32, numpy=\n",
       "array([[1, 2],\n",
       "       [2, 3]])>"
      ]
     },
     "execution_count": 68,
     "metadata": {},
     "output_type": "execute_result"
    }
   ],
   "source": [
    "# 索引 index,左闭右开\n",
    "c[1:3]"
   ]
  },
  {
   "cell_type": "code",
   "execution_count": 70,
   "id": "9f3d3f45-561a-42a4-b9ec-65cfc04f9a17",
   "metadata": {},
   "outputs": [
    {
     "data": {
      "text/plain": [
       "<tf.Tensor: shape=(2,), dtype=int32, numpy=array([2, 3])>"
      ]
     },
     "execution_count": 70,
     "metadata": {},
     "output_type": "execute_result"
    }
   ],
   "source": [
    "c[1:3,1]"
   ]
  },
  {
   "cell_type": "code",
   "execution_count": 109,
   "id": "bd602769-a75d-4266-97ba-3aae4179480f",
   "metadata": {},
   "outputs": [
    {
     "data": {
      "text/plain": [
       "<tf.Variable 'UnreadVariable' shape=(3, 2) dtype=float32, numpy=\n",
       "array([[  10.,   10.],\n",
       "       [  10., 1000.],\n",
       "       [  10.,   10.]], dtype=float32)>"
      ]
     },
     "execution_count": 109,
     "metadata": {},
     "output_type": "execute_result"
    }
   ],
   "source": [
    "# 重新赋值\n",
    "c = tf.Variable(c) # 这个必须要有\n",
    "c[1,1].assign(1000)"
   ]
  },
  {
   "cell_type": "code",
   "execution_count": 107,
   "id": "174e2217-e035-443b-b05a-d2e0e014a1a9",
   "metadata": {},
   "outputs": [
    {
     "data": {
      "text/plain": [
       "<tf.Variable 'Variable:0' shape=(3, 2) dtype=float32, numpy=\n",
       "array([[10., 10.],\n",
       "       [10., 10.],\n",
       "       [10., 10.]], dtype=float32)>"
      ]
     },
     "execution_count": 107,
     "metadata": {},
     "output_type": "execute_result"
    }
   ],
   "source": [
    "c = tf.Variable(c)\n",
    "c"
   ]
  },
  {
   "cell_type": "code",
   "execution_count": 108,
   "id": "2cc5c78c-c2ee-442a-ae72-7770551c5ab8",
   "metadata": {},
   "outputs": [
    {
     "data": {
      "text/plain": [
       "<tf.Variable 'UnreadVariable' shape=(3, 2) dtype=float32, numpy=\n",
       "array([[10., 10.],\n",
       "       [10., 10.],\n",
       "       [10., 10.]], dtype=float32)>"
      ]
     },
     "execution_count": 108,
     "metadata": {},
     "output_type": "execute_result"
    }
   ],
   "source": [
    "c[:,1].assign(tf.ones(c[:,1].shape,dtype = tf.float32)*10)"
   ]
  },
  {
   "cell_type": "code",
   "execution_count": 110,
   "id": "6817ae95-0f76-4d28-870b-45aa564a016d",
   "metadata": {},
   "outputs": [
    {
     "data": {
      "text/plain": [
       "array([[1., 1., 1.],\n",
       "       [1., 1., 1.]])"
      ]
     },
     "execution_count": 110,
     "metadata": {},
     "output_type": "execute_result"
    }
   ],
   "source": [
    "# numpy to tensor\n",
    "import numpy as np\n",
    "p = np.ones((2,3))\n",
    "p"
   ]
  },
  {
   "cell_type": "code",
   "execution_count": 111,
   "id": "6c912baf-0f4b-4cf8-87d6-631c7b6b5684",
   "metadata": {},
   "outputs": [
    {
     "data": {
      "text/plain": [
       "<tf.Tensor: shape=(2, 3), dtype=float64, numpy=\n",
       "array([[1., 1., 1.],\n",
       "       [1., 1., 1.]])>"
      ]
     },
     "execution_count": 111,
     "metadata": {},
     "output_type": "execute_result"
    }
   ],
   "source": [
    "d = tf.constant(p)\n",
    "d"
   ]
  },
  {
   "cell_type": "code",
   "execution_count": 112,
   "id": "3b970a7b-f559-4ad0-8955-556bd07a91c7",
   "metadata": {},
   "outputs": [
    {
     "data": {
      "text/plain": [
       "array([[1., 1., 1.],\n",
       "       [1., 1., 1.]])"
      ]
     },
     "execution_count": 112,
     "metadata": {},
     "output_type": "execute_result"
    }
   ],
   "source": [
    "# tensor to numpy\n",
    "np.array(d)"
   ]
  },
  {
   "cell_type": "code",
   "execution_count": 113,
   "id": "d310eff8-b91c-49f2-afc5-a1b4e36c3834",
   "metadata": {},
   "outputs": [
    {
     "data": {
      "text/plain": [
       "<tf.Tensor: shape=(4, 1), dtype=float32, numpy=\n",
       "array([[0.],\n",
       "       [1.],\n",
       "       [2.],\n",
       "       [3.]], dtype=float32)>"
      ]
     },
     "execution_count": 113,
     "metadata": {},
     "output_type": "execute_result"
    }
   ],
   "source": [
    "# 使用tensorflow2.0提供的GradientTape来自动求梯度\n",
    "x = tf.reshape(tf.Variable(range(4), dtype=tf.float32),(4,1))\n",
    "x"
   ]
  },
  {
   "cell_type": "code",
   "execution_count": 114,
   "id": "5997dc04-51ab-4714-bcd7-43a055b86825",
   "metadata": {},
   "outputs": [
    {
     "data": {
      "text/plain": [
       "<tf.Tensor: shape=(4, 1), dtype=float32, numpy=\n",
       "array([[ 0.],\n",
       "       [ 4.],\n",
       "       [ 8.],\n",
       "       [12.]], dtype=float32)>"
      ]
     },
     "execution_count": 114,
     "metadata": {},
     "output_type": "execute_result"
    }
   ],
   "source": [
    "with tf.GradientTape() as t:\n",
    "    t.watch(x) #对于Variable类型的变量，一般不用加此监控\n",
    "    y = 2 * tf.matmul(tf.transpose(x), x)\n",
    "\n",
    "dy_dx = t.gradient(y, x)\n",
    "dy_dx"
   ]
  },
  {
   "cell_type": "code",
   "execution_count": 115,
   "id": "9819a031-f89a-4e7d-9f2f-a1bdc7ab4520",
   "metadata": {},
   "outputs": [
    {
     "name": "stdout",
     "output_type": "stream",
     "text": [
      "2.12.0\n"
     ]
    }
   ],
   "source": [
    "import tensorflow as tf\n",
    "print(tf.__version__)"
   ]
  },
  {
   "cell_type": "code",
   "execution_count": 117,
   "id": "b34724e7-090a-4c26-be04-25ffd58ee33d",
   "metadata": {},
   "outputs": [
    {
     "data": {
      "text/plain": [
       "['DType',\n",
       " 'QUANTIZED_DTYPES',\n",
       " '__builtins__',\n",
       " '__cached__',\n",
       " '__doc__',\n",
       " '__file__',\n",
       " '__loader__',\n",
       " '__name__',\n",
       " '__package__',\n",
       " '__path__',\n",
       " '__spec__',\n",
       " '_sys',\n",
       " 'as_dtype',\n",
       " 'bfloat16',\n",
       " 'bool',\n",
       " 'cast',\n",
       " 'complex',\n",
       " 'complex128',\n",
       " 'complex64',\n",
       " 'double',\n",
       " 'experimental',\n",
       " 'float16',\n",
       " 'float32',\n",
       " 'float64',\n",
       " 'half',\n",
       " 'int16',\n",
       " 'int32',\n",
       " 'int64',\n",
       " 'int8',\n",
       " 'qint16',\n",
       " 'qint32',\n",
       " 'qint8',\n",
       " 'quint16',\n",
       " 'quint8',\n",
       " 'resource',\n",
       " 'saturate_cast',\n",
       " 'string',\n",
       " 'uint16',\n",
       " 'uint32',\n",
       " 'uint64',\n",
       " 'uint8',\n",
       " 'variant']"
      ]
     },
     "execution_count": 117,
     "metadata": {},
     "output_type": "execute_result"
    }
   ],
   "source": [
    "# 使用dir函数,查阅可以调用的函数和类\n",
    "dir(tf.dtypes)"
   ]
  },
  {
   "cell_type": "code",
   "execution_count": 118,
   "id": "abe68028-509c-4c5e-a42f-de041147ce5d",
   "metadata": {},
   "outputs": [
    {
     "data": {
      "text/plain": [
       "['Algorithm',\n",
       " 'Generator',\n",
       " '__builtins__',\n",
       " '__cached__',\n",
       " '__doc__',\n",
       " '__file__',\n",
       " '__loader__',\n",
       " '__name__',\n",
       " '__package__',\n",
       " '__path__',\n",
       " '__spec__',\n",
       " '_sys',\n",
       " 'all_candidate_sampler',\n",
       " 'categorical',\n",
       " 'create_rng_state',\n",
       " 'experimental',\n",
       " 'fixed_unigram_candidate_sampler',\n",
       " 'fold_in',\n",
       " 'gamma',\n",
       " 'get_global_generator',\n",
       " 'learned_unigram_candidate_sampler',\n",
       " 'log_uniform_candidate_sampler',\n",
       " 'normal',\n",
       " 'poisson',\n",
       " 'set_global_generator',\n",
       " 'set_seed',\n",
       " 'shuffle',\n",
       " 'split',\n",
       " 'stateless_binomial',\n",
       " 'stateless_categorical',\n",
       " 'stateless_gamma',\n",
       " 'stateless_normal',\n",
       " 'stateless_parameterized_truncated_normal',\n",
       " 'stateless_poisson',\n",
       " 'stateless_truncated_normal',\n",
       " 'stateless_uniform',\n",
       " 'truncated_normal',\n",
       " 'uniform',\n",
       " 'uniform_candidate_sampler']"
      ]
     },
     "execution_count": 118,
     "metadata": {},
     "output_type": "execute_result"
    }
   ],
   "source": [
    "dir(tf.random)"
   ]
  },
  {
   "cell_type": "code",
   "execution_count": 119,
   "id": "6f43c133-494f-4f5e-adfb-d00301890dbb",
   "metadata": {},
   "outputs": [
    {
     "name": "stdout",
     "output_type": "stream",
     "text": [
      "Help on function ones in module tensorflow.python.ops.array_ops:\n",
      "\n",
      "ones(shape, dtype=tf.float32, name=None)\n",
      "    Creates a tensor with all elements set to one (1).\n",
      "    \n",
      "    See also `tf.ones_like`, `tf.zeros`, `tf.fill`, `tf.eye`.\n",
      "    \n",
      "    This operation returns a tensor of type `dtype` with shape `shape` and\n",
      "    all elements set to one.\n",
      "    \n",
      "    >>> tf.ones([3, 4], tf.int32)\n",
      "    <tf.Tensor: shape=(3, 4), dtype=int32, numpy=\n",
      "    array([[1, 1, 1, 1],\n",
      "           [1, 1, 1, 1],\n",
      "           [1, 1, 1, 1]], dtype=int32)>\n",
      "    \n",
      "    Args:\n",
      "      shape: A `list` of integers, a `tuple` of integers, or\n",
      "        a 1-D `Tensor` of type `int32`.\n",
      "      dtype: Optional DType of an element in the resulting `Tensor`. Default is\n",
      "        `tf.float32`.\n",
      "      name: Optional string. A name for the operation.\n",
      "    \n",
      "    Returns:\n",
      "      A `Tensor` with all elements set to one (1).\n",
      "\n"
     ]
    }
   ],
   "source": [
    "# 使用help函数\n",
    "help(tf.ones)"
   ]
  },
  {
   "cell_type": "code",
   "execution_count": 120,
   "id": "c5a1288b-59e6-4f4a-8697-3faabb5a5dce",
   "metadata": {},
   "outputs": [
    {
     "data": {
      "text/plain": [
       "<tf.Tensor: shape=(3, 4), dtype=int32, numpy=\n",
       "array([[1, 1, 1, 1],\n",
       "       [1, 1, 1, 1],\n",
       "       [1, 1, 1, 1]])>"
      ]
     },
     "execution_count": 120,
     "metadata": {},
     "output_type": "execute_result"
    }
   ],
   "source": [
    "tf.ones([3, 4], tf.int32)"
   ]
  }
 ],
 "metadata": {
  "kernelspec": {
   "display_name": "Python 3 (ipykernel)",
   "language": "python",
   "name": "python3"
  },
  "language_info": {
   "codemirror_mode": {
    "name": "ipython",
    "version": 3
   },
   "file_extension": ".py",
   "mimetype": "text/x-python",
   "name": "python",
   "nbconvert_exporter": "python",
   "pygments_lexer": "ipython3",
   "version": "3.9.2"
  }
 },
 "nbformat": 4,
 "nbformat_minor": 5
}
