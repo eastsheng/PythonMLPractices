{
 "cells": [
  {
   "cell_type": "code",
   "execution_count": 16,
   "id": "16998b57-4975-4794-acfb-1f6ba572a0e6",
   "metadata": {},
   "outputs": [],
   "source": [
    "# 深度学习模型常常使用丢弃法应对过拟合问题：倒置丢弃法\n",
    "# 当对该隐藏层使用丢弃法时，该层的隐藏单元将有一定概率被丢弃掉\n",
    "# 丢弃法不改变其输入的期望值\n",
    "import tensorflow as tf\n",
    "import numpy as np\n",
    "from tensorflow import keras, nn,losses"
   ]
  },
  {
   "cell_type": "code",
   "execution_count": 17,
   "id": "d819650f-b531-4870-8cec-39e4458b6259",
   "metadata": {},
   "outputs": [],
   "source": [
    "from tensorflow.keras.layers import Dropout, Flatten, Dense"
   ]
  },
  {
   "cell_type": "code",
   "execution_count": 19,
   "id": "f6a1436d-fb11-411f-8f4e-5d4bcc05e6d0",
   "metadata": {},
   "outputs": [],
   "source": [
    "def dropout(X, drop_prob):\n",
    "    assert 0 <= drop_prob <= 1 # 测试True/False\n",
    "    keep_prob = 1 - drop_prob\n",
    "    # 这种情况下把全部元素都丢弃\n",
    "    if keep_prob == 0:\n",
    "        return tf.zeros_like(X)\n",
    "    #初始mask为一个bool型数组，故需要强制类型转换\n",
    "    mask = tf.random.uniform(shape=X.shape, minval=0, maxval=1) < keep_prob\n",
    "    return tf.cast(mask, dtype=tf.float32) * tf.cast(X, dtype=tf.float32) / keep_prob"
   ]
  },
  {
   "cell_type": "code",
   "execution_count": 20,
   "id": "ecad17ba-e0d0-4757-b07c-73fd5d7439e8",
   "metadata": {},
   "outputs": [
    {
     "data": {
      "text/plain": [
       "<tf.Tensor: shape=(2, 8), dtype=float32, numpy=\n",
       "array([[ 0.,  1.,  2.,  3.,  4.,  5.,  6.,  7.],\n",
       "       [ 8.,  9., 10., 11., 12., 13., 14., 15.]], dtype=float32)>"
      ]
     },
     "execution_count": 20,
     "metadata": {},
     "output_type": "execute_result"
    }
   ],
   "source": [
    "X = tf.reshape(tf.range(0, 16), shape=(2, 8))\n",
    "dropout(X, 0)"
   ]
  },
  {
   "cell_type": "code",
   "execution_count": 21,
   "id": "79e66de7-6be8-4a60-a19e-a0c24fa3ebb1",
   "metadata": {},
   "outputs": [
    {
     "data": {
      "text/plain": [
       "<tf.Tensor: shape=(2, 8), dtype=float32, numpy=\n",
       "array([[ 0.,  2.,  0.,  6.,  8.,  0., 12., 14.],\n",
       "       [ 0.,  0., 20.,  0., 24.,  0.,  0., 30.]], dtype=float32)>"
      ]
     },
     "execution_count": 21,
     "metadata": {},
     "output_type": "execute_result"
    }
   ],
   "source": [
    "dropout(X, 0.5)"
   ]
  },
  {
   "cell_type": "code",
   "execution_count": 22,
   "id": "8f4c5df6-e6bd-4b35-9f5b-23e3c00e141e",
   "metadata": {},
   "outputs": [
    {
     "data": {
      "text/plain": [
       "<tf.Tensor: shape=(2, 8), dtype=int32, numpy=\n",
       "array([[0, 0, 0, 0, 0, 0, 0, 0],\n",
       "       [0, 0, 0, 0, 0, 0, 0, 0]])>"
      ]
     },
     "execution_count": 22,
     "metadata": {},
     "output_type": "execute_result"
    }
   ],
   "source": [
    "dropout(X, 1.0)"
   ]
  },
  {
   "cell_type": "markdown",
   "id": "284c6c37-6a55-4f20-b8aa-a390f8e571fd",
   "metadata": {},
   "source": [
    "#### 1. 定义模型参数"
   ]
  },
  {
   "cell_type": "code",
   "execution_count": 23,
   "id": "7abfec6e-30eb-4541-9779-2a85bf492c66",
   "metadata": {},
   "outputs": [],
   "source": [
    "num_inputs, num_outputs, num_hiddens1, num_hiddens2 = 784, 10, 256, 256"
   ]
  },
  {
   "cell_type": "code",
   "execution_count": 24,
   "id": "f22ace06-52b7-4602-a840-5e4331aea4c5",
   "metadata": {},
   "outputs": [],
   "source": [
    "W1 = tf.Variable(tf.random.normal(stddev=0.01, shape=(num_inputs, num_hiddens1)))\n",
    "b1 = tf.Variable(tf.zeros(num_hiddens1))\n",
    "W2 = tf.Variable(tf.random.normal(stddev=0.1, shape=(num_hiddens1, num_hiddens2)))\n",
    "b2 = tf.Variable(tf.zeros(num_hiddens2))\n",
    "W3 = tf.Variable(tf.random.truncated_normal(stddev=0.01, shape=(num_hiddens2, num_outputs)))\n",
    "b3 = tf.Variable(tf.zeros(num_outputs))"
   ]
  },
  {
   "cell_type": "code",
   "execution_count": 25,
   "id": "479945f2-15d4-4241-8243-b971b3ac6c35",
   "metadata": {},
   "outputs": [],
   "source": [
    "params = [W1, b1, W2, b2, W3, b3]"
   ]
  },
  {
   "cell_type": "markdown",
   "id": "5d0a962e-4b44-4e53-a7a2-748f6c71da53",
   "metadata": {},
   "source": [
    "#### 2. 定义模型"
   ]
  },
  {
   "cell_type": "code",
   "execution_count": 26,
   "id": "837354cc-3742-4fc2-8614-2d5c4d6e22d7",
   "metadata": {},
   "outputs": [],
   "source": [
    "drop_prob1, drop_prob2 = 0.2, 0.5"
   ]
  },
  {
   "cell_type": "code",
   "execution_count": 27,
   "id": "b536e175-bddb-44c7-bfc3-b21c16b360c2",
   "metadata": {},
   "outputs": [],
   "source": [
    "def net(X, is_training=False):\n",
    "    X = tf.reshape(X, shape=(-1,num_inputs))\n",
    "    H1 = tf.nn.relu(tf.matmul(X, W1) + b1)\n",
    "    if is_training:# 只在训练模型时使用丢弃法\n",
    "      H1 = dropout(H1, drop_prob1)  # 在第一层全连接后添加丢弃层\n",
    "    H2 = nn.relu(tf.matmul(H1, W2) + b2)\n",
    "    if is_training:\n",
    "      H2 = dropout(H2, drop_prob2)  # 在第二层全连接后添加丢弃层\n",
    "    return tf.math.softmax(tf.matmul(H2, W3) + b3)"
   ]
  },
  {
   "cell_type": "markdown",
   "id": "de84517e-a135-4b0b-a8d4-333b1b5f5eda",
   "metadata": {},
   "source": [
    "#### 3. 训练和测试模型"
   ]
  },
  {
   "cell_type": "code",
   "execution_count": 28,
   "id": "d74a2298-4839-44b5-b34b-bc84ff3a6fc2",
   "metadata": {},
   "outputs": [],
   "source": [
    "from tensorflow.keras.datasets import fashion_mnist"
   ]
  },
  {
   "cell_type": "code",
   "execution_count": 29,
   "id": "484358b2-28ee-45d4-a9ab-a61e7abe50dc",
   "metadata": {},
   "outputs": [],
   "source": [
    "def evaluate_accuracy(data_iter, net):\n",
    "    acc_sum, n = 0.0, 0\n",
    "    for _, (X, y) in enumerate(data_iter):\n",
    "        y = tf.cast(y,dtype=tf.int64)\n",
    "        acc_sum += np.sum(tf.cast(tf.argmax(net(X), axis=1), dtype=tf.int64) == y)\n",
    "        n += y.shape[0]\n",
    "    return acc_sum / n"
   ]
  },
  {
   "cell_type": "code",
   "execution_count": 30,
   "id": "2f1c4205-193e-4789-bbd5-a24cfb9e0d50",
   "metadata": {},
   "outputs": [],
   "source": [
    "def train_ch3(net, train_iter, test_iter, loss, num_epochs, batch_size,\n",
    "              params=None, lr=None, trainer=None):\n",
    "    global sample_grads\n",
    "    for epoch in range(num_epochs):\n",
    "        train_l_sum, train_acc_sum, n = 0.0, 0.0, 0\n",
    "        for X, y in train_iter:\n",
    "            with tf.GradientTape() as tape:\n",
    "                y_hat = net(X, is_training=True)\n",
    "                l = loss(y_hat, tf.one_hot(y, depth=10, axis=-1, dtype=tf.float32))\n",
    "\n",
    "            grads = tape.gradient(l, params)\n",
    "            if trainer is None:\n",
    "\n",
    "                sample_grads = grads\n",
    "                params[0].assign_sub(grads[0] * lr)\n",
    "                params[1].assign_sub(grads[1] * lr)\n",
    "            else:\n",
    "                trainer.apply_gradients(zip(grads, params))  # “softmax回归的简洁实现”一节将用到\n",
    "\n",
    "            y = tf.cast(y, dtype=tf.float32)\n",
    "            train_l_sum += l.numpy()\n",
    "            train_acc_sum += tf.reduce_sum(tf.cast(tf.argmax(y_hat, axis=1) == tf.cast(y, dtype=tf.int64), dtype=tf.int64)).numpy()\n",
    "            n += y.shape[0]\n",
    "        test_acc = evaluate_accuracy(test_iter, net)\n",
    "        print('epoch %d, loss %.4f, train acc %.3f, test acc %.3f'\n",
    "              % (epoch + 1, train_l_sum / n, train_acc_sum / n, test_acc))"
   ]
  },
  {
   "cell_type": "code",
   "execution_count": 31,
   "id": "b21cae31-6e6f-4dee-aff8-f0ca6db44f7b",
   "metadata": {},
   "outputs": [
    {
     "name": "stdout",
     "output_type": "stream",
     "text": [
      "epoch 1, loss 0.0375, train acc 0.512, test acc 0.661\n",
      "epoch 2, loss 0.0262, train acc 0.657, test acc 0.704\n",
      "epoch 3, loss 0.0231, train acc 0.699, test acc 0.736\n",
      "epoch 4, loss 0.0214, train acc 0.720, test acc 0.749\n",
      "epoch 5, loss 0.0203, train acc 0.730, test acc 0.755\n"
     ]
    }
   ],
   "source": [
    "loss = tf.losses.CategoricalCrossentropy()\n",
    "num_epochs, lr, batch_size = 5, 0.5, 256\n",
    "(x_train, y_train), (x_test, y_test) = fashion_mnist.load_data()\n",
    "x_train = tf.cast(x_train, tf.float32) / 255 #在进行矩阵相乘时需要float型，故强制类型转换为float型\n",
    "x_test = tf.cast(x_test,tf.float32) / 255 #在进行矩阵相乘时需要float型，故强制类型转换为float型\n",
    "train_iter = tf.data.Dataset.from_tensor_slices((x_train, y_train)).batch(batch_size)\n",
    "test_iter = tf.data.Dataset.from_tensor_slices((x_test, y_test)).batch(batch_size)\n",
    "train_ch3(net, train_iter, test_iter, loss, num_epochs, batch_size,\n",
    "              params, lr)"
   ]
  }
 ],
 "metadata": {
  "kernelspec": {
   "display_name": "Python 3 (ipykernel)",
   "language": "python",
   "name": "python3"
  },
  "language_info": {
   "codemirror_mode": {
    "name": "ipython",
    "version": 3
   },
   "file_extension": ".py",
   "mimetype": "text/x-python",
   "name": "python",
   "nbconvert_exporter": "python",
   "pygments_lexer": "ipython3",
   "version": "3.11.3"
  }
 },
 "nbformat": 4,
 "nbformat_minor": 5
}
