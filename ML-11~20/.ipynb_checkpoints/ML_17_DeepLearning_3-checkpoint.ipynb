{
 "cells": [
  {
   "cell_type": "markdown",
   "id": "0d44192e-6235-493a-94a6-76572e12cec7",
   "metadata": {},
   "source": [
    "#### 线性回归的简洁实现"
   ]
  },
  {
   "cell_type": "markdown",
   "id": "30309335-a8f9-41ff-8605-e1d22fb38080",
   "metadata": {},
   "source": [
    "#### 1. 生成数据集"
   ]
  },
  {
   "cell_type": "code",
   "execution_count": null,
   "id": "11506ca2-97c6-4bd5-9383-2534a0758417",
   "metadata": {},
   "outputs": [],
   "source": []
  }
 ],
 "metadata": {
  "kernelspec": {
   "display_name": "Python 3 (ipykernel)",
   "language": "python",
   "name": "python3"
  },
  "language_info": {
   "codemirror_mode": {
    "name": "ipython",
    "version": 3
   },
   "file_extension": ".py",
   "mimetype": "text/x-python",
   "name": "python",
   "nbconvert_exporter": "python",
   "pygments_lexer": "ipython3",
   "version": "3.11.3"
  }
 },
 "nbformat": 4,
 "nbformat_minor": 5
}
