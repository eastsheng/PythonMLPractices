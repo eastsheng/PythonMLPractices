{
 "cells": [
  {
   "cell_type": "markdown",
   "id": "c9a4eee5-066a-4af6-a9f1-bbb22276f7c3",
   "metadata": {},
   "source": [
    "## 动手学深度学习\n",
    "1. 线性回归\n",
    "> - 单层的神经网络\n",
    "2. Softwax回归\n",
    "> - 其实是多类分类问题\n",
    "3. 多层感知机\n",
    "> - 二分类问题;\n",
    "> - 感知机不能拟合XOR问题（minsky & Papert, 1969）\n",
    "4. 模型选择，超参数\n",
    "> - 验证数据集\n",
    "> - 测试数据集\n",
    "> - K-折交叉验证\n",
    "> - 权重衰退\n",
    "> - 丢弃法：将一些输出项随机置零来控制模型复杂度"
   ]
  },
  {
   "cell_type": "code",
   "execution_count": 2,
   "id": "7809ef86-2061-4f23-8e50-7d12cd7a7955",
   "metadata": {},
   "outputs": [],
   "source": [
    "# tensorflow 入门\n",
    "# !pip install tensorflow -i https://mirrors.ustc.edu.cn/pypi/web/simple\n",
    "# !pip list\n",
    "# !python --version\n",
    "import tensorflow as tf"
   ]
  },
  {
   "cell_type": "code",
   "execution_count": 5,
   "id": "bae052a7-62f9-439a-817f-3d4d58f44a19",
   "metadata": {},
   "outputs": [
    {
     "data": {
      "text/plain": [
       "<tf.Tensor: shape=(12,), dtype=int32, numpy=array([ 0,  1,  2,  3,  4,  5,  6,  7,  8,  9, 10, 11])>"
      ]
     },
     "execution_count": 5,
     "metadata": {},
     "output_type": "execute_result"
    }
   ],
   "source": [
    "x = tf.range(12)\n",
    "x"
   ]
  },
  {
   "cell_type": "code",
   "execution_count": 6,
   "id": "506dddb2-234f-4699-a00a-326729b818c9",
   "metadata": {},
   "outputs": [
    {
     "data": {
      "text/plain": [
       "TensorShape([12])"
      ]
     },
     "execution_count": 6,
     "metadata": {},
     "output_type": "execute_result"
    }
   ],
   "source": [
    "x.shape"
   ]
  },
  {
   "cell_type": "code",
   "execution_count": 7,
   "id": "4ef2b8ae-115d-4c44-96c0-4501e5fb4673",
   "metadata": {},
   "outputs": [
    {
     "data": {
      "text/plain": [
       "<tf.Tensor: shape=(), dtype=int32, numpy=12>"
      ]
     },
     "execution_count": 7,
     "metadata": {},
     "output_type": "execute_result"
    }
   ],
   "source": [
    "tf.size(x)"
   ]
  },
  {
   "cell_type": "code",
   "execution_count": 9,
   "id": "2aa9104e-0994-419c-a599-3a641dc1c4aa",
   "metadata": {},
   "outputs": [
    {
     "data": {
      "text/plain": [
       "<tf.Tensor: shape=(3, 4), dtype=int32, numpy=\n",
       "array([[ 0,  1,  2,  3],\n",
       "       [ 4,  5,  6,  7],\n",
       "       [ 8,  9, 10, 11]])>"
      ]
     },
     "execution_count": 9,
     "metadata": {},
     "output_type": "execute_result"
    }
   ],
   "source": [
    "X = tf.reshape(x,(3,4))\n",
    "X"
   ]
  },
  {
   "cell_type": "code",
   "execution_count": 15,
   "id": "3a887892-aa8d-454e-9239-c6089794811f",
   "metadata": {},
   "outputs": [
    {
     "data": {
      "text/plain": [
       "<tf.Tensor: shape=(3, 4, 5), dtype=float32, numpy=\n",
       "array([[[0., 0., 0., 0., 0.],\n",
       "        [0., 0., 0., 0., 0.],\n",
       "        [0., 0., 0., 0., 0.],\n",
       "        [0., 0., 0., 0., 0.]],\n",
       "\n",
       "       [[0., 0., 0., 0., 0.],\n",
       "        [0., 0., 0., 0., 0.],\n",
       "        [0., 0., 0., 0., 0.],\n",
       "        [0., 0., 0., 0., 0.]],\n",
       "\n",
       "       [[0., 0., 0., 0., 0.],\n",
       "        [0., 0., 0., 0., 0.],\n",
       "        [0., 0., 0., 0., 0.],\n",
       "        [0., 0., 0., 0., 0.]]], dtype=float32)>"
      ]
     },
     "execution_count": 15,
     "metadata": {},
     "output_type": "execute_result"
    }
   ],
   "source": [
    "tf.zeros((3,4,5))"
   ]
  },
  {
   "cell_type": "code",
   "execution_count": 16,
   "id": "5b746d70-b6e1-4745-9b32-4bf48df5376b",
   "metadata": {},
   "outputs": [
    {
     "data": {
      "text/plain": [
       "<tf.Tensor: shape=(3, 4, 5), dtype=float32, numpy=\n",
       "array([[[1., 1., 1., 1., 1.],\n",
       "        [1., 1., 1., 1., 1.],\n",
       "        [1., 1., 1., 1., 1.],\n",
       "        [1., 1., 1., 1., 1.]],\n",
       "\n",
       "       [[1., 1., 1., 1., 1.],\n",
       "        [1., 1., 1., 1., 1.],\n",
       "        [1., 1., 1., 1., 1.],\n",
       "        [1., 1., 1., 1., 1.]],\n",
       "\n",
       "       [[1., 1., 1., 1., 1.],\n",
       "        [1., 1., 1., 1., 1.],\n",
       "        [1., 1., 1., 1., 1.],\n",
       "        [1., 1., 1., 1., 1.]]], dtype=float32)>"
      ]
     },
     "execution_count": 16,
     "metadata": {},
     "output_type": "execute_result"
    }
   ],
   "source": [
    "tf.ones((3,4,5))"
   ]
  },
  {
   "cell_type": "code",
   "execution_count": 18,
   "id": "1745ade0-f13b-403a-9a4a-998b169fe993",
   "metadata": {},
   "outputs": [
    {
     "data": {
      "text/plain": [
       "<tf.Tensor: shape=(3, 4), dtype=float32, numpy=\n",
       "array([[ 0.01442144,  0.00174176, -0.4517579 ,  0.40295008],\n",
       "       [-0.6503098 , -0.40562704, -1.2595335 , -0.5620237 ],\n",
       "       [-0.3837005 ,  0.23678747, -0.47057766,  0.53497946]],\n",
       "      dtype=float32)>"
      ]
     },
     "execution_count": 18,
     "metadata": {},
     "output_type": "execute_result"
    }
   ],
   "source": [
    "tf.random.normal(shape=[3,4])"
   ]
  },
  {
   "cell_type": "code",
   "execution_count": 22,
   "id": "99c573c2-868a-4c3f-9229-7876545de22c",
   "metadata": {},
   "outputs": [
    {
     "data": {
      "text/plain": [
       "<tf.Tensor: shape=(2, 2), dtype=int32, numpy=\n",
       "array([[3, 4],\n",
       "       [3, 4]])>"
      ]
     },
     "execution_count": 22,
     "metadata": {},
     "output_type": "execute_result"
    }
   ],
   "source": [
    "tf.constant([[3,4],[3,4]])"
   ]
  },
  {
   "cell_type": "code",
   "execution_count": 26,
   "id": "6408926b-dca0-457f-9c60-5af714960ac0",
   "metadata": {},
   "outputs": [
    {
     "data": {
      "text/plain": [
       "(<tf.Tensor: shape=(6, 4), dtype=int32, numpy=\n",
       " array([[ 0,  1,  2,  3],\n",
       "        [ 4,  5,  6,  7],\n",
       "        [ 8,  9, 10, 11],\n",
       "        [ 0,  1,  2,  3],\n",
       "        [ 4,  5,  6,  7],\n",
       "        [ 8,  9, 10, 11]])>,\n",
       " <tf.Tensor: shape=(3, 8), dtype=int32, numpy=\n",
       " array([[ 0,  1,  2,  3,  0,  1,  2,  3],\n",
       "        [ 4,  5,  6,  7,  4,  5,  6,  7],\n",
       "        [ 8,  9, 10, 11,  8,  9, 10, 11]])>)"
      ]
     },
     "execution_count": 26,
     "metadata": {},
     "output_type": "execute_result"
    }
   ],
   "source": [
    "tf.concat([X,X],axis=0),tf.concat([X,X],axis=1)"
   ]
  },
  {
   "cell_type": "code",
   "execution_count": 29,
   "id": "eda295a6-be15-48df-8d01-45b2626afbc8",
   "metadata": {},
   "outputs": [
    {
     "data": {
      "text/plain": [
       "(<tf.Tensor: shape=(3, 1), dtype=int32, numpy=\n",
       " array([[0],\n",
       "        [1],\n",
       "        [2]])>,\n",
       " <tf.Tensor: shape=(1, 2), dtype=int32, numpy=array([[0, 1]])>)"
      ]
     },
     "execution_count": 29,
     "metadata": {},
     "output_type": "execute_result"
    }
   ],
   "source": [
    "# 不同长度矩阵相加：广播机制\n",
    "a = tf.reshape(tf.range(3), (3, 1))\n",
    "b = tf.reshape(tf.range(2), (1, 2))\n",
    "a, b"
   ]
  },
  {
   "cell_type": "code",
   "execution_count": 30,
   "id": "f21d09bb-f69f-4593-92ff-7cbbe454f146",
   "metadata": {},
   "outputs": [
    {
     "data": {
      "text/plain": [
       "<tf.Tensor: shape=(3, 2), dtype=int32, numpy=\n",
       "array([[0, 1],\n",
       "       [1, 2],\n",
       "       [2, 3]])>"
      ]
     },
     "execution_count": 30,
     "metadata": {},
     "output_type": "execute_result"
    }
   ],
   "source": [
    "a+b"
   ]
  },
  {
   "cell_type": "code",
   "execution_count": 32,
   "id": "0864991a-f946-4df4-8f56-156785330a44",
   "metadata": {},
   "outputs": [
    {
     "data": {
      "text/plain": [
       "<tf.Variable 'Variable:0' shape=(3, 4) dtype=int32, numpy=\n",
       "array([[ 0,  1,  2,  3],\n",
       "       [ 4,  5,  9,  7],\n",
       "       [ 8,  9, 10, 11]])>"
      ]
     },
     "execution_count": 32,
     "metadata": {},
     "output_type": "execute_result"
    }
   ],
   "source": [
    "# 赋值\n",
    "X_var = tf.Variable(X)\n",
    "X_var[1, 2].assign(9)\n",
    "X_var"
   ]
  },
  {
   "cell_type": "code",
   "execution_count": 35,
   "id": "9c6c3e49-2afc-41cb-8f7d-694c07accdc2",
   "metadata": {},
   "outputs": [
    {
     "data": {
      "text/plain": [
       "False"
      ]
     },
     "execution_count": 35,
     "metadata": {},
     "output_type": "execute_result"
    }
   ],
   "source": [
    "# 节省内存\n",
    "before = id(X)\n",
    "X = 1 + X\n",
    "id(X) == before"
   ]
  },
  {
   "cell_type": "code",
   "execution_count": 38,
   "id": "5c2ffd0b-72d1-4757-a87d-660a04a1b0ce",
   "metadata": {},
   "outputs": [
    {
     "name": "stdout",
     "output_type": "stream",
     "text": [
      "id(Z): 1496755993552\n",
      "id(Z): 1496755993552\n"
     ]
    }
   ],
   "source": [
    "Z = tf.Variable(tf.zeros_like(X))\n",
    "print('id(Z):', id(Z))\n",
    "Z.assign(X + 1)\n",
    "print('id(Z):', id(Z))"
   ]
  },
  {
   "cell_type": "code",
   "execution_count": 39,
   "id": "0f72fbeb-0c1a-47f7-b626-ae1526549083",
   "metadata": {},
   "outputs": [
    {
     "data": {
      "text/plain": [
       "(numpy.ndarray, tensorflow.python.framework.ops.EagerTensor)"
      ]
     },
     "execution_count": 39,
     "metadata": {},
     "output_type": "execute_result"
    }
   ],
   "source": [
    "# 将深度学习框架定义的张量转换为NumPy张量（ndarray）\n",
    "A = X.numpy()\n",
    "B = tf.constant(A)\n",
    "type(A), type(B)"
   ]
  },
  {
   "cell_type": "code",
   "execution_count": 43,
   "id": "f59dcb25-ee19-442a-be83-5c24cce0a820",
   "metadata": {},
   "outputs": [
    {
     "data": {
      "text/plain": [
       "'..\\\\data\\\\house_tiny.csv'"
      ]
     },
     "execution_count": 43,
     "metadata": {},
     "output_type": "execute_result"
    }
   ],
   "source": [
    "# 数据预处理\n",
    "import os\n",
    "\n",
    "os.makedirs(os.path.join('..', 'data'), exist_ok=True)\n",
    "data_file = os.path.join('..', 'data', 'house_tiny.csv')\n",
    "with open(data_file, 'w') as f:\n",
    "    f.write('NumRooms,Alley,Price\\n')  # 列名\n",
    "    f.write('NA,Pave,127500\\n')  # 每行表示一个数据样本\n",
    "    f.write('2,NA,106000\\n')\n",
    "    f.write('4,NA,178100\\n')\n",
    "    f.write('NA,NA,140000\\n')\n",
    "\n",
    "data_file"
   ]
  },
  {
   "cell_type": "code",
   "execution_count": 45,
   "id": "6b1838e1-0abb-4a69-a8f7-58bd3d7456e6",
   "metadata": {},
   "outputs": [
    {
     "name": "stdout",
     "output_type": "stream",
     "text": [
      "house_tiny.csv\n"
     ]
    }
   ],
   "source": [
    "!ls ../data"
   ]
  },
  {
   "cell_type": "code",
   "execution_count": 46,
   "id": "6ba93d77-a07a-4453-aa0b-4557f6c5b2dc",
   "metadata": {},
   "outputs": [
    {
     "data": {
      "text/html": [
       "<div>\n",
       "<style scoped>\n",
       "    .dataframe tbody tr th:only-of-type {\n",
       "        vertical-align: middle;\n",
       "    }\n",
       "\n",
       "    .dataframe tbody tr th {\n",
       "        vertical-align: top;\n",
       "    }\n",
       "\n",
       "    .dataframe thead th {\n",
       "        text-align: right;\n",
       "    }\n",
       "</style>\n",
       "<table border=\"1\" class=\"dataframe\">\n",
       "  <thead>\n",
       "    <tr style=\"text-align: right;\">\n",
       "      <th></th>\n",
       "      <th>NumRooms</th>\n",
       "      <th>Alley</th>\n",
       "      <th>Price</th>\n",
       "    </tr>\n",
       "  </thead>\n",
       "  <tbody>\n",
       "    <tr>\n",
       "      <th>0</th>\n",
       "      <td>NaN</td>\n",
       "      <td>Pave</td>\n",
       "      <td>127500</td>\n",
       "    </tr>\n",
       "    <tr>\n",
       "      <th>1</th>\n",
       "      <td>2.0</td>\n",
       "      <td>NaN</td>\n",
       "      <td>106000</td>\n",
       "    </tr>\n",
       "    <tr>\n",
       "      <th>2</th>\n",
       "      <td>4.0</td>\n",
       "      <td>NaN</td>\n",
       "      <td>178100</td>\n",
       "    </tr>\n",
       "    <tr>\n",
       "      <th>3</th>\n",
       "      <td>NaN</td>\n",
       "      <td>NaN</td>\n",
       "      <td>140000</td>\n",
       "    </tr>\n",
       "  </tbody>\n",
       "</table>\n",
       "</div>"
      ],
      "text/plain": [
       "   NumRooms Alley   Price\n",
       "0       NaN  Pave  127500\n",
       "1       2.0   NaN  106000\n",
       "2       4.0   NaN  178100\n",
       "3       NaN   NaN  140000"
      ]
     },
     "execution_count": 46,
     "metadata": {},
     "output_type": "execute_result"
    }
   ],
   "source": [
    "import pandas as pd\n",
    "data = pd.read_csv(data_file)\n",
    "data"
   ]
  },
  {
   "cell_type": "code",
   "execution_count": 50,
   "id": "e5ff7def-d9ed-4b43-b478-06521900fa47",
   "metadata": {},
   "outputs": [
    {
     "name": "stderr",
     "output_type": "stream",
     "text": [
      "C:\\Users\\CUP\\AppData\\Local\\Temp\\ipykernel_7628\\3930468322.py:3: FutureWarning: The default value of numeric_only in DataFrame.mean is deprecated. In a future version, it will default to False. In addition, specifying 'numeric_only=None' is deprecated. Select only valid columns or specify the value of numeric_only to silence this warning.\n",
      "  inputs = inputs.fillna(inputs.mean())\n"
     ]
    },
    {
     "data": {
      "text/html": [
       "<div>\n",
       "<style scoped>\n",
       "    .dataframe tbody tr th:only-of-type {\n",
       "        vertical-align: middle;\n",
       "    }\n",
       "\n",
       "    .dataframe tbody tr th {\n",
       "        vertical-align: top;\n",
       "    }\n",
       "\n",
       "    .dataframe thead th {\n",
       "        text-align: right;\n",
       "    }\n",
       "</style>\n",
       "<table border=\"1\" class=\"dataframe\">\n",
       "  <thead>\n",
       "    <tr style=\"text-align: right;\">\n",
       "      <th></th>\n",
       "      <th>NumRooms</th>\n",
       "      <th>Alley</th>\n",
       "    </tr>\n",
       "  </thead>\n",
       "  <tbody>\n",
       "    <tr>\n",
       "      <th>0</th>\n",
       "      <td>3.0</td>\n",
       "      <td>Pave</td>\n",
       "    </tr>\n",
       "    <tr>\n",
       "      <th>1</th>\n",
       "      <td>2.0</td>\n",
       "      <td>NaN</td>\n",
       "    </tr>\n",
       "    <tr>\n",
       "      <th>2</th>\n",
       "      <td>4.0</td>\n",
       "      <td>NaN</td>\n",
       "    </tr>\n",
       "    <tr>\n",
       "      <th>3</th>\n",
       "      <td>3.0</td>\n",
       "      <td>NaN</td>\n",
       "    </tr>\n",
       "  </tbody>\n",
       "</table>\n",
       "</div>"
      ],
      "text/plain": [
       "   NumRooms Alley\n",
       "0       3.0  Pave\n",
       "1       2.0   NaN\n",
       "2       4.0   NaN\n",
       "3       3.0   NaN"
      ]
     },
     "execution_count": 50,
     "metadata": {},
     "output_type": "execute_result"
    }
   ],
   "source": [
    "# 缺失值处理：插值法和删除法\n",
    "inputs, outputs = data.iloc[:, 0:2], data.iloc[:, 2]\n",
    "inputs = inputs.fillna(inputs.mean())\n",
    "inputs"
   ]
  },
  {
   "cell_type": "code",
   "execution_count": 51,
   "id": "b2fa5ffb-6ef2-4a5f-a43f-ca2590076fe0",
   "metadata": {},
   "outputs": [
    {
     "data": {
      "text/html": [
       "<div>\n",
       "<style scoped>\n",
       "    .dataframe tbody tr th:only-of-type {\n",
       "        vertical-align: middle;\n",
       "    }\n",
       "\n",
       "    .dataframe tbody tr th {\n",
       "        vertical-align: top;\n",
       "    }\n",
       "\n",
       "    .dataframe thead th {\n",
       "        text-align: right;\n",
       "    }\n",
       "</style>\n",
       "<table border=\"1\" class=\"dataframe\">\n",
       "  <thead>\n",
       "    <tr style=\"text-align: right;\">\n",
       "      <th></th>\n",
       "      <th>NumRooms</th>\n",
       "      <th>Alley_Pave</th>\n",
       "      <th>Alley_nan</th>\n",
       "    </tr>\n",
       "  </thead>\n",
       "  <tbody>\n",
       "    <tr>\n",
       "      <th>0</th>\n",
       "      <td>3.0</td>\n",
       "      <td>1</td>\n",
       "      <td>0</td>\n",
       "    </tr>\n",
       "    <tr>\n",
       "      <th>1</th>\n",
       "      <td>2.0</td>\n",
       "      <td>0</td>\n",
       "      <td>1</td>\n",
       "    </tr>\n",
       "    <tr>\n",
       "      <th>2</th>\n",
       "      <td>4.0</td>\n",
       "      <td>0</td>\n",
       "      <td>1</td>\n",
       "    </tr>\n",
       "    <tr>\n",
       "      <th>3</th>\n",
       "      <td>3.0</td>\n",
       "      <td>0</td>\n",
       "      <td>1</td>\n",
       "    </tr>\n",
       "  </tbody>\n",
       "</table>\n",
       "</div>"
      ],
      "text/plain": [
       "   NumRooms  Alley_Pave  Alley_nan\n",
       "0       3.0           1          0\n",
       "1       2.0           0          1\n",
       "2       4.0           0          1\n",
       "3       3.0           0          1"
      ]
     },
     "execution_count": 51,
     "metadata": {},
     "output_type": "execute_result"
    }
   ],
   "source": [
    "inputs = pd.get_dummies(inputs, dummy_na=True)\n",
    "inputs"
   ]
  },
  {
   "cell_type": "code",
   "execution_count": 53,
   "id": "7b14fb6c-5d0b-4611-8664-361fdd25821f",
   "metadata": {},
   "outputs": [
    {
     "data": {
      "text/plain": [
       "(<tf.Tensor: shape=(4, 3), dtype=float64, numpy=\n",
       " array([[3., 1., 0.],\n",
       "        [2., 0., 1.],\n",
       "        [4., 0., 1.],\n",
       "        [3., 0., 1.]])>,\n",
       " <tf.Tensor: shape=(4,), dtype=int64, numpy=array([127500, 106000, 178100, 140000], dtype=int64)>)"
      ]
     },
     "execution_count": 53,
     "metadata": {},
     "output_type": "execute_result"
    }
   ],
   "source": [
    "X, y = tf.constant(inputs.values), tf.constant(outputs.values)\n",
    "X, y"
   ]
  },
  {
   "cell_type": "code",
   "execution_count": 54,
   "id": "e0cb7bb1-487f-49a8-a17f-06f04f45243f",
   "metadata": {},
   "outputs": [
    {
     "data": {
      "text/plain": [
       "<tf.Tensor: shape=(5, 4), dtype=int32, numpy=\n",
       "array([[ 0,  1,  2,  3],\n",
       "       [ 4,  5,  6,  7],\n",
       "       [ 8,  9, 10, 11],\n",
       "       [12, 13, 14, 15],\n",
       "       [16, 17, 18, 19]])>"
      ]
     },
     "execution_count": 54,
     "metadata": {},
     "output_type": "execute_result"
    }
   ],
   "source": [
    "# 线性代数\n",
    "A = tf.reshape(tf.range(20), (5, 4))\n",
    "A"
   ]
  },
  {
   "cell_type": "code",
   "execution_count": 55,
   "id": "a408f427-34da-4b8b-828f-5121bf44abec",
   "metadata": {},
   "outputs": [
    {
     "data": {
      "text/plain": [
       "<tf.Tensor: shape=(4, 5), dtype=int32, numpy=\n",
       "array([[ 0,  4,  8, 12, 16],\n",
       "       [ 1,  5,  9, 13, 17],\n",
       "       [ 2,  6, 10, 14, 18],\n",
       "       [ 3,  7, 11, 15, 19]])>"
      ]
     },
     "execution_count": 55,
     "metadata": {},
     "output_type": "execute_result"
    }
   ],
   "source": [
    "# 转置\n",
    "tf.transpose(A)"
   ]
  },
  {
   "cell_type": "code",
   "execution_count": 57,
   "id": "96e1888a-b5d1-4427-8961-fb3153166e69",
   "metadata": {},
   "outputs": [
    {
     "data": {
      "text/plain": [
       "<tf.Tensor: shape=(3, 3), dtype=int32, numpy=\n",
       "array([[1, 2, 3],\n",
       "       [2, 0, 4],\n",
       "       [3, 4, 5]])>"
      ]
     },
     "execution_count": 57,
     "metadata": {},
     "output_type": "execute_result"
    }
   ],
   "source": [
    "# 对称矩阵\n",
    "B = tf.constant([[1, 2, 3], [2, 0, 4], [3, 4, 5]])\n",
    "B"
   ]
  },
  {
   "cell_type": "code",
   "execution_count": 58,
   "id": "baceef79-790e-4121-8f94-74c8ee8c71f0",
   "metadata": {},
   "outputs": [
    {
     "data": {
      "text/plain": [
       "<tf.Tensor: shape=(3, 3), dtype=bool, numpy=\n",
       "array([[ True,  True,  True],\n",
       "       [ True,  True,  True],\n",
       "       [ True,  True,  True]])>"
      ]
     },
     "execution_count": 58,
     "metadata": {},
     "output_type": "execute_result"
    }
   ],
   "source": [
    "# 对称矩阵与其转置相同\n",
    "B == tf.transpose(B)"
   ]
  },
  {
   "cell_type": "code",
   "execution_count": 59,
   "id": "7bfaf53b-66c0-442c-bd0a-b7ca9f497277",
   "metadata": {},
   "outputs": [
    {
     "data": {
      "text/plain": [
       "<tf.Tensor: shape=(2, 3, 4), dtype=int32, numpy=\n",
       "array([[[ 0,  1,  2,  3],\n",
       "        [ 4,  5,  6,  7],\n",
       "        [ 8,  9, 10, 11]],\n",
       "\n",
       "       [[12, 13, 14, 15],\n",
       "        [16, 17, 18, 19],\n",
       "        [20, 21, 22, 23]]])>"
      ]
     },
     "execution_count": 59,
     "metadata": {},
     "output_type": "execute_result"
    }
   ],
   "source": [
    "X = tf.reshape(tf.range(24), (2, 3, 4))\n",
    "X"
   ]
  },
  {
   "cell_type": "code",
   "execution_count": 2,
   "id": "d08ebc49-90eb-456e-9dfd-0539302974e1",
   "metadata": {},
   "outputs": [
    {
     "data": {
      "text/plain": [
       "<tf.Tensor: shape=(4,), dtype=float32, numpy=array([0., 1., 2., 3.], dtype=float32)>"
      ]
     },
     "execution_count": 2,
     "metadata": {},
     "output_type": "execute_result"
    }
   ],
   "source": [
    "# 自动微分\n",
    "x = tf.range(4, dtype=tf.float32)\n",
    "x"
   ]
  },
  {
   "cell_type": "code",
   "execution_count": 4,
   "id": "74c0d42a-4c9d-4324-9d4d-fa4e1cccce5d",
   "metadata": {},
   "outputs": [],
   "source": [
    "x = tf.Variable(x) # 管理内存"
   ]
  },
  {
   "cell_type": "code",
   "execution_count": 5,
   "id": "ac91f1a8-1589-4d74-ab7e-fa75095e40f2",
   "metadata": {},
   "outputs": [
    {
     "data": {
      "text/plain": [
       "<tf.Tensor: shape=(), dtype=float32, numpy=28.0>"
      ]
     },
     "execution_count": 5,
     "metadata": {},
     "output_type": "execute_result"
    }
   ],
   "source": [
    "# 把所有计算记录在磁带上\n",
    "with tf.GradientTape() as t:\n",
    "    y = 2 * tf.tensordot(x, x, axes=1)\n",
    "y"
   ]
  },
  {
   "cell_type": "code",
   "execution_count": 6,
   "id": "3b053abb-5af8-4970-8bad-4808931607bd",
   "metadata": {},
   "outputs": [
    {
     "data": {
      "text/plain": [
       "<tf.Tensor: shape=(4,), dtype=float32, numpy=array([ 0.,  4.,  8., 12.], dtype=float32)>"
      ]
     },
     "execution_count": 6,
     "metadata": {},
     "output_type": "execute_result"
    }
   ],
   "source": [
    "x_grad = t.gradient(y, x)\n",
    "x_grad"
   ]
  },
  {
   "cell_type": "code",
   "execution_count": 7,
   "id": "bba71fe6-a0d3-4ff6-99d4-c81bc4b4520b",
   "metadata": {},
   "outputs": [
    {
     "data": {
      "text/plain": [
       "<tf.Tensor: shape=(4,), dtype=bool, numpy=array([ True,  True,  True,  True])>"
      ]
     },
     "execution_count": 7,
     "metadata": {},
     "output_type": "execute_result"
    }
   ],
   "source": [
    "x_grad == 4 * x"
   ]
  },
  {
   "cell_type": "code",
   "execution_count": 8,
   "id": "2ab89cd2-1b63-444f-a972-eb9ed06d16ec",
   "metadata": {},
   "outputs": [
    {
     "data": {
      "text/plain": [
       "<tf.Tensor: shape=(4,), dtype=float32, numpy=array([1., 1., 1., 1.], dtype=float32)>"
      ]
     },
     "execution_count": 8,
     "metadata": {},
     "output_type": "execute_result"
    }
   ],
   "source": [
    "with tf.GradientTape() as t:\n",
    "    y = tf.reduce_sum(x)\n",
    "t.gradient(y, x)  # 被新计算的梯度覆盖"
   ]
  },
  {
   "cell_type": "code",
   "execution_count": 9,
   "id": "2648daa8-fabe-42d9-9220-60649a819446",
   "metadata": {},
   "outputs": [
    {
     "name": "stdout",
     "output_type": "stream",
     "text": [
      "['Algorithm', 'Generator', '__builtins__', '__cached__', '__doc__', '__file__', '__loader__', '__name__', '__package__', '__path__', '__spec__', '_sys', 'all_candidate_sampler', 'categorical', 'create_rng_state', 'experimental', 'fixed_unigram_candidate_sampler', 'fold_in', 'gamma', 'get_global_generator', 'learned_unigram_candidate_sampler', 'log_uniform_candidate_sampler', 'normal', 'poisson', 'set_global_generator', 'set_seed', 'shuffle', 'split', 'stateless_binomial', 'stateless_categorical', 'stateless_gamma', 'stateless_normal', 'stateless_parameterized_truncated_normal', 'stateless_poisson', 'stateless_truncated_normal', 'stateless_uniform', 'truncated_normal', 'uniform', 'uniform_candidate_sampler']\n"
     ]
    }
   ],
   "source": [
    "print(dir(tf.random))"
   ]
  },
  {
   "cell_type": "code",
   "execution_count": 2,
   "id": "131438aa-50df-43e0-b1f4-90c0627c70f7",
   "metadata": {},
   "outputs": [
    {
     "name": "stdout",
     "output_type": "stream",
     "text": [
      "Python 3.11.3\n",
      "Package                      Version\n",
      "---------------------------- -----------------------\n",
      "absl-py                      1.4.0\n",
      "aiofiles                     23.1.0\n",
      "aiohttp                      3.8.4\n",
      "aiosignal                    1.3.1\n",
      "altair                       4.2.2\n",
      "anyio                        3.6.2\n",
      "appdirs                      1.4.4\n",
      "argon2-cffi                  21.3.0\n",
      "argon2-cffi-bindings         21.2.0\n",
      "arrow                        1.2.3\n",
      "arxiv                        1.4.7\n",
      "ase                          3.22.1\n",
      "asgiref                      3.6.0\n",
      "asttokens                    2.2.1\n",
      "astunparse                   1.6.3\n",
      "async-generator              1.10\n",
      "async-lru                    2.0.2\n",
      "async-timeout                4.0.2\n",
      "attrs                        21.4.0\n",
      "awscli                       1.6.2\n",
      "Babel                        2.12.1\n",
      "backcall                     0.2.0\n",
      "bcdoc                        0.12.2\n",
      "beautifulsoup4               4.12.2\n",
      "biopython                    1.81\n",
      "bleach                       6.0.0\n",
      "boto                         2.33.0\n",
      "botocore                     0.73.0\n",
      "cachetools                   5.3.0\n",
      "certifi                      2022.12.7\n",
      "cffi                         1.15.1\n",
      "charset-normalizer           3.1.0\n",
      "chembl-webresource-client    0.10.8\n",
      "click                        8.1.3\n",
      "cmake                        3.26.3\n",
      "colorama                     0.2.5\n",
      "colorlog                     6.7.0\n",
      "colour                       0.1.5\n",
      "comm                         0.1.3\n",
      "config-file                  0.12.0\n",
      "contourpy                    1.0.7\n",
      "cPython                      0.0.6\n",
      "cryptography                 40.0.2\n",
      "cycler                       0.11.0\n",
      "Cython                       0.29.34\n",
      "debugpy                      1.6.7\n",
      "decorator                    4.0.9\n",
      "defusedxml                   0.7.1\n",
      "distlib                      0.3.6\n",
      "dnspython                    2.3.0\n",
      "docopt                       0.6.2\n",
      "docutils                     0.20.1\n",
      "easydict                     1.10\n",
      "emmet-core                   0.50.0\n",
      "entrypoints                  0.4\n",
      "et-xmlfile                   1.1.0\n",
      "exceptiongroup               1.1.1\n",
      "execnet                      1.9.0\n",
      "executing                    1.2.0\n",
      "fastapi                      0.95.0\n",
      "fasteners                    0.18\n",
      "fastjsonschema               2.16.3\n",
      "feedparser                   6.0.10\n",
      "ffmpy                        0.3.0\n",
      "filelock                     3.12.0\n",
      "flatbuffers                  23.5.26\n",
      "fonttools                    4.39.2\n",
      "fqdn                         1.5.1\n",
      "frozendict                   2.3.8\n",
      "frozenlist                   1.3.3\n",
      "fsspec                       2023.5.0\n",
      "future                       0.18.3\n",
      "gast                         0.4.0\n",
      "genson                       0.1.0\n",
      "glcontext                    2.3.7\n",
      "google-auth                  2.20.0\n",
      "google-auth-oauthlib         1.0.0\n",
      "google-pasta                 0.2.0\n",
      "gradio                       3.25.0\n",
      "gradio_client                0.1.3\n",
      "GridDataFormats              1.0.1\n",
      "grpcio                       1.56.0\n",
      "gsd                          2.8.1\n",
      "guietta                      0.2.3\n",
      "h11                          0.14.0\n",
      "h5py                         3.8.0\n",
      "html5lib                     1.1\n",
      "httpcore                     0.16.3\n",
      "httptools                    0.5.0\n",
      "httpx                        0.23.3\n",
      "huggingface-hub              0.13.4\n",
      "idna                         3.4\n",
      "imageio                      2.31.1\n",
      "importlib-metadata           6.6.0\n",
      "iniconfig                    2.0.0\n",
      "ipykernel                    6.23.1\n",
      "ipython                      8.13.2\n",
      "ipython-genutils             0.2.0\n",
      "ipywidgets                   8.0.6\n",
      "isoduration                  20.11.0\n",
      "isosurfaces                  0.1.0\n",
      "itsdangerous                 2.1.2\n",
      "jaraco.classes               3.2.3\n",
      "jax                          0.4.12\n",
      "jedi                         0.18.2\n",
      "Jinja2                       3.1.2\n",
      "jmespath                     0.5.0\n",
      "joblib                       1.2.0\n",
      "json5                        0.9.11\n",
      "jsonpatch                    1.32\n",
      "jsonpointer                  2.3\n",
      "jsonschema                   4.17.3\n",
      "jupyter_client               8.2.0\n",
      "jupyter_core                 5.3.0\n",
      "jupyter-events               0.6.3\n",
      "jupyter-lsp                  2.1.0\n",
      "jupyter_server               2.5.0\n",
      "jupyter_server_terminals     0.4.4\n",
      "jupyterlab                   4.0.0\n",
      "jupyterlab-pygments          0.2.2\n",
      "jupyterlab_server            2.22.1\n",
      "jupyterlab-widgets           3.0.7\n",
      "keras                        2.12.0\n",
      "keyring                      23.13.1\n",
      "kiwisolver                   1.4.4\n",
      "lab                          7.3\n",
      "latex2mathml                 3.75.2\n",
      "latexcodec                   2.0.1\n",
      "libclang                     16.0.0\n",
      "linkify-it-py                2.0.0\n",
      "llvmlite                     0.40.0\n",
      "lxml                         4.9.2\n",
      "manimgl                      1.6.1\n",
      "ManimPango                   0.4.3\n",
      "mapbox-earcut                1.0.1\n",
      "Markdown                     3.4.3\n",
      "markdown-it-py               2.2.0\n",
      "MarkupSafe                   2.1.2\n",
      "matplotlib                   3.7.1\n",
      "matplotlib-inline            0.1.6\n",
      "MDAnalysis                   2.4.3\n",
      "mdit-py-plugins              0.3.3\n",
      "mdtex2html                   1.2.0\n",
      "mdurl                        0.1.2\n",
      "mistune                      2.0.5\n",
      "ml-dtypes                    0.1.0\n",
      "mmtf-python                  1.1.3\n",
      "moderngl                     5.8.2\n",
      "moderngl-window              2.4.3\n",
      "monty                        2022.9.9\n",
      "more-itertools               9.1.0\n",
      "mp-api                       0.31.2\n",
      "mpmath                       1.3.0\n",
      "mrcfile                      1.4.3\n",
      "msgpack                      1.0.5\n",
      "multidict                    6.0.4\n",
      "multipledispatch             0.6.0\n",
      "multitasking                 0.0.11\n",
      "mypy-extensions              1.0.0\n",
      "nbclassic                    1.0.0\n",
      "nbclient                     0.7.4\n",
      "nbconvert                    7.4.0\n",
      "nbformat                     5.8.0\n",
      "nest-asyncio                 1.5.6\n",
      "networkx                     3.1\n",
      "notebook                     6.5.4\n",
      "notebook_shim                0.2.3\n",
      "numba                        0.57.0\n",
      "numpy                        1.23.5\n",
      "oauthlib                     3.2.2\n",
      "openai                       0.27.4\n",
      "openpyxl                     3.1.2\n",
      "opt-einsum                   3.3.0\n",
      "orjson                       3.8.10\n",
      "outcome                      1.2.0\n",
      "ovito                        3.8.2\n",
      "packaging                    23.0\n",
      "palettable                   3.3.3\n",
      "pandas                       1.5.3\n",
      "pandas-datareader            0+untagged.811.gea66d6b\n",
      "pandocfilters                1.5.0\n",
      "parso                        0.8.3\n",
      "patsy                        0.5.3\n",
      "pdfminer                     20191125\n",
      "periodictable                1.6.1\n",
      "pickleshare                  0.7.5\n",
      "Pillow                       9.4.0\n",
      "pip                          23.1.2\n",
      "pipreqs                      0.4.13\n",
      "pkginfo                      1.9.6\n",
      "platformdirs                 3.2.0\n",
      "plotly                       5.14.1\n",
      "pluggy                       1.0.0\n",
      "pooch                        1.7.0\n",
      "prettytable                  0.7.2\n",
      "PrintLog                     3.0.3\n",
      "prometheus-client            0.16.0\n",
      "prompt-toolkit               3.0.38\n",
      "protobuf                     4.23.3\n",
      "psclient                     2.0\n",
      "psutil                       5.9.5\n",
      "pure-eval                    0.2.2\n",
      "pyasn1                       0.5.0\n",
      "pyasn1-modules               0.3.0\n",
      "pybind11                     2.10.4\n",
      "pybtex                       0.24.0\n",
      "pycparser                    2.21\n",
      "pycryptodome                 3.17\n",
      "pydantic                     1.10.7\n",
      "pydub                        0.25.1\n",
      "pygame                       2.3.0\n",
      "pyglet                       2.0.7\n",
      "Pygments                     2.15.1\n",
      "pymatgen                     2023.3.23\n",
      "pymongo                      4.3.3\n",
      "PyMuPDF                      1.21.1\n",
      "PyOpenGL                     3.1.6\n",
      "pyparsing                    3.0.9\n",
      "PyQt5                        5.15.9\n",
      "PyQt5-Qt5                    5.15.2\n",
      "PyQt5-sip                    12.12.1\n",
      "pyrr                         0.10.3\n",
      "pyrsistent                   0.19.3\n",
      "PySide6-Essentials           6.4.3\n",
      "PySocks                      1.7.1\n",
      "pytest                       7.3.1\n",
      "pytest-mock                  3.10.0\n",
      "pytest-xdist                 3.2.1\n",
      "python-dateutil              2.8.2\n",
      "python-docx                  0.8.11\n",
      "python-dotenv                1.0.0\n",
      "python-json-logger           2.0.7\n",
      "python-markdown-math         0.8\n",
      "python-multipart             0.0.6\n",
      "pytz                         2023.3\n",
      "pywebio                      1.8.2\n",
      "pywin32                      306\n",
      "pywin32-ctypes               0.2.0\n",
      "pywinpty                     2.0.10\n",
      "pyxtal-xrd                   0.0.2\n",
      "PyYAML                       6.0\n",
      "pyzmq                        25.0.2\n",
      "qtconsole                    5.4.3\n",
      "QtPy                         2.3.1\n",
      "rdkit                        2023.3.1\n",
      "reactpy                      1.0.0\n",
      "ReadLammpsTraj               1.1.6\n",
      "readlog                      1.2.0\n",
      "readme-renderer              37.3\n",
      "regex                        2023.3.23\n",
      "requests                     2.30.0\n",
      "requests-cache               0.7.5\n",
      "requests-oauthlib            1.3.1\n",
      "requests-toolbelt            1.0.0\n",
      "rfc3339-validator            0.1.4\n",
      "rfc3986                      1.5.0\n",
      "rfc3986-validator            0.1.1\n",
      "rich                         13.3.5\n",
      "rsa                          4.9\n",
      "ruamel.yaml                  0.17.21\n",
      "sanic-routing                22.8.0\n",
      "schedule                     1.2.0\n",
      "scikit-learn                 1.2.2\n",
      "scipy                        1.10.1\n",
      "screeninfo                   0.8.1\n",
      "seaborn                      0.12.2\n",
      "selenium                     2.48.0\n",
      "semantic-version             2.10.0\n",
      "Send2Trash                   1.8.2\n",
      "setuptools                   67.6.1\n",
      "sgmllib3k                    1.0.0\n",
      "shiboken6                    6.4.3\n",
      "simplejson                   3.19.1\n",
      "simplejson                   3.19.1\n",
      "six                          1.16.0\n",
      "skia-pathops                 0.7.4\n",
      "sniffio                      1.3.0\n",
      "sortedcontainers             2.4.0\n",
      "soupsieve                    2.4\n",
      "spglib                       2.0.2\n",
      "sseclient                    0.0.8\n",
      "stack-data                   0.6.2\n",
      "starlette                    0.26.1\n",
      "statsmodels                  0.14.0\n",
      "svgelements                  1.9.3\n",
      "sympy                        1.12\n",
      "tabulate                     0.9.0\n",
      "tenacity                     8.2.2\n",
      "tensorboard                  2.12.3\n",
      "tensorboard-data-server      0.7.0\n",
      "tensorflow                   2.12.0\n",
      "tensorflow-estimator         2.12.0\n",
      "tensorflow-intel             2.12.0\n",
      "tensorflow-io-gcs-filesystem 0.31.0\n",
      "termcolor                    2.3.0\n",
      "terminado                    0.17.1\n",
      "threadpoolctl                3.1.0\n",
      "tiktoken                     0.3.3\n",
      "tinycss2                     1.2.1\n",
      "tokenizers                   0.13.3\n",
      "toolz                        0.12.0\n",
      "torch                        2.1.0.dev20230614+cu117\n",
      "torch-geometric              2.3.1\n",
      "tornado                      6.3.2\n",
      "tqdm                         4.65.0\n",
      "traitlets                    5.9.0\n",
      "traits                       6.4.1\n",
      "transformers                 4.28.1\n",
      "trio                         0.22.0\n",
      "trio-websocket               0.10.2\n",
      "twine                        4.0.2\n",
      "txt2tags                     3.8\n",
      "typing_extensions            4.5.0\n",
      "ua-parser                    0.16.1\n",
      "uc-micro-py                  1.0.1\n",
      "uncertainties                3.1.7\n",
      "uri-template                 1.2.0\n",
      "url-normalize                1.4.3\n",
      "urllib3                      1.26.15\n",
      "user-agents                  2.2.0\n",
      "uvicorn                      0.21.1\n",
      "validators                   0.20.0\n",
      "virtualenv                   20.23.0\n",
      "watchfiles                   0.19.0\n",
      "wcwidth                      0.2.6\n",
      "webcolors                    1.13\n",
      "webencodings                 0.5.1\n",
      "websocket-client             1.5.1\n",
      "websockets                   11.0.2\n",
      "Werkzeug                     2.1.2\n",
      "wheel                        0.40.0\n",
      "widgetsnbextension           4.0.7\n",
      "wrapt                        1.14.1\n",
      "wsproto                      1.2.0\n",
      "xlrd                         2.0.1\n",
      "yarg                         0.1.9\n",
      "yarl                         1.8.2\n",
      "yfinance                     0.2.20\n",
      "zipp                         3.15.0\n"
     ]
    }
   ],
   "source": [
    "# !pip install d2l\n",
    "!python --version\n",
    "!pip list"
   ]
  },
  {
   "cell_type": "code",
   "execution_count": 23,
   "id": "b183a8c2-cc8a-49b3-9fdc-fe0cfb094f2c",
   "metadata": {},
   "outputs": [
    {
     "ename": "ModuleNotFoundError",
     "evalue": "No module named 'd2l'",
     "output_type": "error",
     "traceback": [
      "\u001b[1;31m---------------------------------------------------------------------------\u001b[0m",
      "\u001b[1;31mModuleNotFoundError\u001b[0m                       Traceback (most recent call last)",
      "Cell \u001b[1;32mIn[23], line 5\u001b[0m\n\u001b[0;32m      3\u001b[0m \u001b[38;5;28;01mimport\u001b[39;00m \u001b[38;5;21;01mtime\u001b[39;00m\n\u001b[0;32m      4\u001b[0m \u001b[38;5;28;01mimport\u001b[39;00m \u001b[38;5;21;01mtensorflow\u001b[39;00m \u001b[38;5;28;01mas\u001b[39;00m \u001b[38;5;21;01mtf\u001b[39;00m\n\u001b[1;32m----> 5\u001b[0m \u001b[38;5;28;01mfrom\u001b[39;00m \u001b[38;5;21;01md2l\u001b[39;00m \u001b[38;5;28;01mimport\u001b[39;00m tensorflow \u001b[38;5;28;01mas\u001b[39;00m d2l\n\u001b[0;32m      6\u001b[0m \u001b[38;5;28;01mimport\u001b[39;00m \u001b[38;5;21;01mnumpy\u001b[39;00m \u001b[38;5;28;01mas\u001b[39;00m \u001b[38;5;21;01mnp\u001b[39;00m\n\u001b[0;32m      7\u001b[0m \u001b[38;5;28;01mdef\u001b[39;00m \u001b[38;5;21mnormal\u001b[39m(x, mu, sigma):\n",
      "\u001b[1;31mModuleNotFoundError\u001b[0m: No module named 'd2l'"
     ]
    }
   ],
   "source": [
    "# 正态分布\n",
    "import math\n",
    "import time\n",
    "import tensorflow as tf\n",
    "from d2l import tensorflow as d2l\n",
    "import numpy as np\n",
    "def normal(x, mu, sigma):\n",
    "    p = 1 / math.sqrt(2 * math.pi * sigma**2)\n",
    "    return p * np.exp(-0.5 / sigma**2 * (x - mu)**2)\n",
    "\n",
    "# 再次使用numpy进行可视化\n",
    "x = np.arange(-7, 7, 0.01)\n",
    "\n",
    "# 均值和标准差对\n",
    "params = [(0, 1), (0, 2), (3, 1)]\n",
    "d2l.plot(x, [normal(x, mu, sigma) for mu, sigma in params], xlabel='x',\n",
    "         ylabel='p(x)', figsize=(4.5, 2.5),\n",
    "         legend=[f'mean {mu}, std {sigma}' for mu, sigma in params])"
   ]
  },
  {
   "cell_type": "code",
   "execution_count": null,
   "id": "72128d5d-d9ef-4666-9f7d-1d22b4b90df1",
   "metadata": {},
   "outputs": [],
   "source": []
  },
  {
   "cell_type": "code",
   "execution_count": null,
   "id": "77d76663-ae34-4bdb-b095-afb811cfbb44",
   "metadata": {},
   "outputs": [],
   "source": []
  }
 ],
 "metadata": {
  "kernelspec": {
   "display_name": "Python 3 (ipykernel)",
   "language": "python",
   "name": "python3"
  },
  "language_info": {
   "codemirror_mode": {
    "name": "ipython",
    "version": 3
   },
   "file_extension": ".py",
   "mimetype": "text/x-python",
   "name": "python",
   "nbconvert_exporter": "python",
   "pygments_lexer": "ipython3",
   "version": "3.9.2"
  }
 },
 "nbformat": 4,
 "nbformat_minor": 5
}
