{
 "cells": [
  {
   "cell_type": "code",
   "execution_count": 1,
   "id": "38c5f1c0-cb77-4827-a4ed-a52316294fce",
   "metadata": {},
   "outputs": [],
   "source": [
    "# 不太想用d2l，它把很多包都汇总了，强迫症不束缚，还是使用流行的numpy，pandas，tensorflow\n",
    "import tensorflow as tf\n",
    "import numpy as np\n",
    "import pandas as pd"
   ]
  },
  {
   "cell_type": "code",
   "execution_count": 2,
   "id": "3f8403e7-bbe6-42ef-9ca5-612fd074768e",
   "metadata": {},
   "outputs": [
    {
     "name": "stdout",
     "output_type": "stream",
     "text": [
      "1-s2.0-S0167732222024916-mmc1.docx\n",
      "amino_acids_hydrate_data.csv\n",
      "amino_acids_hydrate_data_update1.csv\n",
      "bioactivity_preprocessed_data.csv\n",
      "inhibitor_amino_acids_data.csv\n",
      "inhibitor_data.csv\n",
      "ML_11_Inhibitors_data.ipynb\n",
      "ML_12_Inhibitors_data_analysis.ipynb\n",
      "ML_13_Inhibitors_amino_acids_1.ipynb\n",
      "ML_14_Inhibitors_amino_acids_2.ipynb\n",
      "ML_14_Inhibitors_amino_acids_3.ipynb\n",
      "ML_15_DeepLearning_1.ipynb\n",
      "ML_15_DeepLearning_2.ipynb\n",
      "ML_15_DeepLearning_3.ipynb\n",
      "ML_15_DeepLearning_4.ipynb\n",
      "ML_16_DeepLearning_1.ipynb\n"
     ]
    }
   ],
   "source": [
    "# MNIST 识别手写字：softmax回归\n",
    "! ls "
   ]
  },
  {
   "cell_type": "code",
   "execution_count": 3,
   "id": "272f049e-7a05-4512-b72e-6d7e0bf42636",
   "metadata": {},
   "outputs": [
    {
     "data": {
      "text/plain": [
       "<tf.Tensor: shape=(), dtype=int32, numpy=3>"
      ]
     },
     "execution_count": 3,
     "metadata": {},
     "output_type": "execute_result"
    }
   ],
   "source": [
    "tf.add(1,2)"
   ]
  },
  {
   "cell_type": "code",
   "execution_count": 4,
   "id": "adbd7db4-1e1b-4946-889e-a213b650a44d",
   "metadata": {},
   "outputs": [
    {
     "data": {
      "text/plain": [
       "3"
      ]
     },
     "execution_count": 4,
     "metadata": {},
     "output_type": "execute_result"
    }
   ],
   "source": [
    "tf.add(1,2).numpy()"
   ]
  },
  {
   "cell_type": "code",
   "execution_count": 5,
   "id": "97827e7b-3ab4-422e-a309-3ceb906f5988",
   "metadata": {},
   "outputs": [
    {
     "data": {
      "text/plain": [
       "b'Hello, tensorflow?'"
      ]
     },
     "execution_count": 5,
     "metadata": {},
     "output_type": "execute_result"
    }
   ],
   "source": [
    "hello = tf.constant(\"Hello, tensorflow?\")\n",
    "hello\n",
    "hello.numpy()"
   ]
  },
  {
   "cell_type": "code",
   "execution_count": 6,
   "id": "6677c818-8056-4d0c-a5ef-1543b5af6c19",
   "metadata": {},
   "outputs": [
    {
     "name": "stdout",
     "output_type": "stream",
     "text": [
      "2.12.0\n",
      "2.12.0\n"
     ]
    }
   ],
   "source": [
    "# keras使用：常见的神经网络都包含在keras.layer中\n",
    "from tensorflow.keras import layers\n",
    "print(tf.__version__)\n",
    "print(tf.keras.__version__)"
   ]
  },
  {
   "cell_type": "code",
   "execution_count": 7,
   "id": "23454bc0-4532-4b9e-98b9-1bad76df0158",
   "metadata": {},
   "outputs": [],
   "source": [
    "# 模型堆叠：简单的层的堆叠\n",
    "model = tf.keras.Sequential()\n",
    "# activation：设置层的激活函数\n",
    "model.add(layers.Dense(32, activation='sigmoid'))\n",
    "model.add(layers.Dense(32, activation=tf.sigmoid))\n",
    "model.add(layers.Dense(32, activation='relu'))\n",
    "model.add(layers.Dense(10, activation='softmax'))\n",
    "model.compile(optimizer=tf.keras.optimizers.Adam(0.001),\n",
    "             loss=tf.keras.losses.categorical_crossentropy,\n",
    "             metrics=[tf.keras.metrics.categorical_accuracy])"
   ]
  },
  {
   "cell_type": "code",
   "execution_count": 8,
   "id": "66d768fb-ce0b-4ecf-8747-4f420bd2ab3e",
   "metadata": {},
   "outputs": [
    {
     "name": "stdout",
     "output_type": "stream",
     "text": [
      "Epoch 1/10\n",
      "30/30 [==============================] - 1s 10ms/step - loss: 12.1411 - categorical_accuracy: 0.0865 - val_loss: 11.8736 - val_categorical_accuracy: 0.1146\n",
      "Epoch 2/10\n",
      "30/30 [==============================] - 0s 2ms/step - loss: 13.3968 - categorical_accuracy: 0.1047 - val_loss: 13.7794 - val_categorical_accuracy: 0.0521\n",
      "Epoch 3/10\n",
      "30/30 [==============================] - 0s 2ms/step - loss: 16.0073 - categorical_accuracy: 0.0844 - val_loss: 16.6561 - val_categorical_accuracy: 0.0521\n",
      "Epoch 4/10\n",
      "30/30 [==============================] - 0s 2ms/step - loss: 19.0053 - categorical_accuracy: 0.0833 - val_loss: 19.4745 - val_categorical_accuracy: 0.0521\n",
      "Epoch 5/10\n",
      "30/30 [==============================] - 0s 2ms/step - loss: 21.9132 - categorical_accuracy: 0.0823 - val_loss: 22.2213 - val_categorical_accuracy: 0.0521\n",
      "Epoch 6/10\n",
      "30/30 [==============================] - 0s 2ms/step - loss: 24.6128 - categorical_accuracy: 0.0812 - val_loss: 24.9212 - val_categorical_accuracy: 0.0521\n",
      "Epoch 7/10\n",
      "30/30 [==============================] - 0s 2ms/step - loss: 27.3308 - categorical_accuracy: 0.0801 - val_loss: 27.3916 - val_categorical_accuracy: 0.0521\n",
      "Epoch 8/10\n",
      "30/30 [==============================] - 0s 2ms/step - loss: 29.8992 - categorical_accuracy: 0.0812 - val_loss: 29.7564 - val_categorical_accuracy: 0.0521\n",
      "Epoch 9/10\n",
      "30/30 [==============================] - 0s 2ms/step - loss: 32.1514 - categorical_accuracy: 0.0812 - val_loss: 32.0154 - val_categorical_accuracy: 0.0521\n",
      "Epoch 10/10\n",
      "30/30 [==============================] - 0s 2ms/step - loss: 34.3955 - categorical_accuracy: 0.0791 - val_loss: 34.2102 - val_categorical_accuracy: 0.0521\n"
     ]
    },
    {
     "data": {
      "text/plain": [
       "<keras.callbacks.History at 0x1c070d7e950>"
      ]
     },
     "execution_count": 8,
     "metadata": {},
     "output_type": "execute_result"
    }
   ],
   "source": [
    "# 数据\n",
    "train_x = np.random.random((1000, 72))\n",
    "train_y = np.random.random((1000, 10))\n",
    "\n",
    "val_x = np.random.random((200, 72))\n",
    "val_y = np.random.random((200, 10))\n",
    "# model.fit(train_x, train_y, epochs=10, batch_size=100,\n",
    "#           validation_data=(val_x, val_y))\n",
    "\n",
    "\n",
    "# tensorflow输入数据\n",
    "dataset = tf.data.Dataset.from_tensor_slices((train_x, train_y))\n",
    "dataset = dataset.batch(32)\n",
    "dataset = dataset.repeat()\n",
    "val_dataset = tf.data.Dataset.from_tensor_slices((val_x, val_y))\n",
    "val_dataset = val_dataset.batch(32)\n",
    "val_dataset = val_dataset.repeat()\n",
    "\n",
    "model.fit(dataset, epochs=10, steps_per_epoch=30,\n",
    "          validation_data=val_dataset, validation_steps=3)\n"
   ]
  },
  {
   "cell_type": "code",
   "execution_count": 9,
   "id": "712c6109-b02d-48e2-a378-18a55acb21be",
   "metadata": {},
   "outputs": [
    {
     "name": "stdout",
     "output_type": "stream",
     "text": [
      "32/32 [==============================] - 0s 1ms/step - loss: 35.5109 - categorical_accuracy: 0.1060\n",
      "30/30 [==============================] - 0s 1ms/step - loss: 35.4439 - categorical_accuracy: 0.1063\n",
      "32/32 [==============================] - 0s 1ms/step\n",
      "[[3.5695760e-03 2.0547849e-01 1.5239008e-03 ... 9.9211536e-07\n",
      "  2.9271273e-03 9.3315758e-02]\n",
      " [3.5696670e-03 2.0548062e-01 1.5239514e-03 ... 9.9214833e-07\n",
      "  2.9271799e-03 9.3316011e-02]\n",
      " [3.5694793e-03 2.0547764e-01 1.5238713e-03 ... 9.9205079e-07\n",
      "  2.9270928e-03 9.3316793e-02]\n",
      " ...\n",
      " [3.5693962e-03 2.0547757e-01 1.5238358e-03 ... 9.9199735e-07\n",
      "  2.9270248e-03 9.3316048e-02]\n",
      " [3.5701620e-03 2.0548245e-01 1.5242324e-03 ... 9.9257352e-07\n",
      "  2.9275857e-03 9.3316846e-02]\n",
      " [3.5698113e-03 2.0547950e-01 1.5240246e-03 ... 9.9227918e-07\n",
      "  2.9272758e-03 9.3316220e-02]]\n"
     ]
    }
   ],
   "source": [
    "# 评估与预测\n",
    "test_x = np.random.random((1000, 72))\n",
    "test_y = np.random.random((1000, 10))\n",
    "model.evaluate(test_x, test_y, batch_size=32)\n",
    "test_data = tf.data.Dataset.from_tensor_slices((test_x, test_y))\n",
    "test_data = test_data.batch(32).repeat()\n",
    "model.evaluate(test_data, steps=30)\n",
    "# predict\n",
    "result = model.predict(test_x, batch_size=32)\n",
    "print(result)"
   ]
  },
  {
   "cell_type": "code",
   "execution_count": 10,
   "id": "592a96a3-6fb4-4461-a52f-e8feb3173cb9",
   "metadata": {},
   "outputs": [],
   "source": [
    "# 函数式 API 构建的模型：可以构建复杂的模型拓扑\n",
    "input_x = tf.keras.Input(shape=(72,))\n",
    "hidden1 = layers.Dense(32, activation='relu')(input_x)\n",
    "hidden2 = layers.Dense(16, activation='relu')(hidden1)\n",
    "pred = layers.Dense(10, activation='softmax')(hidden2)"
   ]
  },
  {
   "cell_type": "code",
   "execution_count": 11,
   "id": "b082742b-0a98-4135-8631-de106c538747",
   "metadata": {},
   "outputs": [
    {
     "name": "stdout",
     "output_type": "stream",
     "text": [
      "Epoch 1/5\n",
      "32/32 [==============================] - 1s 1ms/step - loss: 13.9005 - accuracy: 0.1080\n",
      "Epoch 2/5\n",
      "32/32 [==============================] - 0s 1ms/step - loss: 20.8598 - accuracy: 0.1070\n",
      "Epoch 3/5\n",
      "32/32 [==============================] - 0s 1ms/step - loss: 37.8177 - accuracy: 0.1050\n",
      "Epoch 4/5\n",
      "32/32 [==============================] - 0s 1ms/step - loss: 66.9948 - accuracy: 0.1130\n",
      "Epoch 5/5\n",
      "32/32 [==============================] - 0s 1ms/step - loss: 104.3932 - accuracy: 0.1070\n"
     ]
    },
    {
     "data": {
      "text/plain": [
       "<keras.callbacks.History at 0x1c070fb9d90>"
      ]
     },
     "execution_count": 11,
     "metadata": {},
     "output_type": "execute_result"
    }
   ],
   "source": [
    "model = tf.keras.Model(inputs=input_x, outputs=pred)\n",
    "model.compile(optimizer=tf.keras.optimizers.Adam(0.001),\n",
    "             loss=tf.keras.losses.categorical_crossentropy,\n",
    "             metrics=['accuracy'])\n",
    "model.fit(train_x, train_y, batch_size=32, epochs=5)"
   ]
  }
 ],
 "metadata": {
  "kernelspec": {
   "display_name": "Python 3 (ipykernel)",
   "language": "python",
   "name": "python3"
  },
  "language_info": {
   "codemirror_mode": {
    "name": "ipython",
    "version": 3
   },
   "file_extension": ".py",
   "mimetype": "text/x-python",
   "name": "python",
   "nbconvert_exporter": "python",
   "pygments_lexer": "ipython3",
   "version": "3.11.3"
  }
 },
 "nbformat": 4,
 "nbformat_minor": 5
}
