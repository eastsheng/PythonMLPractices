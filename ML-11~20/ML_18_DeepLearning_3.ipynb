{
 "cells": [
  {
   "cell_type": "markdown",
   "id": "828e5468-a7f4-4ca7-bd98-028057cf0b9c",
   "metadata": {},
   "source": [
    "### 多层感知机的tensorflow实现"
   ]
  },
  {
   "cell_type": "markdown",
   "id": "c2824c3c-f170-464e-8e2c-e494c8684764",
   "metadata": {},
   "source": [
    "#### 1. tensorflow包导入"
   ]
  },
  {
   "cell_type": "code",
   "execution_count": 3,
   "id": "7e2affc0-3752-4316-b96b-d38fab3a210f",
   "metadata": {},
   "outputs": [],
   "source": [
    "import tensorflow as tf"
   ]
  },
  {
   "cell_type": "markdown",
   "id": "fdee5965-3cd8-42a5-8586-45df97f73776",
   "metadata": {},
   "source": [
    "#### 2. 数据"
   ]
  },
  {
   "cell_type": "code",
   "execution_count": 7,
   "id": "6d70a14d-bef1-4061-9c85-0db243e088f7",
   "metadata": {},
   "outputs": [
    {
     "data": {
      "text/plain": [
       "<module 'keras.api._v2.keras.datasets.fashion_mnist' from '/home/chends/.conda/envs/py3.11/lib/python3.11/site-packages/keras/api/_v2/keras/datasets/fashion_mnist/__init__.py'>"
      ]
     },
     "execution_count": 7,
     "metadata": {},
     "output_type": "execute_result"
    }
   ],
   "source": [
    "fashion_mnist = tf.keras.datasets.fashion_mnist\n",
    "fashion_mnist"
   ]
  },
  {
   "cell_type": "markdown",
   "id": "9d5947a4-ca0a-43a5-8ce6-1ae460f03384",
   "metadata": {},
   "source": [
    "#### 3. 模型定义"
   ]
  },
  {
   "cell_type": "code",
   "execution_count": 9,
   "id": "e2f64942-378e-44fa-a0dd-f237705318d0",
   "metadata": {},
   "outputs": [],
   "source": [
    "model = tf.keras.models.Sequential([\n",
    "    tf.keras.layers.Flatten(input_shape=(28,28)), #输入层\n",
    "    tf.keras.layers.Dense(256, activation='relu'), # 隐藏层\n",
    "    tf.keras.layers.Dense(10, activation='softmax'), # 输出层\n",
    "])"
   ]
  },
  {
   "cell_type": "markdown",
   "id": "7d375b6e-c179-40fb-8c37-f49ef11caaeb",
   "metadata": {},
   "source": [
    "#### 4. 训练模型"
   ]
  },
  {
   "cell_type": "code",
   "execution_count": 11,
   "id": "433f85c1-3d00-4afb-90a2-53d32d478fdc",
   "metadata": {},
   "outputs": [],
   "source": [
    "(x_train, y_train), (x_test, y_test) = fashion_mnist.load_data()\n",
    "x_train = x_train / 255.0\n",
    "x_test = x_test / 255.0"
   ]
  },
  {
   "cell_type": "code",
   "execution_count": 14,
   "id": "0ceb14b8-51ad-4006-821b-a815e7de38c8",
   "metadata": {},
   "outputs": [],
   "source": [
    "model.compile(optimizer=tf.keras.optimizers.SGD(learning_rate=0.5),\n",
    "             loss = 'sparse_categorical_crossentropy',\n",
    "             metrics=['accuracy'])"
   ]
  },
  {
   "cell_type": "code",
   "execution_count": 15,
   "id": "ade01b46-4490-4d4f-b863-d9429e86f89c",
   "metadata": {},
   "outputs": [
    {
     "name": "stdout",
     "output_type": "stream",
     "text": [
      "Epoch 1/5\n",
      "235/235 [==============================] - 1s 5ms/step - loss: 0.7917 - accuracy: 0.7335 - val_loss: 0.6676 - val_accuracy: 0.7467\n",
      "Epoch 2/5\n",
      "235/235 [==============================] - 1s 4ms/step - loss: 0.4701 - accuracy: 0.8273 - val_loss: 0.4649 - val_accuracy: 0.8247\n",
      "Epoch 3/5\n",
      "235/235 [==============================] - 1s 4ms/step - loss: 0.4194 - accuracy: 0.8454 - val_loss: 0.4394 - val_accuracy: 0.8424\n",
      "Epoch 4/5\n",
      "235/235 [==============================] - 1s 4ms/step - loss: 0.3846 - accuracy: 0.8586 - val_loss: 0.4895 - val_accuracy: 0.8210\n",
      "Epoch 5/5\n",
      "235/235 [==============================] - 1s 4ms/step - loss: 0.3679 - accuracy: 0.8642 - val_loss: 0.4854 - val_accuracy: 0.8130\n"
     ]
    },
    {
     "data": {
      "text/plain": [
       "<keras.src.callbacks.History at 0x7f853ada0f50>"
      ]
     },
     "execution_count": 15,
     "metadata": {},
     "output_type": "execute_result"
    }
   ],
   "source": [
    "model.fit(x_train, y_train, epochs=5,\n",
    "              batch_size=256,\n",
    "              validation_data=(x_test, y_test),\n",
    "              validation_freq=1)"
   ]
  }
 ],
 "metadata": {
  "kernelspec": {
   "display_name": "Python 3 (ipykernel)",
   "language": "python",
   "name": "python3"
  },
  "language_info": {
   "codemirror_mode": {
    "name": "ipython",
    "version": 3
   },
   "file_extension": ".py",
   "mimetype": "text/x-python",
   "name": "python",
   "nbconvert_exporter": "python",
   "pygments_lexer": "ipython3",
   "version": "3.11.4"
  }
 },
 "nbformat": 4,
 "nbformat_minor": 5
}
