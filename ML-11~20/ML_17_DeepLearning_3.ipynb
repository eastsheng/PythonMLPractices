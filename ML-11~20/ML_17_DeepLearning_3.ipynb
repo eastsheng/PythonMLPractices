{
 "cells": [
  {
   "cell_type": "markdown",
   "id": "0d44192e-6235-493a-94a6-76572e12cec7",
   "metadata": {},
   "source": [
    "#### 线性回归的简洁实现\n",
    "- Tensorflow可以更简洁地实现模型;\n",
    "- tensorflow.data模块提供了有关数据处理的工具;\n",
    "- tensorflow.keras.layers模块定义了大量神经网络的层;\n",
    "- tensorflow.initializers模块定义了各种初始化方法;\n",
    "- tensorflow.optimizers模块提供了模型的各种优化算法。"
   ]
  },
  {
   "cell_type": "markdown",
   "id": "30309335-a8f9-41ff-8605-e1d22fb38080",
   "metadata": {},
   "source": [
    "#### 1. 数据集"
   ]
  },
  {
   "cell_type": "code",
   "execution_count": 2,
   "id": "11506ca2-97c6-4bd5-9383-2534a0758417",
   "metadata": {},
   "outputs": [],
   "source": [
    "import tensorflow as tf\n",
    "\n",
    "num_inputs = 2 # 特征数\n",
    "num_examples = 1000 # 样本数\n",
    "true_w = [2, -3.4] # 权重\n",
    "true_b = 4.2 # 偏置\n",
    "# 随机生成数据集\n",
    "features = tf.random.normal(shape=(num_examples, num_inputs), stddev=1)\n",
    "# 生成目标值\n",
    "labels = true_w[0] * features[:, 0] + true_w[1] * features[:, 1] + true_b\n",
    "# 增加噪声\n",
    "labels += tf.random.normal(labels.shape, stddev=0.01)"
   ]
  },
  {
   "cell_type": "code",
   "execution_count": 4,
   "id": "b4192fc1-700b-41bc-9b4c-2d1bf0eabb1c",
   "metadata": {},
   "outputs": [
    {
     "data": {
      "text/plain": [
       "TensorShape([1000, 2])"
      ]
     },
     "execution_count": 4,
     "metadata": {},
     "output_type": "execute_result"
    }
   ],
   "source": [
    "features.shape"
   ]
  },
  {
   "cell_type": "code",
   "execution_count": 6,
   "id": "df99e38a-e97e-443d-a8c5-8971dea9527d",
   "metadata": {},
   "outputs": [
    {
     "data": {
      "text/plain": [
       "(TensorShape([1000, 2]), TensorShape([1000]))"
      ]
     },
     "execution_count": 6,
     "metadata": {},
     "output_type": "execute_result"
    }
   ],
   "source": [
    "features.shape, labels.shape"
   ]
  },
  {
   "cell_type": "markdown",
   "id": "ab09edb6-97c7-44b4-94b7-20520d3f0034",
   "metadata": {},
   "source": [
    "#### 2. 基于tensorflow读取数据集"
   ]
  },
  {
   "cell_type": "code",
   "execution_count": 7,
   "id": "517baa58-b916-40a0-a27e-0ba2d835e3f6",
   "metadata": {},
   "outputs": [
    {
     "data": {
      "text/plain": [
       "<_TensorSliceDataset element_spec=(TensorSpec(shape=(2,), dtype=tf.float32, name=None), TensorSpec(shape=(), dtype=tf.float32, name=None))>"
      ]
     },
     "execution_count": 7,
     "metadata": {},
     "output_type": "execute_result"
    }
   ],
   "source": [
    "batch_size = 10 # 小数据集数目\n",
    "# 将训练数据的特征和标签组合\n",
    "dataset = tf.data.Dataset.from_tensor_slices((features, labels))\n",
    "dataset"
   ]
  },
  {
   "cell_type": "code",
   "execution_count": 8,
   "id": "2f87d14a-bf0b-4ded-9b01-ec57de2b0605",
   "metadata": {},
   "outputs": [],
   "source": [
    "# 随机读取小批量\n",
    "dataset = dataset.shuffle(buffer_size=num_examples) \n",
    "# shuffle: 将数据打乱,提高模型训练效果\n",
    "dataset = dataset.batch(batch_size)\n",
    "data_iter = iter(dataset)\n",
    "# for (batch, (X, y)) in enumerate(dataset):\n",
    "#     print(batch,X, y)\n",
    "#     break"
   ]
  },
  {
   "cell_type": "markdown",
   "id": "94f55023-a511-4457-a8b4-fb2fc86cef06",
   "metadata": {},
   "source": [
    "#### 3. 模型定义和初始化参数"
   ]
  },
  {
   "cell_type": "code",
   "execution_count": 10,
   "id": "d6f53037-3297-4349-a610-dc0e8bc4df54",
   "metadata": {},
   "outputs": [],
   "source": [
    "from tensorflow import keras\n",
    "from tensorflow.keras import layers\n",
    "from tensorflow import initializers as init\n",
    "# 使用Keras定义网络，先定义一个模型变量model（Sequential实例），Sequential实例可以看作是一个串联各个层的容器\n",
    "model = keras.Sequential() \n",
    "# 在该容器中依次添加层，这里添加一层，代表线性回归；init随机初始化权重，偏差参数默认为0，标准差为0.01\n",
    "model.add(layers.Dense(1, kernel_initializer=init.RandomNormal(stddev=0.01)))"
   ]
  },
  {
   "cell_type": "markdown",
   "id": "ac6f0cd5-0874-4ff9-9902-a9ae0018bb7e",
   "metadata": {},
   "source": [
    "#### 4. 损失函数"
   ]
  },
  {
   "cell_type": "code",
   "execution_count": 12,
   "id": "858b5065-14e4-48e9-9598-8fcabfe65755",
   "metadata": {},
   "outputs": [],
   "source": [
    "from tensorflow import losses\n",
    "# 这里使用它的均方误差损失作为模型的损失函数\n",
    "loss = losses.MeanSquaredError()"
   ]
  },
  {
   "cell_type": "markdown",
   "id": "fd9c0a70-2e62-4187-a4fc-051e9028a99d",
   "metadata": {},
   "source": [
    "#### 5. 优化算法"
   ]
  },
  {
   "cell_type": "code",
   "execution_count": 14,
   "id": "27f5a8b4-d12e-4d9e-8bcd-36c6a9332b4e",
   "metadata": {},
   "outputs": [],
   "source": [
    "# 无须自己实现小批量随机梯度下降算法\n",
    "# tensorflow.keras.optimizers 模块提供了很多常用的优化算法比如SGD、Adam和RMSProp等\n",
    "from tensorflow.keras import optimizers\n",
    "trainer = optimizers.SGD(learning_rate=0.03)"
   ]
  },
  {
   "cell_type": "markdown",
   "id": "31e17551-6de4-4706-b162-540d56478ac1",
   "metadata": {},
   "source": [
    "#### 6. 训练模型"
   ]
  },
  {
   "cell_type": "code",
   "execution_count": 17,
   "id": "6a693461-65a9-46dc-8fa9-160610cd82d0",
   "metadata": {},
   "outputs": [
    {
     "name": "stdout",
     "output_type": "stream",
     "text": [
      "epoch 1, loss: 0.000101\n",
      "epoch 2, loss: 0.000101\n",
      "epoch 3, loss: 0.000101\n"
     ]
    }
   ],
   "source": [
    "num_epochs = 3 #训练周期\n",
    "for epoch in range(1, num_epochs + 1): # 循环每一周期\n",
    "    for (batch, (X, y)) in enumerate(dataset): # 循环每一batch\n",
    "        with tf.GradientTape() as tape: # 记录动态图梯度\n",
    "            l = loss(model(X, training=True), y)\n",
    "\n",
    "        grads = tape.gradient(l, model.trainable_variables) # 找到需要更新的变量，获得动态图中各变量梯度\n",
    "        trainer.apply_gradients(zip(grads, model.trainable_variables)) # 更新权重，完成一步训练\n",
    "\n",
    "    l = loss(model(features), labels)\n",
    "    print('epoch %d, loss: %f' % (epoch, l))\n"
   ]
  },
  {
   "cell_type": "markdown",
   "id": "74723bb7-1036-4ac4-a2d1-da735a106693",
   "metadata": {},
   "source": [
    "#### 7. 评估模型"
   ]
  },
  {
   "cell_type": "code",
   "execution_count": 24,
   "id": "9a76a0d9-6569-4b11-99ea-abc7ed8e7759",
   "metadata": {},
   "outputs": [
    {
     "name": "stdout",
     "output_type": "stream",
     "text": [
      "真实权重： 2 -3.4 \n",
      "模型权重： 2.0003679 -3.3992958\n"
     ]
    }
   ],
   "source": [
    "print(\"真实权重：\",true_w[0],true_w[1], \"\\n模型权重：\",model.get_weights()[0][0][0],model.get_weights()[0][1][0])"
   ]
  },
  {
   "cell_type": "code",
   "execution_count": 30,
   "id": "65d99978-eb0b-4687-9cf1-6a1ceb30ba7c",
   "metadata": {},
   "outputs": [
    {
     "name": "stdout",
     "output_type": "stream",
     "text": [
      "真实偏差： 4.2 \n",
      "模型偏差： 4.1996474\n"
     ]
    }
   ],
   "source": [
    "print(\"真实偏差：\",true_b, \"\\n模型偏差：\",model.get_weights()[1][0])"
   ]
  }
 ],
 "metadata": {
  "kernelspec": {
   "display_name": "Python 3 (ipykernel)",
   "language": "python",
   "name": "python3"
  },
  "language_info": {
   "codemirror_mode": {
    "name": "ipython",
    "version": 3
   },
   "file_extension": ".py",
   "mimetype": "text/x-python",
   "name": "python",
   "nbconvert_exporter": "python",
   "pygments_lexer": "ipython3",
   "version": "3.11.3"
  }
 },
 "nbformat": 4,
 "nbformat_minor": 5
}
