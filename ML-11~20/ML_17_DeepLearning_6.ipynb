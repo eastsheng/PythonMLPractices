{
 "cells": [
  {
   "cell_type": "markdown",
   "id": "43234d42-8798-4f5f-aedf-1b93d975e5d9",
   "metadata": {},
   "source": [
    "### softmax回归的简洁实现"
   ]
  },
  {
   "cell_type": "code",
   "execution_count": 1,
   "id": "4ebc6e07-1602-4de9-8482-9d05e121dcb3",
   "metadata": {},
   "outputs": [],
   "source": [
    "# 采用Tensorflow2.0提供的函数\n",
    "import tensorflow as tf\n",
    "from tensorflow import keras"
   ]
  },
  {
   "cell_type": "markdown",
   "id": "e73851b0-4d63-400b-98cd-bb0660c9d154",
   "metadata": {},
   "source": [
    "#### 1. 获取和读取数据"
   ]
  },
  {
   "cell_type": "code",
   "execution_count": 2,
   "id": "c52cd91d-b245-47d1-8bea-d752d715c05a",
   "metadata": {},
   "outputs": [],
   "source": [
    "fashion_mnist = keras.datasets.fashion_mnist\n",
    "(x_train, y_train), (x_test, y_test) = fashion_mnist.load_data()"
   ]
  },
  {
   "cell_type": "code",
   "execution_count": 3,
   "id": "98b8db06-143c-4edb-891a-6187171989cd",
   "metadata": {},
   "outputs": [],
   "source": [
    "x_train = x_train / 255.0\n",
    "x_test = x_test / 255.0"
   ]
  },
  {
   "cell_type": "code",
   "execution_count": 4,
   "id": "e3ad7fce-bfd9-4b02-b61b-3f08d9c27a9f",
   "metadata": {},
   "outputs": [
    {
     "data": {
      "text/plain": [
       "((60000, 28, 28), (10000, 28, 28))"
      ]
     },
     "execution_count": 4,
     "metadata": {},
     "output_type": "execute_result"
    }
   ],
   "source": [
    "x_train.shape, x_test.shape"
   ]
  },
  {
   "cell_type": "markdown",
   "id": "945e11e7-4444-499e-9f70-327d504559aa",
   "metadata": {},
   "source": [
    "#### 2. 定义和初始化模型"
   ]
  },
  {
   "cell_type": "code",
   "execution_count": 5,
   "id": "3a2dc262-5f19-4e6f-bd80-b4f68dd64970",
   "metadata": {},
   "outputs": [],
   "source": [
    "model = keras.Sequential([\n",
    "    keras.layers.Flatten(input_shape=(28, 28)),\n",
    "    keras.layers.Dense(10, activation=tf.nn.softmax)\n",
    "])"
   ]
  },
  {
   "cell_type": "markdown",
   "id": "f1486348-62a8-4722-9ebe-b74ac9a14d98",
   "metadata": {},
   "source": [
    "#### 3. softmax和交叉熵损失函数"
   ]
  },
  {
   "cell_type": "code",
   "execution_count": 6,
   "id": "b68cb074-9d9f-4590-bd67-4e249e3a7358",
   "metadata": {},
   "outputs": [],
   "source": [
    "# ensorflow2.0的keras API提供了一个loss参数\n",
    "loss = 'sparse_categorical_crossentropy'"
   ]
  },
  {
   "cell_type": "markdown",
   "id": "02358a81-187e-4460-92d3-a42e21f70712",
   "metadata": {},
   "source": [
    "#### 4. 定义优化算法"
   ]
  },
  {
   "cell_type": "code",
   "execution_count": 7,
   "id": "01009a41-d54f-41fe-9326-c836ee1a96d8",
   "metadata": {},
   "outputs": [],
   "source": [
    "optimizer = tf.keras.optimizers.SGD(0.1)"
   ]
  },
  {
   "cell_type": "markdown",
   "id": "ce9718b9-f2f8-47c4-8839-26790ba2771f",
   "metadata": {},
   "source": [
    "#### 5. 训练模型"
   ]
  },
  {
   "cell_type": "code",
   "execution_count": 8,
   "id": "9640b4dc-14cc-499d-b98b-6e5830f34625",
   "metadata": {},
   "outputs": [
    {
     "name": "stdout",
     "output_type": "stream",
     "text": [
      "Epoch 1/5\n",
      "235/235 [==============================] - 1s 2ms/step - loss: 0.7954 - accuracy: 0.7418\n",
      "Epoch 2/5\n",
      "235/235 [==============================] - 0s 2ms/step - loss: 0.5744 - accuracy: 0.8117\n",
      "Epoch 3/5\n",
      "235/235 [==============================] - 0s 2ms/step - loss: 0.5285 - accuracy: 0.8240\n",
      "Epoch 4/5\n",
      "235/235 [==============================] - 0s 2ms/step - loss: 0.5036 - accuracy: 0.8313\n",
      "Epoch 5/5\n",
      "235/235 [==============================] - 0s 2ms/step - loss: 0.4873 - accuracy: 0.8362\n"
     ]
    },
    {
     "data": {
      "text/plain": [
       "<keras.callbacks.History at 0x288eca96590>"
      ]
     },
     "execution_count": 8,
     "metadata": {},
     "output_type": "execute_result"
    }
   ],
   "source": [
    "model.compile(optimizer=tf.keras.optimizers.SGD(0.1),\n",
    "              loss = 'sparse_categorical_crossentropy',\n",
    "              metrics=['accuracy'])\n",
    "\n",
    "model.fit(x_train,y_train,epochs=5,batch_size=256)"
   ]
  },
  {
   "cell_type": "markdown",
   "id": "15856c7e-7ab1-46d0-b4a5-86723d0a4d57",
   "metadata": {},
   "source": [
    "#### 6. 模型评估"
   ]
  },
  {
   "cell_type": "code",
   "execution_count": 9,
   "id": "7cbcc136-523a-48a6-9704-7347c88c48c6",
   "metadata": {},
   "outputs": [
    {
     "name": "stdout",
     "output_type": "stream",
     "text": [
      "313/313 [==============================] - 0s 1ms/step - loss: 0.5147 - accuracy: 0.8234\n",
      "Test Acc: 0.8234000205993652\n"
     ]
    }
   ],
   "source": [
    "test_loss, test_acc = model.evaluate(x_test, y_test)\n",
    "print('Test Acc:',test_acc)"
   ]
  }
 ],
 "metadata": {
  "kernelspec": {
   "display_name": "Python 3 (ipykernel)",
   "language": "python",
   "name": "python3"
  },
  "language_info": {
   "codemirror_mode": {
    "name": "ipython",
    "version": 3
   },
   "file_extension": ".py",
   "mimetype": "text/x-python",
   "name": "python",
   "nbconvert_exporter": "python",
   "pygments_lexer": "ipython3",
   "version": "3.11.3"
  }
 },
 "nbformat": 4,
 "nbformat_minor": 5
}
