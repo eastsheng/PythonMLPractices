{
 "cells": [
  {
   "cell_type": "code",
   "execution_count": 1,
   "id": "95598aae-e7df-4dc3-8fce-29808c6405dc",
   "metadata": {},
   "outputs": [],
   "source": [
    "import warnings \n",
    "warnings.filterwarnings('ignore')\n",
    "import numpy as np"
   ]
  },
  {
   "cell_type": "code",
   "execution_count": 2,
   "id": "d2b60d16-0377-4720-bc3d-2098056dfe49",
   "metadata": {},
   "outputs": [
    {
     "name": "stderr",
     "output_type": "stream",
     "text": [
      "/home/cup/softwares/miniconda/miniconda3/envs/py3.11/lib/python3.11/site-packages/mdtraj/formats/__init__.py:6: DeprecationWarning: 'xdrlib' is deprecated and slated for removal in Python 3.13\n",
      "  from .xtc import XTCTrajectoryFile\n",
      "/home/cup/softwares/miniconda/miniconda3/envs/py3.11/lib/python3.11/site-packages/lark/utils.py:163: DeprecationWarning: module 'sre_parse' is deprecated\n",
      "  import sre_parse\n",
      "/home/cup/softwares/miniconda/miniconda3/envs/py3.11/lib/python3.11/site-packages/lark/utils.py:164: DeprecationWarning: module 'sre_constants' is deprecated\n",
      "  import sre_constants\n",
      "/home/cup/softwares/miniconda/miniconda3/envs/py3.11/lib/python3.11/site-packages/mbuild/recipes/__init__.py:13: DeprecationWarning: SelectableGroups dict interface is deprecated. Use select.\n",
      "  entry_points = metadata.entry_points()[\"mbuild.plugins\"]\n"
     ]
    }
   ],
   "source": [
    "import mbuild as mb\n",
    "# from mbuild.lib.recipes.polymer import Polymer\n"
   ]
  },
  {
   "cell_type": "code",
   "execution_count": 3,
   "id": "185965fc-cf66-41d8-87d0-4b4416763a62",
   "metadata": {},
   "outputs": [],
   "source": [
    "## this function will build your polymer chain for you. You feed it an instance of a monomer class \n",
    "## that has the indices where the bonds need to be formed.\n",
    "def build_chain(monomer, length, min_energy):\n",
    "    chain = Polymer()\n",
    "    chain.add_monomer(compound=monomer,\n",
    "                 indices=monomer.bond_indices,\n",
    "                 separation=monomer.separation,\n",
    "                 replace=monomer.replace,\n",
    "                 orientation=monomer.orientations)\n",
    "    chain.build(n=length)\n",
    "    if min_energy == True:\n",
    "        chain.energy_minimize()\n",
    "    return chain"
   ]
  }
 ],
 "metadata": {
  "kernelspec": {
   "display_name": "Python 3 (ipykernel)",
   "language": "python",
   "name": "python3"
  },
  "language_info": {
   "codemirror_mode": {
    "name": "ipython",
    "version": 3
   },
   "file_extension": ".py",
   "mimetype": "text/x-python",
   "name": "python",
   "nbconvert_exporter": "python",
   "pygments_lexer": "ipython3",
   "version": "3.11.4"
  }
 },
 "nbformat": 4,
 "nbformat_minor": 5
}
