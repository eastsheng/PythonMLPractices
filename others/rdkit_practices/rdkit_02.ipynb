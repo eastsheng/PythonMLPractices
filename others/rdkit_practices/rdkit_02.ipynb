{
 "cells": [
  {
   "cell_type": "markdown",
   "id": "469b4145-03d1-4ee7-bfea-16c0886a0b1d",
   "metadata": {},
   "source": [
    "# [Misc Cheminformatics Topics](https://www.rdkit.org/docs/RDKit_Book.html)\n",
    "## Aromaticity\n",
    "- 芳香性是一个既简单又复杂得令人不快的话题。由于实验化学家和理论化学家都无法就定义达成一致意见，因此有必要选择一些任意的定义并加以坚持。这就是 RDKit 所采用的方法。\n",
    "- RDKit 中的芳香度感知代码没有使用模式来匹配已知的芳香系统，而是使用了一套规则。这些规则相对简单明了。\r",
    "- 芳香性是环中原子和键的一种属性。芳香键必须在芳香原子之间，但芳香原子之间的键不一定是芳香的。\r",
    "- 例如，RDKit 不认为这里的熔合键是芳香键：\r",
    "- ![](https://www.rdkit.org/docs/_images/picture_9.png)\n",
    "\n",
    "\n"
   ]
  },
  {
   "cell_type": "code",
   "execution_count": 5,
   "id": "fafc2818-b733-4657-8bec-a960efab9c9e",
   "metadata": {},
   "outputs": [
    {
     "data": {
      "text/plain": [
       "True"
      ]
     },
     "execution_count": 5,
     "metadata": {},
     "output_type": "execute_result"
    }
   ],
   "source": [
    "from rdkit import Chem\n",
    "m = Chem.MolFromSmiles('C1=CC2=C(C=C1)C1=CC=CC=C21')\n",
    "m.GetAtomWithIdx(3).GetIsAromatic()"
   ]
  },
  {
   "cell_type": "code",
   "execution_count": 6,
   "id": "90a44e56-d1e1-48f9-9bcd-51299cd30b47",
   "metadata": {},
   "outputs": [
    {
     "data": {
      "text/plain": [
       "True"
      ]
     },
     "execution_count": 6,
     "metadata": {},
     "output_type": "execute_result"
    }
   ],
   "source": [
    "m.GetAtomWithIdx(6).GetIsAromatic()"
   ]
  },
  {
   "cell_type": "code",
   "execution_count": 7,
   "id": "772bb15b-6135-4710-b987-a123c2a760b8",
   "metadata": {},
   "outputs": [
    {
     "data": {
      "text/plain": [
       "False"
      ]
     },
     "execution_count": 7,
     "metadata": {},
     "output_type": "execute_result"
    }
   ],
   "source": [
    "m.GetBondBetweenAtoms(3,6).GetIsAromatic()"
   ]
  },
  {
   "cell_type": "markdown",
   "id": "56fbad2d-9405-4740-8ef0-2b332b89b51e",
   "metadata": {},
   "source": [
    "> RDKit 支持多种不同的芳香度模型，并允许用户通过提供分配芳香度的函数来定义自己的芳香度模型。\n"
   ]
  },
  {
   "cell_type": "markdown",
   "id": "2a1495d4-471d-4b71-a065-a65ec133104a",
   "metadata": {},
   "source": [
    "### RDKit 芳香度模型\n",
    "- 如果一个环或融合环系统符合 4N+2 规则，则被认为是芳香族。电子数的贡献由原子类型和环境决定。\n",
    "- 请注意，与电负性原子相连的外环键会从环原子上 \"窃取 \"价电子，而哑原子则会贡献使环成为芳香环所需的任何电子数。\r",
    "- 使用融合环来表示芳香性可能会导致单个环不芳香，但融合系统芳香的情况。薁就是一个例子：\n",
    "- ![](https://www.rdkit.org/docs/_images/picture_8.png)\r",
    "- 这是一个极端的例子，同时展示了融合环和环外双键的影响：\r",
    "- ![](https://www.rdkit.org/docs/_images/picture_7.png)\n",
    "\n",
    "\n",
    "\n",
    "| 单元格 |ns"
   ]
  },
  {
   "cell_type": "code",
   "execution_count": 8,
   "id": "a0ff10ac-c4a3-4321-9017-7097382a3c1e",
   "metadata": {},
   "outputs": [
    {
     "data": {
      "text/plain": [
       "True"
      ]
     },
     "execution_count": 8,
     "metadata": {},
     "output_type": "execute_result"
    }
   ],
   "source": [
    "m=Chem.MolFromSmiles('O=C1C=CC(=O)C2=C1OC=CO2')\n",
    "m.GetAtomWithIdx(6).GetIsAromatic()"
   ]
  },
  {
   "cell_type": "code",
   "execution_count": 9,
   "id": "790abe17-f435-4c0d-8ed1-40ee240e4f27",
   "metadata": {},
   "outputs": [
    {
     "data": {
      "text/plain": [
       "True"
      ]
     },
     "execution_count": 9,
     "metadata": {},
     "output_type": "execute_result"
    }
   ],
   "source": [
    "m.GetAtomWithIdx(7).GetIsAromatic()\n"
   ]
  },
  {
   "cell_type": "code",
   "execution_count": 10,
   "id": "9f3bf7cf-4fb7-4594-a07e-2ffedf41b51d",
   "metadata": {},
   "outputs": [
    {
     "data": {
      "text/plain": [
       "False"
      ]
     },
     "execution_count": 10,
     "metadata": {},
     "output_type": "execute_result"
    }
   ],
   "source": [
    "m.GetBondBetweenAtoms(6,7).GetIsAromatic()"
   ]
  },
  {
   "cell_type": "markdown",
   "id": "0ab1adae-263f-417f-a33f-1fc71fb51695",
   "metadata": {},
   "source": [
    "- 一种特殊情况是，带有基团的杂原子不被认为是芳香性的候选原子：\n",
    "- ![](https://www.rdkit.org/docs/_images/picture_10.png)"
   ]
  },
  {
   "cell_type": "code",
   "execution_count": 11,
   "id": "89e61de0-3786-49c8-87c0-0ca281e7ef19",
   "metadata": {},
   "outputs": [
    {
     "data": {
      "image/png": "[encoded data removed]",
      "text/plain": [
       "<rdkit.Chem.rdchem.Mol at 0x23777dd1d90>"
      ]
     },
     "execution_count": 11,
     "metadata": {},
     "output_type": "execute_result"
    }
   ],
   "source": [
    "m = Chem.MolFromSmiles('C1=C[N]C=C1')\n",
    "m"
   ]
  },
  {
   "cell_type": "code",
   "execution_count": 12,
   "id": "bb36d704-b6b2-469f-9c44-2672b67d19db",
   "metadata": {},
   "outputs": [
    {
     "data": {
      "text/plain": [
       "False"
      ]
     },
     "execution_count": 12,
     "metadata": {},
     "output_type": "execute_result"
    }
   ],
   "source": [
    "m.GetAtomWithIdx(0).GetIsAromatic()"
   ]
  },
  {
   "cell_type": "code",
   "execution_count": 13,
   "id": "30ca4424-da4a-4fc4-8bde-f4aa737dbd66",
   "metadata": {},
   "outputs": [
    {
     "data": {
      "text/plain": [
       "False"
      ]
     },
     "execution_count": 13,
     "metadata": {},
     "output_type": "execute_result"
    }
   ],
   "source": [
    "m.GetAtomWithIdx(2).GetIsAromatic()"
   ]
  },
  {
   "cell_type": "code",
   "execution_count": 14,
   "id": "8014c788-08df-48f7-bac0-715047ca1ca5",
   "metadata": {},
   "outputs": [
    {
     "data": {
      "text/plain": [
       "1"
      ]
     },
     "execution_count": 14,
     "metadata": {},
     "output_type": "execute_result"
    }
   ],
   "source": [
    "m.GetAtomWithIdx(2).GetNumRadicalElectrons()"
   ]
  },
  {
   "cell_type": "markdown",
   "id": "501d8325-a7a0-4e52-82ed-d95140a26093",
   "metadata": {},
   "source": [
    "- 也不考虑带有自由基的带电碳：\n",
    "- ![](https://www.rdkit.org/docs/_images/picture_12.png)"
   ]
  },
  {
   "cell_type": "code",
   "execution_count": 16,
   "id": "e14bb24c-a4f6-445b-9936-fbab158bd1af",
   "metadata": {},
   "outputs": [
    {
     "data": {
      "image/png": "[encoded data removed]",
      "text/plain": [
       "<rdkit.Chem.rdchem.Mol at 0x23777dd2500>"
      ]
     },
     "execution_count": 16,
     "metadata": {},
     "output_type": "execute_result"
    }
   ],
   "source": [
    "m = Chem.MolFromSmiles('C1=CC=CC=C[C+]1')\n",
    "m"
   ]
  },
  {
   "cell_type": "code",
   "execution_count": 17,
   "id": "0ee00dd3-b4de-4145-8b61-1f1f682b9786",
   "metadata": {},
   "outputs": [
    {
     "data": {
      "text/plain": [
       "False"
      ]
     },
     "execution_count": 17,
     "metadata": {},
     "output_type": "execute_result"
    }
   ],
   "source": [
    "m.GetAtomWithIdx(0).GetIsAromatic()\n"
   ]
  },
  {
   "cell_type": "code",
   "execution_count": 18,
   "id": "f6a47ea8-2391-4bc6-9082-3fec9a9f012d",
   "metadata": {},
   "outputs": [
    {
     "data": {
      "text/plain": [
       "False"
      ]
     },
     "execution_count": 18,
     "metadata": {},
     "output_type": "execute_result"
    }
   ],
   "source": [
    "m.GetAtomWithIdx(6).GetIsAromatic()"
   ]
  },
  {
   "cell_type": "code",
   "execution_count": 19,
   "id": "f0de2a63-50c6-4435-8291-d4ae32bf4036",
   "metadata": {},
   "outputs": [
    {
     "data": {
      "text/plain": [
       "1"
      ]
     },
     "execution_count": 19,
     "metadata": {},
     "output_type": "execute_result"
    }
   ],
   "source": [
    "m.GetAtomWithIdx(6).GetFormalCharge()\n"
   ]
  },
  {
   "cell_type": "code",
   "execution_count": 20,
   "id": "5db02cc2-a6db-44a6-862d-171b98630ad6",
   "metadata": {},
   "outputs": [
    {
     "data": {
      "text/plain": [
       "1"
      ]
     },
     "execution_count": 20,
     "metadata": {},
     "output_type": "execute_result"
    }
   ],
   "source": [
    "m.GetAtomWithIdx(6).GetNumRadicalElectrons()\n"
   ]
  },
  {
   "cell_type": "markdown",
   "id": "7ac111e9-a2e4-494a-a8d1-80e913171975",
   "metadata": {},
   "source": [
    "- 不过，带有自由基的中性碳仍在考虑之列：\n",
    "- ![](https://www.rdkit.org/docs/_images/picture_11.png)"
   ]
  },
  {
   "cell_type": "code",
   "execution_count": 22,
   "id": "5ee83db5-f633-4be0-934a-80987c5c5297",
   "metadata": {},
   "outputs": [
    {
     "data": {
      "image/png": "[encoded data removed]",
      "text/plain": [
       "<rdkit.Chem.rdchem.Mol at 0x23777dd2650>"
      ]
     },
     "metadata": {},
     "output_type": "display_data"
    },
    {
     "data": {
      "text/plain": [
       "True"
      ]
     },
     "execution_count": 22,
     "metadata": {},
     "output_type": "execute_result"
    }
   ],
   "source": [
    "m = Chem.MolFromSmiles('C1=[C]NC=C1')\n",
    "display(m)\n",
    "m.GetAtomWithIdx(0).GetIsAromatic()"
   ]
  },
  {
   "cell_type": "code",
   "execution_count": 23,
   "id": "1362c4f0-8949-409d-9ea3-b62c9ce00821",
   "metadata": {},
   "outputs": [
    {
     "data": {
      "text/plain": [
       "True"
      ]
     },
     "execution_count": 23,
     "metadata": {},
     "output_type": "execute_result"
    }
   ],
   "source": [
    "m.GetAtomWithIdx(1).GetIsAromatic()"
   ]
  },
  {
   "cell_type": "code",
   "execution_count": 24,
   "id": "9f255849-bcc5-414b-b452-2edd188a9760",
   "metadata": {},
   "outputs": [
    {
     "data": {
      "text/plain": [
       "1"
      ]
     },
     "execution_count": 24,
     "metadata": {},
     "output_type": "execute_result"
    }
   ],
   "source": [
    "m.GetAtomWithIdx(1).GetNumRadicalElectrons()"
   ]
  },
  {
   "cell_type": "markdown",
   "id": "a1df0e81-2086-46b7-b328-eb6bdc39846f",
   "metadata": {},
   "source": [
    "### 简单芳香模型\n",
    "- 这个问题非常简单：只有五元和六元单环被认为是芳香性的候选对象。使用的电子贡献计数与上述相同。\r\n",
    "### MDL 芳香度模型\r\n",
    "- 略\r\n",
    "\n"
   ]
  },
  {
   "cell_type": "markdown",
   "id": "374e8c17-2355-4a68-bb6d-57270bd8e0cf",
   "metadata": {},
   "source": [
    "### SMILES 支持和扩展\n",
    "- RDKit 涵盖了 [Daylight SMILES](https://www.rdkit.org/docs/RDKit_Book.html#smiles)  的所有标准功能以及一些有用的扩展功能。\n",
    "\n",
    "#### 芳香性\r",
    "- te（芳香族 Te）被接受。下面是一个关于 2-羧酸碲的例子：\n",
    "\r\n"
   ]
  },
  {
   "cell_type": "code",
   "execution_count": 25,
   "id": "c8b59679-347c-4f82-ab59-6c96ff9dc49f",
   "metadata": {},
   "outputs": [
    {
     "data": {
      "image/png": "[encoded data removed]",
      "text/plain": [
       "<rdkit.Chem.rdchem.Mol at 0x23777dd2a40>"
      ]
     },
     "execution_count": 25,
     "metadata": {},
     "output_type": "execute_result"
    }
   ],
   "source": [
    "m = Chem.MolFromSmiles('OC(=O)c1[te]ccc1')\n",
    "m"
   ]
  },
  {
   "cell_type": "code",
   "execution_count": 26,
   "id": "be86eadb-f841-4dbe-b5e8-25df3fc15594",
   "metadata": {},
   "outputs": [
    {
     "data": {
      "text/plain": [
       "True"
      ]
     },
     "execution_count": 26,
     "metadata": {},
     "output_type": "execute_result"
    }
   ],
   "source": [
    "m.GetAtomWithIdx(4).GetIsAromatic()"
   ]
  },
  {
   "cell_type": "markdown",
   "id": "2d2b37f1-4b4d-499a-9d58-957988665b0f",
   "metadata": {},
   "source": [
    "#### 配位键\n",
    "- <-和->在原子之间形成一个与键，方向很重要。\n",
    "- 下面是一个双铜复合体的例子：\n"
   ]
  },
  {
   "cell_type": "code",
   "execution_count": 27,
   "id": "3c08926a-9024-44cd-ac7d-59403d82f003",
   "metadata": {},
   "outputs": [
    {
     "data": {
      "image/png": "[encoded data removed]",
      "text/plain": [
       "<rdkit.Chem.rdchem.Mol at 0x23777dd2dc0>"
      ]
     },
     "execution_count": 27,
     "metadata": {},
     "output_type": "execute_result"
    }
   ],
   "source": [
    "bipycu = Chem.MolFromSmiles('c1cccn->2c1-c1n->3cccc1.[Cu]23(Cl)Cl')\n",
    "bipycu"
   ]
  },
  {
   "cell_type": "code",
   "execution_count": 28,
   "id": "9dc18fca-767a-43b5-bd33-dfa9d52f40bc",
   "metadata": {},
   "outputs": [
    {
     "data": {
      "text/plain": [
       "rdkit.Chem.rdchem.BondType.DATIVE"
      ]
     },
     "execution_count": 28,
     "metadata": {},
     "output_type": "execute_result"
    }
   ],
   "source": [
    "bipycu.GetBondBetweenAtoms(4,12).GetBondType()\n"
   ]
  },
  {
   "cell_type": "code",
   "execution_count": 29,
   "id": "4bf463f3-d40b-46ad-8999-69f244cf459f",
   "metadata": {},
   "outputs": [
    {
     "data": {
      "text/plain": [
       "'Cl[Cu]1(Cl)<-n2ccccc2-c2ccccn->12'"
      ]
     },
     "execution_count": 29,
     "metadata": {},
     "output_type": "execute_result"
    }
   ],
   "source": [
    "Chem.MolToSmiles(bipycu)"
   ]
  },
  {
   "cell_type": "code",
   "execution_count": 30,
   "id": "c806885d-9fca-4aba-98da-5b54e2a5cf0e",
   "metadata": {},
   "outputs": [
    {
     "data": {
      "image/png": "[encoded data removed]",
      "text/plain": [
       "<rdkit.Chem.rdchem.Mol at 0x23777dd2f80>"
      ]
     },
     "execution_count": 30,
     "metadata": {},
     "output_type": "execute_result"
    }
   ],
   "source": [
    "Chem.MolFromSmiles('Cl[Cu]1(Cl)<-n2ccccc2-c2ccccn->12')"
   ]
  },
  {
   "cell_type": "markdown",
   "id": "2385b17d-c880-46f8-9f9b-890b2054838d",
   "metadata": {},
   "source": [
    "- 配价键的特点是不影响起始原子的化合价，但会影响末端原子的化合价。因此，在这种情况下，参与配位键的 N 原子的价为 3，这是我们对双键的预期，而 Cu 的价为 4：\n"
   ]
  },
  {
   "cell_type": "code",
   "execution_count": 31,
   "id": "d30eb8eb-700d-4878-8842-7ea49a7fff22",
   "metadata": {},
   "outputs": [
    {
     "data": {
      "text/plain": [
       "3"
      ]
     },
     "execution_count": 31,
     "metadata": {},
     "output_type": "execute_result"
    }
   ],
   "source": [
    "bipycu.GetAtomWithIdx(4).GetTotalValence()"
   ]
  },
  {
   "cell_type": "code",
   "execution_count": 32,
   "id": "299a95b5-ee6b-4224-91ff-02723aaee224",
   "metadata": {},
   "outputs": [
    {
     "data": {
      "text/plain": [
       "4"
      ]
     },
     "execution_count": 32,
     "metadata": {},
     "output_type": "execute_result"
    }
   ],
   "source": [
    "bipycu.GetAtomWithIdx(12).GetTotalValence()"
   ]
  },
  {
   "cell_type": "markdown",
   "id": "9de42ef7-5ac3-4bd7-bcc7-48cc93f2fd43",
   "metadata": {},
   "source": [
    "#### 闭环\n",
    "- 环闭包支持%(N)表示法，其中N是个位数%(N)到五位数%(NNNNN)。下面是一个例子:\n"
   ]
  },
  {
   "cell_type": "code",
   "execution_count": 53,
   "id": "695551ba-8b0d-4005-8d47-3074208142d0",
   "metadata": {},
   "outputs": [
    {
     "data": {
      "image/png": "[encoded data removed]",
      "text/plain": [
       "<rdkit.Chem.rdchem.Mol at 0x23777df5380>"
      ]
     },
     "execution_count": 53,
     "metadata": {},
     "output_type": "execute_result"
    }
   ],
   "source": [
    "m = Chem.MolFromSmiles('C%(1000)Occcc%(1000)')\n",
    "m"
   ]
  },
  {
   "cell_type": "code",
   "execution_count": 54,
   "id": "4ed0f20a-41bd-4a37-93ef-807f1bdf1d70",
   "metadata": {},
   "outputs": [
    {
     "data": {
      "text/plain": [
       "True"
      ]
     },
     "execution_count": 54,
     "metadata": {},
     "output_type": "execute_result"
    }
   ],
   "source": [
    "m.GetAtomWithIdx(0).IsInRing()"
   ]
  },
  {
   "cell_type": "code",
   "execution_count": 55,
   "id": "b9fdd5cc-c7d4-4b60-8f0b-680d4111b219",
   "metadata": {},
   "outputs": [
    {
     "data": {
      "text/plain": [
       "True"
      ]
     },
     "execution_count": 55,
     "metadata": {},
     "output_type": "execute_result"
    }
   ],
   "source": [
    "m.GetAtomWithIdx(2).IsInRing()"
   ]
  },
  {
   "cell_type": "markdown",
   "id": "18a086c5-4dff-4a94-837a-58b053dd19a2",
   "metadata": {},
   "source": [
    "#### 用原子序数指定原子\n",
    "- SMILES 支持 SMARTS 中的 [#6] 结构。\r",
    "####  四重键\n",
    "- 符号 $ 可用来表示 SMILES 和 SMARTS 中的四重键。\n",
    "\n",
    "#### CXSMILES / CXSMARTS扩展\n",
    "- RDKit 支持解析和写入 ChemAxon 引入的 SMILES/SMARTS 扩展功能的子集。\r\n"
   ]
  },
  {
   "cell_type": "code",
   "execution_count": 56,
   "id": "90059be7-3413-4672-b418-2dfeefaf19ef",
   "metadata": {},
   "outputs": [
    {
     "data": {
      "image/png": "[encoded data removed]",
      "text/plain": [
       "<rdkit.Chem.rdchem.Mol at 0x23777df5690>"
      ]
     },
     "execution_count": 56,
     "metadata": {},
     "output_type": "execute_result"
    }
   ],
   "source": [
    "m = Chem.MolFromSmiles('OC')\n",
    "m"
   ]
  },
  {
   "cell_type": "code",
   "execution_count": 57,
   "id": "8a2c16a5-b13e-4e26-8c28-0c52c4d37ed1",
   "metadata": {},
   "outputs": [
    {
     "data": {
      "image/png": "[encoded data removed]",
      "text/plain": [
       "<rdkit.Chem.rdchem.Mol at 0x23777df5690>"
      ]
     },
     "execution_count": 57,
     "metadata": {},
     "output_type": "execute_result"
    }
   ],
   "source": [
    "m.GetAtomWithIdx(0).SetProp('p1','2')\n",
    "m"
   ]
  },
  {
   "cell_type": "code",
   "execution_count": 58,
   "id": "ab9a7c49-d3b8-403b-9f93-29a2d1fdd383",
   "metadata": {},
   "outputs": [
    {
     "data": {
      "image/png": "[encoded data removed]",
      "text/plain": [
       "<rdkit.Chem.rdchem.Mol at 0x23777df5690>"
      ]
     },
     "execution_count": 58,
     "metadata": {},
     "output_type": "execute_result"
    }
   ],
   "source": [
    "m.GetAtomWithIdx(1).SetProp('p1','5')\n",
    "m"
   ]
  },
  {
   "cell_type": "code",
   "execution_count": 62,
   "id": "9a7e26a0-31f6-41a0-8ce9-54741acad34a",
   "metadata": {},
   "outputs": [
    {
     "data": {
      "image/png": "[encoded data removed]",
      "text/plain": [
       "<rdkit.Chem.rdchem.Mol at 0x23777df5690>"
      ]
     },
     "execution_count": 62,
     "metadata": {},
     "output_type": "execute_result"
    }
   ],
   "source": [
    "m.GetAtomWithIdx(1).SetProp('p2','A1')\n",
    "m.GetAtomWithIdx(0).SetProp('atomLabel','O1')\n",
    "m"
   ]
  },
  {
   "cell_type": "code",
   "execution_count": 64,
   "id": "443dcabd-b504-4b46-a79a-06ef977eaf47",
   "metadata": {},
   "outputs": [
    {
     "data": {
      "image/png": "[encoded data removed]",
      "text/plain": [
       "<rdkit.Chem.rdchem.Mol at 0x23777df5690>"
      ]
     },
     "execution_count": 64,
     "metadata": {},
     "output_type": "execute_result"
    }
   ],
   "source": [
    "m.GetAtomWithIdx(1).SetProp('atomLabel','C2')\n",
    "m"
   ]
  },
  {
   "cell_type": "code",
   "execution_count": 65,
   "id": "178415df-7b8d-4aa3-9cd5-78db00e0fa98",
   "metadata": {},
   "outputs": [
    {
     "data": {
      "text/plain": [
       "'CO |$C2;O1$,atomProp:0.p1.5:0.p2.A1:1.p1.2|'"
      ]
     },
     "execution_count": 65,
     "metadata": {},
     "output_type": "execute_result"
    }
   ],
   "source": [
    "Chem.MolToCXSmiles(m)"
   ]
  },
  {
   "cell_type": "markdown",
   "id": "4409d9e8-c88c-472f-ad17-e226105cb0f5",
   "metadata": {},
   "source": [
    "#### 读取分子名称\n",
    "- 如果 SMILES/SMARTS 和可选的 CXSMILES 扩展名后面是空白和另一个字符串，SMILES/SMARTS 分析程序会将其解释为分子名称：\n"
   ]
  },
  {
   "cell_type": "code",
   "execution_count": 67,
   "id": "8304534e-e24e-4007-8464-c84499237761",
   "metadata": {},
   "outputs": [
    {
     "data": {
      "text/plain": [
       "'carbon monoxide'"
      ]
     },
     "execution_count": 67,
     "metadata": {},
     "output_type": "execute_result"
    }
   ],
   "source": [
    "m = Chem.MolFromSmiles('CO carbon monoxide')\n",
    "m.GetProp('_Name')\n"
   ]
  },
  {
   "cell_type": "code",
   "execution_count": 68,
   "id": "8b3b7bf3-8454-4966-91a4-f24694841051",
   "metadata": {},
   "outputs": [
    {
     "data": {
      "text/plain": [
       "'C2'"
      ]
     },
     "execution_count": 68,
     "metadata": {},
     "output_type": "execute_result"
    }
   ],
   "source": [
    "m2 = Chem.MolFromSmiles('CO |$C2;O1$| carbon monoxide')\n",
    "m2.GetAtomWithIdx(0).GetProp('atomLabel')"
   ]
  },
  {
   "cell_type": "code",
   "execution_count": 69,
   "id": "6ddcbc18-30c8-486d-99e7-033a42946ddf",
   "metadata": {},
   "outputs": [
    {
     "data": {
      "text/plain": [
       "'carbon monoxide'"
      ]
     },
     "execution_count": 69,
     "metadata": {},
     "output_type": "execute_result"
    }
   ],
   "source": [
    "m2.GetProp('_Name')"
   ]
  },
  {
   "cell_type": "markdown",
   "id": "8e1327de-bbeb-42ca-9f99-04e160c49493",
   "metadata": {},
   "source": [
    "- 这可以在解析CXSMILES时禁用:"
   ]
  },
  {
   "cell_type": "code",
   "execution_count": 71,
   "id": "a4416c47-e702-41de-ac8f-1f9b321db970",
   "metadata": {},
   "outputs": [
    {
     "data": {
      "text/plain": [
       "0"
      ]
     },
     "execution_count": 71,
     "metadata": {},
     "output_type": "execute_result"
    }
   ],
   "source": [
    "ps = Chem.SmilesParserParams()\n",
    "ps.parseName = False\n",
    "m3 = Chem.MolFromSmiles('CO |$C2;O1$| carbon monoxide',ps)\n",
    "m3.HasProp('_Name')"
   ]
  },
  {
   "cell_type": "code",
   "execution_count": 72,
   "id": "a8365d6f-d27c-4d1a-920e-f7db2c61f81a",
   "metadata": {},
   "outputs": [
    {
     "data": {
      "text/plain": [
       "'C2'"
      ]
     },
     "execution_count": 72,
     "metadata": {},
     "output_type": "execute_result"
    }
   ],
   "source": [
    "m3.GetAtomWithIdx(0).GetProp('atomLabel')"
   ]
  },
  {
   "cell_type": "markdown",
   "id": "9388c277-714c-4530-84f4-f73602366cf7",
   "metadata": {},
   "source": [
    "- 请注意，如果禁用 CXSMILES 解析，但输入包含 CXSMILES 的字符串，它将被解释为名称的一部分："
   ]
  },
  {
   "cell_type": "code",
   "execution_count": 73,
   "id": "b58cbed2-96ad-4c66-b5cb-894542378b70",
   "metadata": {},
   "outputs": [
    {
     "data": {
      "text/plain": [
       "'|$C2;O1$| carbon monoxide'"
      ]
     },
     "execution_count": 73,
     "metadata": {},
     "output_type": "execute_result"
    }
   ],
   "source": [
    "ps = Chem.SmilesParserParams()\n",
    "ps.allowCXSMILES = False\n",
    "m4 = Chem.MolFromSmiles('CO |$C2;O1$| carbon monoxide',ps)\n",
    "m4.GetProp('_Name')"
   ]
  },
  {
   "cell_type": "markdown",
   "id": "75474a59-1ab2-466b-aa6d-a4a0a34b7f0a",
   "metadata": {},
   "source": [
    "- 最后，如果禁用 CXSMILES 和名称的解析，那么 SMILES/SMARTS 字符串中的额外文本将导致错误： ... doctest：\n"
   ]
  },
  {
   "cell_type": "code",
   "execution_count": 75,
   "id": "53c689c8-3ee7-4d0f-b9e1-4235405ef8c4",
   "metadata": {},
   "outputs": [
    {
     "name": "stderr",
     "output_type": "stream",
     "text": [
      "[19:37:21] SMILES Parse Error: syntax error while parsing: CO |$C2;O1$| carbon monoxide\n",
      "[19:37:21] SMILES Parse Error: Failed parsing SMILES 'CO |$C2;O1$| carbon monoxide' for input: 'CO |$C2;O1$| carbon monoxide'\n"
     ]
    },
    {
     "data": {
      "text/plain": [
       "True"
      ]
     },
     "execution_count": 75,
     "metadata": {},
     "output_type": "execute_result"
    }
   ],
   "source": [
    "ps = Chem.SmilesParserParams()\n",
    "ps.allowCXSMILES = False\n",
    "ps.parseName = False\n",
    "m5 = Chem.MolFromSmiles('CO |$C2;O1$| carbon monoxide',ps)\n",
    "m5 is None"
   ]
  },
  {
   "cell_type": "code",
   "execution_count": 76,
   "id": "cd4d5633-0da2-4943-9c83-05890d7c399e",
   "metadata": {},
   "outputs": [
    {
     "name": "stderr",
     "output_type": "stream",
     "text": [
      "[19:37:30] SMILES Parse Error: syntax error while parsing: CO carbon monoxide\n",
      "[19:37:30] SMILES Parse Error: Failed parsing SMILES 'CO carbon monoxide' for input: 'CO carbon monoxide'\n"
     ]
    },
    {
     "data": {
      "text/plain": [
       "True"
      ]
     },
     "execution_count": 76,
     "metadata": {},
     "output_type": "execute_result"
    }
   ],
   "source": [
    "m5 = Chem.MolFromSmiles('CO carbon monoxide',ps)\n",
    "m5 is None"
   ]
  },
  {
   "cell_type": "markdown",
   "id": "57eddbd1-e93f-4268-a9cd-541992fb56c6",
   "metadata": {},
   "source": [
    "- 本节中的示例都使用了 SMILES 解析器，但 SMARTS 解析器的行为方式相同。\n"
   ]
  }
 ],
 "metadata": {
  "kernelspec": {
   "display_name": "Python 3 (ipykernel)",
   "language": "python",
   "name": "python3"
  },
  "language_info": {
   "codemirror_mode": {
    "name": "ipython",
    "version": 3
   },
   "file_extension": ".py",
   "mimetype": "text/x-python",
   "name": "python",
   "nbconvert_exporter": "python",
   "pygments_lexer": "ipython3",
   "version": "3.11.4"
  }
 },
 "nbformat": 4,
 "nbformat_minor": 5
}
