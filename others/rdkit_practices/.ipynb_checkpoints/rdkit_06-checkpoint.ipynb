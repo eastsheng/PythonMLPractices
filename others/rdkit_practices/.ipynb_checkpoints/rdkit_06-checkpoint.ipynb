{
 "cells": [
  {
   "cell_type": "code",
   "execution_count": 21,
   "id": "95598aae-e7df-4dc3-8fce-29808c6405dc",
   "metadata": {},
   "outputs": [],
   "source": [
    "import warnings \n",
    "warnings.filterwarnings('ignore')\n",
    "import numpy as np"
   ]
  },
  {
   "cell_type": "code",
   "execution_count": 28,
   "id": "d2b60d16-0377-4720-bc3d-2098056dfe49",
   "metadata": {},
   "outputs": [
    {
     "ename": "ModuleNotFoundError",
     "evalue": "No module named 'mbuild'",
     "output_type": "error",
     "traceback": [
      "\u001b[0;31m---------------------------------------------------------------------------\u001b[0m",
      "\u001b[0;31mModuleNotFoundError\u001b[0m                       Traceback (most recent call last)",
      "Cell \u001b[0;32mIn[28], line 1\u001b[0m\n\u001b[0;32m----> 1\u001b[0m \u001b[38;5;28;01mimport\u001b[39;00m \u001b[38;5;21;01mmbuild\u001b[39;00m \u001b[38;5;28;01mas\u001b[39;00m \u001b[38;5;21;01mmb\u001b[39;00m\n\u001b[1;32m      2\u001b[0m \u001b[38;5;66;03m# from mbuild.lib.recipes.polymer import Polymer\u001b[39;00m\n",
      "\u001b[0;31mModuleNotFoundError\u001b[0m: No module named 'mbuild'"
     ]
    }
   ],
   "source": [
    "import mbuild as mb\n",
    "# from mbuild.lib.recipes.polymer import Polymer\n"
   ]
  },
  {
   "cell_type": "code",
   "execution_count": null,
   "id": "185965fc-cf66-41d8-87d0-4b4416763a62",
   "metadata": {},
   "outputs": [],
   "source": [
    "## this function will build your polymer chain for you. You feed it an instance of a monomer class \n",
    "## that has the indices where the bonds need to be formed.\n",
    "def build_chain(monomer, length, min_energy):\n",
    "    chain = Polymer()\n",
    "    chain.add_monomer(compound=monomer,\n",
    "                 indices=monomer.bond_indices,\n",
    "                 separation=monomer.separation,\n",
    "                 replace=monomer.replace,\n",
    "                 orientation=monomer.orientations)\n",
    "    chain.build(n=length)\n",
    "    if min_energy == True:\n",
    "        chain.energy_minimize()\n",
    "    return chain"
   ]
  }
 ],
 "metadata": {
  "kernelspec": {
   "display_name": "Python 3 (ipykernel)",
   "language": "python",
   "name": "python3"
  },
  "language_info": {
   "codemirror_mode": {
    "name": "ipython",
    "version": 3
   },
   "file_extension": ".py",
   "mimetype": "text/x-python",
   "name": "python",
   "nbconvert_exporter": "python",
   "pygments_lexer": "ipython3",
   "version": "3.11.4"
  }
 },
 "nbformat": 4,
 "nbformat_minor": 5
}
