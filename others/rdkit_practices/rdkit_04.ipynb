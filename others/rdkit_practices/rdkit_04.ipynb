{
 "cells": [
  {
   "cell_type": "code",
   "execution_count": 1,
   "id": "677cb5cd-4637-432d-9ff2-6206739accfb",
   "metadata": {},
   "outputs": [
    {
     "data": {
      "image/png": "[encoded data removed]",
      "text/plain": [
       "<rdkit.Chem.rdchem.Mol at 0x7f49504842e0>"
      ]
     },
     "execution_count": 1,
     "metadata": {},
     "output_type": "execute_result"
    }
   ],
   "source": [
    "import numpy as np\n",
    "from rdkit import Chem\n",
    "mol = Chem.MolFromSmiles('*C1=CC=CC=C1C(S=O)C*')\n",
    "mol"
   ]
  },
  {
   "cell_type": "code",
   "execution_count": 2,
   "id": "311a727a-8575-42fb-b37c-5fbd3f59b37b",
   "metadata": {},
   "outputs": [],
   "source": [
    "# rdkit里面所有键种类的一个list\n",
    "bond_list = [Chem.rdchem.BondType.UNSPECIFIED, Chem.rdchem.BondType.SINGLE, Chem.rdchem.BondType.DOUBLE,\n",
    "             Chem.rdchem.BondType.TRIPLE, Chem.rdchem.BondType.QUADRUPLE, Chem.rdchem.BondType.QUINTUPLE,\n",
    "             Chem.rdchem.BondType.HEXTUPLE, Chem.rdchem.BondType.ONEANDAHALF, Chem.rdchem.BondType.TWOANDAHALF,\n",
    "             Chem.rdchem.BondType.THREEANDAHALF, Chem.rdchem.BondType.FOURANDAHALF, Chem.rdchem.BondType.FIVEANDAHALF,\n",
    "             Chem.rdchem.BondType.AROMATIC, Chem.rdchem.BondType.IONIC, Chem.rdchem.BondType.HYDROGEN,\n",
    "             Chem.rdchem.BondType.THREECENTER, Chem.rdchem.BondType.DATIVEONE, Chem.rdchem.BondType.DATIVE,\n",
    "             Chem.rdchem.BondType.DATIVEL, Chem.rdchem.BondType.DATIVER, Chem.rdchem.BondType.OTHER,\n",
    "             Chem.rdchem.BondType.ZERO]"
   ]
  },
  {
   "cell_type": "code",
   "execution_count": 15,
   "id": "e3e6f89f-5acd-433a-8183-b19e3c61a809",
   "metadata": {},
   "outputs": [
    {
     "data": {
      "text/plain": [
       "['*', 'C', 'C', 'C', 'C', 'C', 'C', 'C', 'S', 'O', 'C', '*']"
      ]
     },
     "execution_count": 15,
     "metadata": {},
     "output_type": "execute_result"
    }
   ],
   "source": [
    "# 得到输入分子的嵌入键种类的邻接矩阵，以及原子信息\n",
    "adjacency_matrix = Chem.rdmolops.GetAdjacencyMatrix(mol)\n",
    "\n",
    "for bond in mol.GetBonds():\n",
    "    adjacency_matrix[bond.GetBeginAtomIdx(), bond.GetEndAtomIdx()] = bond_list.index(bond.GetBondType())\n",
    "    adjacency_matrix[bond.GetEndAtomIdx(), bond.GetBeginAtomIdx()] = bond_list.index(bond.GetBondType())\n",
    "atoms = []\n",
    "for atom in mol.GetAtoms():\n",
    "    atoms.append(atom.GetSymbol())\n",
    "\n",
    "added_adjacency_matrix = adjacency_matrix.copy()\n",
    "added_atoms = atoms.copy()\n",
    "added_atoms"
   ]
  },
  {
   "cell_type": "code",
   "execution_count": 16,
   "id": "4605532d-0f8f-49ba-a169-af22f6bc8b1d",
   "metadata": {},
   "outputs": [],
   "source": [
    "# 得到xx_index, 标记符号*的位置信息\n",
    "xx_index=[index for index, atom in enumerate(atoms) if atom == '*']"
   ]
  },
  {
   "cell_type": "code",
   "execution_count": 6,
   "id": "8d3c31ba-a4ac-4779-a685-dba9e5acb20c",
   "metadata": {},
   "outputs": [
    {
     "data": {
      "text/plain": [
       "[0, 11]"
      ]
     },
     "execution_count": 6,
     "metadata": {},
     "output_type": "execute_result"
    }
   ],
   "source": [
    "xx_index"
   ]
  },
  {
   "cell_type": "code",
   "execution_count": 17,
   "id": "e739b894-86cb-4135-a89d-cfca0244a038",
   "metadata": {},
   "outputs": [],
   "source": [
    "# 得到b和x2和其他位置的序号以及连接部键的种类\n",
    "x2_index=xx_index[-1]\n",
    "x4_index=x2_index\n",
    "b_index=x2_index-1\n",
    "b1_index=b_index\n",
    "a_index=xx_index[0]+1\n",
    "a1_index=a_index\n",
    "b_x2_bondtype = adjacency_matrix[x2_index, b_index]"
   ]
  },
  {
   "cell_type": "code",
   "execution_count": 18,
   "id": "a708d91b-4145-42af-b7ab-f9f17ed9ae05",
   "metadata": {},
   "outputs": [
    {
     "data": {
      "text/plain": [
       "'*'"
      ]
     },
     "execution_count": 18,
     "metadata": {},
     "output_type": "execute_result"
    }
   ],
   "source": [
    "# 删掉邻接矩阵里*的部分以及删掉原子列表里的*\n",
    "adjacency_matrix = np.delete(adjacency_matrix, x2_index, 0)\n",
    "adjacency_matrix = np.delete(adjacency_matrix, x2_index, 1)\n",
    "atoms.pop(-1)"
   ]
  },
  {
   "cell_type": "code",
   "execution_count": 19,
   "id": "da9226f4-cde9-44be-81d3-b729891768e8",
   "metadata": {},
   "outputs": [],
   "source": [
    "# 到这一步原生部分的分子，邻接矩阵以及原子信息就整理完了。\n",
    "\n",
    "# 接下来是最开始写的步骤里的3~4，对添加部分的东西进行编辑\n",
    "\n",
    "# 在第一步已经对原生部分copy了，这里进行一些调整\n",
    "x3_index=xx_index[0]\n",
    "added_adjacency_matrix[:, x3_index], added_adjacency_matrix[:, -1] = added_adjacency_matrix[:, -1].copy(), added_adjacency_matrix[:, x3_index].copy()\n",
    "added_adjacency_matrix[x3_index, :], added_adjacency_matrix[-1, :] = added_adjacency_matrix[-1, :].copy(), added_adjacency_matrix[x3_index, :].copy()"
   ]
  },
  {
   "cell_type": "code",
   "execution_count": 23,
   "id": "d6e092fa-02be-46bf-be6c-d69f29af985d",
   "metadata": {},
   "outputs": [
    {
     "data": {
      "text/plain": [
       "'*'"
      ]
     },
     "execution_count": 23,
     "metadata": {},
     "output_type": "execute_result"
    }
   ],
   "source": [
    "# 同样的删除带*的x4以及对应矩阵里的成分，删除原子\n",
    "added_adjacency_matrix = np.delete(added_adjacency_matrix, x4_index, 0)\n",
    "added_adjacency_matrix = np.delete(added_adjacency_matrix, x4_index, 1)\n",
    "added_atoms.pop(-1)"
   ]
  },
  {
   "cell_type": "code",
   "execution_count": 24,
   "id": "43010e6a-8ec0-4b46-8b72-416ce7ecb067",
   "metadata": {},
   "outputs": [],
   "source": [
    "# 添加部分整理好了，接下来是步骤5原生部分+添加部分结合，得到新的邻接矩阵以及原子信息。首先是整理全部原子的符号\n",
    "new_atoms = atoms[:]\n",
    "new_atoms += added_atoms"
   ]
  },
  {
   "cell_type": "code",
   "execution_count": 26,
   "id": "de7c9566-ff8d-4c82-8290-8df2e8a83d7a",
   "metadata": {},
   "outputs": [],
   "source": [
    "# 接下来结合两个邻接矩阵\n",
    "new_adjacency_matrix = adjacency_matrix.copy()\n",
    "new_adjacency_matrix = np.c_[new_adjacency_matrix, np.zeros(\n",
    "        [new_adjacency_matrix.shape[0], x2_index], dtype='int32')]\n",
    "new_adjacency_matrix = np.r_[new_adjacency_matrix, np.zeros(\n",
    "        [x2_index, new_adjacency_matrix.shape[1]], dtype='int32')]\n",
    "\n",
    "new_adjacency_matrix[x2_index:, x2_index:] = added_adjacency_matrix"
   ]
  },
  {
   "cell_type": "code",
   "execution_count": 27,
   "id": "675697b0-553a-4296-9e11-5e5f5c328883",
   "metadata": {},
   "outputs": [],
   "source": [
    "# 最后一步把邻接矩阵的连接部的键的种类(单键)修正一下\n",
    "new_adjacency_matrix[\n",
    "b_index, a1_index + x2_index] = b_x2_bondtype\n",
    "new_adjacency_matrix[\n",
    "a1_index + x2_index, b_index] = b_x2_bondtype"
   ]
  },
  {
   "cell_type": "code",
   "execution_count": 28,
   "id": "00af79bd-b9a5-41e1-9af3-9e121bbb1fc3",
   "metadata": {},
   "outputs": [
    {
     "data": {
      "image/png": "[encoded data removed]",
      "text/plain": [
       "<rdkit.Chem.rdchem.Mol at 0x7f4950485460>"
      ]
     },
     "execution_count": 28,
     "metadata": {},
     "output_type": "execute_result"
    }
   ],
   "source": [
    "# 总结一下，new_atoms 就是结合后的全部原子，new_adjacency_matrix是新生成的邻接矩阵。接下来就是graph2mol把分子拿回来!!\n",
    "new_mol = Chem.RWMol()\n",
    "atom_index = []\n",
    "for atom_number in range(len(new_atoms)):\n",
    "    atom = Chem.Atom(new_atoms[atom_number])\n",
    "    molecular_index = new_mol.AddAtom(atom)\n",
    "    atom_index.append(molecular_index)\n",
    "for index_x, row_vector in enumerate(new_adjacency_matrix):\n",
    "    for index_y, bond in enumerate(row_vector):\n",
    "        if index_y <= index_x:\n",
    "            continue\n",
    "        if bond == 0:\n",
    "            continue\n",
    "        else:\n",
    "            new_mol.AddBond(atom_index[index_x], atom_index[index_y], bond_list[bond])\n",
    "\n",
    "new_mol = new_mol.GetMol()\n",
    "new_mol_smi = Chem.MolToSmiles(new_mol)\n",
    "new_mol"
   ]
  }
 ],
 "metadata": {
  "kernelspec": {
   "display_name": "Python 3 (ipykernel)",
   "language": "python",
   "name": "python3"
  },
  "language_info": {
   "codemirror_mode": {
    "name": "ipython",
    "version": 3
   },
   "file_extension": ".py",
   "mimetype": "text/x-python",
   "name": "python",
   "nbconvert_exporter": "python",
   "pygments_lexer": "ipython3",
   "version": "3.11.4"
  }
 },
 "nbformat": 4,
 "nbformat_minor": 5
}
