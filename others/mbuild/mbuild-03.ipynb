{
 "cells": [
  {
   "cell_type": "markdown",
   "id": "9ff3dc1e-c568-43ce-a0af-71727972e185",
   "metadata": {},
   "source": [
    "### 乙烷: 读取文件，端口和坐标变换\n",
    "- 注意:mBuild期望所有的距离单位都是纳米。\n",
    "- 在本例中，将介绍从文件中读取分子组件，介绍Ports的概念，并开始使用一些坐标变换。"
   ]
  },
  {
   "cell_type": "code",
   "execution_count": 1,
   "id": "97814276-17c0-4259-b3a5-238400bc4265",
   "metadata": {},
   "outputs": [
    {
     "name": "stderr",
     "output_type": "stream",
     "text": [
      "/home/cup/softwares/miniconda/miniconda3/envs/py3.11/lib/python3.11/site-packages/mdtraj/formats/__init__.py:6: DeprecationWarning: 'xdrlib' is deprecated and slated for removal in Python 3.13\n",
      "  from .xtc import XTCTrajectoryFile\n",
      "/home/cup/softwares/miniconda/miniconda3/envs/py3.11/lib/python3.11/site-packages/lark/utils.py:163: DeprecationWarning: module 'sre_parse' is deprecated\n",
      "  import sre_parse\n",
      "/home/cup/softwares/miniconda/miniconda3/envs/py3.11/lib/python3.11/site-packages/lark/utils.py:164: DeprecationWarning: module 'sre_constants' is deprecated\n",
      "  import sre_constants\n",
      "/home/cup/softwares/miniconda/miniconda3/envs/py3.11/lib/python3.11/site-packages/mbuild/recipes/__init__.py:13: DeprecationWarning: SelectableGroups dict interface is deprecated. Use select.\n",
      "  entry_points = metadata.entry_points()[\"mbuild.plugins\"]\n"
     ]
    }
   ],
   "source": [
    "import mbuild as mb"
   ]
  },
  {
   "cell_type": "markdown",
   "id": "61683ae1-f2af-4358-9356-b06bc1f46c62",
   "metadata": {},
   "source": [
    "- 手动为化合物添加粒子和键是有点麻烦的。\n",
    "- 创建小型可重用组件(如甲基、胺或单体)的最简单方法是使用Avogadro等软件手绘它们，\n",
    "- 并将它们导出为.pdb或.mol2文件(该文件应包含连接信息)。"
   ]
  },
  {
   "cell_type": "code",
   "execution_count": 6,
   "id": "b698f1c4-5595-4bd8-ad78-24fade1b0f68",
   "metadata": {},
   "outputs": [
    {
     "data": {
      "application/3dmoljs_load.v0": "<div id=\"3dmolviewer_16952976566722133\"  style=\"position: relative; width: 640px; height: 480px;\">\n        <p id=\"3dmolwarning_16952976566722133\" style=\"background-color:#ffcccc;color:black\">You appear to be running in JupyterLab (or JavaScript failed to load for some other reason).  You need to install the 3dmol extension: <br>\n        <tt>jupyter labextension install jupyterlab_3dmol</tt></p>\n        </div>\n<script>\n\nvar loadScriptAsync = function(uri){\n  return new Promise((resolve, reject) => {\n    //this is to ignore the existence of requirejs amd\n    var savedexports, savedmodule;\n    if (typeof exports !== 'undefined') savedexports = exports;\n    else exports = {}\n    if (typeof module !== 'undefined') savedmodule = module;\n    else module = {}\n\n    var tag = document.createElement('script');\n    tag.src = uri;\n    tag.async = true;\n    tag.onload = () => {\n        exports = savedexports;\n        module = savedmodule;\n        resolve();\n    };\n  var firstScriptTag = document.getElementsByTagName('script')[0];\n  firstScriptTag.parentNode.insertBefore(tag, firstScriptTag);\n});\n};\n\nif(typeof $3Dmolpromise === 'undefined') {\n$3Dmolpromise = null;\n  $3Dmolpromise = loadScriptAsync('https://cdnjs.cloudflare.com/ajax/libs/3Dmol/2.0.4/3Dmol-min.js');\n}\n\nvar viewer_16952976566722133 = null;\nvar warn = document.getElementById(\"3dmolwarning_16952976566722133\");\nif(warn) {\n    warn.parentNode.removeChild(warn);\n}\n$3Dmolpromise.then(function() {\nviewer_16952976566722133 = $3Dmol.createViewer(document.getElementById(\"3dmolviewer_16952976566722133\"),{backgroundColor:\"white\"});\nviewer_16952976566722133.zoomTo();\n\tviewer_16952976566722133.addModel(\"@<TRIPOS>MOLECULE\\nRES\\n4 0 1 0 1\\nSMALL\\nNO_CHARGES\\n@<TRIPOS>CRYSIN\\n    7.1000     7.0000     6.4000    90.0000    90.0000    90.0000 1 1\\n@<TRIPOS>ATOM\\n       1 C            0.0000     0.0000     0.0000 C             1 RES     \\n       2 H            1.1000     0.0000     0.0000 H             1 RES     \\n       3 H           -1.0000     0.0000    -0.7000 H             1 RES     \\n       4 H            0.0000     1.0000     0.7000 H             1 RES     \\n@<TRIPOS>BOND\\n@<TRIPOS>SUBSTRUCTURE\\n       1 RES             1 RESIDUE    0 **** ROOT      0\\n\",\"mol2\");\n\tviewer_16952976566722133.setStyle({\"stick\": {\"radius\": 0.2, \"color\": \"grey\"}, \"sphere\": {\"scale\": 0.3, \"colorscheme\": {}}});\n\tviewer_16952976566722133.zoomTo();\nviewer_16952976566722133.render();\n});\n</script>",
      "text/html": [
       "<div id=\"3dmolviewer_16952976566722133\"  style=\"position: relative; width: 640px; height: 480px;\">\n",
       "        <p id=\"3dmolwarning_16952976566722133\" style=\"background-color:#ffcccc;color:black\">You appear to be running in JupyterLab (or JavaScript failed to load for some other reason).  You need to install the 3dmol extension: <br>\n",
       "        <tt>jupyter labextension install jupyterlab_3dmol</tt></p>\n",
       "        </div>\n",
       "<script>\n",
       "\n",
       "var loadScriptAsync = function(uri){\n",
       "  return new Promise((resolve, reject) => {\n",
       "    //this is to ignore the existence of requirejs amd\n",
       "    var savedexports, savedmodule;\n",
       "    if (typeof exports !== 'undefined') savedexports = exports;\n",
       "    else exports = {}\n",
       "    if (typeof module !== 'undefined') savedmodule = module;\n",
       "    else module = {}\n",
       "\n",
       "    var tag = document.createElement('script');\n",
       "    tag.src = uri;\n",
       "    tag.async = true;\n",
       "    tag.onload = () => {\n",
       "        exports = savedexports;\n",
       "        module = savedmodule;\n",
       "        resolve();\n",
       "    };\n",
       "  var firstScriptTag = document.getElementsByTagName('script')[0];\n",
       "  firstScriptTag.parentNode.insertBefore(tag, firstScriptTag);\n",
       "});\n",
       "};\n",
       "\n",
       "if(typeof $3Dmolpromise === 'undefined') {\n",
       "$3Dmolpromise = null;\n",
       "  $3Dmolpromise = loadScriptAsync('https://cdnjs.cloudflare.com/ajax/libs/3Dmol/2.0.4/3Dmol-min.js');\n",
       "}\n",
       "\n",
       "var viewer_16952976566722133 = null;\n",
       "var warn = document.getElementById(\"3dmolwarning_16952976566722133\");\n",
       "if(warn) {\n",
       "    warn.parentNode.removeChild(warn);\n",
       "}\n",
       "$3Dmolpromise.then(function() {\n",
       "viewer_16952976566722133 = $3Dmol.createViewer(document.getElementById(\"3dmolviewer_16952976566722133\"),{backgroundColor:\"white\"});\n",
       "viewer_16952976566722133.zoomTo();\n",
       "\tviewer_16952976566722133.addModel(\"@<TRIPOS>MOLECULE\\nRES\\n4 0 1 0 1\\nSMALL\\nNO_CHARGES\\n@<TRIPOS>CRYSIN\\n    7.1000     7.0000     6.4000    90.0000    90.0000    90.0000 1 1\\n@<TRIPOS>ATOM\\n       1 C            0.0000     0.0000     0.0000 C             1 RES     \\n       2 H            1.1000     0.0000     0.0000 H             1 RES     \\n       3 H           -1.0000     0.0000    -0.7000 H             1 RES     \\n       4 H            0.0000     1.0000     0.7000 H             1 RES     \\n@<TRIPOS>BOND\\n@<TRIPOS>SUBSTRUCTURE\\n       1 RES             1 RESIDUE    0 **** ROOT      0\\n\",\"mol2\");\n",
       "\tviewer_16952976566722133.setStyle({\"stick\": {\"radius\": 0.2, \"color\": \"grey\"}, \"sphere\": {\"scale\": 0.3, \"colorscheme\": {}}});\n",
       "\tviewer_16952976566722133.zoomTo();\n",
       "viewer_16952976566722133.render();\n",
       "});\n",
       "</script>"
      ]
     },
     "metadata": {},
     "output_type": "display_data"
    },
    {
     "data": {
      "text/plain": [
       "<py3Dmol.view at 0x7f74822f1e90>"
      ]
     },
     "execution_count": 6,
     "metadata": {},
     "output_type": "execute_result"
    }
   ],
   "source": [
    "# 读取甲基\n",
    "ch3 = mb.load('./data/ch3.pdb')\n",
    "# ch3 = mb.load('./data/methane.pdb')\n",
    "ch3.visualize()"
   ]
  },
  {
   "cell_type": "code",
   "execution_count": 7,
   "id": "b38efcbc-71b3-43ff-b57d-3a288e44b035",
   "metadata": {},
   "outputs": [],
   "source": [
    "# 现在我们用第一个坐标变换把甲基放在碳原子的中心\n",
    "ch3.translate(-ch3[0].pos)  # Move carbon to origin."
   ]
  },
  {
   "cell_type": "code",
   "execution_count": 8,
   "id": "e1c6b0c9-0ea6-43c4-8512-22e6ae815e1c",
   "metadata": {},
   "outputs": [
    {
     "data": {
      "application/3dmoljs_load.v0": "<div id=\"3dmolviewer_16952977364103441\"  style=\"position: relative; width: 640px; height: 480px;\">\n        <p id=\"3dmolwarning_16952977364103441\" style=\"background-color:#ffcccc;color:black\">You appear to be running in JupyterLab (or JavaScript failed to load for some other reason).  You need to install the 3dmol extension: <br>\n        <tt>jupyter labextension install jupyterlab_3dmol</tt></p>\n        </div>\n<script>\n\nvar loadScriptAsync = function(uri){\n  return new Promise((resolve, reject) => {\n    //this is to ignore the existence of requirejs amd\n    var savedexports, savedmodule;\n    if (typeof exports !== 'undefined') savedexports = exports;\n    else exports = {}\n    if (typeof module !== 'undefined') savedmodule = module;\n    else module = {}\n\n    var tag = document.createElement('script');\n    tag.src = uri;\n    tag.async = true;\n    tag.onload = () => {\n        exports = savedexports;\n        module = savedmodule;\n        resolve();\n    };\n  var firstScriptTag = document.getElementsByTagName('script')[0];\n  firstScriptTag.parentNode.insertBefore(tag, firstScriptTag);\n});\n};\n\nif(typeof $3Dmolpromise === 'undefined') {\n$3Dmolpromise = null;\n  $3Dmolpromise = loadScriptAsync('https://cdnjs.cloudflare.com/ajax/libs/3Dmol/2.0.4/3Dmol-min.js');\n}\n\nvar viewer_16952977364103441 = null;\nvar warn = document.getElementById(\"3dmolwarning_16952977364103441\");\nif(warn) {\n    warn.parentNode.removeChild(warn);\n}\n$3Dmolpromise.then(function() {\nviewer_16952977364103441 = $3Dmol.createViewer(document.getElementById(\"3dmolviewer_16952977364103441\"),{backgroundColor:\"white\"});\nviewer_16952977364103441.zoomTo();\n\tviewer_16952977364103441.addModel(\"@<TRIPOS>MOLECULE\\nRES\\n4 0 1 0 1\\nSMALL\\nNO_CHARGES\\n@<TRIPOS>CRYSIN\\n    7.1000     7.0000     6.4000    90.0000    90.0000    90.0000 1 1\\n@<TRIPOS>ATOM\\n       1 C            0.0000     0.0000     0.0000 C             1 RES     \\n       2 H            1.1000     0.0000     0.0000 H             1 RES     \\n       3 H           -1.0000     0.0000    -0.7000 H             1 RES     \\n       4 H            0.0000     1.0000     0.7000 H             1 RES     \\n@<TRIPOS>BOND\\n@<TRIPOS>SUBSTRUCTURE\\n       1 RES             1 RESIDUE    0 **** ROOT      0\\n\",\"mol2\");\n\tviewer_16952977364103441.setStyle({\"stick\": {\"radius\": 0.2, \"color\": \"grey\"}, \"sphere\": {\"scale\": 0.3, \"colorscheme\": {}}});\n\tviewer_16952977364103441.zoomTo();\nviewer_16952977364103441.render();\n});\n</script>",
      "text/html": [
       "<div id=\"3dmolviewer_16952977364103441\"  style=\"position: relative; width: 640px; height: 480px;\">\n",
       "        <p id=\"3dmolwarning_16952977364103441\" style=\"background-color:#ffcccc;color:black\">You appear to be running in JupyterLab (or JavaScript failed to load for some other reason).  You need to install the 3dmol extension: <br>\n",
       "        <tt>jupyter labextension install jupyterlab_3dmol</tt></p>\n",
       "        </div>\n",
       "<script>\n",
       "\n",
       "var loadScriptAsync = function(uri){\n",
       "  return new Promise((resolve, reject) => {\n",
       "    //this is to ignore the existence of requirejs amd\n",
       "    var savedexports, savedmodule;\n",
       "    if (typeof exports !== 'undefined') savedexports = exports;\n",
       "    else exports = {}\n",
       "    if (typeof module !== 'undefined') savedmodule = module;\n",
       "    else module = {}\n",
       "\n",
       "    var tag = document.createElement('script');\n",
       "    tag.src = uri;\n",
       "    tag.async = true;\n",
       "    tag.onload = () => {\n",
       "        exports = savedexports;\n",
       "        module = savedmodule;\n",
       "        resolve();\n",
       "    };\n",
       "  var firstScriptTag = document.getElementsByTagName('script')[0];\n",
       "  firstScriptTag.parentNode.insertBefore(tag, firstScriptTag);\n",
       "});\n",
       "};\n",
       "\n",
       "if(typeof $3Dmolpromise === 'undefined') {\n",
       "$3Dmolpromise = null;\n",
       "  $3Dmolpromise = loadScriptAsync('https://cdnjs.cloudflare.com/ajax/libs/3Dmol/2.0.4/3Dmol-min.js');\n",
       "}\n",
       "\n",
       "var viewer_16952977364103441 = null;\n",
       "var warn = document.getElementById(\"3dmolwarning_16952977364103441\");\n",
       "if(warn) {\n",
       "    warn.parentNode.removeChild(warn);\n",
       "}\n",
       "$3Dmolpromise.then(function() {\n",
       "viewer_16952977364103441 = $3Dmol.createViewer(document.getElementById(\"3dmolviewer_16952977364103441\"),{backgroundColor:\"white\"});\n",
       "viewer_16952977364103441.zoomTo();\n",
       "\tviewer_16952977364103441.addModel(\"@<TRIPOS>MOLECULE\\nRES\\n4 0 1 0 1\\nSMALL\\nNO_CHARGES\\n@<TRIPOS>CRYSIN\\n    7.1000     7.0000     6.4000    90.0000    90.0000    90.0000 1 1\\n@<TRIPOS>ATOM\\n       1 C            0.0000     0.0000     0.0000 C             1 RES     \\n       2 H            1.1000     0.0000     0.0000 H             1 RES     \\n       3 H           -1.0000     0.0000    -0.7000 H             1 RES     \\n       4 H            0.0000     1.0000     0.7000 H             1 RES     \\n@<TRIPOS>BOND\\n@<TRIPOS>SUBSTRUCTURE\\n       1 RES             1 RESIDUE    0 **** ROOT      0\\n\",\"mol2\");\n",
       "\tviewer_16952977364103441.setStyle({\"stick\": {\"radius\": 0.2, \"color\": \"grey\"}, \"sphere\": {\"scale\": 0.3, \"colorscheme\": {}}});\n",
       "\tviewer_16952977364103441.zoomTo();\n",
       "viewer_16952977364103441.render();\n",
       "});\n",
       "</script>"
      ]
     },
     "metadata": {},
     "output_type": "display_data"
    },
    {
     "data": {
      "text/plain": [
       "<py3Dmol.view at 0x7f74823fac90>"
      ]
     },
     "execution_count": 8,
     "metadata": {},
     "output_type": "execute_result"
    }
   ],
   "source": [
    "ch3.visualize()"
   ]
  },
  {
   "cell_type": "code",
   "execution_count": 10,
   "id": "a910b9ca-beed-4d1e-b703-b37ecf7df29c",
   "metadata": {},
   "outputs": [],
   "source": [
    "# 为了在mBuild中连接Compound，我们使用了一种特殊类型的Compound: Port\n",
    "# Port是一种含有两组4个“ghost”粒子的化合物，这些粒子有助于形成键。\n",
    "# 此外，Port有一个anchor属性，通常指向Port应该关联的粒子\n",
    "# 在甲基中，Port应该被固定在碳原子上这样我们就可以和这个碳形成键了\n",
    "port = mb.Port(anchor=ch3[0])\n",
    "ch3.add(port, label='up')"
   ]
  },
  {
   "cell_type": "code",
   "execution_count": 11,
   "id": "9dc53d37-010e-4ea3-9de3-109919fb5c19",
   "metadata": {},
   "outputs": [],
   "source": [
    "# 将端口放置在大约半个C-C键长。\n",
    "ch3['up'].translate([0, -0.07, 0])"
   ]
  },
  {
   "cell_type": "code",
   "execution_count": 13,
   "id": "b7499fff-f6e9-4fce-85a5-a743727572fa",
   "metadata": {},
   "outputs": [
    {
     "data": {
      "application/3dmoljs_load.v0": "<div id=\"3dmolviewer_1695297951891099\"  style=\"position: relative; width: 640px; height: 480px;\">\n        <p id=\"3dmolwarning_1695297951891099\" style=\"background-color:#ffcccc;color:black\">You appear to be running in JupyterLab (or JavaScript failed to load for some other reason).  You need to install the 3dmol extension: <br>\n        <tt>jupyter labextension install jupyterlab_3dmol</tt></p>\n        </div>\n<script>\n\nvar loadScriptAsync = function(uri){\n  return new Promise((resolve, reject) => {\n    //this is to ignore the existence of requirejs amd\n    var savedexports, savedmodule;\n    if (typeof exports !== 'undefined') savedexports = exports;\n    else exports = {}\n    if (typeof module !== 'undefined') savedmodule = module;\n    else module = {}\n\n    var tag = document.createElement('script');\n    tag.src = uri;\n    tag.async = true;\n    tag.onload = () => {\n        exports = savedexports;\n        module = savedmodule;\n        resolve();\n    };\n  var firstScriptTag = document.getElementsByTagName('script')[0];\n  firstScriptTag.parentNode.insertBefore(tag, firstScriptTag);\n});\n};\n\nif(typeof $3Dmolpromise === 'undefined') {\n$3Dmolpromise = null;\n  $3Dmolpromise = loadScriptAsync('https://cdnjs.cloudflare.com/ajax/libs/3Dmol/2.0.4/3Dmol-min.js');\n}\n\nvar viewer_1695297951891099 = null;\nvar warn = document.getElementById(\"3dmolwarning_1695297951891099\");\nif(warn) {\n    warn.parentNode.removeChild(warn);\n}\n$3Dmolpromise.then(function() {\nviewer_1695297951891099 = $3Dmol.createViewer(document.getElementById(\"3dmolviewer_1695297951891099\"),{backgroundColor:\"white\"});\nviewer_1695297951891099.zoomTo();\n\tviewer_1695297951891099.addModel(\"@<TRIPOS>MOLECULE\\nRES\\n12 0 2 0 1\\nBIOPOLYMER\\nNO_CHARGES\\n@<TRIPOS>CRYSIN\\n    7.1000     7.0000     6.4000    90.0000    90.0000    90.0000 1 1\\n@<TRIPOS>ATOM\\n       1 C            0.0000     0.0000     0.0000 C             1 RES     \\n       2 H            1.1000     0.0000     0.0000 H             1 RES     \\n       3 H           -1.0000     0.0000    -0.7000 H             1 RES     \\n       4 H            0.0000     1.0000     0.7000 H             1 RES     \\n       5 VS           0.0500    -0.6750    -0.0250 VS            2 PRT     \\n       6 VS           0.0500    -0.4750    -0.0250 VS            2 PRT     \\n       7 VS          -0.1500    -0.7750    -0.0250 VS            2 PRT     \\n       8 VS           0.0500    -0.8750     0.0750 VS            2 PRT     \\n       9 VS          -0.0500    -0.7250    -0.0250 VS            2 PRT     \\n      10 VS          -0.0500    -0.9250    -0.0250 VS            2 PRT     \\n      11 VS           0.1500    -0.6250    -0.0250 VS            2 PRT     \\n      12 VS          -0.0500    -0.5250     0.0750 VS            2 PRT     \\n@<TRIPOS>BOND\\n@<TRIPOS>SUBSTRUCTURE\\n       1 RES             1 RESIDUE    0 **** ROOT      0\\n       2 PRT             5 RESIDUE    0 **** ROOT      0\\n\",\"mol2\");\n\tviewer_1695297951891099.setStyle({\"stick\": {\"radius\": 0.2, \"color\": \"grey\"}, \"sphere\": {\"scale\": 0.3, \"colorscheme\": {}}});\n\tviewer_1695297951891099.zoomTo();\nviewer_1695297951891099.render();\n});\n</script>",
      "text/html": [
       "<div id=\"3dmolviewer_1695297951891099\"  style=\"position: relative; width: 640px; height: 480px;\">\n",
       "        <p id=\"3dmolwarning_1695297951891099\" style=\"background-color:#ffcccc;color:black\">You appear to be running in JupyterLab (or JavaScript failed to load for some other reason).  You need to install the 3dmol extension: <br>\n",
       "        <tt>jupyter labextension install jupyterlab_3dmol</tt></p>\n",
       "        </div>\n",
       "<script>\n",
       "\n",
       "var loadScriptAsync = function(uri){\n",
       "  return new Promise((resolve, reject) => {\n",
       "    //this is to ignore the existence of requirejs amd\n",
       "    var savedexports, savedmodule;\n",
       "    if (typeof exports !== 'undefined') savedexports = exports;\n",
       "    else exports = {}\n",
       "    if (typeof module !== 'undefined') savedmodule = module;\n",
       "    else module = {}\n",
       "\n",
       "    var tag = document.createElement('script');\n",
       "    tag.src = uri;\n",
       "    tag.async = true;\n",
       "    tag.onload = () => {\n",
       "        exports = savedexports;\n",
       "        module = savedmodule;\n",
       "        resolve();\n",
       "    };\n",
       "  var firstScriptTag = document.getElementsByTagName('script')[0];\n",
       "  firstScriptTag.parentNode.insertBefore(tag, firstScriptTag);\n",
       "});\n",
       "};\n",
       "\n",
       "if(typeof $3Dmolpromise === 'undefined') {\n",
       "$3Dmolpromise = null;\n",
       "  $3Dmolpromise = loadScriptAsync('https://cdnjs.cloudflare.com/ajax/libs/3Dmol/2.0.4/3Dmol-min.js');\n",
       "}\n",
       "\n",
       "var viewer_1695297951891099 = null;\n",
       "var warn = document.getElementById(\"3dmolwarning_1695297951891099\");\n",
       "if(warn) {\n",
       "    warn.parentNode.removeChild(warn);\n",
       "}\n",
       "$3Dmolpromise.then(function() {\n",
       "viewer_1695297951891099 = $3Dmol.createViewer(document.getElementById(\"3dmolviewer_1695297951891099\"),{backgroundColor:\"white\"});\n",
       "viewer_1695297951891099.zoomTo();\n",
       "\tviewer_1695297951891099.addModel(\"@<TRIPOS>MOLECULE\\nRES\\n12 0 2 0 1\\nBIOPOLYMER\\nNO_CHARGES\\n@<TRIPOS>CRYSIN\\n    7.1000     7.0000     6.4000    90.0000    90.0000    90.0000 1 1\\n@<TRIPOS>ATOM\\n       1 C            0.0000     0.0000     0.0000 C             1 RES     \\n       2 H            1.1000     0.0000     0.0000 H             1 RES     \\n       3 H           -1.0000     0.0000    -0.7000 H             1 RES     \\n       4 H            0.0000     1.0000     0.7000 H             1 RES     \\n       5 VS           0.0500    -0.6750    -0.0250 VS            2 PRT     \\n       6 VS           0.0500    -0.4750    -0.0250 VS            2 PRT     \\n       7 VS          -0.1500    -0.7750    -0.0250 VS            2 PRT     \\n       8 VS           0.0500    -0.8750     0.0750 VS            2 PRT     \\n       9 VS          -0.0500    -0.7250    -0.0250 VS            2 PRT     \\n      10 VS          -0.0500    -0.9250    -0.0250 VS            2 PRT     \\n      11 VS           0.1500    -0.6250    -0.0250 VS            2 PRT     \\n      12 VS          -0.0500    -0.5250     0.0750 VS            2 PRT     \\n@<TRIPOS>BOND\\n@<TRIPOS>SUBSTRUCTURE\\n       1 RES             1 RESIDUE    0 **** ROOT      0\\n       2 PRT             5 RESIDUE    0 **** ROOT      0\\n\",\"mol2\");\n",
       "\tviewer_1695297951891099.setStyle({\"stick\": {\"radius\": 0.2, \"color\": \"grey\"}, \"sphere\": {\"scale\": 0.3, \"colorscheme\": {}}});\n",
       "\tviewer_1695297951891099.zoomTo();\n",
       "viewer_1695297951891099.render();\n",
       "});\n",
       "</script>"
      ]
     },
     "metadata": {},
     "output_type": "display_data"
    },
    {
     "data": {
      "text/plain": [
       "<py3Dmol.view at 0x7f74822f17d0>"
      ]
     },
     "execution_count": 13,
     "metadata": {},
     "output_type": "execute_result"
    }
   ],
   "source": [
    "ch3.visualize(show_ports=True)"
   ]
  },
  {
   "cell_type": "code",
   "execution_count": 17,
   "id": "b3d3aea0-94a1-4eed-9c6a-2da103ca595b",
   "metadata": {},
   "outputs": [],
   "source": [
    "# 现在我们把甲基包装到一个python类中，\n",
    "# 这样我们就可以把它作为一个组件来重用，以便以后构建更复杂的分子。\n",
    "class CH3(mb.Compound):\n",
    "    def __init__(self):\n",
    "        super(CH3, self).__init__()\n",
    "\n",
    "        mb.load('./data/ch3.pdb', compound=self)\n",
    "        self.translate(-self[0].pos)  # Move carbon to origin.\n",
    "\n",
    "        port = mb.Port(anchor=self[0])\n",
    "        self.add(port, label='up')\n",
    "        # Place the port at approximately half a C-C bond length.\n",
    "        self['up'].translate([0, -0.07, 0])\n"
   ]
  },
  {
   "cell_type": "code",
   "execution_count": 22,
   "id": "4a7dc72e-cdbc-4da5-a38b-10d80d524b93",
   "metadata": {},
   "outputs": [],
   "source": [
    "# 当两个端口连接时，它们被迫在空间上重叠，\n",
    "# 并且它们的母体化合物被旋转和平移相同的量。\n",
    "# 把它们粘在一起产生乙烷:\n",
    "ethane = mb.Compound()\n",
    "ethane.add(CH3(), label=\"methyl_1\")\n",
    "ethane.add(CH3(), label=\"methyl_2\")"
   ]
  },
  {
   "cell_type": "code",
   "execution_count": 23,
   "id": "8acaf66b-7daf-4d60-be68-604801060651",
   "metadata": {},
   "outputs": [],
   "source": [
    "# force_overlap()函数接受一个Compound，\n",
    "# 然后旋转并转换它，使另外两个Compound重叠。\n",
    "mb.force_overlap(move_this=ethane['methyl_1'],\n",
    "                         from_positions=ethane['methyl_1']['up'],\n",
    "                         to_positions=ethane['methyl_2']['up'])"
   ]
  },
  {
   "cell_type": "code",
   "execution_count": 24,
   "id": "ad434146-7ec2-4c39-9cc3-2d59448855fd",
   "metadata": {},
   "outputs": [
    {
     "data": {
      "application/3dmoljs_load.v0": "<div id=\"3dmolviewer_1695298222963395\"  style=\"position: relative; width: 640px; height: 480px;\">\n        <p id=\"3dmolwarning_1695298222963395\" style=\"background-color:#ffcccc;color:black\">You appear to be running in JupyterLab (or JavaScript failed to load for some other reason).  You need to install the 3dmol extension: <br>\n        <tt>jupyter labextension install jupyterlab_3dmol</tt></p>\n        </div>\n<script>\n\nvar loadScriptAsync = function(uri){\n  return new Promise((resolve, reject) => {\n    //this is to ignore the existence of requirejs amd\n    var savedexports, savedmodule;\n    if (typeof exports !== 'undefined') savedexports = exports;\n    else exports = {}\n    if (typeof module !== 'undefined') savedmodule = module;\n    else module = {}\n\n    var tag = document.createElement('script');\n    tag.src = uri;\n    tag.async = true;\n    tag.onload = () => {\n        exports = savedexports;\n        module = savedmodule;\n        resolve();\n    };\n  var firstScriptTag = document.getElementsByTagName('script')[0];\n  firstScriptTag.parentNode.insertBefore(tag, firstScriptTag);\n});\n};\n\nif(typeof $3Dmolpromise === 'undefined') {\n$3Dmolpromise = null;\n  $3Dmolpromise = loadScriptAsync('https://cdnjs.cloudflare.com/ajax/libs/3Dmol/2.0.4/3Dmol-min.js');\n}\n\nvar viewer_1695298222963395 = null;\nvar warn = document.getElementById(\"3dmolwarning_1695298222963395\");\nif(warn) {\n    warn.parentNode.removeChild(warn);\n}\n$3Dmolpromise.then(function() {\nviewer_1695298222963395 = $3Dmol.createViewer(document.getElementById(\"3dmolviewer_1695298222963395\"),{backgroundColor:\"white\"});\nviewer_1695298222963395.zoomTo();\n\tviewer_1695298222963395.addModel(\"@<TRIPOS>MOLECULE\\nRES\\n8 1 1 0 1\\nSMALL\\nNO_CHARGES\\n@<TRIPOS>CRYSIN\\n    7.1000     7.0000     6.4000    90.0000    90.0000    90.0000 1 1\\n@<TRIPOS>ATOM\\n       1 C            0.0000    -1.4000    -0.0000 C             1 RES     \\n       2 H           -1.1000    -1.4000    -0.0000 H             1 RES     \\n       3 H            1.0000    -1.4000    -0.7000 H             1 RES     \\n       4 H            0.0000    -2.4000     0.7000 H             1 RES     \\n       5 C            0.0000     0.0000     0.0000 C             1 RES     \\n       6 H            1.1000     0.0000     0.0000 H             1 RES     \\n       7 H           -1.0000     0.0000    -0.7000 H             1 RES     \\n       8 H            0.0000     1.0000     0.7000 H             1 RES     \\n@<TRIPOS>BOND\\n       1        1        5 1\\n@<TRIPOS>SUBSTRUCTURE\\n       1 RES             1 RESIDUE    0 **** ROOT      0\\n\",\"mol2\");\n\tviewer_1695298222963395.setStyle({\"stick\": {\"radius\": 0.2, \"color\": \"grey\"}, \"sphere\": {\"scale\": 0.3, \"colorscheme\": {}}});\n\tviewer_1695298222963395.zoomTo();\nviewer_1695298222963395.render();\n});\n</script>",
      "text/html": [
       "<div id=\"3dmolviewer_1695298222963395\"  style=\"position: relative; width: 640px; height: 480px;\">\n",
       "        <p id=\"3dmolwarning_1695298222963395\" style=\"background-color:#ffcccc;color:black\">You appear to be running in JupyterLab (or JavaScript failed to load for some other reason).  You need to install the 3dmol extension: <br>\n",
       "        <tt>jupyter labextension install jupyterlab_3dmol</tt></p>\n",
       "        </div>\n",
       "<script>\n",
       "\n",
       "var loadScriptAsync = function(uri){\n",
       "  return new Promise((resolve, reject) => {\n",
       "    //this is to ignore the existence of requirejs amd\n",
       "    var savedexports, savedmodule;\n",
       "    if (typeof exports !== 'undefined') savedexports = exports;\n",
       "    else exports = {}\n",
       "    if (typeof module !== 'undefined') savedmodule = module;\n",
       "    else module = {}\n",
       "\n",
       "    var tag = document.createElement('script');\n",
       "    tag.src = uri;\n",
       "    tag.async = true;\n",
       "    tag.onload = () => {\n",
       "        exports = savedexports;\n",
       "        module = savedmodule;\n",
       "        resolve();\n",
       "    };\n",
       "  var firstScriptTag = document.getElementsByTagName('script')[0];\n",
       "  firstScriptTag.parentNode.insertBefore(tag, firstScriptTag);\n",
       "});\n",
       "};\n",
       "\n",
       "if(typeof $3Dmolpromise === 'undefined') {\n",
       "$3Dmolpromise = null;\n",
       "  $3Dmolpromise = loadScriptAsync('https://cdnjs.cloudflare.com/ajax/libs/3Dmol/2.0.4/3Dmol-min.js');\n",
       "}\n",
       "\n",
       "var viewer_1695298222963395 = null;\n",
       "var warn = document.getElementById(\"3dmolwarning_1695298222963395\");\n",
       "if(warn) {\n",
       "    warn.parentNode.removeChild(warn);\n",
       "}\n",
       "$3Dmolpromise.then(function() {\n",
       "viewer_1695298222963395 = $3Dmol.createViewer(document.getElementById(\"3dmolviewer_1695298222963395\"),{backgroundColor:\"white\"});\n",
       "viewer_1695298222963395.zoomTo();\n",
       "\tviewer_1695298222963395.addModel(\"@<TRIPOS>MOLECULE\\nRES\\n8 1 1 0 1\\nSMALL\\nNO_CHARGES\\n@<TRIPOS>CRYSIN\\n    7.1000     7.0000     6.4000    90.0000    90.0000    90.0000 1 1\\n@<TRIPOS>ATOM\\n       1 C            0.0000    -1.4000    -0.0000 C             1 RES     \\n       2 H           -1.1000    -1.4000    -0.0000 H             1 RES     \\n       3 H            1.0000    -1.4000    -0.7000 H             1 RES     \\n       4 H            0.0000    -2.4000     0.7000 H             1 RES     \\n       5 C            0.0000     0.0000     0.0000 C             1 RES     \\n       6 H            1.1000     0.0000     0.0000 H             1 RES     \\n       7 H           -1.0000     0.0000    -0.7000 H             1 RES     \\n       8 H            0.0000     1.0000     0.7000 H             1 RES     \\n@<TRIPOS>BOND\\n       1        1        5 1\\n@<TRIPOS>SUBSTRUCTURE\\n       1 RES             1 RESIDUE    0 **** ROOT      0\\n\",\"mol2\");\n",
       "\tviewer_1695298222963395.setStyle({\"stick\": {\"radius\": 0.2, \"color\": \"grey\"}, \"sphere\": {\"scale\": 0.3, \"colorscheme\": {}}});\n",
       "\tviewer_1695298222963395.zoomTo();\n",
       "viewer_1695298222963395.render();\n",
       "});\n",
       "</script>"
      ]
     },
     "metadata": {},
     "output_type": "display_data"
    },
    {
     "data": {
      "text/plain": [
       "<py3Dmol.view at 0x7f7482404110>"
      ]
     },
     "execution_count": 24,
     "metadata": {},
     "output_type": "execute_result"
    }
   ],
   "source": [
    "ethane.visualize()"
   ]
  },
  {
   "cell_type": "code",
   "execution_count": 25,
   "id": "22161757-833f-4dc4-9c00-3f894c1dfbfa",
   "metadata": {},
   "outputs": [
    {
     "data": {
      "application/3dmoljs_load.v0": "<div id=\"3dmolviewer_1695298237353843\"  style=\"position: relative; width: 640px; height: 480px;\">\n        <p id=\"3dmolwarning_1695298237353843\" style=\"background-color:#ffcccc;color:black\">You appear to be running in JupyterLab (or JavaScript failed to load for some other reason).  You need to install the 3dmol extension: <br>\n        <tt>jupyter labextension install jupyterlab_3dmol</tt></p>\n        </div>\n<script>\n\nvar loadScriptAsync = function(uri){\n  return new Promise((resolve, reject) => {\n    //this is to ignore the existence of requirejs amd\n    var savedexports, savedmodule;\n    if (typeof exports !== 'undefined') savedexports = exports;\n    else exports = {}\n    if (typeof module !== 'undefined') savedmodule = module;\n    else module = {}\n\n    var tag = document.createElement('script');\n    tag.src = uri;\n    tag.async = true;\n    tag.onload = () => {\n        exports = savedexports;\n        module = savedmodule;\n        resolve();\n    };\n  var firstScriptTag = document.getElementsByTagName('script')[0];\n  firstScriptTag.parentNode.insertBefore(tag, firstScriptTag);\n});\n};\n\nif(typeof $3Dmolpromise === 'undefined') {\n$3Dmolpromise = null;\n  $3Dmolpromise = loadScriptAsync('https://cdnjs.cloudflare.com/ajax/libs/3Dmol/2.0.4/3Dmol-min.js');\n}\n\nvar viewer_1695298237353843 = null;\nvar warn = document.getElementById(\"3dmolwarning_1695298237353843\");\nif(warn) {\n    warn.parentNode.removeChild(warn);\n}\n$3Dmolpromise.then(function() {\nviewer_1695298237353843 = $3Dmol.createViewer(document.getElementById(\"3dmolviewer_1695298237353843\"),{backgroundColor:\"white\"});\nviewer_1695298237353843.zoomTo();\n\tviewer_1695298237353843.addModel(\"@<TRIPOS>MOLECULE\\nRES\\n8 1 1 0 1\\nSMALL\\nNO_CHARGES\\n@<TRIPOS>CRYSIN\\n    7.1000     7.0000     6.4000    90.0000    90.0000    90.0000 1 1\\n@<TRIPOS>ATOM\\n       1 C            0.0000    -1.4000    -0.0000 C             1 RES     \\n       2 H           -1.1000    -1.4000    -0.0000 H             1 RES     \\n       3 H            1.0000    -1.4000    -0.7000 H             1 RES     \\n       4 H            0.0000    -2.4000     0.7000 H             1 RES     \\n       5 C            0.0000     0.0000     0.0000 C             1 RES     \\n       6 H            1.1000     0.0000     0.0000 H             1 RES     \\n       7 H           -1.0000     0.0000    -0.7000 H             1 RES     \\n       8 H            0.0000     1.0000     0.7000 H             1 RES     \\n@<TRIPOS>BOND\\n       1        1        5 1\\n@<TRIPOS>SUBSTRUCTURE\\n       1 RES             1 RESIDUE    0 **** ROOT      0\\n\",\"mol2\");\n\tviewer_1695298237353843.setStyle({\"stick\": {\"radius\": 0.2, \"color\": \"grey\"}, \"sphere\": {\"scale\": 0.3, \"colorscheme\": {}}});\n\tviewer_1695298237353843.zoomTo();\nviewer_1695298237353843.render();\n});\n</script>",
      "text/html": [
       "<div id=\"3dmolviewer_1695298237353843\"  style=\"position: relative; width: 640px; height: 480px;\">\n",
       "        <p id=\"3dmolwarning_1695298237353843\" style=\"background-color:#ffcccc;color:black\">You appear to be running in JupyterLab (or JavaScript failed to load for some other reason).  You need to install the 3dmol extension: <br>\n",
       "        <tt>jupyter labextension install jupyterlab_3dmol</tt></p>\n",
       "        </div>\n",
       "<script>\n",
       "\n",
       "var loadScriptAsync = function(uri){\n",
       "  return new Promise((resolve, reject) => {\n",
       "    //this is to ignore the existence of requirejs amd\n",
       "    var savedexports, savedmodule;\n",
       "    if (typeof exports !== 'undefined') savedexports = exports;\n",
       "    else exports = {}\n",
       "    if (typeof module !== 'undefined') savedmodule = module;\n",
       "    else module = {}\n",
       "\n",
       "    var tag = document.createElement('script');\n",
       "    tag.src = uri;\n",
       "    tag.async = true;\n",
       "    tag.onload = () => {\n",
       "        exports = savedexports;\n",
       "        module = savedmodule;\n",
       "        resolve();\n",
       "    };\n",
       "  var firstScriptTag = document.getElementsByTagName('script')[0];\n",
       "  firstScriptTag.parentNode.insertBefore(tag, firstScriptTag);\n",
       "});\n",
       "};\n",
       "\n",
       "if(typeof $3Dmolpromise === 'undefined') {\n",
       "$3Dmolpromise = null;\n",
       "  $3Dmolpromise = loadScriptAsync('https://cdnjs.cloudflare.com/ajax/libs/3Dmol/2.0.4/3Dmol-min.js');\n",
       "}\n",
       "\n",
       "var viewer_1695298237353843 = null;\n",
       "var warn = document.getElementById(\"3dmolwarning_1695298237353843\");\n",
       "if(warn) {\n",
       "    warn.parentNode.removeChild(warn);\n",
       "}\n",
       "$3Dmolpromise.then(function() {\n",
       "viewer_1695298237353843 = $3Dmol.createViewer(document.getElementById(\"3dmolviewer_1695298237353843\"),{backgroundColor:\"white\"});\n",
       "viewer_1695298237353843.zoomTo();\n",
       "\tviewer_1695298237353843.addModel(\"@<TRIPOS>MOLECULE\\nRES\\n8 1 1 0 1\\nSMALL\\nNO_CHARGES\\n@<TRIPOS>CRYSIN\\n    7.1000     7.0000     6.4000    90.0000    90.0000    90.0000 1 1\\n@<TRIPOS>ATOM\\n       1 C            0.0000    -1.4000    -0.0000 C             1 RES     \\n       2 H           -1.1000    -1.4000    -0.0000 H             1 RES     \\n       3 H            1.0000    -1.4000    -0.7000 H             1 RES     \\n       4 H            0.0000    -2.4000     0.7000 H             1 RES     \\n       5 C            0.0000     0.0000     0.0000 C             1 RES     \\n       6 H            1.1000     0.0000     0.0000 H             1 RES     \\n       7 H           -1.0000     0.0000    -0.7000 H             1 RES     \\n       8 H            0.0000     1.0000     0.7000 H             1 RES     \\n@<TRIPOS>BOND\\n       1        1        5 1\\n@<TRIPOS>SUBSTRUCTURE\\n       1 RES             1 RESIDUE    0 **** ROOT      0\\n\",\"mol2\");\n",
       "\tviewer_1695298237353843.setStyle({\"stick\": {\"radius\": 0.2, \"color\": \"grey\"}, \"sphere\": {\"scale\": 0.3, \"colorscheme\": {}}});\n",
       "\tviewer_1695298237353843.zoomTo();\n",
       "viewer_1695298237353843.render();\n",
       "});\n",
       "</script>"
      ]
     },
     "metadata": {},
     "output_type": "display_data"
    },
    {
     "data": {
      "text/plain": [
       "<py3Dmol.view at 0x7f7482fd5fd0>"
      ]
     },
     "execution_count": 25,
     "metadata": {},
     "output_type": "execute_result"
    }
   ],
   "source": [
    "ethane.visualize(show_ports=True)"
   ]
  },
  {
   "cell_type": "code",
   "execution_count": 26,
   "id": "d81ce243-dae6-4e4b-b868-e166444af06b",
   "metadata": {},
   "outputs": [],
   "source": [
    "# 类似地，如果我们想使乙烷成为可重用组件，我们需要将其包装到python类中。\n",
    "class Ethane(mb.Compound):\n",
    "    def __init__(self):\n",
    "        super(Ethane, self).__init__()\n",
    "\n",
    "        self.add(CH3(), label=\"methyl_1\")\n",
    "        self.add(CH3(), label=\"methyl_2\")\n",
    "        mb.force_overlap(move_this=self['methyl_1'],\n",
    "                         from_positions=self['methyl_1']['up'],\n",
    "                         to_positions=self['methyl_2']['up'])\n"
   ]
  },
  {
   "cell_type": "code",
   "execution_count": 27,
   "id": "1282a915-8147-46ce-bbb7-da273abf3552",
   "metadata": {},
   "outputs": [
    {
     "data": {
      "application/3dmoljs_load.v0": "<div id=\"3dmolviewer_16952982878579962\"  style=\"position: relative; width: 640px; height: 480px;\">\n        <p id=\"3dmolwarning_16952982878579962\" style=\"background-color:#ffcccc;color:black\">You appear to be running in JupyterLab (or JavaScript failed to load for some other reason).  You need to install the 3dmol extension: <br>\n        <tt>jupyter labextension install jupyterlab_3dmol</tt></p>\n        </div>\n<script>\n\nvar loadScriptAsync = function(uri){\n  return new Promise((resolve, reject) => {\n    //this is to ignore the existence of requirejs amd\n    var savedexports, savedmodule;\n    if (typeof exports !== 'undefined') savedexports = exports;\n    else exports = {}\n    if (typeof module !== 'undefined') savedmodule = module;\n    else module = {}\n\n    var tag = document.createElement('script');\n    tag.src = uri;\n    tag.async = true;\n    tag.onload = () => {\n        exports = savedexports;\n        module = savedmodule;\n        resolve();\n    };\n  var firstScriptTag = document.getElementsByTagName('script')[0];\n  firstScriptTag.parentNode.insertBefore(tag, firstScriptTag);\n});\n};\n\nif(typeof $3Dmolpromise === 'undefined') {\n$3Dmolpromise = null;\n  $3Dmolpromise = loadScriptAsync('https://cdnjs.cloudflare.com/ajax/libs/3Dmol/2.0.4/3Dmol-min.js');\n}\n\nvar viewer_16952982878579962 = null;\nvar warn = document.getElementById(\"3dmolwarning_16952982878579962\");\nif(warn) {\n    warn.parentNode.removeChild(warn);\n}\n$3Dmolpromise.then(function() {\nviewer_16952982878579962 = $3Dmol.createViewer(document.getElementById(\"3dmolviewer_16952982878579962\"),{backgroundColor:\"white\"});\nviewer_16952982878579962.zoomTo();\n\tviewer_16952982878579962.addModel(\"@<TRIPOS>MOLECULE\\nRES\\n8 1 1 0 1\\nSMALL\\nNO_CHARGES\\n@<TRIPOS>CRYSIN\\n    7.1000     7.0000     6.4000    90.0000    90.0000    90.0000 1 1\\n@<TRIPOS>ATOM\\n       1 C            0.0000    -1.4000    -0.0000 C             1 RES     \\n       2 H           -1.1000    -1.4000    -0.0000 H             1 RES     \\n       3 H            1.0000    -1.4000    -0.7000 H             1 RES     \\n       4 H            0.0000    -2.4000     0.7000 H             1 RES     \\n       5 C            0.0000     0.0000     0.0000 C             1 RES     \\n       6 H            1.1000     0.0000     0.0000 H             1 RES     \\n       7 H           -1.0000     0.0000    -0.7000 H             1 RES     \\n       8 H            0.0000     1.0000     0.7000 H             1 RES     \\n@<TRIPOS>BOND\\n       1        1        5 1\\n@<TRIPOS>SUBSTRUCTURE\\n       1 RES             1 RESIDUE    0 **** ROOT      0\\n\",\"mol2\");\n\tviewer_16952982878579962.setStyle({\"stick\": {\"radius\": 0.2, \"color\": \"grey\"}, \"sphere\": {\"scale\": 0.3, \"colorscheme\": {}}});\n\tviewer_16952982878579962.zoomTo();\nviewer_16952982878579962.render();\n});\n</script>",
      "text/html": [
       "<div id=\"3dmolviewer_16952982878579962\"  style=\"position: relative; width: 640px; height: 480px;\">\n",
       "        <p id=\"3dmolwarning_16952982878579962\" style=\"background-color:#ffcccc;color:black\">You appear to be running in JupyterLab (or JavaScript failed to load for some other reason).  You need to install the 3dmol extension: <br>\n",
       "        <tt>jupyter labextension install jupyterlab_3dmol</tt></p>\n",
       "        </div>\n",
       "<script>\n",
       "\n",
       "var loadScriptAsync = function(uri){\n",
       "  return new Promise((resolve, reject) => {\n",
       "    //this is to ignore the existence of requirejs amd\n",
       "    var savedexports, savedmodule;\n",
       "    if (typeof exports !== 'undefined') savedexports = exports;\n",
       "    else exports = {}\n",
       "    if (typeof module !== 'undefined') savedmodule = module;\n",
       "    else module = {}\n",
       "\n",
       "    var tag = document.createElement('script');\n",
       "    tag.src = uri;\n",
       "    tag.async = true;\n",
       "    tag.onload = () => {\n",
       "        exports = savedexports;\n",
       "        module = savedmodule;\n",
       "        resolve();\n",
       "    };\n",
       "  var firstScriptTag = document.getElementsByTagName('script')[0];\n",
       "  firstScriptTag.parentNode.insertBefore(tag, firstScriptTag);\n",
       "});\n",
       "};\n",
       "\n",
       "if(typeof $3Dmolpromise === 'undefined') {\n",
       "$3Dmolpromise = null;\n",
       "  $3Dmolpromise = loadScriptAsync('https://cdnjs.cloudflare.com/ajax/libs/3Dmol/2.0.4/3Dmol-min.js');\n",
       "}\n",
       "\n",
       "var viewer_16952982878579962 = null;\n",
       "var warn = document.getElementById(\"3dmolwarning_16952982878579962\");\n",
       "if(warn) {\n",
       "    warn.parentNode.removeChild(warn);\n",
       "}\n",
       "$3Dmolpromise.then(function() {\n",
       "viewer_16952982878579962 = $3Dmol.createViewer(document.getElementById(\"3dmolviewer_16952982878579962\"),{backgroundColor:\"white\"});\n",
       "viewer_16952982878579962.zoomTo();\n",
       "\tviewer_16952982878579962.addModel(\"@<TRIPOS>MOLECULE\\nRES\\n8 1 1 0 1\\nSMALL\\nNO_CHARGES\\n@<TRIPOS>CRYSIN\\n    7.1000     7.0000     6.4000    90.0000    90.0000    90.0000 1 1\\n@<TRIPOS>ATOM\\n       1 C            0.0000    -1.4000    -0.0000 C             1 RES     \\n       2 H           -1.1000    -1.4000    -0.0000 H             1 RES     \\n       3 H            1.0000    -1.4000    -0.7000 H             1 RES     \\n       4 H            0.0000    -2.4000     0.7000 H             1 RES     \\n       5 C            0.0000     0.0000     0.0000 C             1 RES     \\n       6 H            1.1000     0.0000     0.0000 H             1 RES     \\n       7 H           -1.0000     0.0000    -0.7000 H             1 RES     \\n       8 H            0.0000     1.0000     0.7000 H             1 RES     \\n@<TRIPOS>BOND\\n       1        1        5 1\\n@<TRIPOS>SUBSTRUCTURE\\n       1 RES             1 RESIDUE    0 **** ROOT      0\\n\",\"mol2\");\n",
       "\tviewer_16952982878579962.setStyle({\"stick\": {\"radius\": 0.2, \"color\": \"grey\"}, \"sphere\": {\"scale\": 0.3, \"colorscheme\": {}}});\n",
       "\tviewer_16952982878579962.zoomTo();\n",
       "viewer_16952982878579962.render();\n",
       "});\n",
       "</script>"
      ]
     },
     "metadata": {},
     "output_type": "display_data"
    },
    {
     "data": {
      "text/plain": [
       "<py3Dmol.view at 0x7f7483f6c810>"
      ]
     },
     "execution_count": 27,
     "metadata": {},
     "output_type": "execute_result"
    }
   ],
   "source": [
    "ethane = Ethane()\n",
    "ethane.visualize()"
   ]
  }
 ],
 "metadata": {
  "kernelspec": {
   "display_name": "Python 3 (ipykernel)",
   "language": "python",
   "name": "python3"
  },
  "language_info": {
   "codemirror_mode": {
    "name": "ipython",
    "version": 3
   },
   "file_extension": ".py",
   "mimetype": "text/x-python",
   "name": "python",
   "nbconvert_exporter": "python",
   "pygments_lexer": "ipython3",
   "version": "3.11.4"
  }
 },
 "nbformat": 4,
 "nbformat_minor": 5
}
