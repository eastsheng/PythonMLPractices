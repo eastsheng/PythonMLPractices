{
 "cells": [
  {
   "cell_type": "markdown",
   "id": "03a45754-2391-41cf-957d-f7a39bf76974",
   "metadata": {},
   "source": [
    "### 拼接两个单体"
   ]
  },
  {
   "cell_type": "code",
   "execution_count": 1,
   "id": "cce88554-748b-4292-a40b-85ed20a41054",
   "metadata": {},
   "outputs": [
    {
     "name": "stderr",
     "output_type": "stream",
     "text": [
      "/home/cup/softwares/miniconda/miniconda3/envs/py3.11/lib/python3.11/site-packages/mdtraj/formats/__init__.py:6: DeprecationWarning: 'xdrlib' is deprecated and slated for removal in Python 3.13\n",
      "  from .xtc import XTCTrajectoryFile\n",
      "/home/cup/softwares/miniconda/miniconda3/envs/py3.11/lib/python3.11/site-packages/lark/utils.py:163: DeprecationWarning: module 'sre_parse' is deprecated\n",
      "  import sre_parse\n",
      "/home/cup/softwares/miniconda/miniconda3/envs/py3.11/lib/python3.11/site-packages/lark/utils.py:164: DeprecationWarning: module 'sre_constants' is deprecated\n",
      "  import sre_constants\n",
      "/home/cup/softwares/miniconda/miniconda3/envs/py3.11/lib/python3.11/site-packages/mbuild/recipes/__init__.py:13: DeprecationWarning: SelectableGroups dict interface is deprecated. Use select.\n",
      "  entry_points = metadata.entry_points()[\"mbuild.plugins\"]\n"
     ]
    }
   ],
   "source": [
    "import mbuild as mb"
   ]
  },
  {
   "cell_type": "code",
   "execution_count": 2,
   "id": "120bf354-5c2f-40dd-b777-99d1ab17a07c",
   "metadata": {},
   "outputs": [],
   "source": [
    "from mbuild.lib.recipes.polymer import Polymer"
   ]
  },
  {
   "cell_type": "code",
   "execution_count": 3,
   "id": "9b17d816-8695-409f-8475-9fc3224e17a4",
   "metadata": {},
   "outputs": [
    {
     "data": {
      "text/plain": [
       "<Compound 8 particles, 7 bonds, non-periodic, id: 139794455215120>"
      ]
     },
     "execution_count": 3,
     "metadata": {},
     "output_type": "execute_result"
    }
   ],
   "source": [
    "comp_1 = mb.load('CC', smiles=True)\n",
    "comp_2 = mb.load('COC', smiles=True)\n",
    "comp_1"
   ]
  },
  {
   "cell_type": "code",
   "execution_count": 4,
   "id": "7e7ef96b-4c36-4160-85d3-3037f838e574",
   "metadata": {},
   "outputs": [],
   "source": [
    "chain = Polymer()"
   ]
  },
  {
   "cell_type": "code",
   "execution_count": 5,
   "id": "50425bbd-f96a-4021-8470-d19cfa8d98b1",
   "metadata": {},
   "outputs": [],
   "source": [
    "chain.add_monomer(compound=comp_1,\n",
    "                  indices=[2, -2],\n",
    "                  separation=.15,\n",
    "                  replace=True)"
   ]
  },
  {
   "cell_type": "code",
   "execution_count": 6,
   "id": "f21e5c33-4ee7-4f2a-a5bd-98c441a05cde",
   "metadata": {},
   "outputs": [],
   "source": [
    "chain.add_monomer(compound=comp_2,\n",
    "                  indices=[3, -1],\n",
    "                  separation=.15,\n",
    "                  replace=True)"
   ]
  },
  {
   "cell_type": "code",
   "execution_count": 7,
   "id": "cbf26028-0bed-4ab1-8aff-2d848713f212",
   "metadata": {},
   "outputs": [],
   "source": [
    "chain.add_end_groups(mb.load('C(=O)O',smiles=True),\n",
    "                     index=3,\n",
    "                     separation=0.15,\n",
    "                     duplicate=False,\n",
    "                     label=\"head\")\n",
    "\n",
    "chain.add_end_groups(mb.load('N', smiles=True),\n",
    "                     index=-1,\n",
    "                     separation=0.13,\n",
    "                     duplicate=False,\n",
    "                     label=\"tail\")"
   ]
  },
  {
   "cell_type": "code",
   "execution_count": 8,
   "id": "f6c3b589-883e-4211-984d-6c7018ff6791",
   "metadata": {},
   "outputs": [],
   "source": [
    "chain.build(n=3, sequence='AB')"
   ]
  },
  {
   "cell_type": "code",
   "execution_count": 10,
   "id": "5d8302db-c46d-4938-8eae-e480ec01c643",
   "metadata": {},
   "outputs": [
    {
     "data": {
      "application/3dmoljs_load.v0": "<div id=\"3dmolviewer_16952957891420088\"  style=\"position: relative; width: 640px; height: 480px;\">\n        <p id=\"3dmolwarning_16952957891420088\" style=\"background-color:#ffcccc;color:black\">You appear to be running in JupyterLab (or JavaScript failed to load for some other reason).  You need to install the 3dmol extension: <br>\n        <tt>jupyter labextension install jupyterlab_3dmol</tt></p>\n        </div>\n<script>\n\nvar loadScriptAsync = function(uri){\n  return new Promise((resolve, reject) => {\n    //this is to ignore the existence of requirejs amd\n    var savedexports, savedmodule;\n    if (typeof exports !== 'undefined') savedexports = exports;\n    else exports = {}\n    if (typeof module !== 'undefined') savedmodule = module;\n    else module = {}\n\n    var tag = document.createElement('script');\n    tag.src = uri;\n    tag.async = true;\n    tag.onload = () => {\n        exports = savedexports;\n        module = savedmodule;\n        resolve();\n    };\n  var firstScriptTag = document.getElementsByTagName('script')[0];\n  firstScriptTag.parentNode.insertBefore(tag, firstScriptTag);\n});\n};\n\nif(typeof $3Dmolpromise === 'undefined') {\n$3Dmolpromise = null;\n  $3Dmolpromise = loadScriptAsync('https://cdnjs.cloudflare.com/ajax/libs/3Dmol/2.0.4/3Dmol-min.js');\n}\n\nvar viewer_16952957891420088 = null;\nvar warn = document.getElementById(\"3dmolwarning_16952957891420088\");\nif(warn) {\n    warn.parentNode.removeChild(warn);\n}\n$3Dmolpromise.then(function() {\nviewer_16952957891420088 = $3Dmol.createViewer(document.getElementById(\"3dmolviewer_16952957891420088\"),{backgroundColor:\"white\"});\nviewer_16952957891420088.zoomTo();\n\tviewer_16952957891420088.addModel(\"@<TRIPOS>MOLECULE\\nRES\\n46 45 1 0 1\\nSMALL\\nNO_CHARGES\\n@<TRIPOS>CRYSIN\\n   15.3161    13.4320    11.1969    90.0000    90.0000    90.0000 1 1\\n@<TRIPOS>ATOM\\n       1 C           -0.7591     0.0183     0.0212 C             1 RES     \\n       2 C            0.7591    -0.0183    -0.0212 C             1 RES     \\n       3 H           -1.0995     0.9536     0.5134 H             1 RES     \\n       4 H           -1.1654    -0.0180    -1.0116 H             1 RES     \\n       5 H            1.0995    -0.9536    -0.5134 H             1 RES     \\n       6 H            1.1654     0.0180     1.0116 H             1 RES     \\n       7 C            1.2747     1.1595    -0.7938 C             1 RES     \\n       8 O            0.6604     2.3560    -0.3719 O             1 RES     \\n       9 C           -0.7263     2.2737    -0.6109 C             1 RES     \\n      10 H            2.3647     1.2348    -0.6015 H             1 RES     \\n      11 H            1.1367     0.9985    -1.8864 H             1 RES     \\n      12 H           -1.1872     1.4433    -0.0307 H             1 RES     \\n      13 H           -0.9424     2.1566    -1.6964 H             1 RES     \\n      14 C           -1.3662     3.5524    -0.1574 C             1 RES     \\n      15 C           -0.4034     4.3239     0.7291 C             1 RES     \\n      16 H           -2.2915     3.3154     0.4088 H             1 RES     \\n      17 H           -1.6301     4.1626    -1.0468 H             1 RES     \\n      18 H            0.5219     4.5609     0.1629 H             1 RES     \\n      19 H           -0.1395     3.7137     1.6185 H             1 RES     \\n      20 C           -1.0433     5.6025     1.1826 C             1 RES     \\n      21 O           -2.3457     5.3766     1.6722 O             1 RES     \\n      22 C           -3.1454     4.8533     0.6360 C             1 RES     \\n      23 H           -0.4229     6.0140     2.0051 H             1 RES     \\n      24 H           -1.0462     6.3499     0.3579 H             1 RES     \\n      25 H           -2.7528     3.8754     0.2780 H             1 RES     \\n      26 H           -3.2306     5.5715    -0.2099 H             1 RES     \\n      27 C           -4.5269     4.6180     1.1710 C             1 RES     \\n      28 C           -4.5042     4.6539     2.6896 C             1 RES     \\n      29 H           -4.8878     3.6271     0.8233 H             1 RES     \\n      30 H           -5.2056     5.4080     0.7859 H             1 RES     \\n      31 H           -4.1433     5.6448     3.0372 H             1 RES     \\n      32 H           -3.8255     3.8640     3.0746 H             1 RES     \\n      33 C           -5.8856     4.4186     3.2245 C             1 RES     \\n      34 O           -6.4908     3.3063     2.6052 O             1 RES     \\n      35 C           -6.6144     3.5561     1.2234 C             1 RES     \\n      36 H           -5.7934     4.2118     4.3105 H             1 RES     \\n      37 H           -6.5087     5.3335     3.1085 H             1 RES     \\n      38 H           -5.6179     3.6972     0.7482 H             1 RES     \\n      39 H           -7.2661     4.4372     1.0294 H             1 RES     \\n      40 C           -1.2747    -1.1595     0.7938 C             1 RES     \\n      41 O           -1.9890    -2.0220     0.2189 O             1 RES     \\n      42 O           -0.9612    -1.2930     2.1417 O             1 RES     \\n      43 H           -1.3012    -2.0822     2.6782 H             1 RES     \\n      44 N           -7.1731     2.5241     0.6642 N             1 RES     \\n      45 H           -7.9514     2.2263     1.2937 H             1 RES     \\n      46 H           -6.4657     1.7558     0.6776 H             1 RES     \\n@<TRIPOS>BOND\\n       1        1        2 1\\n       2        1        3 1\\n       3        1        4 1\\n       4        1       40 1\\n       5        2        5 1\\n       6        2        6 1\\n       7        2        7 1\\n       8        7        8 1\\n       9        7       10 1\\n      10        7       11 1\\n      11        8        9 1\\n      12        9       12 1\\n      13        9       13 1\\n      14        9       14 1\\n      15       14       15 1\\n      16       14       16 1\\n      17       14       17 1\\n      18       15       18 1\\n      19       15       19 1\\n      20       15       20 1\\n      21       20       21 1\\n      22       20       23 1\\n      23       20       24 1\\n      24       21       22 1\\n      25       22       25 1\\n      26       22       26 1\\n      27       22       27 1\\n      28       27       28 1\\n      29       27       29 1\\n      30       27       30 1\\n      31       28       31 1\\n      32       28       32 1\\n      33       28       33 1\\n      34       33       34 1\\n      35       33       36 1\\n      36       33       37 1\\n      37       34       35 1\\n      38       35       38 1\\n      39       35       39 1\\n      40       35       44 1\\n      41       40       41 1\\n      42       40       42 1\\n      43       42       43 1\\n      44       44       45 1\\n      45       44       46 1\\n@<TRIPOS>SUBSTRUCTURE\\n       1 RES             1 RESIDUE    0 **** ROOT      0\\n\",\"mol2\");\n\tviewer_16952957891420088.setStyle({\"stick\": {\"radius\": 0.2, \"color\": \"grey\"}, \"sphere\": {\"scale\": 0.3, \"colorscheme\": {}}});\n\tviewer_16952957891420088.zoomTo();\nviewer_16952957891420088.render();\n});\n</script>",
      "text/html": [
       "<div id=\"3dmolviewer_16952957891420088\"  style=\"position: relative; width: 640px; height: 480px;\">\n",
       "        <p id=\"3dmolwarning_16952957891420088\" style=\"background-color:#ffcccc;color:black\">You appear to be running in JupyterLab (or JavaScript failed to load for some other reason).  You need to install the 3dmol extension: <br>\n",
       "        <tt>jupyter labextension install jupyterlab_3dmol</tt></p>\n",
       "        </div>\n",
       "<script>\n",
       "\n",
       "var loadScriptAsync = function(uri){\n",
       "  return new Promise((resolve, reject) => {\n",
       "    //this is to ignore the existence of requirejs amd\n",
       "    var savedexports, savedmodule;\n",
       "    if (typeof exports !== 'undefined') savedexports = exports;\n",
       "    else exports = {}\n",
       "    if (typeof module !== 'undefined') savedmodule = module;\n",
       "    else module = {}\n",
       "\n",
       "    var tag = document.createElement('script');\n",
       "    tag.src = uri;\n",
       "    tag.async = true;\n",
       "    tag.onload = () => {\n",
       "        exports = savedexports;\n",
       "        module = savedmodule;\n",
       "        resolve();\n",
       "    };\n",
       "  var firstScriptTag = document.getElementsByTagName('script')[0];\n",
       "  firstScriptTag.parentNode.insertBefore(tag, firstScriptTag);\n",
       "});\n",
       "};\n",
       "\n",
       "if(typeof $3Dmolpromise === 'undefined') {\n",
       "$3Dmolpromise = null;\n",
       "  $3Dmolpromise = loadScriptAsync('https://cdnjs.cloudflare.com/ajax/libs/3Dmol/2.0.4/3Dmol-min.js');\n",
       "}\n",
       "\n",
       "var viewer_16952957891420088 = null;\n",
       "var warn = document.getElementById(\"3dmolwarning_16952957891420088\");\n",
       "if(warn) {\n",
       "    warn.parentNode.removeChild(warn);\n",
       "}\n",
       "$3Dmolpromise.then(function() {\n",
       "viewer_16952957891420088 = $3Dmol.createViewer(document.getElementById(\"3dmolviewer_16952957891420088\"),{backgroundColor:\"white\"});\n",
       "viewer_16952957891420088.zoomTo();\n",
       "\tviewer_16952957891420088.addModel(\"@<TRIPOS>MOLECULE\\nRES\\n46 45 1 0 1\\nSMALL\\nNO_CHARGES\\n@<TRIPOS>CRYSIN\\n   15.3161    13.4320    11.1969    90.0000    90.0000    90.0000 1 1\\n@<TRIPOS>ATOM\\n       1 C           -0.7591     0.0183     0.0212 C             1 RES     \\n       2 C            0.7591    -0.0183    -0.0212 C             1 RES     \\n       3 H           -1.0995     0.9536     0.5134 H             1 RES     \\n       4 H           -1.1654    -0.0180    -1.0116 H             1 RES     \\n       5 H            1.0995    -0.9536    -0.5134 H             1 RES     \\n       6 H            1.1654     0.0180     1.0116 H             1 RES     \\n       7 C            1.2747     1.1595    -0.7938 C             1 RES     \\n       8 O            0.6604     2.3560    -0.3719 O             1 RES     \\n       9 C           -0.7263     2.2737    -0.6109 C             1 RES     \\n      10 H            2.3647     1.2348    -0.6015 H             1 RES     \\n      11 H            1.1367     0.9985    -1.8864 H             1 RES     \\n      12 H           -1.1872     1.4433    -0.0307 H             1 RES     \\n      13 H           -0.9424     2.1566    -1.6964 H             1 RES     \\n      14 C           -1.3662     3.5524    -0.1574 C             1 RES     \\n      15 C           -0.4034     4.3239     0.7291 C             1 RES     \\n      16 H           -2.2915     3.3154     0.4088 H             1 RES     \\n      17 H           -1.6301     4.1626    -1.0468 H             1 RES     \\n      18 H            0.5219     4.5609     0.1629 H             1 RES     \\n      19 H           -0.1395     3.7137     1.6185 H             1 RES     \\n      20 C           -1.0433     5.6025     1.1826 C             1 RES     \\n      21 O           -2.3457     5.3766     1.6722 O             1 RES     \\n      22 C           -3.1454     4.8533     0.6360 C             1 RES     \\n      23 H           -0.4229     6.0140     2.0051 H             1 RES     \\n      24 H           -1.0462     6.3499     0.3579 H             1 RES     \\n      25 H           -2.7528     3.8754     0.2780 H             1 RES     \\n      26 H           -3.2306     5.5715    -0.2099 H             1 RES     \\n      27 C           -4.5269     4.6180     1.1710 C             1 RES     \\n      28 C           -4.5042     4.6539     2.6896 C             1 RES     \\n      29 H           -4.8878     3.6271     0.8233 H             1 RES     \\n      30 H           -5.2056     5.4080     0.7859 H             1 RES     \\n      31 H           -4.1433     5.6448     3.0372 H             1 RES     \\n      32 H           -3.8255     3.8640     3.0746 H             1 RES     \\n      33 C           -5.8856     4.4186     3.2245 C             1 RES     \\n      34 O           -6.4908     3.3063     2.6052 O             1 RES     \\n      35 C           -6.6144     3.5561     1.2234 C             1 RES     \\n      36 H           -5.7934     4.2118     4.3105 H             1 RES     \\n      37 H           -6.5087     5.3335     3.1085 H             1 RES     \\n      38 H           -5.6179     3.6972     0.7482 H             1 RES     \\n      39 H           -7.2661     4.4372     1.0294 H             1 RES     \\n      40 C           -1.2747    -1.1595     0.7938 C             1 RES     \\n      41 O           -1.9890    -2.0220     0.2189 O             1 RES     \\n      42 O           -0.9612    -1.2930     2.1417 O             1 RES     \\n      43 H           -1.3012    -2.0822     2.6782 H             1 RES     \\n      44 N           -7.1731     2.5241     0.6642 N             1 RES     \\n      45 H           -7.9514     2.2263     1.2937 H             1 RES     \\n      46 H           -6.4657     1.7558     0.6776 H             1 RES     \\n@<TRIPOS>BOND\\n       1        1        2 1\\n       2        1        3 1\\n       3        1        4 1\\n       4        1       40 1\\n       5        2        5 1\\n       6        2        6 1\\n       7        2        7 1\\n       8        7        8 1\\n       9        7       10 1\\n      10        7       11 1\\n      11        8        9 1\\n      12        9       12 1\\n      13        9       13 1\\n      14        9       14 1\\n      15       14       15 1\\n      16       14       16 1\\n      17       14       17 1\\n      18       15       18 1\\n      19       15       19 1\\n      20       15       20 1\\n      21       20       21 1\\n      22       20       23 1\\n      23       20       24 1\\n      24       21       22 1\\n      25       22       25 1\\n      26       22       26 1\\n      27       22       27 1\\n      28       27       28 1\\n      29       27       29 1\\n      30       27       30 1\\n      31       28       31 1\\n      32       28       32 1\\n      33       28       33 1\\n      34       33       34 1\\n      35       33       36 1\\n      36       33       37 1\\n      37       34       35 1\\n      38       35       38 1\\n      39       35       39 1\\n      40       35       44 1\\n      41       40       41 1\\n      42       40       42 1\\n      43       42       43 1\\n      44       44       45 1\\n      45       44       46 1\\n@<TRIPOS>SUBSTRUCTURE\\n       1 RES             1 RESIDUE    0 **** ROOT      0\\n\",\"mol2\");\n",
       "\tviewer_16952957891420088.setStyle({\"stick\": {\"radius\": 0.2, \"color\": \"grey\"}, \"sphere\": {\"scale\": 0.3, \"colorscheme\": {}}});\n",
       "\tviewer_16952957891420088.zoomTo();\n",
       "viewer_16952957891420088.render();\n",
       "});\n",
       "</script>"
      ]
     },
     "metadata": {},
     "output_type": "display_data"
    },
    {
     "data": {
      "text/plain": [
       "<py3Dmol.view at 0x7f24661cbd90>"
      ]
     },
     "execution_count": 10,
     "metadata": {},
     "output_type": "execute_result"
    }
   ],
   "source": [
    "chain.visualize()"
   ]
  }
 ],
 "metadata": {
  "kernelspec": {
   "display_name": "Python 3 (ipykernel)",
   "language": "python",
   "name": "python3"
  },
  "language_info": {
   "codemirror_mode": {
    "name": "ipython",
    "version": 3
   },
   "file_extension": ".py",
   "mimetype": "text/x-python",
   "name": "python",
   "nbconvert_exporter": "python",
   "pygments_lexer": "ipython3",
   "version": "3.11.4"
  }
 },
 "nbformat": 4,
 "nbformat_minor": 5
}
