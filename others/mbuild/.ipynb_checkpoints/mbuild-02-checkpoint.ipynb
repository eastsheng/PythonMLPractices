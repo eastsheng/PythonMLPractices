{
 "cells": [
  {
   "cell_type": "markdown",
   "id": "03a45754-2391-41cf-957d-f7a39bf76974",
   "metadata": {},
   "source": [
    "### 甲烷:化合物和化学键\n",
    "- 注意: mBuild期望所有的距离单位都是纳米。\n",
    "- mBuild中的主要构建块是Compound。\n",
    "- 构造的任何东西都将继承这个类。\n",
    "\n"
   ]
  },
  {
   "cell_type": "code",
   "execution_count": 1,
   "id": "cce88554-748b-4292-a40b-85ed20a41054",
   "metadata": {},
   "outputs": [
    {
     "name": "stderr",
     "output_type": "stream",
     "text": [
      "/home/cup/softwares/miniconda/miniconda3/envs/py3.11/lib/python3.11/site-packages/mdtraj/formats/__init__.py:6: DeprecationWarning: 'xdrlib' is deprecated and slated for removal in Python 3.13\n",
      "  from .xtc import XTCTrajectoryFile\n",
      "/home/cup/softwares/miniconda/miniconda3/envs/py3.11/lib/python3.11/site-packages/lark/utils.py:163: DeprecationWarning: module 'sre_parse' is deprecated\n",
      "  import sre_parse\n",
      "/home/cup/softwares/miniconda/miniconda3/envs/py3.11/lib/python3.11/site-packages/lark/utils.py:164: DeprecationWarning: module 'sre_constants' is deprecated\n",
      "  import sre_constants\n",
      "/home/cup/softwares/miniconda/miniconda3/envs/py3.11/lib/python3.11/site-packages/mbuild/recipes/__init__.py:13: DeprecationWarning: SelectableGroups dict interface is deprecated. Use select.\n",
      "  entry_points = metadata.entry_points()[\"mbuild.plugins\"]\n"
     ]
    }
   ],
   "source": [
    "import mbuild as mb"
   ]
  },
  {
   "cell_type": "markdown",
   "id": "aa3b0ae2-6873-4e44-bd2a-483746c49f74",
   "metadata": {},
   "source": [
    "- 任何化合物都可以包含其他化合物，这些化合物可以使用add()方法添加。\n",
    "- 在这种层次结构的底部的化合物被称为Particle。\n",
    "- 不过请注意，这在mBuild中纯粹是语义性的，目的是帮助明确指定层次结构的底部。"
   ]
  },
  {
   "cell_type": "code",
   "execution_count": 5,
   "id": "9b17d816-8695-409f-8475-9fc3224e17a4",
   "metadata": {},
   "outputs": [],
   "source": [
    "class Methane(mb.Compound): # 继承Compound类\n",
    "    def __init__(self):\n",
    "        super(Methane, self).__init__()\n",
    "        carbon = mb.Particle(name='C')\n",
    "        self.add(carbon, label='C[$]')\n",
    "        # 默认情况下，创建的复合/粒子将被放置在0,0,0，由其pos属性表示。\n",
    "        hydrogen = mb.Particle(name='H', pos=[0.11, 0, 0]) #加氢\n",
    "        \n",
    "        self.add(hydrogen, label='HC[$]')\n",
    "        self.add_bond((self[0], self['HC'][0]))\n",
    "        \n",
    "        self.add(mb.Particle(name='H', pos=[-0.1, 0, -0.07]), label='HC[$]')\n",
    "        self.add(mb.Particle(name='H', pos=[0, 0.1, 0.07]), label='HC[$]')\n",
    "        self.add(mb.Particle(name='H', pos=[0, -0.1, 0.07]), label='HC[$]')\n",
    "\n",
    "        self.add_bond((self[0], self['HC'][1]))\n",
    "        self.add_bond((self[0], self['HC'][2]))\n",
    "        self.add_bond((self[0], self['HC'][3]))        "
   ]
  },
  {
   "cell_type": "code",
   "execution_count": 6,
   "id": "7e7ef96b-4c36-4160-85d3-3037f838e574",
   "metadata": {},
   "outputs": [],
   "source": [
    "methane = Methane()"
   ]
  },
  {
   "cell_type": "code",
   "execution_count": 7,
   "id": "50425bbd-f96a-4021-8470-d19cfa8d98b1",
   "metadata": {},
   "outputs": [
    {
     "data": {
      "application/3dmoljs_load.v0": "<div id=\"3dmolviewer_1695296939206448\"  style=\"position: relative; width: 640px; height: 480px;\">\n        <p id=\"3dmolwarning_1695296939206448\" style=\"background-color:#ffcccc;color:black\">You appear to be running in JupyterLab (or JavaScript failed to load for some other reason).  You need to install the 3dmol extension: <br>\n        <tt>jupyter labextension install jupyterlab_3dmol</tt></p>\n        </div>\n<script>\n\nvar loadScriptAsync = function(uri){\n  return new Promise((resolve, reject) => {\n    //this is to ignore the existence of requirejs amd\n    var savedexports, savedmodule;\n    if (typeof exports !== 'undefined') savedexports = exports;\n    else exports = {}\n    if (typeof module !== 'undefined') savedmodule = module;\n    else module = {}\n\n    var tag = document.createElement('script');\n    tag.src = uri;\n    tag.async = true;\n    tag.onload = () => {\n        exports = savedexports;\n        module = savedmodule;\n        resolve();\n    };\n  var firstScriptTag = document.getElementsByTagName('script')[0];\n  firstScriptTag.parentNode.insertBefore(tag, firstScriptTag);\n});\n};\n\nif(typeof $3Dmolpromise === 'undefined') {\n$3Dmolpromise = null;\n  $3Dmolpromise = loadScriptAsync('https://cdnjs.cloudflare.com/ajax/libs/3Dmol/2.0.4/3Dmol-min.js');\n}\n\nvar viewer_1695296939206448 = null;\nvar warn = document.getElementById(\"3dmolwarning_1695296939206448\");\nif(warn) {\n    warn.parentNode.removeChild(warn);\n}\n$3Dmolpromise.then(function() {\nviewer_1695296939206448 = $3Dmol.createViewer(document.getElementById(\"3dmolviewer_1695296939206448\"),{backgroundColor:\"white\"});\nviewer_1695296939206448.zoomTo();\n\tviewer_1695296939206448.addModel(\"@<TRIPOS>MOLECULE\\nRES\\n5 4 1 0 1\\nSMALL\\nNO_CHARGES\\n@<TRIPOS>CRYSIN\\n    7.1000     7.0000     6.4000    90.0000    90.0000    90.0000 1 1\\n@<TRIPOS>ATOM\\n       1 C            0.0000     0.0000     0.0000 C             1 RES     \\n       2 H            1.1000     0.0000     0.0000 H             1 RES     \\n       3 H           -1.0000     0.0000    -0.7000 H             1 RES     \\n       4 H            0.0000     1.0000     0.7000 H             1 RES     \\n       5 H            0.0000    -1.0000     0.7000 H             1 RES     \\n@<TRIPOS>BOND\\n       1        1        2 1\\n       2        1        3 1\\n       3        1        4 1\\n       4        1        5 1\\n@<TRIPOS>SUBSTRUCTURE\\n       1 RES             1 RESIDUE    0 **** ROOT      0\\n\",\"mol2\");\n\tviewer_1695296939206448.setStyle({\"stick\": {\"radius\": 0.2, \"color\": \"grey\"}, \"sphere\": {\"scale\": 0.3, \"colorscheme\": {}}});\n\tviewer_1695296939206448.zoomTo();\nviewer_1695296939206448.render();\n});\n</script>",
      "text/html": [
       "<div id=\"3dmolviewer_1695296939206448\"  style=\"position: relative; width: 640px; height: 480px;\">\n",
       "        <p id=\"3dmolwarning_1695296939206448\" style=\"background-color:#ffcccc;color:black\">You appear to be running in JupyterLab (or JavaScript failed to load for some other reason).  You need to install the 3dmol extension: <br>\n",
       "        <tt>jupyter labextension install jupyterlab_3dmol</tt></p>\n",
       "        </div>\n",
       "<script>\n",
       "\n",
       "var loadScriptAsync = function(uri){\n",
       "  return new Promise((resolve, reject) => {\n",
       "    //this is to ignore the existence of requirejs amd\n",
       "    var savedexports, savedmodule;\n",
       "    if (typeof exports !== 'undefined') savedexports = exports;\n",
       "    else exports = {}\n",
       "    if (typeof module !== 'undefined') savedmodule = module;\n",
       "    else module = {}\n",
       "\n",
       "    var tag = document.createElement('script');\n",
       "    tag.src = uri;\n",
       "    tag.async = true;\n",
       "    tag.onload = () => {\n",
       "        exports = savedexports;\n",
       "        module = savedmodule;\n",
       "        resolve();\n",
       "    };\n",
       "  var firstScriptTag = document.getElementsByTagName('script')[0];\n",
       "  firstScriptTag.parentNode.insertBefore(tag, firstScriptTag);\n",
       "});\n",
       "};\n",
       "\n",
       "if(typeof $3Dmolpromise === 'undefined') {\n",
       "$3Dmolpromise = null;\n",
       "  $3Dmolpromise = loadScriptAsync('https://cdnjs.cloudflare.com/ajax/libs/3Dmol/2.0.4/3Dmol-min.js');\n",
       "}\n",
       "\n",
       "var viewer_1695296939206448 = null;\n",
       "var warn = document.getElementById(\"3dmolwarning_1695296939206448\");\n",
       "if(warn) {\n",
       "    warn.parentNode.removeChild(warn);\n",
       "}\n",
       "$3Dmolpromise.then(function() {\n",
       "viewer_1695296939206448 = $3Dmol.createViewer(document.getElementById(\"3dmolviewer_1695296939206448\"),{backgroundColor:\"white\"});\n",
       "viewer_1695296939206448.zoomTo();\n",
       "\tviewer_1695296939206448.addModel(\"@<TRIPOS>MOLECULE\\nRES\\n5 4 1 0 1\\nSMALL\\nNO_CHARGES\\n@<TRIPOS>CRYSIN\\n    7.1000     7.0000     6.4000    90.0000    90.0000    90.0000 1 1\\n@<TRIPOS>ATOM\\n       1 C            0.0000     0.0000     0.0000 C             1 RES     \\n       2 H            1.1000     0.0000     0.0000 H             1 RES     \\n       3 H           -1.0000     0.0000    -0.7000 H             1 RES     \\n       4 H            0.0000     1.0000     0.7000 H             1 RES     \\n       5 H            0.0000    -1.0000     0.7000 H             1 RES     \\n@<TRIPOS>BOND\\n       1        1        2 1\\n       2        1        3 1\\n       3        1        4 1\\n       4        1        5 1\\n@<TRIPOS>SUBSTRUCTURE\\n       1 RES             1 RESIDUE    0 **** ROOT      0\\n\",\"mol2\");\n",
       "\tviewer_1695296939206448.setStyle({\"stick\": {\"radius\": 0.2, \"color\": \"grey\"}, \"sphere\": {\"scale\": 0.3, \"colorscheme\": {}}});\n",
       "\tviewer_1695296939206448.zoomTo();\n",
       "viewer_1695296939206448.render();\n",
       "});\n",
       "</script>"
      ]
     },
     "metadata": {},
     "output_type": "display_data"
    },
    {
     "data": {
      "text/plain": [
       "<py3Dmol.view at 0x7f628a535450>"
      ]
     },
     "execution_count": 7,
     "metadata": {},
     "output_type": "execute_result"
    }
   ],
   "source": [
    "methane.visualize()"
   ]
  },
  {
   "cell_type": "code",
   "execution_count": 17,
   "id": "f21e5c33-4ee7-4f2a-a5bd-98c441a05cde",
   "metadata": {},
   "outputs": [
    {
     "name": "stdout",
     "output_type": "stream",
     "text": [
      "No urey bradley terms detected, will use angle_style harmonic\n"
     ]
    }
   ],
   "source": [
    "# Save to files\n",
    "# !mkdir data\n",
    "methane.save('./data/methane.mol2',overwrite=True)\n",
    "methane.save('./data/methane.pdb',overwrite=True)\n",
    "methane.save('./data/methane.xyz',overwrite=True)\n",
    "methane.save('./data/methane.lmp',overwrite=True)"
   ]
  }
 ],
 "metadata": {
  "kernelspec": {
   "display_name": "Python 3 (ipykernel)",
   "language": "python",
   "name": "python3"
  },
  "language_info": {
   "codemirror_mode": {
    "name": "ipython",
    "version": 3
   },
   "file_extension": ".py",
   "mimetype": "text/x-python",
   "name": "python",
   "nbconvert_exporter": "python",
   "pygments_lexer": "ipython3",
   "version": "3.11.4"
  }
 },
 "nbformat": 4,
 "nbformat_minor": 5
}
