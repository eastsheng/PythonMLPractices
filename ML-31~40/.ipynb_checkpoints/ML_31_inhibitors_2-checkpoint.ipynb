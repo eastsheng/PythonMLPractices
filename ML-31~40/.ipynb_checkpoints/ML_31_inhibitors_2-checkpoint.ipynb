{
 "cells": [
  {
   "cell_type": "code",
   "execution_count": 2,
   "id": "e29985cc-45f4-49dc-90d8-1e45ed43903e",
   "metadata": {},
   "outputs": [],
   "source": [
    "from chemspipy import ChemSpider\n",
    "from rdkit import Chem"
   ]
  },
  {
   "cell_type": "code",
   "execution_count": 3,
   "id": "e7941106-2d4c-4e5a-bd4b-977598c4d664",
   "metadata": {},
   "outputs": [],
   "source": [
    "import os\n",
    "api_key = os.environ['CHEMSPIDER_API_KEY']\n",
    "cs = ChemSpider(api_key)\n",
    "c = cs.get_compound(2157)"
   ]
  },
  {
   "cell_type": "code",
   "execution_count": 4,
   "id": "92986604-80c7-46a7-8fb5-2ded2e5d2ce9",
   "metadata": {},
   "outputs": [
    {
     "name": "stdout",
     "output_type": "stream",
     "text": [
      "C_{9}H_{8}O_{4}\n"
     ]
    }
   ],
   "source": [
    "print(c.molecular_formula)"
   ]
  },
  {
   "cell_type": "code",
   "execution_count": 9,
   "id": "273b49ad-cbee-41ad-8c94-cdd914e6da26",
   "metadata": {},
   "outputs": [
    {
     "name": "stdout",
     "output_type": "stream",
     "text": [
      "180.1574\n"
     ]
    }
   ],
   "source": [
    "print(c.molecular_weight)"
   ]
  },
  {
   "cell_type": "code",
   "execution_count": 10,
   "id": "b0e9144e-da7d-4dba-9a0f-6978f2d92df2",
   "metadata": {},
   "outputs": [
    {
     "name": "stdout",
     "output_type": "stream",
     "text": [
      "CC(OC1=C(C(=O)O)C=CC=C1)=O\n",
      "CC(=O)OC1C=CC=CC=1C(O)=O\n"
     ]
    }
   ],
   "source": [
    "print(c.smiles)"
   ]
  },
  {
   "cell_type": "code",
   "execution_count": 55,
   "id": "16edbfd4-34df-401a-963e-6eddba76b6c7",
   "metadata": {},
   "outputs": [
    {
     "data": {
      "text/plain": [
       "('CC(OC1=C(C(=O)O)C=CC=C1)=O\\r\\nCC(=O)OC1C=CC=CC=1C(O)=O', str)"
      ]
     },
     "execution_count": 55,
     "metadata": {},
     "output_type": "execute_result"
    }
   ],
   "source": [
    "c.smiles,type(c.smiles)"
   ]
  },
  {
   "cell_type": "code",
   "execution_count": 56,
   "id": "ec713e21-405f-4741-a8a1-4784951bad26",
   "metadata": {},
   "outputs": [
    {
     "data": {
      "text/plain": [
       "'CC(OC1=C(C(=O)O)C=CC=C1)=O\\r\\nCC(=O)OC1C=CC=CC=1C(O)=O'"
      ]
     },
     "execution_count": 56,
     "metadata": {},
     "output_type": "execute_result"
    }
   ],
   "source": [
    "c.smiles"
   ]
  },
  {
   "cell_type": "code",
   "execution_count": 22,
   "id": "1265b954-0e9b-48f3-9f1f-a5a830698ed0",
   "metadata": {},
   "outputs": [
    {
     "name": "stdout",
     "output_type": "stream",
     "text": [
      "Aspirin\n"
     ]
    }
   ],
   "source": [
    "print(c.common_name)"
   ]
  },
  {
   "cell_type": "code",
   "execution_count": 24,
   "id": "71f08efe-81c6-49b5-a461-7024ffbc3953",
   "metadata": {},
   "outputs": [
    {
     "data": {
      "image/png": "[encoded data removed]",
      "text/plain": [
       "<rdkit.Chem.rdchem.Mol at 0x2577fec45f0>"
      ]
     },
     "execution_count": 24,
     "metadata": {},
     "output_type": "execute_result"
    }
   ],
   "source": [
    "mol = Chem.MolFromSmiles(\"CC(=O)OC1C=CC=CC=1C(O)=O\")\n",
    "mol"
   ]
  },
  {
   "cell_type": "code",
   "execution_count": 52,
   "id": "6c696e8f-6ed7-472c-9ebe-79a8bb9343f2",
   "metadata": {},
   "outputs": [
    {
     "data": {
      "image/png": "[encoded data removed]",
      "text/plain": [
       "<rdkit.Chem.rdchem.Mol at 0x2577fec49e0>"
      ]
     },
     "execution_count": 52,
     "metadata": {},
     "output_type": "execute_result"
    }
   ],
   "source": [
    "mol = Chem.MolFromSmiles(\"CC(=O)OC1C=CC=CC=1C(O)=O\")\n",
    "mol"
   ]
  },
  {
   "cell_type": "code",
   "execution_count": 28,
   "id": "b2805f6b-0a4e-4122-9439-c5744dd34be0",
   "metadata": {},
   "outputs": [
    {
     "name": "stdout",
     "output_type": "stream",
     "text": [
      "C([C@@H]1[C@H]([C@@H]([C@H](C(O1)O)O)O)O)O D-Glucopyranose\n",
      "C([C@@H]1[C@H]([C@@H]([C@H]([C@@H](O1)O)O)O)O)O .beta.-D-Glucopyranose\n",
      "C([C@@H]1[C@H]([C@@H]([C@H]([C@H](O1)O)O)O)O)O .alpha.-D-Glucopyranose\n",
      "C([C@H]([C@H]([C@@H]([C@H](C=O)O)O)O)O)O D-(+)-Glucose\n",
      "C([C@H]1[C@@H]([C@H]([C@@H](C(O1)O)O)O)O)O L-glucopyranose\n",
      "C([C@H]1[C@@H]([C@H]([C@@H]([C@@H](O1)O)O)O)O)O alpha-L-Glucopyranose\n",
      "C([C@H]1[C@@H]([C@H]([C@@H]([C@H](O1)O)O)O)O)O beta-L-Glucopyranose\n",
      "C([C@@H]([C@@H]([C@H]([C@@H](C=O)O)O)O)O)O L-(&minus;)-Glucose\n",
      "O[C@H]1[C@H](OC(O)[C@@H]1O)[C@H](O)CO D-Glucofuranose\n",
      "C([C@H]([C@@H]1[C@@H]([C@H]([C@H](O1)O)O)O)O)O alpha-D-Glucofuranose\n",
      "C([C@H]([C@@H]1[C@@H]([C@H]([C@@H](O1)O)O)O)O)O beta-D-Glucofuranose\n",
      "O[C@@H]1[C@@H](OC(O)[C@H]1O)[C@@H](O)CO L-Glucofuranose\n"
     ]
    }
   ],
   "source": [
    "for result in cs.search('Glucose'):\n",
    "    print(result.smiles,result.common_name)"
   ]
  },
  {
   "cell_type": "code",
   "execution_count": 33,
   "id": "e17a6f22-9ae1-4f38-bb74-a84b13166676",
   "metadata": {},
   "outputs": [
    {
     "name": "stdout",
     "output_type": "stream",
     "text": [
      "CC(C)C(C(=O)O)N DL-Valine\n",
      "CC(C)[C@@H](C(=O)O)N L-(+)-Valine\n"
     ]
    }
   ],
   "source": [
    "for result in cs.search('valine'):\n",
    "    print(result.smiles,result.common_name)"
   ]
  },
  {
   "cell_type": "code",
   "execution_count": 37,
   "id": "9a7753ff-b12b-44b8-9da9-bf023f6dc190",
   "metadata": {},
   "outputs": [
    {
     "data": {
      "image/png": "[encoded data removed]",
      "text/plain": [
       "<rdkit.Chem.rdchem.Mol at 0x2577fec5700>"
      ]
     },
     "execution_count": 37,
     "metadata": {},
     "output_type": "execute_result"
    }
   ],
   "source": [
    "Chem.MolFromSmiles(\"CC(C)C(C(=O)O)N\")"
   ]
  },
  {
   "cell_type": "code",
   "execution_count": 38,
   "id": "b3938204-115c-4fb1-a745-4d963d4e6ea0",
   "metadata": {},
   "outputs": [
    {
     "data": {
      "image/png": "[encoded data removed]",
      "text/plain": [
       "<rdkit.Chem.rdchem.Mol at 0x2577fec58c0>"
      ]
     },
     "execution_count": 38,
     "metadata": {},
     "output_type": "execute_result"
    }
   ],
   "source": [
    "Chem.MolFromSmiles(\"CC(C)[C@@H](C(=O)O)N\")"
   ]
  },
  {
   "cell_type": "code",
   "execution_count": 39,
   "id": "7fe02f84-d95e-4fa4-b120-d64c3baf9b14",
   "metadata": {},
   "outputs": [
    {
     "name": "stdout",
     "output_type": "stream",
     "text": [
      "C(C(=O)O)N Glycine\n"
     ]
    }
   ],
   "source": [
    "for result in cs.search('Glycine'):\n",
    "    print(result.smiles,result.common_name)"
   ]
  },
  {
   "cell_type": "code",
   "execution_count": 40,
   "id": "ee609468-6228-434c-b1c9-e3bc209c46f1",
   "metadata": {},
   "outputs": [
    {
     "data": {
      "text/plain": [
       "'C(C(=O)O)N'"
      ]
     },
     "execution_count": 40,
     "metadata": {},
     "output_type": "execute_result"
    }
   ],
   "source": [
    "result.smiles"
   ]
  },
  {
   "cell_type": "code",
   "execution_count": 41,
   "id": "4429ef2e-6cd9-42a5-b402-a83fefee508b",
   "metadata": {},
   "outputs": [
    {
     "data": {
      "image/png": "[encoded data removed]",
      "text/plain": [
       "<rdkit.Chem.rdchem.Mol at 0x2577fec5bd0>"
      ]
     },
     "execution_count": 41,
     "metadata": {},
     "output_type": "execute_result"
    }
   ],
   "source": [
    "Chem.MolFromSmiles(result.smiles)"
   ]
  },
  {
   "cell_type": "code",
   "execution_count": 42,
   "id": "20d6ffd1-f672-483c-816e-044d5eb4d9a8",
   "metadata": {},
   "outputs": [
    {
     "data": {
      "text/plain": [
       "str"
      ]
     },
     "execution_count": 42,
     "metadata": {},
     "output_type": "execute_result"
    }
   ],
   "source": [
    "type(result.smiles)"
   ]
  },
  {
   "cell_type": "code",
   "execution_count": 73,
   "id": "29371edd-259a-43c1-816d-44219f2b7630",
   "metadata": {},
   "outputs": [
    {
     "name": "stdout",
     "output_type": "stream",
     "text": [
      "Amido radical [NH2]\n",
      "\n",
      "\n"
     ]
    },
    {
     "data": {
      "image/png": "[encoded data removed]",
      "text/plain": [
       "<IPython.core.display.Image object>"
      ]
     },
     "execution_count": 73,
     "metadata": {},
     "output_type": "execute_result"
    }
   ],
   "source": [
    "from rdkit.Chem import Draw\n",
    "mols=[]\n",
    "for result in cs.search('amino'):\n",
    "    print(result.common_name,result.smiles)\n",
    "    print(\"\\n\")\n",
    "    mol=Chem.MolFromSmiles(result.smiles)\n",
    "    mols.append(mol)\n",
    "\n",
    "img=Draw.MolsToGridImage(mols,molsPerRow=4,subImgSize=(200,200),legends=['' for x in mols])\n",
    "img"
   ]
  },
  {
   "cell_type": "code",
   "execution_count": 74,
   "id": "9e1ff4ee-6f35-4efc-a61f-c922e25b7a35",
   "metadata": {},
   "outputs": [
    {
     "data": {
      "text/plain": [
       "{'id': 2157,\n",
       " 'smiles': 'CC(OC1=C(C(=O)O)C=CC=C1)=O\\r\\nCC(=O)OC1C=CC=CC=1C(O)=O',\n",
       " 'formula': 'C_{9}H_{8}O_{4}',\n",
       " 'averageMass': 180.1574,\n",
       " 'molecularWeight': 180.1574,\n",
       " 'monoisotopicMass': 180.042252,\n",
       " 'nominalMass': 180,\n",
       " 'commonName': 'Aspirin',\n",
       " 'referenceCount': 28081,\n",
       " 'dataSourceCount': 190,\n",
       " 'pubMedCount': 38376,\n",
       " 'rscCount': 47326,\n",
       " 'mol2D': '\\n  Ketcher 08291811042D 1   1.00000     0.00000     0\\n\\n 13 13  0     0  0            999 V2000\\n    4.4977   -3.4633    0.0000 C   0  0  0  0  0  0  0        0  0  0\\n    3.9985   -2.5997    0.0000 C   0  0  0  0  0  0  0        0  0  0\\n    4.4977   -1.7317    0.0000 O   0  0  0  0  0  0  0        0  0  0\\n    3.0000   -2.5997    0.0000 O   0  0  0  0  0  0  0        0  0  0\\n    2.5008   -1.7317    0.0000 C   0  0  0  0  0  0  0        0  0  0\\n    3.0000   -0.8680    0.0000 C   0  0  0  0  0  0  0        0  0  0\\n    2.5008    0.0000    0.0000 C   0  0  0  0  0  0  0        0  0  0\\n    1.4977    0.0000    0.0000 C   0  0  0  0  0  0  0        0  0  0\\n    0.9985   -0.8680    0.0000 C   0  0  0  0  0  0  0        0  0  0\\n    1.4977   -1.7317    0.0000 C   0  0  0  0  0  0  0        0  0  0\\n    0.9985   -2.5997    0.0000 C   0  0  0  0  0  0  0        0  0  0\\n    0.0000   -2.5997    0.0000 O   0  0  0  0  0  0  0        0  0  0\\n    1.4977   -3.4633    0.0000 O   0  0  0  0  0  0  0        0  0  0\\n  1  2  1  0     0  0\\n  2  3  2  0     0  0\\n  2  4  1  0     0  0\\n  4  5  1  0     0  0\\n  5  6  1  0     0  0\\n  5 10  2  0     0  0\\n  6  7  2  0     0  0\\n  7  8  1  0     0  0\\n  8  9  2  0     0  0\\n  9 10  1  0     0  0\\n 10 11  1  0     0  0\\n 11 12  1  0     0  0\\n 11 13  2  0     0  0\\nM  END\\n',\n",
       " 'mol3D': '2244\\n  Marvin  12300703363D          \\n\\n 21 21  0  0  0  0            999 V2000\\n   -0.8612   -1.2262   -0.2662 O   0  0  0  0  0  0  0  0  0  0  0  0\\n    3.0617   -1.6852    0.1961 O   0  0  0  0  0  0  0  0  0  0  0  0\\n    1.4447   -2.5635   -0.6900 O   0  0  0  0  0  0  0  0  0  0  0  0\\n   -2.4189   -2.5903   -0.0729 O   0  0  0  0  0  0  0  0  0  0  0  0\\n   -0.1412   -0.1785   -0.4132 C   0  0  0  0  0  0  0  0  0  0  0  0\\n    1.2784   -0.2956   -0.3433 C   0  0  0  0  0  0  0  0  0  0  0  0\\n   -0.7302    1.0925   -0.6232 C   0  0  0  0  0  0  0  0  0  0  0  0\\n    2.0415    0.9020   -0.3420 C   0  0  0  0  0  0  0  0  0  0  0  0\\n    0.0491    2.2590   -0.6408 C   0  0  0  0  0  0  0  0  0  0  0  0\\n    1.4378    2.1648   -0.4724 C   0  0  0  0  0  0  0  0  0  0  0  0\\n    1.9369   -1.5271   -0.2701 C   0  0  0  0  0  0  0  0  0  0  0  0\\n   -1.9700   -1.4955    0.2325 C   0  0  0  0  0  0  0  0  0  0  0  0\\n   -2.7371   -0.6848    1.1595 C   0  0  0  0  0  0  0  0  0  0  0  0\\n   -1.7396    1.1850   -0.7587 H   0  0  0  0  0  0  0  0  0  0  0  0\\n    3.0610    0.8861   -0.2532 H   0  0  0  0  0  0  0  0  0  0  0  0\\n   -0.3946    3.1715   -0.7684 H   0  0  0  0  0  0  0  0  0  0  0  0\\n    2.0064    3.0149   -0.4552 H   0  0  0  0  0  0  0  0  0  0  0  0\\n   -3.0283   -1.2693    2.0341 H   0  0  0  0  0  0  0  0  0  0  0  0\\n   -3.6371   -0.3138    0.6664 H   0  0  0  0  0  0  0  0  0  0  0  0\\n   -2.1731    0.1707    1.5341 H   0  0  0  0  0  0  0  0  0  0  0  0\\n    3.5136   -1.0170    0.5467 H   0  0  0  0  0  0  0  0  0  0  0  0\\n  1  5  1  0  0  0  0\\n  1 12  1  0  0  0  0\\n  2 11  1  0  0  0  0\\n  2 21  1  0  0  0  0\\n  3 11  2  0  0  0  0\\n  4 12  2  0  0  0  0\\n  5  6  1  0  0  0  0\\n  5  7  2  0  0  0  0\\n  6  8  2  0  0  0  0\\n  6 11  1  0  0  0  0\\n  7  9  1  0  0  0  0\\n  7 14  1  0  0  0  0\\n  8 10  1  0  0  0  0\\n  8 15  1  0  0  0  0\\n  9 10  2  0  0  0  0\\n  9 16  1  0  0  0  0\\n 10 17  1  0  0  0  0\\n 12 13  1  0  0  0  0\\n 13 18  1  0  0  0  0\\n 13 19  1  0  0  0  0\\n 13 20  1  0  0  0  0\\nM  END\\n> <PUBCHEM_BONDANNOTATIONS>\\n5  6  8\\n5  7  8\\n6  8  8\\n7  9  8\\n8  10  8\\n9  10  8\\n\\n$$$$\\n'}"
      ]
     },
     "execution_count": 74,
     "metadata": {},
     "output_type": "execute_result"
    }
   ],
   "source": [
    "info = cs.get_details(2157)\n",
    "info"
   ]
  },
  {
   "cell_type": "code",
   "execution_count": 75,
   "id": "2a823822-26ef-46c5-93bf-209141282377",
   "metadata": {},
   "outputs": [
    {
     "name": "stdout",
     "output_type": "stream",
     "text": [
      "dict_keys(['id', 'smiles', 'formula', 'averageMass', 'molecularWeight', 'monoisotopicMass', 'nominalMass', 'commonName', 'referenceCount', 'dataSourceCount', 'pubMedCount', 'rscCount', 'mol2D', 'mol3D'])\n"
     ]
    }
   ],
   "source": [
    "print(info.keys())"
   ]
  },
  {
   "cell_type": "code",
   "execution_count": 78,
   "id": "75ba5027-c733-4368-8e88-b3831bde34ce",
   "metadata": {},
   "outputs": [
    {
     "name": "stdout",
     "output_type": "stream",
     "text": [
      "CC(OC1=C(C(=O)O)C=CC=C1)=O\n",
      "CC(=O)OC1C=CC=CC=1C(O)=O\n"
     ]
    }
   ],
   "source": [
    "print(info['smiles'])"
   ]
  },
  {
   "cell_type": "code",
   "execution_count": 85,
   "id": "7847baf1-9de7-4cf1-871f-06d6fb3878a4",
   "metadata": {},
   "outputs": [
    {
     "data": {
      "text/plain": [
       "2157"
      ]
     },
     "execution_count": 85,
     "metadata": {},
     "output_type": "execute_result"
    }
   ],
   "source": [
    "info['id']"
   ]
  },
  {
   "cell_type": "code",
   "execution_count": 86,
   "id": "b7f0bad2-64af-4614-96cf-1406fbbdbec8",
   "metadata": {},
   "outputs": [
    {
     "data": {
      "text/plain": [
       "Results(Created)"
      ]
     },
     "execution_count": 86,
     "metadata": {},
     "output_type": "execute_result"
    }
   ],
   "source": [
    "cs.search('O=C(OCC)C')"
   ]
  },
  {
   "cell_type": "code",
   "execution_count": 87,
   "id": "d75005a8-e1d0-4cb4-8085-be77d58369d7",
   "metadata": {},
   "outputs": [
    {
     "data": {
      "image/png": "[encoded data removed]",
      "text/plain": [
       "<rdkit.Chem.rdchem.Mol at 0x25714991e00>"
      ]
     },
     "execution_count": 87,
     "metadata": {},
     "output_type": "execute_result"
    }
   ],
   "source": [
    "Chem.MolFromSmiles('O=C(OCC)C')"
   ]
  },
  {
   "cell_type": "code",
   "execution_count": 88,
   "id": "adab6fe4-36ca-49cf-8553-6258ac5c3ab3",
   "metadata": {},
   "outputs": [
    {
     "data": {
      "text/plain": [
       "Results(Created)"
      ]
     },
     "execution_count": 88,
     "metadata": {},
     "output_type": "execute_result"
    }
   ],
   "source": [
    "cs.search('glucose')"
   ]
  }
 ],
 "metadata": {
  "kernelspec": {
   "display_name": "Python 3 (ipykernel)",
   "language": "python",
   "name": "python3"
  },
  "language_info": {
   "codemirror_mode": {
    "name": "ipython",
    "version": 3
   },
   "file_extension": ".py",
   "mimetype": "text/x-python",
   "name": "python",
   "nbconvert_exporter": "python",
   "pygments_lexer": "ipython3",
   "version": "3.11.3"
  }
 },
 "nbformat": 4,
 "nbformat_minor": 5
}
