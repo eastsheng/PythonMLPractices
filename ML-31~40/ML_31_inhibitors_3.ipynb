{
 "cells": [
  {
   "cell_type": "code",
   "execution_count": 2,
   "id": "48168b62-b811-4678-ad68-dea1d8ce3890",
   "metadata": {},
   "outputs": [],
   "source": [
    "from chemspipy import ChemSpider\n",
    "import os\n",
    "api_key = os.environ[\"CHEMSPIDER_API_KEY\"]\n",
    "cs = ChemSpider(api_key)"
   ]
  },
  {
   "cell_type": "code",
   "execution_count": null,
   "id": "6da85533-0912-48e1-a97f-597452251896",
   "metadata": {},
   "outputs": [],
   "source": [
    "from rdkit import Chem\n",
    "from rdkit.Chem import Draw\n",
    "mols=[]\n",
    "for result in cs.search('1-ethenylpyrrolidin-2-one'):\n",
    "    print(result.common_name,\"\\t\",result.smiles,\"\\t\",result.molecular_formula)\n",
    "    mol=Chem.MolFromSmiles(result.smiles)\n",
    "    mols.append(mol)\n",
    "\n",
    "img=Draw.MolsToGridImage(mols,molsPerRow=4,subImgSize=(200,200),legends=['' for x in mols])\n",
    "img"
   ]
  },
  {
   "cell_type": "code",
   "execution_count": 12,
   "id": "fe30792b-6449-41b8-814d-325cee831008",
   "metadata": {},
   "outputs": [
    {
     "ename": "AttributeError",
     "evalue": "'ChemSpider' object has no attribute 'search_by_formula'",
     "output_type": "error",
     "traceback": [
      "\u001b[1;31m---------------------------------------------------------------------------\u001b[0m",
      "\u001b[1;31mAttributeError\u001b[0m                            Traceback (most recent call last)",
      "Cell \u001b[1;32mIn[12], line 1\u001b[0m\n\u001b[1;32m----> 1\u001b[0m \u001b[43mcs\u001b[49m\u001b[38;5;241;43m.\u001b[39;49m\u001b[43msearch_by_formula\u001b[49m(\u001b[38;5;124m'\u001b[39m\u001b[38;5;124mC44H30N4Zn\u001b[39m\u001b[38;5;124m'\u001b[39m)\n",
      "\u001b[1;31mAttributeError\u001b[0m: 'ChemSpider' object has no attribute 'search_by_formula'"
     ]
    }
   ],
   "source": [
    "cs.search_by_formula('C44H30N4Zn')"
   ]
  }
 ],
 "metadata": {
  "kernelspec": {
   "display_name": "Python 3 (ipykernel)",
   "language": "python",
   "name": "python3"
  },
  "language_info": {
   "codemirror_mode": {
    "name": "ipython",
    "version": 3
   },
   "file_extension": ".py",
   "mimetype": "text/x-python",
   "name": "python",
   "nbconvert_exporter": "python",
   "pygments_lexer": "ipython3",
   "version": "3.11.3"
  }
 },
 "nbformat": 4,
 "nbformat_minor": 5
}
