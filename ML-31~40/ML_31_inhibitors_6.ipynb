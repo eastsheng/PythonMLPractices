{
 "cells": [
  {
   "cell_type": "code",
   "execution_count": 2,
   "id": "a3174e8b-2363-447d-b35e-5fad8cf77461",
   "metadata": {},
   "outputs": [
    {
     "name": "stdout",
     "output_type": "stream",
     "text": [
      "molecu m contains group -OCH3\n"
     ]
    }
   ],
   "source": [
    "# High-throughput screening\n"
   ]
  },
  {
   "cell_type": "code",
   "execution_count": 3,
   "id": "51f42877-f6a9-4260-85fa-a0bd9d70b225",
   "metadata": {},
   "outputs": [
    {
     "data": {
      "image/png": "[encoded data removed]",
      "text/plain": [
       "<rdkit.Chem.rdchem.Mol at 0x7fa8c4373d10>"
      ]
     },
     "execution_count": 3,
     "metadata": {},
     "output_type": "execute_result"
    }
   ],
   "source": [
    "m"
   ]
  },
  {
   "cell_type": "code",
   "execution_count": 5,
   "id": "0770c05d-3e10-47da-be25-c63413cce23c",
   "metadata": {},
   "outputs": [
    {
     "name": "stdout",
     "output_type": "stream",
     "text": [
      "matched atom id: (6, 7)\n"
     ]
    }
   ],
   "source": [
    "if flag:\n",
    "    atomids = m.GetSubstructMatch(patt)\n",
    "    print(\"matched atom id:\",atomids)\n",
    "else:\n",
    "    print(\"molecu m don't contain group -OCH3\")"
   ]
  },
  {
   "cell_type": "code",
   "execution_count": 7,
   "id": "3fed6125-a72e-46d1-9615-4041cc8c400e",
   "metadata": {},
   "outputs": [
    {
     "name": "stdout",
     "output_type": "stream",
     "text": [
      "matched atom id: ((4, 5), (8, 9))\n"
     ]
    }
   ],
   "source": [
    "m = Chem.MolFromSmiles('c1ccc(OC)cc1OC')\n",
    "patt = Chem.MolFromSmarts('OC')\n",
    "flag =m.HasSubstructMatch(patt)\n",
    "if flag:\n",
    "    atomids = m.GetSubstructMatches(patt)\n",
    "    print(\"matched atom id:\",atomids)\n",
    "else:\n",
    "    print(\"molecu m don't contain group -OCH3\")"
   ]
  },
  {
   "cell_type": "code",
   "execution_count": null,
   "id": "9ce92dc2-4fe4-47f2-95ed-17a7cdad8f5a",
   "metadata": {},
   "outputs": [],
   "source": []
  }
 ],
 "metadata": {
  "kernelspec": {
   "display_name": "Python 3 (ipykernel)",
   "language": "python",
   "name": "python3"
  },
  "language_info": {
   "codemirror_mode": {
    "name": "ipython",
    "version": 3
   },
   "file_extension": ".py",
   "mimetype": "text/x-python",
   "name": "python",
   "nbconvert_exporter": "python",
   "pygments_lexer": "ipython3",
   "version": "3.11.4"
  }
 },
 "nbformat": 4,
 "nbformat_minor": 5
}
