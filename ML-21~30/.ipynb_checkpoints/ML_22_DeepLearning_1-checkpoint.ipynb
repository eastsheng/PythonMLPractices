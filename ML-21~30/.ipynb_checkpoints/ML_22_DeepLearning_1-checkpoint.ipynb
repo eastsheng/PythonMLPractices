{
 "cells": [
  {
   "cell_type": "markdown",
   "id": "8a79ffb0-881e-4794-8ad6-431c68048f72",
   "metadata": {},
   "source": [
    "## 卷积神经网络\n",
    "- convolutional neural network\n",
    "- 含有卷积层（convolutional layer）的神经网络\n",
    "### 二维卷积层\n",
    "- 有高和宽两个空间维度，常用来处理图像数据\n",
    "- 通常在卷积层中使用更加直观的互相关（cross-correlation）运算\n",
    "- 二维互相关（cross-correlation）运算:一个二维输入数组和一个二维核（kernel）数组通过互相关运算输出一个二维数组\n",
    "- ![二维互相关运算](https://trickygo.github.io/Dive-into-DL-TensorFlow2.0/img/chapter05/5.1_correlation.svg)"
   ]
  },
  {
   "cell_type": "code",
   "execution_count": 4,
   "id": "11a1fc92-6c48-43ef-a52f-c62fb55c22bc",
   "metadata": {},
   "outputs": [],
   "source": [
    "import tensorflow as tf"
   ]
  },
  {
   "cell_type": "code",
   "execution_count": 5,
   "id": "2d6d81bd-5ad3-449f-b921-0e9bee9ea776",
   "metadata": {},
   "outputs": [],
   "source": [
    "# 实现二维互相关\n",
    "# 输入数组X与核数组K，并输出数组Y\n",
    "def corr2d(X, K):\n",
    "    h, w = K.shape\n",
    "    Y = tf.Variable(tf.zeros((X.shape[0] - h + 1, X.shape[1] - w +1)))\n",
    "    for i in range(Y.shape[0]):\n",
    "        for j in range(Y.shape[1]):\n",
    "            Y[i,j].assign(tf.cast(tf.reduce_sum(X[i:i+h, j:j+w] * K), dtype=tf.float32))\n",
    "    return Y\n"
   ]
  },
  {
   "cell_type": "code",
   "execution_count": 7,
   "id": "44ef3501-60a8-4c6e-81ae-ebf783aec0e6",
   "metadata": {},
   "outputs": [
    {
     "data": {
      "text/plain": [
       "<tf.Variable 'Variable:0' shape=(2, 2) dtype=float32, numpy=\n",
       "array([[19., 25.],\n",
       "       [37., 43.]], dtype=float32)>"
      ]
     },
     "execution_count": 7,
     "metadata": {},
     "output_type": "execute_result"
    }
   ],
   "source": [
    "X = tf.constant([[0,1,2], [3,4,5], [6,7,8]])\n",
    "K = tf.constant([[0,1], [2,3]])\n",
    "corr2d(X, K)"
   ]
  },
  {
   "cell_type": "code",
   "execution_count": 8,
   "id": "3c5ebf13-214c-406c-80ce-7f742290e139",
   "metadata": {},
   "outputs": [],
   "source": [
    "# 基于corr2d函数来实现一个自定义的二维卷积层\n",
    "class Conv2D(tf.keras.layers.Layer):\n",
    "    def __init__(self, units):\n",
    "        super().__init__()\n",
    "        self.units = units\n",
    "\n",
    "    def build(self, kernel_size):\n",
    "        self.w = self.add_weight(name='w',\n",
    "                                shape=kernel_size,\n",
    "                                initializer=tf.random_normal_initializer())\n",
    "        self.b = self.add_weight(name='b',\n",
    "                                shape=(1,),\n",
    "                                initializer=tf.random_normal_initializer())\n",
    "    def call(self, inputs):\n",
    "        return corr2d(inputs, self.w) + self.b\n"
   ]
  },
  {
   "cell_type": "code",
   "execution_count": 9,
   "id": "03037ebf-ea47-402b-a1bc-02e592169993",
   "metadata": {},
   "outputs": [
    {
     "data": {
      "text/plain": [
       "<tf.Variable 'Variable:0' shape=(6, 8) dtype=float32, numpy=\n",
       "array([[1., 1., 0., 0., 0., 0., 1., 1.],\n",
       "       [1., 1., 0., 0., 0., 0., 1., 1.],\n",
       "       [1., 1., 0., 0., 0., 0., 1., 1.],\n",
       "       [1., 1., 0., 0., 0., 0., 1., 1.],\n",
       "       [1., 1., 0., 0., 0., 0., 1., 1.],\n",
       "       [1., 1., 0., 0., 0., 0., 1., 1.]], dtype=float32)>"
      ]
     },
     "execution_count": 9,
     "metadata": {},
     "output_type": "execute_result"
    }
   ],
   "source": [
    "# 图像中物体边缘检测：检测图像中物体的边缘，即找到像素变化的位置。\n",
    "X = tf.Variable(tf.ones((6,8)))\n",
    "X[:, 2:6].assign(tf.zeros(X[:,2:6].shape))\n",
    "X"
   ]
  },
  {
   "cell_type": "code",
   "execution_count": 10,
   "id": "6fcd7b56-ce0b-4a00-beea-206bce09375d",
   "metadata": {},
   "outputs": [],
   "source": [
    "# 构造一个高和宽分别为1和2的卷积核K\n",
    "K = tf.constant([[1,-1]], dtype = tf.float32)"
   ]
  },
  {
   "cell_type": "code",
   "execution_count": 14,
   "id": "da3055a7-2262-4820-b540-d068a4ffb4ef",
   "metadata": {},
   "outputs": [
    {
     "data": {
      "text/plain": [
       "(TensorShape([1, 2]),\n",
       " <tf.Tensor: shape=(1, 2), dtype=float32, numpy=array([[ 1., -1.]], dtype=float32)>)"
      ]
     },
     "execution_count": 14,
     "metadata": {},
     "output_type": "execute_result"
    }
   ],
   "source": [
    "K.shape,K"
   ]
  },
  {
   "cell_type": "code",
   "execution_count": 15,
   "id": "e5c64133-6cc1-4888-8731-7ff9bd98e71f",
   "metadata": {},
   "outputs": [
    {
     "data": {
      "text/plain": [
       "<tf.Variable 'Variable:0' shape=(6, 7) dtype=float32, numpy=\n",
       "array([[ 0.,  1.,  0.,  0.,  0., -1.,  0.],\n",
       "       [ 0.,  1.,  0.,  0.,  0., -1.,  0.],\n",
       "       [ 0.,  1.,  0.,  0.,  0., -1.,  0.],\n",
       "       [ 0.,  1.,  0.,  0.,  0., -1.,  0.],\n",
       "       [ 0.,  1.,  0.,  0.,  0., -1.,  0.],\n",
       "       [ 0.,  1.,  0.,  0.,  0., -1.,  0.]], dtype=float32)>"
      ]
     },
     "execution_count": 15,
     "metadata": {},
     "output_type": "execute_result"
    }
   ],
   "source": [
    "Y = corr2d(X, K)\n",
    "Y"
   ]
  }
 ],
 "metadata": {
  "kernelspec": {
   "display_name": "Python 3 (ipykernel)",
   "language": "python",
   "name": "python3"
  },
  "language_info": {
   "codemirror_mode": {
    "name": "ipython",
    "version": 3
   },
   "file_extension": ".py",
   "mimetype": "text/x-python",
   "name": "python",
   "nbconvert_exporter": "python",
   "pygments_lexer": "ipython3",
   "version": "3.11.4"
  }
 },
 "nbformat": 4,
 "nbformat_minor": 5
}
