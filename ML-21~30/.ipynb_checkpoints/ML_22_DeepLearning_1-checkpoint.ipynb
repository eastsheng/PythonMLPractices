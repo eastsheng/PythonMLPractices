{
 "cells": [
  {
   "cell_type": "markdown",
   "id": "8a79ffb0-881e-4794-8ad6-431c68048f72",
   "metadata": {},
   "source": [
    "## 卷积神经网络\n",
    "- convolutional neural network\n",
    "- 含有卷积层（convolutional layer）的神经网络\n",
    "### 二维卷积层\n",
    "- 有高和宽两个空间维度，常用来处理图像数据\n",
    "- 通常在卷积层中使用更加直观的互相关（cross-correlation）运算\n",
    "- 二维互相关（cross-correlation）运算:一个二维输入数组和一个二维核（kernel）数组通过互相关运算输出一个二维数组\n",
    "- ![二维互相关运算](https://trickygo.github.io/Dive-into-DL-TensorFlow2.0/img/chapter05/5.1_correlation.svg)\n",
    "- 输入中阴影部分的四个元素是输出中阴影部分元素的感受野\n",
    "- 可见，我们可以通过更深的卷积神经网络使特征图中单个元素的感受野变得更加广阔，从而捕捉输入上更大尺寸的特征"
   ]
  },
  {
   "cell_type": "code",
   "execution_count": 4,
   "id": "11a1fc92-6c48-43ef-a52f-c62fb55c22bc",
   "metadata": {},
   "outputs": [],
   "source": [
    "import tensorflow as tf"
   ]
  },
  {
   "cell_type": "code",
   "execution_count": 5,
   "id": "2d6d81bd-5ad3-449f-b921-0e9bee9ea776",
   "metadata": {},
   "outputs": [],
   "source": [
    "# 实现二维互相关\n",
    "# 输入数组X与核数组K，并输出数组Y\n",
    "def corr2d(X, K):\n",
    "    h, w = K.shape\n",
    "    Y = tf.Variable(tf.zeros((X.shape[0] - h + 1, X.shape[1] - w +1)))\n",
    "    for i in range(Y.shape[0]):\n",
    "        for j in range(Y.shape[1]):\n",
    "            Y[i,j].assign(tf.cast(tf.reduce_sum(X[i:i+h, j:j+w] * K), dtype=tf.float32))\n",
    "    return Y\n"
   ]
  },
  {
   "cell_type": "code",
   "execution_count": 7,
   "id": "44ef3501-60a8-4c6e-81ae-ebf783aec0e6",
   "metadata": {},
   "outputs": [
    {
     "data": {
      "text/plain": [
       "<tf.Variable 'Variable:0' shape=(2, 2) dtype=float32, numpy=\n",
       "array([[19., 25.],\n",
       "       [37., 43.]], dtype=float32)>"
      ]
     },
     "execution_count": 7,
     "metadata": {},
     "output_type": "execute_result"
    }
   ],
   "source": [
    "X = tf.constant([[0,1,2], [3,4,5], [6,7,8]])\n",
    "K = tf.constant([[0,1], [2,3]])\n",
    "corr2d(X, K)"
   ]
  },
  {
   "cell_type": "code",
   "execution_count": 8,
   "id": "3c5ebf13-214c-406c-80ce-7f742290e139",
   "metadata": {},
   "outputs": [],
   "source": [
    "# 基于corr2d函数来实现一个自定义的二维卷积层\n",
    "class Conv2D(tf.keras.layers.Layer):\n",
    "    def __init__(self, units):\n",
    "        super().__init__()\n",
    "        self.units = units\n",
    "\n",
    "    def build(self, kernel_size):\n",
    "        self.w = self.add_weight(name='w',\n",
    "                                shape=kernel_size,\n",
    "                                initializer=tf.random_normal_initializer())\n",
    "        self.b = self.add_weight(name='b',\n",
    "                                shape=(1,),\n",
    "                                initializer=tf.random_normal_initializer())\n",
    "    def call(self, inputs):\n",
    "        return corr2d(inputs, self.w) + self.b\n"
   ]
  },
  {
   "cell_type": "code",
   "execution_count": 9,
   "id": "03037ebf-ea47-402b-a1bc-02e592169993",
   "metadata": {},
   "outputs": [
    {
     "data": {
      "text/plain": [
       "<tf.Variable 'Variable:0' shape=(6, 8) dtype=float32, numpy=\n",
       "array([[1., 1., 0., 0., 0., 0., 1., 1.],\n",
       "       [1., 1., 0., 0., 0., 0., 1., 1.],\n",
       "       [1., 1., 0., 0., 0., 0., 1., 1.],\n",
       "       [1., 1., 0., 0., 0., 0., 1., 1.],\n",
       "       [1., 1., 0., 0., 0., 0., 1., 1.],\n",
       "       [1., 1., 0., 0., 0., 0., 1., 1.]], dtype=float32)>"
      ]
     },
     "execution_count": 9,
     "metadata": {},
     "output_type": "execute_result"
    }
   ],
   "source": [
    "# 图像中物体边缘检测：检测图像中物体的边缘，即找到像素变化的位置。\n",
    "X = tf.Variable(tf.ones((6,8)))\n",
    "X[:, 2:6].assign(tf.zeros(X[:,2:6].shape))\n",
    "X"
   ]
  },
  {
   "cell_type": "code",
   "execution_count": 10,
   "id": "6fcd7b56-ce0b-4a00-beea-206bce09375d",
   "metadata": {},
   "outputs": [],
   "source": [
    "# 构造一个高和宽分别为1和2的卷积核K\n",
    "K = tf.constant([[1,-1]], dtype = tf.float32)"
   ]
  },
  {
   "cell_type": "code",
   "execution_count": 14,
   "id": "da3055a7-2262-4820-b540-d068a4ffb4ef",
   "metadata": {},
   "outputs": [
    {
     "data": {
      "text/plain": [
       "(TensorShape([1, 2]),\n",
       " <tf.Tensor: shape=(1, 2), dtype=float32, numpy=array([[ 1., -1.]], dtype=float32)>)"
      ]
     },
     "execution_count": 14,
     "metadata": {},
     "output_type": "execute_result"
    }
   ],
   "source": [
    "K.shape,K"
   ]
  },
  {
   "cell_type": "code",
   "execution_count": 15,
   "id": "e5c64133-6cc1-4888-8731-7ff9bd98e71f",
   "metadata": {},
   "outputs": [
    {
     "data": {
      "text/plain": [
       "<tf.Variable 'Variable:0' shape=(6, 7) dtype=float32, numpy=\n",
       "array([[ 0.,  1.,  0.,  0.,  0., -1.,  0.],\n",
       "       [ 0.,  1.,  0.,  0.,  0., -1.,  0.],\n",
       "       [ 0.,  1.,  0.,  0.,  0., -1.,  0.],\n",
       "       [ 0.,  1.,  0.,  0.,  0., -1.,  0.],\n",
       "       [ 0.,  1.,  0.,  0.,  0., -1.,  0.],\n",
       "       [ 0.,  1.,  0.,  0.,  0., -1.,  0.]], dtype=float32)>"
      ]
     },
     "execution_count": 15,
     "metadata": {},
     "output_type": "execute_result"
    }
   ],
   "source": [
    "Y = corr2d(X, K)\n",
    "Y"
   ]
  },
  {
   "cell_type": "code",
   "execution_count": 16,
   "id": "b69df275-191a-48fa-92ee-f3a44b1755aa",
   "metadata": {},
   "outputs": [
    {
     "data": {
      "text/plain": [
       "<tf.Tensor: shape=(1, 6, 7, 1), dtype=float32, numpy=\n",
       "array([[[[ 0.],\n",
       "         [ 1.],\n",
       "         [ 0.],\n",
       "         [ 0.],\n",
       "         [ 0.],\n",
       "         [-1.],\n",
       "         [ 0.]],\n",
       "\n",
       "        [[ 0.],\n",
       "         [ 1.],\n",
       "         [ 0.],\n",
       "         [ 0.],\n",
       "         [ 0.],\n",
       "         [-1.],\n",
       "         [ 0.]],\n",
       "\n",
       "        [[ 0.],\n",
       "         [ 1.],\n",
       "         [ 0.],\n",
       "         [ 0.],\n",
       "         [ 0.],\n",
       "         [-1.],\n",
       "         [ 0.]],\n",
       "\n",
       "        [[ 0.],\n",
       "         [ 1.],\n",
       "         [ 0.],\n",
       "         [ 0.],\n",
       "         [ 0.],\n",
       "         [-1.],\n",
       "         [ 0.]],\n",
       "\n",
       "        [[ 0.],\n",
       "         [ 1.],\n",
       "         [ 0.],\n",
       "         [ 0.],\n",
       "         [ 0.],\n",
       "         [-1.],\n",
       "         [ 0.]],\n",
       "\n",
       "        [[ 0.],\n",
       "         [ 1.],\n",
       "         [ 0.],\n",
       "         [ 0.],\n",
       "         [ 0.],\n",
       "         [-1.],\n",
       "         [ 0.]]]], dtype=float32)>"
      ]
     },
     "execution_count": 16,
     "metadata": {},
     "output_type": "execute_result"
    }
   ],
   "source": [
    "# 通过数据学习核数组\n",
    "# 二维卷积层使用4维输入输出，格式为(样本, 高, 宽, 通道)，这里批量大小（批量中的样本数）和通道数均为1\n",
    "X = tf.reshape(X, (1,6,8,1))\n",
    "Y = tf.reshape(Y, (1,6,7,1))\n",
    "Y"
   ]
  },
  {
   "cell_type": "code",
   "execution_count": 17,
   "id": "6a18240e-80ed-4739-8436-95e0d12df9cf",
   "metadata": {},
   "outputs": [],
   "source": [
    "# 构造一个输出通道数为1（将在“多输入通道和多输出通道”一节介绍通道），核数组形状是(1, 2)的二维卷积层\n",
    "conv2d = tf.keras.layers.Conv2D(1, (1,2))"
   ]
  },
  {
   "cell_type": "code",
   "execution_count": 18,
   "id": "dea862cd-abf6-4950-879d-c9a9b71126e9",
   "metadata": {},
   "outputs": [
    {
     "data": {
      "text/plain": [
       "TensorShape([1, 6, 7, 1])"
      ]
     },
     "execution_count": 18,
     "metadata": {},
     "output_type": "execute_result"
    }
   ],
   "source": [
    "#input_shape = (samples, rows, cols, channels)\n",
    "# Y = conv2d(X)\n",
    "Y.shape"
   ]
  },
  {
   "cell_type": "code",
   "execution_count": 22,
   "id": "5408884a-4ab2-471a-8a3f-5fe83bfd6d57",
   "metadata": {},
   "outputs": [
    {
     "name": "stdout",
     "output_type": "stream",
     "text": [
      "batch 2, loss 0.000\n",
      "batch 4, loss 0.000\n",
      "batch 6, loss 0.000\n",
      "batch 8, loss 0.000\n",
      "batch 10, loss 0.000\n"
     ]
    }
   ],
   "source": [
    "Y_hat = conv2d(X)\n",
    "for i in range(10):\n",
    "    with tf.GradientTape(watch_accessed_variables=False) as g:\n",
    "        g.watch(conv2d.weights[0])\n",
    "        Y_hat = conv2d(X)\n",
    "        l = (abs(Y_hat - Y)) ** 2\n",
    "        dl = g.gradient(l, conv2d.weights[0])\n",
    "        lr = 3e-2\n",
    "        update = tf.multiply(lr, dl)\n",
    "        updated_weights = conv2d.get_weights()\n",
    "        updated_weights[0] = conv2d.weights[0] - update\n",
    "        conv2d.set_weights(updated_weights)  \n",
    "\n",
    "        if (i + 1)% 2 == 0:\n",
    "            print('batch %d, loss %.3f' % (i + 1, tf.reduce_sum(l)))\n"
   ]
  },
  {
   "cell_type": "code",
   "execution_count": 23,
   "id": "95a75ea1-9bfc-42a4-b659-8fb2226cd469",
   "metadata": {},
   "outputs": [
    {
     "data": {
      "text/plain": [
       "<tf.Tensor: shape=(1, 2), dtype=float32, numpy=array([[ 0.9999567, -1.0000432]], dtype=float32)>"
      ]
     },
     "execution_count": 23,
     "metadata": {},
     "output_type": "execute_result"
    }
   ],
   "source": [
    "tf.reshape(conv2d.get_weights()[0],(1,2))"
   ]
  },
  {
   "cell_type": "markdown",
   "id": "eb53243c-4d16-48a2-b70e-84fcdd51ef7d",
   "metadata": {},
   "source": [
    "### 填充和步幅\n",
    "- 卷积层的两个超参数，即填充和步幅\n",
    "- 它们可以对给定形状的输入和卷积核改变输出形状\n",
    "#### 1. 填充（padding）:可以增加输出的高和宽。这常用来使输出与输入具有相同的高和宽。\n",
    "- 是指在输入高和宽的两侧填充元素（通常是0元素）\n",
    "- ![ 在输入的高和宽两侧分别填充了0元素的二维互相关计算](https://trickygo.github.io/Dive-into-DL-TensorFlow2.0/img/chapter05/5.2_conv_pad.svg)\n",
    "- 卷积神经网络经常使用奇数高宽的卷积核，如1、3、5和7，所以两端上的填充个数相等。\n",
    "- 当两端上的填充个数相等，并使输入和输出具有相同的高和宽时，我们就知道输出Y[i,j]是由输入以X[i,j]为中心的窗口同卷积核进行互相关计算得到的。"
   ]
  },
  {
   "cell_type": "code",
   "execution_count": 24,
   "id": "bdfbac4d-6c75-422a-b6df-bf9786c121ed",
   "metadata": {},
   "outputs": [],
   "source": [
    "# 创建一个高和宽为3的二维卷积层，然后设输入高和宽两侧的填充数分别为1\n",
    "def comp_conv2d(conv2d, X):\n",
    "    X = tf.reshape(X,(1,) + X.shape + (1,))\n",
    "    Y = conv2d(X)\n",
    "    #input_shape = (samples, rows, cols, channels)\n",
    "    return tf.reshape(Y,Y.shape[1:3])"
   ]
  },
  {
   "cell_type": "code",
   "execution_count": 25,
   "id": "897e5b99-1dea-4344-9611-e41b97a5af3f",
   "metadata": {},
   "outputs": [],
   "source": [
    "conv2d = tf.keras.layers.Conv2D(1, kernel_size=3, padding='same')"
   ]
  },
  {
   "cell_type": "code",
   "execution_count": 28,
   "id": "d30c2862-bbd2-40ad-b63d-ec18647af271",
   "metadata": {},
   "outputs": [
    {
     "data": {
      "text/plain": [
       "TensorShape([8, 8])"
      ]
     },
     "execution_count": 28,
     "metadata": {},
     "output_type": "execute_result"
    }
   ],
   "source": [
    "# 给定一个高和宽为8的输入，我们发现输出的高和宽也是8。\n",
    "X = tf.random.uniform(shape=(8,8))\n",
    "comp_conv2d(conv2d,X).shape"
   ]
  },
  {
   "cell_type": "markdown",
   "id": "983c11d2-af5d-417a-b18a-06d39e3618ce",
   "metadata": {},
   "source": [
    "#### 2. 步幅：可以减小输出的高和宽，例如输出的高和宽仅为输入的高和宽的1/n1/n（nn为大于1的整数）\n",
    "- 卷积窗口从输入数组的最左上方开始，按从左往右、从上往下的顺序，依次在输入数组上滑动\n",
    "- 将每次滑动的行数和列数称为步幅（stride）"
   ]
  },
  {
   "cell_type": "code",
   "execution_count": 32,
   "id": "75391987-763a-407d-b093-6852308039e5",
   "metadata": {},
   "outputs": [
    {
     "data": {
      "text/plain": [
       "TensorShape([4, 4])"
      ]
     },
     "execution_count": 32,
     "metadata": {},
     "output_type": "execute_result"
    }
   ],
   "source": [
    "# 令高和宽上的步幅均为2，从而使输入的高和宽减半\n",
    "conv2d = tf.keras.layers.Conv2D(1, kernel_size=3, padding='same',strides=2)\n",
    "comp_conv2d(conv2d, X).shape\n"
   ]
  },
  {
   "cell_type": "code",
   "execution_count": 33,
   "id": "384812b3-76e8-4233-ad36-2b8aaa9fc1d9",
   "metadata": {},
   "outputs": [
    {
     "data": {
      "text/plain": [
       "TensorShape([2, 1])"
      ]
     },
     "execution_count": 33,
     "metadata": {},
     "output_type": "execute_result"
    }
   ],
   "source": [
    "conv2d = tf.keras.layers.Conv2D(1, kernel_size=(3,5), padding='valid', strides=(3,4))\n",
    "comp_conv2d(conv2d, X).shape\n"
   ]
  }
 ],
 "metadata": {
  "kernelspec": {
   "display_name": "Python 3 (ipykernel)",
   "language": "python",
   "name": "python3"
  },
  "language_info": {
   "codemirror_mode": {
    "name": "ipython",
    "version": 3
   },
   "file_extension": ".py",
   "mimetype": "text/x-python",
   "name": "python",
   "nbconvert_exporter": "python",
   "pygments_lexer": "ipython3",
   "version": "3.11.4"
  }
 },
 "nbformat": 4,
 "nbformat_minor": 5
}
