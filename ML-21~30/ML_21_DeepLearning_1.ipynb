{
 "cells": [
  {
   "cell_type": "markdown",
   "id": "90362449-6b71-47cc-92ae-243e7d0126e1",
   "metadata": {},
   "source": [
    "### 模型构造\n",
    "- 除了Sequential类构造模型\n",
    "- 还有另外一种基于tf.keras.Model类的模型构造：模型构造更加灵活"
   ]
  },
  {
   "cell_type": "code",
   "execution_count": 3,
   "id": "9e8b56d3-e972-444e-9196-773ec0a474bd",
   "metadata": {},
   "outputs": [
    {
     "name": "stdout",
     "output_type": "stream",
     "text": [
      "2.13.0\n"
     ]
    }
   ],
   "source": [
    "import tensorflow as tf\n",
    "import numpy as np\n",
    "print(tf.__version__)"
   ]
  },
  {
   "cell_type": "code",
   "execution_count": 5,
   "id": "fd78d01e-e807-46d0-804f-0d63e39739f4",
   "metadata": {},
   "outputs": [],
   "source": [
    "# 定义的MLP类重载了tf.keras.Model类的__init__函数和call函数。\n",
    "# 它们分别用于创建模型参数和定义前向计算。前向计算也即正向传播。\n",
    "class MLP(tf.keras.Model):\n",
    "    # MLP类中无须定义反向传播函数\n",
    "    # 系统将通过自动求梯度而自动生成反向传播所需的backward函数\n",
    "    def __init__(self):\n",
    "        super().__init__()\n",
    "        self.flatten = tf.keras.layers.Flatten()    # Flatten层将除第一维（batch_size）以外的维度展平\n",
    "        # 第一层的输出大小为256，即隐藏层单元个数是256\n",
    "        self.dense1 = tf.keras.layers.Dense(units=256, activation=tf.nn.relu)\n",
    "        # 第二层的输出大小为10，即输出层单元个数是10。\n",
    "        self.dense2 = tf.keras.layers.Dense(units=10)\n",
    "\n",
    "    def call(self, inputs):         \n",
    "        x = self.flatten(inputs)   \n",
    "        x = self.dense1(x)    \n",
    "        output = self.dense2(x)     \n",
    "        return output"
   ]
  },
  {
   "cell_type": "code",
   "execution_count": 7,
   "id": "84eefebd-1999-4b90-80fa-30d797cbcb03",
   "metadata": {},
   "outputs": [],
   "source": [
    "# 实例化MLP类得到模型变量net\n",
    "net = MLP()"
   ]
  },
  {
   "cell_type": "code",
   "execution_count": 8,
   "id": "ec62ebfe-a46b-439a-ab82-6f5f961a1d16",
   "metadata": {},
   "outputs": [
    {
     "data": {
      "text/plain": [
       "<tf.Tensor: shape=(2, 10), dtype=float32, numpy=\n",
       "array([[ 0.2518911 ,  0.27268562,  0.13767868, -0.27104917, -0.23116493,\n",
       "        -0.41052836,  0.44719112,  0.06317401,  0.15378079,  0.03549479],\n",
       "       [ 0.10313252,  0.40641448, -0.04446249, -0.15867701, -0.49835414,\n",
       "        -0.3246387 ,  0.42912585,  0.3107004 ,  0.20189673, -0.05804705]],\n",
       "      dtype=float32)>"
      ]
     },
     "execution_count": 8,
     "metadata": {},
     "output_type": "execute_result"
    }
   ],
   "source": [
    "# 初始化net并传入输入数据X做一次前向计算\n",
    "X = tf.random.uniform((2,20))\n",
    "net(X)"
   ]
  },
  {
   "cell_type": "code",
   "execution_count": 9,
   "id": "d3f98136-4ae3-4064-b518-bb9d853a2109",
   "metadata": {},
   "outputs": [
    {
     "data": {
      "text/plain": [
       "<tf.Tensor: shape=(2, 10), dtype=float32, numpy=\n",
       "array([[ 0.12892115,  0.01318432,  0.25992852, -0.08442985,  0.11952689,\n",
       "        -0.34600514,  0.03692832,  0.24611673, -0.1143194 , -0.35195005],\n",
       "       [ 0.02514953, -0.11116829,  0.23285188, -0.06632587, -0.09636828,\n",
       "        -0.10517096,  0.12811762,  0.25564653, -0.19398734, -0.2895373 ]],\n",
       "      dtype=float32)>"
      ]
     },
     "execution_count": 9,
     "metadata": {},
     "output_type": "execute_result"
    }
   ],
   "source": [
    "# 事实上，Sequential类继承自tf.keras.Model类\n",
    "# 当模型的前向计算为简单串联各个层的计算时，可以通过更加简单的方式定义模型\n",
    "# Sequential类的目的：它提供add函数来逐一添加串联的Block子类实例，\n",
    "# 而模型的前向计算就是将这些实例按添加的顺序逐一计算。\n",
    "# 用Sequential类来实现前面描述的MLP类：\n",
    "model = tf.keras.models.Sequential([\n",
    "    tf.keras.layers.Flatten(),\n",
    "    tf.keras.layers.Dense(256, activation=tf.nn.relu),\n",
    "    tf.keras.layers.Dense(10),\n",
    "])\n",
    "\n",
    "model(X)"
   ]
  },
  {
   "cell_type": "code",
   "execution_count": 10,
   "id": "d6bee443-f78e-44c2-b560-0abf11c1d083",
   "metadata": {},
   "outputs": [
    {
     "data": {
      "text/plain": [
       "<tf.Tensor: shape=(2, 10), dtype=float32, numpy=\n",
       "array([[ 0.2518911 ,  0.27268562,  0.13767868, -0.27104917, -0.23116493,\n",
       "        -0.41052836,  0.44719112,  0.06317401,  0.15378079,  0.03549479],\n",
       "       [ 0.10313252,  0.40641448, -0.04446249, -0.15867701, -0.49835414,\n",
       "        -0.3246387 ,  0.42912585,  0.3107004 ,  0.20189673, -0.05804705]],\n",
       "      dtype=float32)>"
      ]
     },
     "execution_count": 10,
     "metadata": {},
     "output_type": "execute_result"
    }
   ],
   "source": [
    "net.call(X)"
   ]
  },
  {
   "cell_type": "code",
   "execution_count": 11,
   "id": "556797b6-c754-4ec7-acf1-85beb0534386",
   "metadata": {},
   "outputs": [],
   "source": [
    "# 虽然Sequential类可以使模型构造更加简单，且不需要定义call函数，\n",
    "# 但直接继承tf.keras.Model类可以极大地拓展模型构造的灵活性。\n",
    "# 构造一个稍微复杂点的网络FancyMLP:\n",
    "class FancyMLP(tf.keras.Model):\n",
    "    def __init__(self):\n",
    "        super().__init__()\n",
    "        self.flatten = tf.keras.layers.Flatten()\n",
    "        # 常数权重rand_weight（注意它不是模型参数）\n",
    "        self.rand_weight = tf.constant(\n",
    "            tf.random.uniform((20,20)))\n",
    "        self.dense = tf.keras.layers.Dense(units=20, activation=tf.nn.relu)\n",
    "\n",
    "    def call(self, inputs):         \n",
    "        x = self.flatten(inputs)   \n",
    "        # 做了矩阵乘法操作（tf.matmul）\n",
    "        x = tf.nn.relu(tf.matmul(x, self.rand_weight) + 1)\n",
    "        # 重复使用了相同的Dense层\n",
    "        x = self.dense(x)    \n",
    "        while tf.norm(x) > 1:\n",
    "            x /= 2\n",
    "        if tf.norm(x) < 0.8:\n",
    "            x *= 10\n",
    "        return tf.reduce_sum(x)"
   ]
  },
  {
   "cell_type": "code",
   "execution_count": 13,
   "id": "4b0cd9f2-1955-403a-81d8-4cbecef8c2da",
   "metadata": {},
   "outputs": [
    {
     "data": {
      "text/plain": [
       "<tf.Tensor: shape=(), dtype=float32, numpy=25.65099>"
      ]
     },
     "execution_count": 13,
     "metadata": {},
     "output_type": "execute_result"
    }
   ],
   "source": [
    "# 测试该模型的随机初始化和前向计算\n",
    "net = FancyMLP()\n",
    "net(X)"
   ]
  },
  {
   "cell_type": "code",
   "execution_count": 14,
   "id": "9025f9b4-1f49-4b3f-94eb-53f7f7e5caf6",
   "metadata": {},
   "outputs": [
    {
     "data": {
      "text/plain": [
       "<tf.Tensor: shape=(), dtype=float32, numpy=22.954666>"
      ]
     },
     "execution_count": 14,
     "metadata": {},
     "output_type": "execute_result"
    }
   ],
   "source": [
    "# 因为FancyMLP和Sequential类都是tf.keras.Model类的子类，所以我们可以嵌套调用它们\n",
    "class NestMLP(tf.keras.Model):\n",
    "    def __init__(self):\n",
    "        super().__init__()\n",
    "        self.net = tf.keras.Sequential()\n",
    "        self.net.add(tf.keras.layers.Flatten())\n",
    "        self.net.add(tf.keras.layers.Dense(64, activation=tf.nn.relu))\n",
    "        self.net.add(tf.keras.layers.Dense(32, activation=tf.nn.relu))\n",
    "        self.dense = tf.keras.layers.Dense(units=16, activation=tf.nn.relu)\n",
    "\n",
    "\n",
    "    def call(self, inputs):         \n",
    "        return self.dense(self.net(inputs))\n",
    "\n",
    "net = tf.keras.Sequential()\n",
    "net.add(NestMLP())\n",
    "net.add(tf.keras.layers.Dense(20))\n",
    "net.add(FancyMLP())\n",
    "\n",
    "net(X)"
   ]
  }
 ],
 "metadata": {
  "kernelspec": {
   "display_name": "Python 3 (ipykernel)",
   "language": "python",
   "name": "python3"
  },
  "language_info": {
   "codemirror_mode": {
    "name": "ipython",
    "version": 3
   },
   "file_extension": ".py",
   "mimetype": "text/x-python",
   "name": "python",
   "nbconvert_exporter": "python",
   "pygments_lexer": "ipython3",
   "version": "3.11.4"
  }
 },
 "nbformat": 4,
 "nbformat_minor": 5
}
