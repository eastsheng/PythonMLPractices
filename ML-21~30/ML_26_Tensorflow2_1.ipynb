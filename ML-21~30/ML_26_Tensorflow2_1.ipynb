{
 "cells": [
  {
   "cell_type": "markdown",
   "id": "e0ee0980-eea9-4545-9df6-a037cb13ec17",
   "metadata": {},
   "source": [
    "### TensorFlow的低阶API\n",
    "- 张量操作，计算图和自动微分"
   ]
  }
 ],
 "metadata": {
  "kernelspec": {
   "display_name": "Python 3 (ipykernel)",
   "language": "python",
   "name": "python3"
  },
  "language_info": {
   "codemirror_mode": {
    "name": "ipython",
    "version": 3
   },
   "file_extension": ".py",
   "mimetype": "text/x-python",
   "name": "python",
   "nbconvert_exporter": "python",
   "pygments_lexer": "ipython3",
   "version": "3.11.4"
  }
 },
 "nbformat": 4,
 "nbformat_minor": 5
}
