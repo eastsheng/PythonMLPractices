{
 "cells": [
  {
   "cell_type": "markdown",
   "id": "e9948690-fc80-4451-9787-5c2d05af3a4a",
   "metadata": {},
   "source": [
    "### 读取和存储\n",
    "- 在实际中，我们有时需要把训练好的模型部署到很多不同的设备\n",
    "- 这种情况下，我们可以把内存中训练好的模型参数存储在硬盘上供后续读取使用"
   ]
  },
  {
   "cell_type": "code",
   "execution_count": 10,
   "id": "2e92ab43-ea9d-4620-8e8d-71a36fd1dca5",
   "metadata": {},
   "outputs": [
    {
     "name": "stdout",
     "output_type": "stream",
     "text": [
      "2.13.0\n"
     ]
    }
   ],
   "source": [
    "import tensorflow as tf\n",
    "import numpy as np\n",
    "print(tf.__version__)\n",
    "# 可以直接使用save函数和load函数分别存储和读取\n",
    "x = tf.ones(3)\n",
    "np.save('../data/x.npy', x)"
   ]
  },
  {
   "cell_type": "code",
   "execution_count": 11,
   "id": "5fce2065-970b-4d9f-94fb-661cf9299a73",
   "metadata": {},
   "outputs": [
    {
     "data": {
      "text/plain": [
       "array([1., 1., 1.], dtype=float32)"
      ]
     },
     "execution_count": 11,
     "metadata": {},
     "output_type": "execute_result"
    }
   ],
   "source": [
    "x2 = np.load('../data/x.npy')\n",
    "x2"
   ]
  },
  {
   "cell_type": "code",
   "execution_count": 12,
   "id": "5d349d94-d151-45bf-a3d1-38889775190a",
   "metadata": {},
   "outputs": [],
   "source": [
    "# 还可以存储一列tensor并读回内存\n",
    "y = tf.zeros(3)\n",
    "np.save('../data/xy.npy',[x,y])"
   ]
  },
  {
   "cell_type": "code",
   "execution_count": 13,
   "id": "a404e00e-1c03-4223-9812-ce8865afe6eb",
   "metadata": {},
   "outputs": [
    {
     "data": {
      "text/plain": [
       "(array([1., 1., 1.], dtype=float32), array([0., 0., 0.], dtype=float32))"
      ]
     },
     "execution_count": 13,
     "metadata": {},
     "output_type": "execute_result"
    }
   ],
   "source": [
    "x2, y2 = np.load('../data/xy.npy', allow_pickle=True)\n",
    "(x2, y2)"
   ]
  },
  {
   "cell_type": "code",
   "execution_count": 14,
   "id": "c44421d6-5aa9-4271-98fa-00097263b1bf",
   "metadata": {},
   "outputs": [
    {
     "data": {
      "text/plain": [
       "array({'x': <tf.Tensor: shape=(3,), dtype=float32, numpy=array([1., 1., 1.], dtype=float32)>, 'y': <tf.Tensor: shape=(3,), dtype=float32, numpy=array([0., 0., 0.], dtype=float32)>},\n",
       "      dtype=object)"
      ]
     },
     "execution_count": 14,
     "metadata": {},
     "output_type": "execute_result"
    }
   ],
   "source": [
    "# 甚至可以存储并读取一个从字符串映射到tensor的字典\n",
    "mydict = {'x': x, 'y': y}\n",
    "np.save('../data/mydict.npy', mydict)\n",
    "mydict2 = np.load('../data/mydict.npy', allow_pickle=True)\n",
    "mydict2"
   ]
  },
  {
   "cell_type": "code",
   "execution_count": 15,
   "id": "b68f3a09-92a5-42af-8a46-1785d0bf1994",
   "metadata": {},
   "outputs": [
    {
     "name": "stdout",
     "output_type": "stream",
     "text": [
      "1-s2.0-S0167732222024916-mmc1.docx    inhibitor_data.csv\n",
      "amino_acids_hydrate_data.csv\t      kaggle_house\n",
      "amino_acids_hydrate_data_update1.csv  mydict.npy\n",
      "bioactivity_preprocessed_data.csv     x.npy\n",
      "house_tiny.csv\t\t\t      xy.npy\n",
      "inhibitor_amino_acids_data.csv\n"
     ]
    }
   ],
   "source": [
    "!ls ../data"
   ]
  },
  {
   "cell_type": "code",
   "execution_count": 16,
   "id": "27b8559d-e569-4c52-ab64-cbe154852665",
   "metadata": {},
   "outputs": [
    {
     "data": {
      "text/plain": [
       "<tf.Tensor: shape=(2, 10), dtype=float32, numpy=\n",
       "array([[-0.10626581, -0.07222503, -0.11006147,  0.19855481,  0.34686363,\n",
       "        -0.02390967, -0.64972293,  0.1463188 , -0.3179079 , -0.14297329],\n",
       "       [ 0.33284116,  0.3321502 , -0.02858605, -0.4042737 ,  0.03034445,\n",
       "         0.27789673, -0.5233873 ,  0.37224627, -0.01023898,  0.26687536]],\n",
       "      dtype=float32)>"
      ]
     },
     "execution_count": 16,
     "metadata": {},
     "output_type": "execute_result"
    }
   ],
   "source": [
    "# 还可以读写模型的参数\n",
    "X = tf.random.normal((2,20))\n",
    "class MLP(tf.keras.Model):\n",
    "    def __init__(self):\n",
    "        super().__init__()\n",
    "        self.flatten = tf.keras.layers.Flatten()    # Flatten层将除第一维（batch_size）以外的维度展平\n",
    "        self.dense1 = tf.keras.layers.Dense(units=256, activation=tf.nn.relu)\n",
    "        self.dense2 = tf.keras.layers.Dense(units=10)\n",
    "\n",
    "    def call(self, inputs):         \n",
    "        x = self.flatten(inputs)   \n",
    "        x = self.dense1(x)    \n",
    "        output = self.dense2(x)     \n",
    "        return output\n",
    "\n",
    "net = MLP()\n",
    "Y = net(X)\n",
    "Y\n"
   ]
  },
  {
   "cell_type": "code",
   "execution_count": 17,
   "id": "4fd35946-90c2-4b9b-b115-0d9bd79cc7d1",
   "metadata": {},
   "outputs": [],
   "source": [
    "# 把该模型的参数存成文件\n",
    "net.save_weights(\"../data/4.5saved_model.h5\")\n"
   ]
  },
  {
   "cell_type": "code",
   "execution_count": 18,
   "id": "17b5a684-ee60-49ca-9318-5265a538b718",
   "metadata": {},
   "outputs": [
    {
     "data": {
      "text/plain": [
       "<tf.Tensor: shape=(2, 10), dtype=bool, numpy=\n",
       "array([[ True,  True,  True,  True,  True,  True,  True,  True,  True,\n",
       "         True],\n",
       "       [ True,  True,  True,  True,  True,  True,  True,  True,  True,\n",
       "         True]])>"
      ]
     },
     "execution_count": 18,
     "metadata": {},
     "output_type": "execute_result"
    }
   ],
   "source": [
    "# 再实例化一次定义好的多层感知机\n",
    "# 直接读取保存在文件里的参数\n",
    "net2 = MLP()\n",
    "net2(X)\n",
    "net2.load_weights(\"../data/4.5saved_model.h5\")\n",
    "Y2 = net2(X)\n",
    "Y2 == Y\n"
   ]
  },
  {
   "cell_type": "code",
   "execution_count": null,
   "id": "d9cdec99-d3f2-4825-9b91-d58033906d87",
   "metadata": {},
   "outputs": [],
   "source": []
  }
 ],
 "metadata": {
  "kernelspec": {
   "display_name": "Python 3 (ipykernel)",
   "language": "python",
   "name": "python3"
  },
  "language_info": {
   "codemirror_mode": {
    "name": "ipython",
    "version": 3
   },
   "file_extension": ".py",
   "mimetype": "text/x-python",
   "name": "python",
   "nbconvert_exporter": "python",
   "pygments_lexer": "ipython3",
   "version": "3.11.4"
  }
 },
 "nbformat": 4,
 "nbformat_minor": 5
}
