{
 "cells": [
  {
   "cell_type": "markdown",
   "id": "5c3d922c-478f-48cc-aa60-aaf85b118b91",
   "metadata": {},
   "source": [
    "## 自定义层\n",
    "- 深度学习的一个魅力在于神经网络中各式各样的层:全连接层、卷积层、池化层与循环层；\n",
    "- 虽然tf.keras提供了大量常用的层，但有时候我们依然希望自定义层；"
   ]
  },
  {
   "cell_type": "code",
   "execution_count": 2,
   "id": "61bca3de-da0f-4a6e-a89a-1298ac69e82e",
   "metadata": {},
   "outputs": [
    {
     "name": "stdout",
     "output_type": "stream",
     "text": [
      "2.13.0\n"
     ]
    }
   ],
   "source": [
    "import tensorflow as tf\n",
    "import numpy as np\n",
    "print(tf.__version__)\n",
    "X = tf.random.uniform((2,20))"
   ]
  },
  {
   "cell_type": "code",
   "execution_count": 3,
   "id": "8e527fb4-7194-4537-87a0-a64b1dae1df9",
   "metadata": {},
   "outputs": [
    {
     "data": {
      "text/plain": [
       "TensorShape([2, 20])"
      ]
     },
     "execution_count": 3,
     "metadata": {},
     "output_type": "execute_result"
    }
   ],
   "source": [
    "X.shape"
   ]
  },
  {
   "cell_type": "code",
   "execution_count": 4,
   "id": "adddc317-00b6-462e-aebf-e7f90abb2de6",
   "metadata": {},
   "outputs": [
    {
     "data": {
      "text/plain": [
       "<tf.Tensor: shape=(2, 20), dtype=float32, numpy=\n",
       "array([[0.44664466, 0.3585248 , 0.87280226, 0.4638319 , 0.47874916,\n",
       "        0.19972527, 0.05871964, 0.20096791, 0.04230714, 0.4773898 ,\n",
       "        0.38415968, 0.09289849, 0.17983496, 0.1540097 , 0.8512682 ,\n",
       "        0.6098753 , 0.34916556, 0.02795279, 0.34407413, 0.8402189 ],\n",
       "       [0.8000568 , 0.2672193 , 0.3267603 , 0.73863614, 0.74165916,\n",
       "        0.9990188 , 0.19024146, 0.7595955 , 0.9339403 , 0.08922255,\n",
       "        0.51482284, 0.7887713 , 0.31958342, 0.6697843 , 0.5185567 ,\n",
       "        0.6252953 , 0.39592135, 0.9252244 , 0.08672607, 0.03477919]],\n",
       "      dtype=float32)>"
      ]
     },
     "execution_count": 4,
     "metadata": {},
     "output_type": "execute_result"
    }
   ],
   "source": [
    "X"
   ]
  },
  {
   "cell_type": "code",
   "execution_count": 5,
   "id": "b674078c-a36f-4d88-b979-eb7ae2bf6d5b",
   "metadata": {},
   "outputs": [],
   "source": [
    "class CenteredLayer(tf.keras.layers.Layer):\n",
    "    # 通过继承tf.keras.layers.Layer类自定义了一个将输入减掉均值后输出的层\n",
    "    def __init__(self):\n",
    "        # 层里不含模型参数\n",
    "        super().__init__()\n",
    "\n",
    "    def call(self, inputs):\n",
    "        # 将层的计算定义在了call函数里\n",
    "        return inputs - tf.reduce_mean(inputs)\n"
   ]
  },
  {
   "cell_type": "code",
   "execution_count": 6,
   "id": "ee9da135-6d1f-4889-a667-e6eb05952954",
   "metadata": {},
   "outputs": [
    {
     "data": {
      "text/plain": [
       "<tf.Tensor: shape=(5,), dtype=int64, numpy=array([-2, -1,  0,  1,  2])>"
      ]
     },
     "execution_count": 6,
     "metadata": {},
     "output_type": "execute_result"
    }
   ],
   "source": [
    "# 实例化这个层，然后做前向计算\n",
    "layer = CenteredLayer()\n",
    "layer(np.array([1,2,3,4,5]))"
   ]
  },
  {
   "cell_type": "code",
   "execution_count": 7,
   "id": "17b10aef-60c3-4436-9c86-ba59c7672785",
   "metadata": {},
   "outputs": [],
   "source": [
    "# 构造更复杂的模型\n",
    "net = tf.keras.models.Sequential()\n",
    "net.add(tf.keras.layers.Flatten())\n",
    "net.add(tf.keras.layers.Dense(20))\n",
    "net.add(CenteredLayer())"
   ]
  },
  {
   "cell_type": "code",
   "execution_count": 8,
   "id": "000ece2a-83ab-4a4c-9f69-fdad2fa80bb3",
   "metadata": {},
   "outputs": [
    {
     "data": {
      "text/plain": [
       "<tf.Tensor: shape=(2, 20), dtype=float32, numpy=\n",
       "array([[-0.37814736, -0.4253233 , -0.2882905 , -0.53052074, -0.2378114 ,\n",
       "         0.4959352 ,  0.06600573, -0.2098362 ,  0.5087886 , -0.08738871,\n",
       "        -0.20576532,  0.56631416,  0.13771832, -0.44047254, -0.20807053,\n",
       "         0.00886418,  0.46945256, -0.10805091, -0.34768778, -0.3933987 ],\n",
       "       [ 0.24644576, -0.19397013,  0.6174172 , -0.8590525 ,  0.40419596,\n",
       "         0.64057875,  0.19155395, -0.8792721 ,  0.7724995 ,  0.3355831 ,\n",
       "        -0.4983486 ,  0.9153501 ,  0.32567436, -0.07992472, -0.16505791,\n",
       "         0.00245259,  0.4771027 , -0.26190114,  0.56261015, -0.9462513 ]],\n",
       "      dtype=float32)>"
      ]
     },
     "execution_count": 8,
     "metadata": {},
     "output_type": "execute_result"
    }
   ],
   "source": [
    "Y = net(X)\n",
    "Y"
   ]
  },
  {
   "cell_type": "code",
   "execution_count": 9,
   "id": "de8d119c-9eae-4ab7-a6e3-730757b2a0e1",
   "metadata": {},
   "outputs": [
    {
     "data": {
      "text/plain": [
       "<tf.Tensor: shape=(), dtype=float32, numpy=1.1920929e-08>"
      ]
     },
     "execution_count": 9,
     "metadata": {},
     "output_type": "execute_result"
    }
   ],
   "source": [
    "tf.reduce_mean(Y)"
   ]
  },
  {
   "cell_type": "code",
   "execution_count": 10,
   "id": "4c9242a7-f8c7-46c1-b838-ece9987bc75a",
   "metadata": {},
   "outputs": [],
   "source": [
    "# 还可以自定义含模型参数的自定义层\n",
    "# 模型参数可以通过训练学出\n",
    "class myDense(tf.keras.layers.Layer):\n",
    "    def __init__(self, units):\n",
    "        super().__init__()\n",
    "        self.units = units\n",
    "\n",
    "    def build(self, input_shape):     # 这里 input_shape 是第一次运行call()时参数inputs的形状\n",
    "        self.w = self.add_weight(name='w',\n",
    "            shape=[input_shape[-1], self.units], initializer=tf.random_normal_initializer())\n",
    "        self.b = self.add_weight(name='b',\n",
    "            shape=[self.units], initializer=tf.zeros_initializer())\n",
    "\n",
    "    def call(self, inputs):\n",
    "        y_pred = tf.matmul(inputs, self.w) + self.b\n",
    "        return y_pred\n"
   ]
  },
  {
   "cell_type": "code",
   "execution_count": 11,
   "id": "1b150932-2046-4aca-a5a0-2fe26282784a",
   "metadata": {},
   "outputs": [
    {
     "data": {
      "text/plain": [
       "[array([[-0.06819382, -0.11442856, -0.04182817],\n",
       "        [-0.00039114,  0.03647014, -0.07090431],\n",
       "        [ 0.0068131 ,  0.01072501, -0.0179297 ],\n",
       "        [-0.02007246,  0.00271217,  0.07569193],\n",
       "        [-0.03553968, -0.00988787,  0.0788043 ],\n",
       "        [ 0.05291058,  0.05211637, -0.00915158],\n",
       "        [ 0.00107539,  0.00501504, -0.0187598 ],\n",
       "        [ 0.06325302,  0.07341447,  0.02952259],\n",
       "        [-0.05472121,  0.08257625,  0.02307338],\n",
       "        [-0.07895849, -0.00783799, -0.02012757],\n",
       "        [-0.05517532,  0.02517433,  0.03879965],\n",
       "        [-0.02736364,  0.08136278,  0.012958  ],\n",
       "        [-0.00171936, -0.04278811,  0.03940455],\n",
       "        [ 0.07162713,  0.01640657, -0.02972718],\n",
       "        [-0.08582991,  0.01674064, -0.00352465],\n",
       "        [-0.07065213,  0.01734699,  0.03535089],\n",
       "        [ 0.05019656,  0.06683763, -0.05013447],\n",
       "        [ 0.03259168, -0.00602518,  0.04178217],\n",
       "        [-0.03367916, -0.12027469,  0.08254077],\n",
       "        [-0.03405342, -0.0752418 , -0.02692563]], dtype=float32),\n",
       " array([0., 0., 0.], dtype=float32)]"
      ]
     },
     "execution_count": 11,
     "metadata": {},
     "output_type": "execute_result"
    }
   ],
   "source": [
    "# 实例化MyDense类并访问它的模型参数\n",
    "dense = myDense(3)\n",
    "dense(X)\n",
    "dense.get_weights()"
   ]
  },
  {
   "cell_type": "code",
   "execution_count": 12,
   "id": "957e2796-78e6-4eb7-b4b6-c2f800fc5738",
   "metadata": {},
   "outputs": [
    {
     "data": {
      "text/plain": [
       "<tf.Tensor: shape=(2, 1), dtype=float32, numpy=\n",
       "array([[-0.00013391],\n",
       "       [ 0.00412665]], dtype=float32)>"
      ]
     },
     "execution_count": 12,
     "metadata": {},
     "output_type": "execute_result"
    }
   ],
   "source": [
    "# 也可以使用自定义层构造模型\n",
    "net = tf.keras.models.Sequential()\n",
    "net.add(myDense(8))\n",
    "net.add(myDense(1))\n",
    "\n",
    "net(X)"
   ]
  }
 ],
 "metadata": {
  "kernelspec": {
   "display_name": "Python 3 (ipykernel)",
   "language": "python",
   "name": "python3"
  },
  "language_info": {
   "codemirror_mode": {
    "name": "ipython",
    "version": 3
   },
   "file_extension": ".py",
   "mimetype": "text/x-python",
   "name": "python",
   "nbconvert_exporter": "python",
   "pygments_lexer": "ipython3",
   "version": "3.11.4"
  }
 },
 "nbformat": 4,
 "nbformat_minor": 5
}
