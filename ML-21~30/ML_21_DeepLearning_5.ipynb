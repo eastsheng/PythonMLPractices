{
 "cells": [
  {
   "cell_type": "markdown",
   "id": "caaccde4-6ee8-4c3b-bd25-de63c0eda43e",
   "metadata": {},
   "source": [
    "### GPU计算\n",
    "- 对复杂的神经网络和大规模的数据来说，使用CPU来计算可能不够高效\n",
    "- 在tensorflow2以上的版本不需要直接安装gpu版本，因为不区分gpu和cpu，有gpu可用时会自动调用gpu"
   ]
  },
  {
   "cell_type": "code",
   "execution_count": 4,
   "id": "452dfb70-5bb4-4b80-a91e-95efd1e375e5",
   "metadata": {},
   "outputs": [
    {
     "name": "stdout",
     "output_type": "stream",
     "text": [
      "2.12.0\n"
     ]
    }
   ],
   "source": [
    "import tensorflow as tf\n",
    "import numpy as np\n",
    "print(tf.__version__)"
   ]
  },
  {
   "cell_type": "code",
   "execution_count": 5,
   "id": "0a536725-05e3-49f9-9a0d-30e668310add",
   "metadata": {},
   "outputs": [
    {
     "name": "stdout",
     "output_type": "stream",
     "text": [
      "可用的GPU： [] \n",
      "可用的CPU： [PhysicalDevice(name='/physical_device:CPU:0', device_type='CPU')]\n"
     ]
    }
   ],
   "source": [
    "gpus = tf.config.experimental.list_physical_devices(device_type='GPU')\n",
    "cpus = tf.config.experimental.list_physical_devices(device_type='CPU')\n",
    "print(\"可用的GPU：\",gpus,\"\\n可用的CPU：\", cpus)"
   ]
  },
  {
   "cell_type": "code",
   "execution_count": 6,
   "id": "94d9ba0b-5054-4b54-9557-6d7cdea076bc",
   "metadata": {},
   "outputs": [
    {
     "name": "stdout",
     "output_type": "stream",
     "text": [
      "[name: \"/device:CPU:0\"\n",
      "device_type: \"CPU\"\n",
      "memory_limit: 268435456\n",
      "locality {\n",
      "}\n",
      "incarnation: 5583137667575622505\n",
      "xla_global_id: -1\n",
      "]\n"
     ]
    }
   ],
   "source": [
    "from tensorflow.python.client import device_lib\n",
    "print(device_lib.list_local_devices())\n"
   ]
  },
  {
   "cell_type": "code",
   "execution_count": 18,
   "id": "4a6b370b-47c6-4e5f-aa2d-6eac862d926b",
   "metadata": {},
   "outputs": [
    {
     "name": "stdout",
     "output_type": "stream",
     "text": [
      "tf.Tensor([ 5.766236 25.982796 48.956776], shape=(3,), dtype=float32)\n"
     ]
    }
   ],
   "source": [
    "# 使用tf.device()来指定特定设备(GPU/CPU)\n",
    "with tf.device('GPU:0'):\n",
    "    a = tf.constant([1,2,3],dtype=tf.float32)\n",
    "    b = tf.random.uniform((3,))\n",
    "    print(tf.exp(a + b) * 2)\n"
   ]
  }
 ],
 "metadata": {
  "kernelspec": {
   "display_name": "Python 3 (ipykernel)",
   "language": "python",
   "name": "python3"
  },
  "language_info": {
   "codemirror_mode": {
    "name": "ipython",
    "version": 3
   },
   "file_extension": ".py",
   "mimetype": "text/x-python",
   "name": "python",
   "nbconvert_exporter": "python",
   "pygments_lexer": "ipython3",
   "version": "3.11.4"
  }
 },
 "nbformat": 4,
 "nbformat_minor": 5
}
