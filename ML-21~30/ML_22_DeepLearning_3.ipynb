{
 "cells": [
  {
   "cell_type": "markdown",
   "id": "68d65104-0efb-4983-b22d-24c3a680c685",
   "metadata": {},
   "source": [
    "### 卷积神经网络（LeNet）\n",
    "> - 卷积神经网络就是含卷积层的网络\n",
    "> - LeNet:一个早期用来识别手写数字图像的卷积神经网络\n",
    "> - LeNet展示了通过梯度下降训练卷积神经网络可以达到手写数字识别在当时最先进的结果，第一次将卷积神经网络推上舞台，为世人所知"
   ]
  },
  {
   "cell_type": "code",
   "execution_count": 2,
   "id": "65fb18e6-a2df-4c9f-8ecd-3c7afb563d9d",
   "metadata": {},
   "outputs": [
    {
     "name": "stdout",
     "output_type": "stream",
     "text": [
      "2.13.0\n"
     ]
    }
   ],
   "source": [
    "import tensorflow as tf\n",
    "print(tf.__version__)"
   ]
  },
  {
   "cell_type": "markdown",
   "id": "062f7e52-d70b-4211-9f3b-5a5ec72a29ae",
   "metadata": {},
   "source": [
    "#### 1 LeNet模型\n",
    "- LeNet分为卷积层块和全连接层块两个部分\n",
    "- 卷积层块里的基本单位是卷积层后接最大池化层：卷积层用来识别图像里的空间模式，如线条和物体局部，之后的最大池化层则用来降低卷积层对位置的敏感性\n",
    "- 卷积层块的输出形状为(批量大小, 通道, 高, 宽)\n",
    "- 当卷积层块的输出传入全连接层块时，全连接层块会将小批量中每个样本变平（flatten）"
   ]
  },
  {
   "cell_type": "code",
   "execution_count": 5,
   "id": "bc7d9edd-752c-42c3-ab1b-db4149e9e1a2",
   "metadata": {},
   "outputs": [],
   "source": [
    "# 通过Sequential类来实现LeNet模型\n",
    "net = tf.keras.models.Sequential([\n",
    "    # 卷积层块里的基本单位是卷积层后接最大池化层\n",
    "    # 卷积层块由两个这样 MaxPool2D的基本单位重复堆叠构成。\n",
    "    # 每个卷积层都使用5×5的窗口，在输出上使用sigmoid激活函数\n",
    "    # 第一个卷积层输出通道数为6\n",
    "    tf.keras.layers.Conv2D(filters=6,kernel_size=5,activation='sigmoid',input_shape=(28,28,1)),\n",
    "    tf.keras.layers.MaxPool2D(pool_size=2, strides=2),\n",
    "    # 第二个卷积层输出通道数则增加到16，因为第二个卷积层比第一个卷积层的输入的高和宽要小\n",
    "    tf.keras.layers.Conv2D(filters=16,kernel_size=5,activation='sigmoid'),\n",
    "    # 卷积层块的两个最大池化层的窗口形状均为2×2，且步幅为2\n",
    "    tf.keras.layers.MaxPool2D(pool_size=2, strides=2),\n",
    "    # 当卷积层块的输出传入全连接层块时，全连接层块会将小批量中每个样本变平（flatten）\n",
    "    tf.keras.layers.Flatten(),\n",
    "    # 全连接层块含3个全连接层。它们的输出个数分别是120、84和10，其中10为输出的类别个数。\n",
    "    tf.keras.layers.Dense(120,activation='sigmoid'),\n",
    "    tf.keras.layers.Dense(84,activation='sigmoid'),\n",
    "    tf.keras.layers.Dense(10,activation='sigmoid')\n",
    "])"
   ]
  },
  {
   "cell_type": "code",
   "execution_count": 6,
   "id": "124f4241-5186-447a-be14-4d23ae2e0714",
   "metadata": {},
   "outputs": [
    {
     "name": "stdout",
     "output_type": "stream",
     "text": [
      "conv2d_4 output shape\t (1, 24, 24, 6)\n",
      "max_pooling2d_4 output shape\t (1, 12, 12, 6)\n",
      "conv2d_5 output shape\t (1, 8, 8, 16)\n",
      "max_pooling2d_5 output shape\t (1, 4, 4, 16)\n",
      "flatten_2 output shape\t (1, 256)\n",
      "dense_6 output shape\t (1, 120)\n",
      "dense_7 output shape\t (1, 84)\n",
      "dense_8 output shape\t (1, 10)\n"
     ]
    }
   ],
   "source": [
    "# 构造一个高和宽均为28的单通道数据样本\n",
    "X = tf.random.uniform((1,28,28,1))\n",
    "for layer in net.layers:\n",
    "    X = layer(X)\n",
    "    print(layer.name, 'output shape\\t', X.shape)\n"
   ]
  },
  {
   "cell_type": "markdown",
   "id": "62d0f2ab-cffe-4c81-aebd-b20acd137e0a",
   "metadata": {},
   "source": [
    "#### 2 获取数据和训练模型"
   ]
  },
  {
   "cell_type": "code",
   "execution_count": 7,
   "id": "5624829f-95fc-4746-94d0-ba61c6042cb8",
   "metadata": {},
   "outputs": [
    {
     "name": "stdout",
     "output_type": "stream",
     "text": [
      "Downloading data from https://storage.googleapis.com/tensorflow/tf-keras-datasets/train-labels-idx1-ubyte.gz\n",
      "29515/29515 [==============================] - 0s 3us/step\n",
      "Downloading data from https://storage.googleapis.com/tensorflow/tf-keras-datasets/train-images-idx3-ubyte.gz\n",
      "26421880/26421880 [==============================] - 3s 0us/step\n",
      "Downloading data from https://storage.googleapis.com/tensorflow/tf-keras-datasets/t10k-labels-idx1-ubyte.gz\n",
      "5148/5148 [==============================] - 0s 0us/step\n",
      "Downloading data from https://storage.googleapis.com/tensorflow/tf-keras-datasets/t10k-images-idx3-ubyte.gz\n",
      "4422102/4422102 [==============================] - 1s 0us/step\n"
     ]
    }
   ],
   "source": [
    "# 使用Fashion-MNIST作为训练数据集\n",
    "fashion_mnist = tf.keras.datasets.fashion_mnist\n",
    "\n",
    "(train_images, train_labels), (test_images, test_labels) = fashion_mnist.load_data()\n"
   ]
  },
  {
   "cell_type": "code",
   "execution_count": 8,
   "id": "52d7f617-2be8-4461-ac21-40c1303e12a2",
   "metadata": {},
   "outputs": [
    {
     "name": "stdout",
     "output_type": "stream",
     "text": [
      "(60000, 28, 28, 1)\n"
     ]
    }
   ],
   "source": [
    "train_images = tf.reshape(train_images, (train_images.shape[0],train_images.shape[1],train_images.shape[2], 1))\n",
    "print(train_images.shape)\n",
    "\n",
    "test_images = tf.reshape(test_images, (test_images.shape[0],test_images.shape[1],test_images.shape[2], 1))\n"
   ]
  },
  {
   "cell_type": "code",
   "execution_count": 9,
   "id": "b674fd6f-f9a7-41b0-8e8e-74de43270f36",
   "metadata": {},
   "outputs": [],
   "source": [
    "# 损失函数和训练算法依然采用交叉熵损失函数(cross entropy)和小批量随机梯度下降(SGD)\n",
    "optimizer = tf.keras.optimizers.SGD(learning_rate=0.9, momentum=0.0, nesterov=False)\n",
    "\n",
    "net.compile(optimizer=optimizer,\n",
    "              loss='sparse_categorical_crossentropy',\n",
    "              metrics=['accuracy'])\n"
   ]
  },
  {
   "cell_type": "code",
   "execution_count": 10,
   "id": "9aad7d06-9028-4c92-9ce7-6e39d02d040b",
   "metadata": {},
   "outputs": [
    {
     "name": "stdout",
     "output_type": "stream",
     "text": [
      "Epoch 1/5\n",
      "1688/1688 [==============================] - 11s 6ms/step - loss: 1.0518 - accuracy: 0.5861 - val_loss: 0.5873 - val_accuracy: 0.7740\n",
      "Epoch 2/5\n",
      "1688/1688 [==============================] - 11s 6ms/step - loss: 0.6111 - accuracy: 0.7557 - val_loss: 0.5833 - val_accuracy: 0.7623\n",
      "Epoch 3/5\n",
      "1688/1688 [==============================] - 10s 6ms/step - loss: 0.5289 - accuracy: 0.7907 - val_loss: 0.5115 - val_accuracy: 0.8022\n",
      "Epoch 4/5\n",
      "1688/1688 [==============================] - 10s 6ms/step - loss: 0.4876 - accuracy: 0.8117 - val_loss: 0.5164 - val_accuracy: 0.8003\n",
      "Epoch 5/5\n",
      "1688/1688 [==============================] - 10s 6ms/step - loss: 0.4686 - accuracy: 0.8183 - val_loss: 0.4680 - val_accuracy: 0.8277\n"
     ]
    },
    {
     "data": {
      "text/plain": [
       "<keras.src.callbacks.History at 0x7fb1f0607a10>"
      ]
     },
     "execution_count": 10,
     "metadata": {},
     "output_type": "execute_result"
    }
   ],
   "source": [
    "net.fit(train_images, train_labels, epochs=5, validation_split=0.1)"
   ]
  },
  {
   "cell_type": "code",
   "execution_count": null,
   "id": "e1c46071-9ce8-416b-93ec-59484615e5c1",
   "metadata": {},
   "outputs": [],
   "source": [
    "net.evaluate(test_images, test_labels, verbose=2)\n"
   ]
  }
 ],
 "metadata": {
  "kernelspec": {
   "display_name": "Python 3 (ipykernel)",
   "language": "python",
   "name": "python3"
  },
  "language_info": {
   "codemirror_mode": {
    "name": "ipython",
    "version": 3
   },
   "file_extension": ".py",
   "mimetype": "text/x-python",
   "name": "python",
   "nbconvert_exporter": "python",
   "pygments_lexer": "ipython3",
   "version": "3.11.4"
  }
 },
 "nbformat": 4,
 "nbformat_minor": 5
}
