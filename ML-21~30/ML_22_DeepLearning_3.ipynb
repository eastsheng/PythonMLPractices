{
 "cells": [
  {
   "cell_type": "markdown",
   "id": "68d65104-0efb-4983-b22d-24c3a680c685",
   "metadata": {},
   "source": [
    "### 卷积神经网络（LeNet）"
   ]
  },
  {
   "cell_type": "code",
   "execution_count": 2,
   "id": "65fb18e6-a2df-4c9f-8ecd-3c7afb563d9d",
   "metadata": {},
   "outputs": [
    {
     "name": "stdout",
     "output_type": "stream",
     "text": [
      "2.13.0\n"
     ]
    }
   ],
   "source": [
    "import tensorflow as tf\n",
    "print(tf.__version__)"
   ]
  }
 ],
 "metadata": {
  "kernelspec": {
   "display_name": "Python 3 (ipykernel)",
   "language": "python",
   "name": "python3"
  },
  "language_info": {
   "codemirror_mode": {
    "name": "ipython",
    "version": 3
   },
   "file_extension": ".py",
   "mimetype": "text/x-python",
   "name": "python",
   "nbconvert_exporter": "python",
   "pygments_lexer": "ipython3",
   "version": "3.11.4"
  }
 },
 "nbformat": 4,
 "nbformat_minor": 5
}
