{
 "cells": [
  {
   "cell_type": "code",
   "execution_count": 1,
   "id": "d04aa08b-46b7-4b80-a809-c30040aa3460",
   "metadata": {},
   "outputs": [],
   "source": [
    "# ML-09-深度学习\n",
    "import tensorflow as tf"
   ]
  },
  {
   "cell_type": "code",
   "execution_count": 2,
   "id": "b321f3a2-6f86-488f-a13f-f16f213ec14a",
   "metadata": {},
   "outputs": [],
   "source": [
    "# 电影情感分类\n",
    "from __future__ import absolute_import, division, print_function, unicode_literals"
   ]
  },
  {
   "cell_type": "code",
   "execution_count": 3,
   "id": "178095fb-6e50-4c7e-a2fd-41863cca96e6",
   "metadata": {},
   "outputs": [],
   "source": [
    "try:\n",
    "  # Colab only\n",
    "  %tensorflow_version 2.x\n",
    "except Exception:\n",
    "    pass"
   ]
  },
  {
   "cell_type": "code",
   "execution_count": 4,
   "id": "e79eb6bd-93fb-4cfd-8bf1-6a93f9c46eb8",
   "metadata": {},
   "outputs": [],
   "source": [
    "import tensorflow as tf\n",
    "from tensorflow import keras"
   ]
  },
  {
   "cell_type": "code",
   "execution_count": 5,
   "id": "3347a528-c688-4f8c-b6f5-c2366bbcfe01",
   "metadata": {},
   "outputs": [
    {
     "name": "stdout",
     "output_type": "stream",
     "text": [
      "2.12.0\n"
     ]
    }
   ],
   "source": [
    "import numpy as np\n",
    "\n",
    "print(tf.__version__)"
   ]
  },
  {
   "cell_type": "code",
   "execution_count": 6,
   "id": "0a87d8d3-ec6b-4d49-baa6-0e21c41423c6",
   "metadata": {},
   "outputs": [],
   "source": [
    "# 下载 IMDB 数据集\n",
    "imdb = keras.datasets.imdb"
   ]
  },
  {
   "cell_type": "code",
   "execution_count": 7,
   "id": "b8e6c91b-375a-4276-ae1c-ea4ae5b014e9",
   "metadata": {},
   "outputs": [
    {
     "name": "stdout",
     "output_type": "stream",
     "text": [
      "Downloading data from https://storage.googleapis.com/tensorflow/tf-keras-datasets/imdb.npz\n",
      "17464789/17464789 [==============================] - 2s 0us/step\n"
     ]
    }
   ],
   "source": [
    "(train_data, train_labels), (test_data, test_labels) = imdb.load_data(num_words=10000)"
   ]
  },
  {
   "cell_type": "code",
   "execution_count": 8,
   "id": "c02a7cc6-e83c-48d5-9528-b0a85d409ca5",
   "metadata": {},
   "outputs": [
    {
     "name": "stdout",
     "output_type": "stream",
     "text": [
      "Training entries: 25000, labels: 25000\n"
     ]
    }
   ],
   "source": [
    "# 探索数据\n",
    "print(\"Training entries: {}, labels: {}\".format(len(train_data), len(train_labels)))"
   ]
  },
  {
   "cell_type": "code",
   "execution_count": 9,
   "id": "8aa6a46d-1d10-476b-85c2-a777a95d8477",
   "metadata": {},
   "outputs": [
    {
     "name": "stdout",
     "output_type": "stream",
     "text": [
      "[1, 14, 22, 16, 43, 530, 973, 1622, 1385, 65, 458, 4468, 66, 3941, 4, 173, 36, 256, 5, 25, 100, 43, 838, 112, 50, 670, 2, 9, 35, 480, 284, 5, 150, 4, 172, 112, 167, 2, 336, 385, 39, 4, 172, 4536, 1111, 17, 546, 38, 13, 447, 4, 192, 50, 16, 6, 147, 2025, 19, 14, 22, 4, 1920, 4613, 469, 4, 22, 71, 87, 12, 16, 43, 530, 38, 76, 15, 13, 1247, 4, 22, 17, 515, 17, 12, 16, 626, 18, 2, 5, 62, 386, 12, 8, 316, 8, 106, 5, 4, 2223, 5244, 16, 480, 66, 3785, 33, 4, 130, 12, 16, 38, 619, 5, 25, 124, 51, 36, 135, 48, 25, 1415, 33, 6, 22, 12, 215, 28, 77, 52, 5, 14, 407, 16, 82, 2, 8, 4, 107, 117, 5952, 15, 256, 4, 2, 7, 3766, 5, 723, 36, 71, 43, 530, 476, 26, 400, 317, 46, 7, 4, 2, 1029, 13, 104, 88, 4, 381, 15, 297, 98, 32, 2071, 56, 26, 141, 6, 194, 7486, 18, 4, 226, 22, 21, 134, 476, 26, 480, 5, 144, 30, 5535, 18, 51, 36, 28, 224, 92, 25, 104, 4, 226, 65, 16, 38, 1334, 88, 12, 16, 283, 5, 16, 4472, 113, 103, 32, 15, 16, 5345, 19, 178, 32]\n"
     ]
    }
   ],
   "source": [
    "print(train_data[0])"
   ]
  },
  {
   "cell_type": "code",
   "execution_count": 11,
   "id": "8c80882a-7a9f-41f4-9df4-18b7694f0947",
   "metadata": {},
   "outputs": [
    {
     "name": "stdout",
     "output_type": "stream",
     "text": [
      "1\n"
     ]
    }
   ],
   "source": [
    "print(train_labels[0])"
   ]
  },
  {
   "cell_type": "code",
   "execution_count": 12,
   "id": "1c912dbb-5979-4f5c-bbcc-2467fe4b171e",
   "metadata": {},
   "outputs": [
    {
     "data": {
      "text/plain": [
       "(218, 189)"
      ]
     },
     "execution_count": 12,
     "metadata": {},
     "output_type": "execute_result"
    }
   ],
   "source": [
    "len(train_data[0]), len(train_data[1])"
   ]
  },
  {
   "cell_type": "code",
   "execution_count": 13,
   "id": "00119109-445e-4631-938d-38ed552f87ed",
   "metadata": {},
   "outputs": [
    {
     "name": "stdout",
     "output_type": "stream",
     "text": [
      "Downloading data from https://storage.googleapis.com/tensorflow/tf-keras-datasets/imdb_word_index.json\n",
      "1641221/1641221 [==============================] - 0s 0us/step\n"
     ]
    }
   ],
   "source": [
    "# 将整数转换回单词\n",
    "# 一个映射单词到整数索引的词典\n",
    "word_index = imdb.get_word_index()"
   ]
  },
  {
   "cell_type": "code",
   "execution_count": 14,
   "id": "26ebf11c-d08b-4c50-a389-37738d398104",
   "metadata": {},
   "outputs": [],
   "source": [
    "# 保留第一个索引\n",
    "word_index = {k:(v+3) for k,v in word_index.items()}\n",
    "word_index[\"<PAD>\"] = 0\n",
    "word_index[\"<START>\"] = 1\n",
    "word_index[\"<UNK>\"] = 2  # unknown\n",
    "word_index[\"<UNUSED>\"] = 3"
   ]
  },
  {
   "cell_type": "code",
   "execution_count": 15,
   "id": "ab07adad-b027-4dd1-bc82-1250f03884f8",
   "metadata": {},
   "outputs": [],
   "source": [
    "reverse_word_index = dict([(value, key) for (key, value) in word_index.items()])"
   ]
  },
  {
   "cell_type": "code",
   "execution_count": 16,
   "id": "40363988-5ec0-4e8a-93df-732d0d18b82f",
   "metadata": {},
   "outputs": [],
   "source": [
    "def decode_review(text):\n",
    "    return ' '.join([reverse_word_index.get(i, '?') for i in text])"
   ]
  },
  {
   "cell_type": "code",
   "execution_count": 17,
   "id": "4e411698-3d5b-4f82-bda1-180880ef0e27",
   "metadata": {},
   "outputs": [
    {
     "data": {
      "text/plain": [
       "\"<START> this film was just brilliant casting location scenery story direction everyone's really suited the part they played and you could just imagine being there robert <UNK> is an amazing actor and now the same being director <UNK> father came from the same scottish island as myself so i loved the fact there was a real connection with this film the witty remarks throughout the film were great it was just brilliant so much that i bought the film as soon as it was released for <UNK> and would recommend it to everyone to watch and the fly fishing was amazing really cried at the end it was so sad and you know what they say if you cry at a film it must have been good and this definitely was also <UNK> to the two little boy's that played the <UNK> of norman and paul they were just brilliant children are often left out of the <UNK> list i think because the stars that play them all grown up are such a big profile for the whole film but these children are amazing and should be praised for what they have done don't you think the whole story was so lovely because it was true and was someone's life after all that was shared with us all\""
      ]
     },
     "execution_count": 17,
     "metadata": {},
     "output_type": "execute_result"
    }
   ],
   "source": [
    "decode_review(train_data[0])"
   ]
  },
  {
   "cell_type": "code",
   "execution_count": 18,
   "id": "1bd13f74-1ec1-4ab1-90d1-6ea7413bc2e6",
   "metadata": {},
   "outputs": [],
   "source": [
    "# 长度标准化:\n",
    "train_data = keras.preprocessing.sequence.pad_sequences(train_data,\n",
    "                                                        value=word_index[\"<PAD>\"],\n",
    "                                                        padding='post',\n",
    "                                                        maxlen=256)\n",
    "\n",
    "test_data = keras.preprocessing.sequence.pad_sequences(test_data,\n",
    "                                                       value=word_index[\"<PAD>\"],\n",
    "                                                       padding='post',\n",
    "                                                       maxlen=256)"
   ]
  },
  {
   "cell_type": "code",
   "execution_count": 19,
   "id": "0619b214-9520-4f5d-88ef-9bde2b622411",
   "metadata": {},
   "outputs": [
    {
     "data": {
      "text/plain": [
       "(256, 256)"
      ]
     },
     "execution_count": 19,
     "metadata": {},
     "output_type": "execute_result"
    }
   ],
   "source": [
    "len(train_data[0]), len(train_data[1])"
   ]
  },
  {
   "cell_type": "code",
   "execution_count": 20,
   "id": "b9fb3498-5364-4c1e-bd62-bc99c274afd1",
   "metadata": {},
   "outputs": [
    {
     "name": "stdout",
     "output_type": "stream",
     "text": [
      "[   1   14   22   16   43  530  973 1622 1385   65  458 4468   66 3941\n",
      "    4  173   36  256    5   25  100   43  838  112   50  670    2    9\n",
      "   35  480  284    5  150    4  172  112  167    2  336  385   39    4\n",
      "  172 4536 1111   17  546   38   13  447    4  192   50   16    6  147\n",
      " 2025   19   14   22    4 1920 4613  469    4   22   71   87   12   16\n",
      "   43  530   38   76   15   13 1247    4   22   17  515   17   12   16\n",
      "  626   18    2    5   62  386   12    8  316    8  106    5    4 2223\n",
      " 5244   16  480   66 3785   33    4  130   12   16   38  619    5   25\n",
      "  124   51   36  135   48   25 1415   33    6   22   12  215   28   77\n",
      "   52    5   14  407   16   82    2    8    4  107  117 5952   15  256\n",
      "    4    2    7 3766    5  723   36   71   43  530  476   26  400  317\n",
      "   46    7    4    2 1029   13  104   88    4  381   15  297   98   32\n",
      " 2071   56   26  141    6  194 7486   18    4  226   22   21  134  476\n",
      "   26  480    5  144   30 5535   18   51   36   28  224   92   25  104\n",
      "    4  226   65   16   38 1334   88   12   16  283    5   16 4472  113\n",
      "  103   32   15   16 5345   19  178   32    0    0    0    0    0    0\n",
      "    0    0    0    0    0    0    0    0    0    0    0    0    0    0\n",
      "    0    0    0    0    0    0    0    0    0    0    0    0    0    0\n",
      "    0    0    0    0]\n"
     ]
    }
   ],
   "source": [
    "print(train_data[0])"
   ]
  },
  {
   "cell_type": "code",
   "execution_count": 21,
   "id": "97c2769f-f964-4c7a-ba56-fb8e4cc9a27d",
   "metadata": {},
   "outputs": [
    {
     "name": "stdout",
     "output_type": "stream",
     "text": [
      "Model: \"sequential\"\n",
      "_________________________________________________________________\n",
      " Layer (type)                Output Shape              Param #   \n",
      "=================================================================\n",
      " embedding (Embedding)       (None, None, 16)          160000    \n",
      "                                                                 \n",
      " global_average_pooling1d (G  (None, 16)               0         \n",
      " lobalAveragePooling1D)                                          \n",
      "                                                                 \n",
      " dense (Dense)               (None, 16)                272       \n",
      "                                                                 \n",
      " dense_1 (Dense)             (None, 1)                 17        \n",
      "                                                                 \n",
      "=================================================================\n",
      "Total params: 160,289\n",
      "Trainable params: 160,289\n",
      "Non-trainable params: 0\n",
      "_________________________________________________________________\n"
     ]
    }
   ],
   "source": [
    "# 构建模型\n",
    "# 输入形状是用于电影评论的词汇数目（10,000 词）\n",
    "vocab_size = 10000\n",
    "model = keras.Sequential()\n",
    "model.add(keras.layers.Embedding(vocab_size, 16))\n",
    "model.add(keras.layers.GlobalAveragePooling1D())\n",
    "model.add(keras.layers.Dense(16, activation='relu'))\n",
    "model.add(keras.layers.Dense(1, activation='sigmoid'))\n",
    "model.summary()"
   ]
  },
  {
   "cell_type": "code",
   "execution_count": 23,
   "id": "1d8b885b-5492-4d27-b6bb-c7eb1736de37",
   "metadata": {},
   "outputs": [],
   "source": [
    "# 损失函数与优化器\n",
    "model.compile(optimizer='adam',\n",
    "              loss='binary_crossentropy',\n",
    "              metrics=['accuracy'])"
   ]
  },
  {
   "cell_type": "code",
   "execution_count": 24,
   "id": "e97bf11c-3506-47b6-a043-f799b329b379",
   "metadata": {},
   "outputs": [],
   "source": [
    "# 创建一个验证集\n",
    "x_val = train_data[:10000]\n",
    "partial_x_train = train_data[10000:]\n",
    "\n",
    "y_val = train_labels[:10000]\n",
    "partial_y_train = train_labels[10000:]"
   ]
  },
  {
   "cell_type": "code",
   "execution_count": 25,
   "id": "9686da78-7912-4985-bfe1-11982697405d",
   "metadata": {},
   "outputs": [
    {
     "name": "stdout",
     "output_type": "stream",
     "text": [
      "Epoch 1/40\n",
      "30/30 [==============================] - 1s 23ms/step - loss: 0.6923 - accuracy: 0.5482 - val_loss: 0.6909 - val_accuracy: 0.6870\n",
      "Epoch 2/40\n",
      "30/30 [==============================] - 1s 17ms/step - loss: 0.6882 - accuracy: 0.7245 - val_loss: 0.6851 - val_accuracy: 0.7360\n",
      "Epoch 3/40\n",
      "30/30 [==============================] - 1s 17ms/step - loss: 0.6790 - accuracy: 0.7512 - val_loss: 0.6728 - val_accuracy: 0.7456\n",
      "Epoch 4/40\n",
      "30/30 [==============================] - 0s 16ms/step - loss: 0.6612 - accuracy: 0.7655 - val_loss: 0.6519 - val_accuracy: 0.7624\n",
      "Epoch 5/40\n",
      "30/30 [==============================] - 1s 17ms/step - loss: 0.6337 - accuracy: 0.7803 - val_loss: 0.6225 - val_accuracy: 0.7780\n",
      "Epoch 6/40\n",
      "30/30 [==============================] - 1s 17ms/step - loss: 0.5972 - accuracy: 0.8007 - val_loss: 0.5858 - val_accuracy: 0.7922\n",
      "Epoch 7/40\n",
      "30/30 [==============================] - 0s 16ms/step - loss: 0.5552 - accuracy: 0.8178 - val_loss: 0.5465 - val_accuracy: 0.8100\n",
      "Epoch 8/40\n",
      "30/30 [==============================] - 0s 17ms/step - loss: 0.5113 - accuracy: 0.8363 - val_loss: 0.5073 - val_accuracy: 0.8230\n",
      "Epoch 9/40\n",
      "30/30 [==============================] - 1s 17ms/step - loss: 0.4690 - accuracy: 0.8511 - val_loss: 0.4705 - val_accuracy: 0.8361\n",
      "Epoch 10/40\n",
      "30/30 [==============================] - 0s 17ms/step - loss: 0.4300 - accuracy: 0.8623 - val_loss: 0.4383 - val_accuracy: 0.8446\n",
      "Epoch 11/40\n",
      "30/30 [==============================] - 0s 17ms/step - loss: 0.3960 - accuracy: 0.8712 - val_loss: 0.4117 - val_accuracy: 0.8519\n",
      "Epoch 12/40\n",
      "30/30 [==============================] - 1s 17ms/step - loss: 0.3666 - accuracy: 0.8811 - val_loss: 0.3886 - val_accuracy: 0.8566\n",
      "Epoch 13/40\n",
      "30/30 [==============================] - 1s 18ms/step - loss: 0.3416 - accuracy: 0.8865 - val_loss: 0.3695 - val_accuracy: 0.8633\n",
      "Epoch 14/40\n",
      "30/30 [==============================] - 1s 19ms/step - loss: 0.3188 - accuracy: 0.8929 - val_loss: 0.3534 - val_accuracy: 0.8673\n",
      "Epoch 15/40\n",
      "30/30 [==============================] - 1s 18ms/step - loss: 0.2987 - accuracy: 0.8987 - val_loss: 0.3399 - val_accuracy: 0.8702\n",
      "Epoch 16/40\n",
      "30/30 [==============================] - 1s 18ms/step - loss: 0.2813 - accuracy: 0.9040 - val_loss: 0.3291 - val_accuracy: 0.8736\n",
      "Epoch 17/40\n",
      "30/30 [==============================] - 1s 17ms/step - loss: 0.2661 - accuracy: 0.9076 - val_loss: 0.3207 - val_accuracy: 0.8759\n",
      "Epoch 18/40\n",
      "30/30 [==============================] - 1s 17ms/step - loss: 0.2529 - accuracy: 0.9119 - val_loss: 0.3129 - val_accuracy: 0.8782\n",
      "Epoch 19/40\n",
      "30/30 [==============================] - 1s 18ms/step - loss: 0.2401 - accuracy: 0.9171 - val_loss: 0.3071 - val_accuracy: 0.8793\n",
      "Epoch 20/40\n",
      "30/30 [==============================] - 1s 17ms/step - loss: 0.2290 - accuracy: 0.9218 - val_loss: 0.3021 - val_accuracy: 0.8803\n",
      "Epoch 21/40\n",
      "30/30 [==============================] - 1s 17ms/step - loss: 0.2187 - accuracy: 0.9245 - val_loss: 0.2979 - val_accuracy: 0.8810\n",
      "Epoch 22/40\n",
      "30/30 [==============================] - 1s 17ms/step - loss: 0.2091 - accuracy: 0.9278 - val_loss: 0.2947 - val_accuracy: 0.8817\n",
      "Epoch 23/40\n",
      "30/30 [==============================] - 1s 17ms/step - loss: 0.2001 - accuracy: 0.9326 - val_loss: 0.2925 - val_accuracy: 0.8832\n",
      "Epoch 24/40\n",
      "30/30 [==============================] - 1s 17ms/step - loss: 0.1925 - accuracy: 0.9346 - val_loss: 0.2895 - val_accuracy: 0.8845\n",
      "Epoch 25/40\n",
      "30/30 [==============================] - 1s 17ms/step - loss: 0.1843 - accuracy: 0.9383 - val_loss: 0.2883 - val_accuracy: 0.8854\n",
      "Epoch 26/40\n",
      "30/30 [==============================] - 1s 17ms/step - loss: 0.1771 - accuracy: 0.9424 - val_loss: 0.2878 - val_accuracy: 0.8849\n",
      "Epoch 27/40\n",
      "30/30 [==============================] - 1s 18ms/step - loss: 0.1701 - accuracy: 0.9457 - val_loss: 0.2861 - val_accuracy: 0.8848\n",
      "Epoch 28/40\n",
      "30/30 [==============================] - 1s 17ms/step - loss: 0.1635 - accuracy: 0.9475 - val_loss: 0.2856 - val_accuracy: 0.8859\n",
      "Epoch 29/40\n",
      "30/30 [==============================] - 1s 17ms/step - loss: 0.1575 - accuracy: 0.9517 - val_loss: 0.2858 - val_accuracy: 0.8851\n",
      "Epoch 30/40\n",
      "30/30 [==============================] - 1s 17ms/step - loss: 0.1514 - accuracy: 0.9536 - val_loss: 0.2857 - val_accuracy: 0.8860\n",
      "Epoch 31/40\n",
      "30/30 [==============================] - 1s 17ms/step - loss: 0.1459 - accuracy: 0.9550 - val_loss: 0.2874 - val_accuracy: 0.8836\n",
      "Epoch 32/40\n",
      "30/30 [==============================] - 1s 17ms/step - loss: 0.1407 - accuracy: 0.9575 - val_loss: 0.2889 - val_accuracy: 0.8839\n",
      "Epoch 33/40\n",
      "30/30 [==============================] - 1s 17ms/step - loss: 0.1356 - accuracy: 0.9593 - val_loss: 0.2882 - val_accuracy: 0.8862\n",
      "Epoch 34/40\n",
      "30/30 [==============================] - 1s 18ms/step - loss: 0.1306 - accuracy: 0.9615 - val_loss: 0.2902 - val_accuracy: 0.8865\n",
      "Epoch 35/40\n",
      "30/30 [==============================] - 1s 17ms/step - loss: 0.1264 - accuracy: 0.9638 - val_loss: 0.2916 - val_accuracy: 0.8858\n",
      "Epoch 36/40\n",
      "30/30 [==============================] - 1s 17ms/step - loss: 0.1218 - accuracy: 0.9647 - val_loss: 0.2938 - val_accuracy: 0.8847\n",
      "Epoch 37/40\n",
      "30/30 [==============================] - 1s 17ms/step - loss: 0.1175 - accuracy: 0.9674 - val_loss: 0.2947 - val_accuracy: 0.8848\n",
      "Epoch 38/40\n",
      "30/30 [==============================] - 1s 17ms/step - loss: 0.1136 - accuracy: 0.9677 - val_loss: 0.2985 - val_accuracy: 0.8840\n",
      "Epoch 39/40\n",
      "30/30 [==============================] - 1s 17ms/step - loss: 0.1092 - accuracy: 0.9699 - val_loss: 0.2990 - val_accuracy: 0.8839\n",
      "Epoch 40/40\n",
      "30/30 [==============================] - 1s 18ms/step - loss: 0.1055 - accuracy: 0.9715 - val_loss: 0.3018 - val_accuracy: 0.8837\n"
     ]
    }
   ],
   "source": [
    "# 训练模型\n",
    "history = model.fit(partial_x_train,\n",
    "                    partial_y_train,\n",
    "                    epochs=40,\n",
    "                    batch_size=512,\n",
    "                    validation_data=(x_val, y_val),\n",
    "                    verbose=1)"
   ]
  },
  {
   "cell_type": "code",
   "execution_count": 26,
   "id": "d5daf0c0-ebf8-4561-b121-325ae5383823",
   "metadata": {},
   "outputs": [
    {
     "name": "stdout",
     "output_type": "stream",
     "text": [
      "782/782 - 1s - loss: 0.3205 - accuracy: 0.8736 - 966ms/epoch - 1ms/step\n"
     ]
    }
   ],
   "source": [
    "# 评估模型\n",
    "results = model.evaluate(test_data,  test_labels, verbose=2)"
   ]
  },
  {
   "cell_type": "code",
   "execution_count": 27,
   "id": "a792d80b-e6ca-4ac0-9485-2941271bd86d",
   "metadata": {},
   "outputs": [
    {
     "data": {
      "text/plain": [
       "dict_keys(['loss', 'accuracy', 'val_loss', 'val_accuracy'])"
      ]
     },
     "execution_count": 27,
     "metadata": {},
     "output_type": "execute_result"
    }
   ],
   "source": [
    "history_dict = history.history\n",
    "history_dict.keys()"
   ]
  },
  {
   "cell_type": "code",
   "execution_count": 28,
   "id": "84d0d557-423a-43a2-a3c9-d852f9eb2a26",
   "metadata": {},
   "outputs": [
    {
     "data": {
      "image/png": "[encoded data removed]",
      "text/plain": [
       "<Figure size 640x480 with 1 Axes>"
      ]
     },
     "metadata": {},
     "output_type": "display_data"
    }
   ],
   "source": [
    "import matplotlib.pyplot as plt\n",
    "\n",
    "acc = history_dict['accuracy']\n",
    "val_acc = history_dict['val_accuracy']\n",
    "loss = history_dict['loss']\n",
    "val_loss = history_dict['val_loss']\n",
    "\n",
    "epochs = range(1, len(acc) + 1)\n",
    "\n",
    "# “bo”代表 \"蓝点\"\n",
    "plt.plot(epochs, loss, 'bo', label='Training loss')\n",
    "# b代表“蓝色实线”\n",
    "plt.plot(epochs, val_loss, 'b', label='Validation loss')\n",
    "plt.title('Training and validation loss')\n",
    "plt.xlabel('Epochs')\n",
    "plt.ylabel('Loss')\n",
    "plt.legend()\n",
    "\n",
    "plt.show()\n"
   ]
  },
  {
   "cell_type": "code",
   "execution_count": 29,
   "id": "4664b05a-e719-4f87-b1df-8e37e9d4ada9",
   "metadata": {},
   "outputs": [
    {
     "data": {
      "image/png": "[encoded data removed]",
      "text/plain": [
       "<Figure size 640x480 with 1 Axes>"
      ]
     },
     "metadata": {},
     "output_type": "display_data"
    }
   ],
   "source": [
    "plt.clf()   # 清除数字\n",
    "\n",
    "plt.plot(epochs, acc, 'bo', label='Training acc')\n",
    "plt.plot(epochs, val_acc, 'b', label='Validation acc')\n",
    "plt.title('Training and validation accuracy')\n",
    "plt.xlabel('Epochs')\n",
    "plt.ylabel('Accuracy')\n",
    "plt.legend()\n",
    "\n",
    "plt.show()\n"
   ]
  }
 ],
 "metadata": {
  "kernelspec": {
   "display_name": "Python 3 (ipykernel)",
   "language": "python",
   "name": "python3"
  },
  "language_info": {
   "codemirror_mode": {
    "name": "ipython",
    "version": 3
   },
   "file_extension": ".py",
   "mimetype": "text/x-python",
   "name": "python",
   "nbconvert_exporter": "python",
   "pygments_lexer": "ipython3",
   "version": "3.11.3"
  }
 },
 "nbformat": 4,
 "nbformat_minor": 5
}
