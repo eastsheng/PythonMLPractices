{
 "cells": [
  {
   "cell_type": "code",
   "execution_count": 1,
   "id": "a3115167-8c63-4b00-87b1-374460a0a930",
   "metadata": {},
   "outputs": [],
   "source": [
    "from sklearn import datasets\n",
    "import matplotlib.pyplot as plt\n",
    "import numpy as np"
   ]
  },
  {
   "cell_type": "code",
   "execution_count": 2,
   "id": "ade96eed-f472-4e97-8c06-0d6031562abb",
   "metadata": {},
   "outputs": [],
   "source": [
    "digits = datasets.load_digits()"
   ]
  },
  {
   "cell_type": "code",
   "execution_count": 8,
   "id": "2f6324aa-b20a-4e82-bf41-c7f67412f022",
   "metadata": {},
   "outputs": [
    {
     "data": {
      "image/png": "[encoded data removed]",
      "text/plain": [
       "<Figure size 640x480 with 1 Axes>"
      ]
     },
     "metadata": {},
     "output_type": "display_data"
    }
   ],
   "source": [
    "def display_img(img_no):\n",
    "    fig, ax = plt.subplots()\n",
    "    ax.set_xticklabels([])\n",
    "    ax.set_yticklabels([])\n",
    "    ax.matshow(digits.images[img_no], cmap = plt.cm.binary);\n",
    "display_img(6)"
   ]
  },
  {
   "cell_type": "code",
   "execution_count": 9,
   "id": "5859f97f-f732-4e70-9b30-1b9fc2c97f84",
   "metadata": {},
   "outputs": [
    {
     "data": {
      "text/plain": [
       "array([[ 0.,  0.,  0., 12., 13.,  0.,  0.,  0.],\n",
       "       [ 0.,  0.,  5., 16.,  8.,  0.,  0.,  0.],\n",
       "       [ 0.,  0., 13., 16.,  3.,  0.,  0.,  0.],\n",
       "       [ 0.,  0., 14., 13.,  0.,  0.,  0.,  0.],\n",
       "       [ 0.,  0., 15., 12.,  7.,  2.,  0.,  0.],\n",
       "       [ 0.,  0., 13., 16., 13., 16.,  3.,  0.],\n",
       "       [ 0.,  0.,  7., 16., 11., 15.,  8.,  0.],\n",
       "       [ 0.,  0.,  1.,  9., 15., 11.,  3.,  0.]])"
      ]
     },
     "execution_count": 9,
     "metadata": {},
     "output_type": "execute_result"
    }
   ],
   "source": [
    "digits.images[6]"
   ]
  },
  {
   "cell_type": "code",
   "execution_count": 11,
   "id": "5bb61823-21cf-4c02-a380-8a7d71c5b289",
   "metadata": {},
   "outputs": [
    {
     "data": {
      "text/plain": [
       "(64,)"
      ]
     },
     "execution_count": 11,
     "metadata": {},
     "output_type": "execute_result"
    }
   ],
   "source": [
    "digits.data[0].shape"
   ]
  },
  {
   "cell_type": "code",
   "execution_count": 12,
   "id": "af55d8e9-80c0-4d95-9407-919cedd206b1",
   "metadata": {},
   "outputs": [
    {
     "data": {
      "text/plain": [
       "6"
      ]
     },
     "execution_count": 12,
     "metadata": {},
     "output_type": "execute_result"
    }
   ],
   "source": [
    "digits.target[6]"
   ]
  },
  {
   "cell_type": "code",
   "execution_count": 13,
   "id": "492acd89-0538-4949-9b58-c0af393fc169",
   "metadata": {},
   "outputs": [],
   "source": [
    "import pandas as pd\n",
    "from sklearn.metrics.pairwise import cosine_similarity \n",
    "# 余弦相似性，描述两张图片有多么的“接近”"
   ]
  },
  {
   "cell_type": "code",
   "execution_count": 14,
   "id": "2e882a11-32bb-4373-98f2-77cb933113b6",
   "metadata": {},
   "outputs": [],
   "source": [
    "X = digits.data\n",
    "co_sim = cosine_similarity(X[0].reshape(1,-1), X)"
   ]
  },
  {
   "cell_type": "code",
   "execution_count": 15,
   "id": "fc7590b8-b934-42ff-b250-1143d6f260ae",
   "metadata": {},
   "outputs": [
    {
     "data": {
      "text/plain": [
       "array([ 0.,  0.,  5., 13.,  9.,  1.,  0.,  0.,  0.,  0., 13., 15., 10.,\n",
       "       15.,  5.,  0.,  0.,  3., 15.,  2.,  0., 11.,  8.,  0.,  0.,  4.,\n",
       "       12.,  0.,  0.,  8.,  8.,  0.,  0.,  5.,  8.,  0.,  0.,  9.,  8.,\n",
       "        0.,  0.,  4., 11.,  0.,  1., 12.,  7.,  0.,  0.,  2., 14.,  5.,\n",
       "       10., 12.,  0.,  0.,  0.,  0.,  6., 13., 10.,  0.,  0.,  0.])"
      ]
     },
     "execution_count": 15,
     "metadata": {},
     "output_type": "execute_result"
    }
   ],
   "source": [
    "X[0]"
   ]
  },
  {
   "cell_type": "code",
   "execution_count": 18,
   "id": "9dafd2df-6701-478d-a78e-490e445bb4fe",
   "metadata": {},
   "outputs": [
    {
     "data": {
      "text/html": [
       "<div>\n",
       "<style scoped>\n",
       "    .dataframe tbody tr th:only-of-type {\n",
       "        vertical-align: middle;\n",
       "    }\n",
       "\n",
       "    .dataframe tbody tr th {\n",
       "        vertical-align: top;\n",
       "    }\n",
       "\n",
       "    .dataframe thead th {\n",
       "        text-align: right;\n",
       "    }\n",
       "</style>\n",
       "<table border=\"1\" class=\"dataframe\">\n",
       "  <thead>\n",
       "    <tr style=\"text-align: right;\">\n",
       "      <th></th>\n",
       "      <th>similarity</th>\n",
       "    </tr>\n",
       "  </thead>\n",
       "  <tbody>\n",
       "    <tr>\n",
       "      <th>0</th>\n",
       "      <td>1.000000</td>\n",
       "    </tr>\n",
       "    <tr>\n",
       "      <th>877</th>\n",
       "      <td>0.980739</td>\n",
       "    </tr>\n",
       "    <tr>\n",
       "      <th>464</th>\n",
       "      <td>0.974474</td>\n",
       "    </tr>\n",
       "    <tr>\n",
       "      <th>1365</th>\n",
       "      <td>0.974188</td>\n",
       "    </tr>\n",
       "    <tr>\n",
       "      <th>1541</th>\n",
       "      <td>0.971831</td>\n",
       "    </tr>\n",
       "    <tr>\n",
       "      <th>...</th>\n",
       "      <td>...</td>\n",
       "    </tr>\n",
       "    <tr>\n",
       "      <th>1334</th>\n",
       "      <td>0.420014</td>\n",
       "    </tr>\n",
       "    <tr>\n",
       "      <th>1585</th>\n",
       "      <td>0.402730</td>\n",
       "    </tr>\n",
       "    <tr>\n",
       "      <th>1213</th>\n",
       "      <td>0.393677</td>\n",
       "    </tr>\n",
       "    <tr>\n",
       "      <th>1631</th>\n",
       "      <td>0.368377</td>\n",
       "    </tr>\n",
       "    <tr>\n",
       "      <th>1626</th>\n",
       "      <td>0.361120</td>\n",
       "    </tr>\n",
       "  </tbody>\n",
       "</table>\n",
       "<p>1797 rows × 1 columns</p>\n",
       "</div>"
      ],
      "text/plain": [
       "      similarity\n",
       "0       1.000000\n",
       "877     0.980739\n",
       "464     0.974474\n",
       "1365    0.974188\n",
       "1541    0.971831\n",
       "...          ...\n",
       "1334    0.420014\n",
       "1585    0.402730\n",
       "1213    0.393677\n",
       "1631    0.368377\n",
       "1626    0.361120\n",
       "\n",
       "[1797 rows x 1 columns]"
      ]
     },
     "execution_count": 18,
     "metadata": {},
     "output_type": "execute_result"
    }
   ],
   "source": [
    "cosf = pd.DataFrame(co_sim).T\n",
    "cosf.columns = ['similarity']\n",
    "cosf.sort_values('similarity', ascending=False)"
   ]
  },
  {
   "cell_type": "code",
   "execution_count": 24,
   "id": "c34efcba-dd86-4ec1-a9a1-04acca27af5c",
   "metadata": {},
   "outputs": [
    {
     "data": {
      "image/png": "[encoded data removed]",
      "text/plain": [
       "<Figure size 640x480 with 1 Axes>"
      ]
     },
     "metadata": {},
     "output_type": "display_data"
    }
   ],
   "source": [
    "display_img(1365)"
   ]
  },
  {
   "cell_type": "code",
   "execution_count": 25,
   "id": "7986fd61-af54-453f-9d4c-0499c78dba8f",
   "metadata": {},
   "outputs": [
    {
     "data": {
      "image/png": "[encoded data removed]",
      "text/plain": [
       "<Figure size 640x480 with 1 Axes>"
      ]
     },
     "metadata": {},
     "output_type": "display_data"
    }
   ],
   "source": [
    "display_img(1626)"
   ]
  }
 ],
 "metadata": {
  "kernelspec": {
   "display_name": "Python 3 (ipykernel)",
   "language": "python",
   "name": "python3"
  },
  "language_info": {
   "codemirror_mode": {
    "name": "ipython",
    "version": 3
   },
   "file_extension": ".py",
   "mimetype": "text/x-python",
   "name": "python",
   "nbconvert_exporter": "python",
   "pygments_lexer": "ipython3",
   "version": "3.11.3"
  }
 },
 "nbformat": 4,
 "nbformat_minor": 5
}
